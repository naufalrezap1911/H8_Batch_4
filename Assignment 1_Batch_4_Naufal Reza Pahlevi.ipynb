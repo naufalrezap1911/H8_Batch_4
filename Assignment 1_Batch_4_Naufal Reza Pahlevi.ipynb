{
 "cells": [
  {
   "cell_type": "markdown",
   "id": "be04c8ba",
   "metadata": {},
   "source": [
    "## Assignment 1 Hacktiv8 (Visualisasi Data)"
   ]
  },
  {
   "cell_type": "markdown",
   "id": "2b09688b",
   "metadata": {},
   "source": [
    "### Import Library"
   ]
  },
  {
   "cell_type": "code",
   "execution_count": 1,
   "id": "4d502e7d",
   "metadata": {},
   "outputs": [],
   "source": [
    "#import Library\n",
    "import numpy as np\n",
    "import pandas as pd \n",
    "import matplotlib as mpl\n",
    "import matplotlib.pyplot as plt\n",
    "from wordcloud import WordCloud, STOPWORDS"
   ]
  },
  {
   "cell_type": "markdown",
   "id": "e026840f",
   "metadata": {},
   "source": [
    " Melakukan impor modul (library) yang digunakan dalam analisis data dan visualisasi"
   ]
  },
  {
   "cell_type": "markdown",
   "id": "cf30ebd8",
   "metadata": {},
   "source": [
    "### Membaca Data CSV"
   ]
  },
  {
   "cell_type": "code",
   "execution_count": 2,
   "id": "9c9bf0f7",
   "metadata": {},
   "outputs": [],
   "source": [
    "# Membaca file csv\n",
    "london_crime = pd.read_csv(\"Dataset/london_crime.csv\")"
   ]
  },
  {
   "cell_type": "markdown",
   "id": "a51585dd",
   "metadata": {},
   "source": [
    "Code diatas digunakan untuk membaca file csv yang disebut \"london_crime.csv\" dan menyimpannya sebagai variabel london_crime"
   ]
  },
  {
   "cell_type": "markdown",
   "id": "8bbbf185",
   "metadata": {},
   "source": [
    "### Melihat 5 Data Teratas"
   ]
  },
  {
   "cell_type": "code",
   "execution_count": 3,
   "id": "381ffca6",
   "metadata": {},
   "outputs": [
    {
     "data": {
      "text/html": [
       "<div>\n",
       "<style scoped>\n",
       "    .dataframe tbody tr th:only-of-type {\n",
       "        vertical-align: middle;\n",
       "    }\n",
       "\n",
       "    .dataframe tbody tr th {\n",
       "        vertical-align: top;\n",
       "    }\n",
       "\n",
       "    .dataframe thead th {\n",
       "        text-align: right;\n",
       "    }\n",
       "</style>\n",
       "<table border=\"1\" class=\"dataframe\">\n",
       "  <thead>\n",
       "    <tr style=\"text-align: right;\">\n",
       "      <th></th>\n",
       "      <th>lsoa_code</th>\n",
       "      <th>borough</th>\n",
       "      <th>major_category</th>\n",
       "      <th>minor_category</th>\n",
       "      <th>value</th>\n",
       "      <th>year</th>\n",
       "      <th>month</th>\n",
       "    </tr>\n",
       "  </thead>\n",
       "  <tbody>\n",
       "    <tr>\n",
       "      <th>0</th>\n",
       "      <td>E01001116</td>\n",
       "      <td>Croydon</td>\n",
       "      <td>Burglary</td>\n",
       "      <td>Burglary in Other Buildings</td>\n",
       "      <td>0</td>\n",
       "      <td>2016</td>\n",
       "      <td>11</td>\n",
       "    </tr>\n",
       "    <tr>\n",
       "      <th>1</th>\n",
       "      <td>E01001646</td>\n",
       "      <td>Greenwich</td>\n",
       "      <td>Violence Against the Person</td>\n",
       "      <td>Other violence</td>\n",
       "      <td>0</td>\n",
       "      <td>2016</td>\n",
       "      <td>11</td>\n",
       "    </tr>\n",
       "    <tr>\n",
       "      <th>2</th>\n",
       "      <td>E01000677</td>\n",
       "      <td>Bromley</td>\n",
       "      <td>Violence Against the Person</td>\n",
       "      <td>Other violence</td>\n",
       "      <td>0</td>\n",
       "      <td>2015</td>\n",
       "      <td>5</td>\n",
       "    </tr>\n",
       "    <tr>\n",
       "      <th>3</th>\n",
       "      <td>E01003774</td>\n",
       "      <td>Redbridge</td>\n",
       "      <td>Burglary</td>\n",
       "      <td>Burglary in Other Buildings</td>\n",
       "      <td>0</td>\n",
       "      <td>2016</td>\n",
       "      <td>3</td>\n",
       "    </tr>\n",
       "    <tr>\n",
       "      <th>4</th>\n",
       "      <td>E01004563</td>\n",
       "      <td>Wandsworth</td>\n",
       "      <td>Robbery</td>\n",
       "      <td>Personal Property</td>\n",
       "      <td>0</td>\n",
       "      <td>2008</td>\n",
       "      <td>6</td>\n",
       "    </tr>\n",
       "  </tbody>\n",
       "</table>\n",
       "</div>"
      ],
      "text/plain": [
       "   lsoa_code     borough               major_category  \\\n",
       "0  E01001116     Croydon                     Burglary   \n",
       "1  E01001646   Greenwich  Violence Against the Person   \n",
       "2  E01000677     Bromley  Violence Against the Person   \n",
       "3  E01003774   Redbridge                     Burglary   \n",
       "4  E01004563  Wandsworth                      Robbery   \n",
       "\n",
       "                minor_category  value  year  month  \n",
       "0  Burglary in Other Buildings      0  2016     11  \n",
       "1               Other violence      0  2016     11  \n",
       "2               Other violence      0  2015      5  \n",
       "3  Burglary in Other Buildings      0  2016      3  \n",
       "4            Personal Property      0  2008      6  "
      ]
     },
     "execution_count": 3,
     "metadata": {},
     "output_type": "execute_result"
    }
   ],
   "source": [
    "london_crime.head()"
   ]
  },
  {
   "cell_type": "markdown",
   "id": "d83de08b",
   "metadata": {},
   "source": [
    "Menampilkan 5 data teratas dari dataset London Crime 2008-2016"
   ]
  },
  {
   "cell_type": "markdown",
   "id": "c00dcc3b",
   "metadata": {},
   "source": [
    "### Melihat 5 Data Terbawah"
   ]
  },
  {
   "cell_type": "code",
   "execution_count": 4,
   "id": "79dcba91",
   "metadata": {},
   "outputs": [
    {
     "data": {
      "text/html": [
       "<div>\n",
       "<style scoped>\n",
       "    .dataframe tbody tr th:only-of-type {\n",
       "        vertical-align: middle;\n",
       "    }\n",
       "\n",
       "    .dataframe tbody tr th {\n",
       "        vertical-align: top;\n",
       "    }\n",
       "\n",
       "    .dataframe thead th {\n",
       "        text-align: right;\n",
       "    }\n",
       "</style>\n",
       "<table border=\"1\" class=\"dataframe\">\n",
       "  <thead>\n",
       "    <tr style=\"text-align: right;\">\n",
       "      <th></th>\n",
       "      <th>lsoa_code</th>\n",
       "      <th>borough</th>\n",
       "      <th>major_category</th>\n",
       "      <th>minor_category</th>\n",
       "      <th>value</th>\n",
       "      <th>year</th>\n",
       "      <th>month</th>\n",
       "    </tr>\n",
       "  </thead>\n",
       "  <tbody>\n",
       "    <tr>\n",
       "      <th>13490599</th>\n",
       "      <td>E01000504</td>\n",
       "      <td>Brent</td>\n",
       "      <td>Criminal Damage</td>\n",
       "      <td>Criminal Damage To Dwelling</td>\n",
       "      <td>0</td>\n",
       "      <td>2015</td>\n",
       "      <td>2</td>\n",
       "    </tr>\n",
       "    <tr>\n",
       "      <th>13490600</th>\n",
       "      <td>E01002504</td>\n",
       "      <td>Hillingdon</td>\n",
       "      <td>Robbery</td>\n",
       "      <td>Personal Property</td>\n",
       "      <td>1</td>\n",
       "      <td>2015</td>\n",
       "      <td>6</td>\n",
       "    </tr>\n",
       "    <tr>\n",
       "      <th>13490601</th>\n",
       "      <td>E01004165</td>\n",
       "      <td>Sutton</td>\n",
       "      <td>Burglary</td>\n",
       "      <td>Burglary in a Dwelling</td>\n",
       "      <td>0</td>\n",
       "      <td>2011</td>\n",
       "      <td>2</td>\n",
       "    </tr>\n",
       "    <tr>\n",
       "      <th>13490602</th>\n",
       "      <td>E01001134</td>\n",
       "      <td>Croydon</td>\n",
       "      <td>Robbery</td>\n",
       "      <td>Business Property</td>\n",
       "      <td>0</td>\n",
       "      <td>2011</td>\n",
       "      <td>5</td>\n",
       "    </tr>\n",
       "    <tr>\n",
       "      <th>13490603</th>\n",
       "      <td>E01003413</td>\n",
       "      <td>Merton</td>\n",
       "      <td>Violence Against the Person</td>\n",
       "      <td>Wounding/GBH</td>\n",
       "      <td>0</td>\n",
       "      <td>2015</td>\n",
       "      <td>6</td>\n",
       "    </tr>\n",
       "  </tbody>\n",
       "</table>\n",
       "</div>"
      ],
      "text/plain": [
       "          lsoa_code     borough               major_category  \\\n",
       "13490599  E01000504       Brent              Criminal Damage   \n",
       "13490600  E01002504  Hillingdon                      Robbery   \n",
       "13490601  E01004165      Sutton                     Burglary   \n",
       "13490602  E01001134     Croydon                      Robbery   \n",
       "13490603  E01003413      Merton  Violence Against the Person   \n",
       "\n",
       "                       minor_category  value  year  month  \n",
       "13490599  Criminal Damage To Dwelling      0  2015      2  \n",
       "13490600            Personal Property      1  2015      6  \n",
       "13490601       Burglary in a Dwelling      0  2011      2  \n",
       "13490602            Business Property      0  2011      5  \n",
       "13490603                 Wounding/GBH      0  2015      6  "
      ]
     },
     "execution_count": 4,
     "metadata": {},
     "output_type": "execute_result"
    }
   ],
   "source": [
    "london_crime.tail()"
   ]
  },
  {
   "cell_type": "markdown",
   "id": "04d365e2",
   "metadata": {},
   "source": [
    "Menampilkan 5 data terbawah dari dataset London Crime 2008-2016 dengan fungsi tail()."
   ]
  },
  {
   "cell_type": "markdown",
   "id": "551d94b9",
   "metadata": {},
   "source": [
    "### Menampilkan Informasi Dataset"
   ]
  },
  {
   "cell_type": "code",
   "execution_count": 5,
   "id": "033976dc",
   "metadata": {
    "scrolled": true
   },
   "outputs": [
    {
     "name": "stdout",
     "output_type": "stream",
     "text": [
      "<class 'pandas.core.frame.DataFrame'>\n",
      "RangeIndex: 13490604 entries, 0 to 13490603\n",
      "Data columns (total 7 columns):\n",
      " #   Column          Dtype \n",
      "---  ------          ----- \n",
      " 0   lsoa_code       object\n",
      " 1   borough         object\n",
      " 2   major_category  object\n",
      " 3   minor_category  object\n",
      " 4   value           int64 \n",
      " 5   year            int64 \n",
      " 6   month           int64 \n",
      "dtypes: int64(3), object(4)\n",
      "memory usage: 720.5+ MB\n"
     ]
    }
   ],
   "source": [
    "london_crime.info()"
   ]
  },
  {
   "cell_type": "markdown",
   "id": "0ee7c0b8",
   "metadata": {},
   "source": [
    "Code diatas digunakan untuk menampilkan informasi tentang DataFrame london_crime, termasuk jumlah baris dan kolom, jenis data pada setiap kolom, jumlah nilai non-null, dan penggunaan memori"
   ]
  },
  {
   "cell_type": "markdown",
   "id": "873315f0",
   "metadata": {},
   "source": [
    "### Menampilkan Daftar Kolom Data"
   ]
  },
  {
   "cell_type": "code",
   "execution_count": 6,
   "id": "7f673160",
   "metadata": {},
   "outputs": [
    {
     "data": {
      "text/plain": [
       "Index(['lsoa_code', 'borough', 'major_category', 'minor_category', 'value',\n",
       "       'year', 'month'],\n",
       "      dtype='object')"
      ]
     },
     "execution_count": 6,
     "metadata": {},
     "output_type": "execute_result"
    }
   ],
   "source": [
    "london_crime.columns"
   ]
  },
  {
   "cell_type": "markdown",
   "id": "e1c081d1",
   "metadata": {},
   "source": [
    "Code diatas digunakan untuk menampilkan daftar kolom dalam DataFrame london_crime."
   ]
  },
  {
   "cell_type": "markdown",
   "id": "309c7974",
   "metadata": {},
   "source": [
    "### Menampilkan Dimensi Data"
   ]
  },
  {
   "cell_type": "code",
   "execution_count": 7,
   "id": "751d73ab",
   "metadata": {},
   "outputs": [
    {
     "data": {
      "text/plain": [
       "(13490604, 7)"
      ]
     },
     "execution_count": 7,
     "metadata": {},
     "output_type": "execute_result"
    }
   ],
   "source": [
    "london_crime.shape"
   ]
  },
  {
   "cell_type": "markdown",
   "id": "2e25c51a",
   "metadata": {},
   "source": [
    "Code diatas digunakan untuk menampilkan dimensi (jumlah baris dan kolom) dari DataFrame london_crime, dari output dapat dilihat bahwa data terdiri dari 13490604 baris dan 7 kolom"
   ]
  },
  {
   "cell_type": "markdown",
   "id": "2a45e269",
   "metadata": {},
   "source": [
    "### Mengubah Nama Kolom"
   ]
  },
  {
   "cell_type": "code",
   "execution_count": 8,
   "id": "3eb3c3b5",
   "metadata": {},
   "outputs": [],
   "source": [
    "london_crime.rename(columns={\"borough\": \"Region\", \"value\": \"Total\"}, inplace=True)"
   ]
  },
  {
   "cell_type": "markdown",
   "id": "d7c4d3db",
   "metadata": {},
   "source": [
    "Mengubah nama kolom borough dan Value guna mempermudah proses mengingat kolom pada data"
   ]
  },
  {
   "cell_type": "code",
   "execution_count": 9,
   "id": "e9ab8648",
   "metadata": {},
   "outputs": [
    {
     "data": {
      "text/html": [
       "<div>\n",
       "<style scoped>\n",
       "    .dataframe tbody tr th:only-of-type {\n",
       "        vertical-align: middle;\n",
       "    }\n",
       "\n",
       "    .dataframe tbody tr th {\n",
       "        vertical-align: top;\n",
       "    }\n",
       "\n",
       "    .dataframe thead th {\n",
       "        text-align: right;\n",
       "    }\n",
       "</style>\n",
       "<table border=\"1\" class=\"dataframe\">\n",
       "  <thead>\n",
       "    <tr style=\"text-align: right;\">\n",
       "      <th></th>\n",
       "      <th>lsoa_code</th>\n",
       "      <th>Region</th>\n",
       "      <th>major_category</th>\n",
       "      <th>minor_category</th>\n",
       "      <th>Total</th>\n",
       "      <th>year</th>\n",
       "      <th>month</th>\n",
       "    </tr>\n",
       "  </thead>\n",
       "  <tbody>\n",
       "    <tr>\n",
       "      <th>0</th>\n",
       "      <td>E01001116</td>\n",
       "      <td>Croydon</td>\n",
       "      <td>Burglary</td>\n",
       "      <td>Burglary in Other Buildings</td>\n",
       "      <td>0</td>\n",
       "      <td>2016</td>\n",
       "      <td>11</td>\n",
       "    </tr>\n",
       "    <tr>\n",
       "      <th>1</th>\n",
       "      <td>E01001646</td>\n",
       "      <td>Greenwich</td>\n",
       "      <td>Violence Against the Person</td>\n",
       "      <td>Other violence</td>\n",
       "      <td>0</td>\n",
       "      <td>2016</td>\n",
       "      <td>11</td>\n",
       "    </tr>\n",
       "  </tbody>\n",
       "</table>\n",
       "</div>"
      ],
      "text/plain": [
       "   lsoa_code     Region               major_category  \\\n",
       "0  E01001116    Croydon                     Burglary   \n",
       "1  E01001646  Greenwich  Violence Against the Person   \n",
       "\n",
       "                minor_category  Total  year  month  \n",
       "0  Burglary in Other Buildings      0  2016     11  \n",
       "1               Other violence      0  2016     11  "
      ]
     },
     "execution_count": 9,
     "metadata": {},
     "output_type": "execute_result"
    }
   ],
   "source": [
    "london_crime.head(2)"
   ]
  },
  {
   "cell_type": "markdown",
   "id": "5fd243eb",
   "metadata": {},
   "source": [
    "Melihat perubahan pada nama kolom yang sudah diubah dengan melihat 2 data teratas"
   ]
  },
  {
   "cell_type": "markdown",
   "id": "67e68328",
   "metadata": {},
   "source": [
    "### Menghapus Kolom yang Tidak Digunakan"
   ]
  },
  {
   "cell_type": "code",
   "execution_count": 10,
   "id": "8850ef5f",
   "metadata": {},
   "outputs": [
    {
     "data": {
      "text/html": [
       "<div>\n",
       "<style scoped>\n",
       "    .dataframe tbody tr th:only-of-type {\n",
       "        vertical-align: middle;\n",
       "    }\n",
       "\n",
       "    .dataframe tbody tr th {\n",
       "        vertical-align: top;\n",
       "    }\n",
       "\n",
       "    .dataframe thead th {\n",
       "        text-align: right;\n",
       "    }\n",
       "</style>\n",
       "<table border=\"1\" class=\"dataframe\">\n",
       "  <thead>\n",
       "    <tr style=\"text-align: right;\">\n",
       "      <th></th>\n",
       "      <th>Region</th>\n",
       "      <th>major_category</th>\n",
       "      <th>minor_category</th>\n",
       "      <th>Total</th>\n",
       "      <th>year</th>\n",
       "      <th>month</th>\n",
       "    </tr>\n",
       "  </thead>\n",
       "  <tbody>\n",
       "    <tr>\n",
       "      <th>0</th>\n",
       "      <td>Croydon</td>\n",
       "      <td>Burglary</td>\n",
       "      <td>Burglary in Other Buildings</td>\n",
       "      <td>0</td>\n",
       "      <td>2016</td>\n",
       "      <td>11</td>\n",
       "    </tr>\n",
       "    <tr>\n",
       "      <th>1</th>\n",
       "      <td>Greenwich</td>\n",
       "      <td>Violence Against the Person</td>\n",
       "      <td>Other violence</td>\n",
       "      <td>0</td>\n",
       "      <td>2016</td>\n",
       "      <td>11</td>\n",
       "    </tr>\n",
       "  </tbody>\n",
       "</table>\n",
       "</div>"
      ],
      "text/plain": [
       "      Region               major_category               minor_category  Total  \\\n",
       "0    Croydon                     Burglary  Burglary in Other Buildings      0   \n",
       "1  Greenwich  Violence Against the Person               Other violence      0   \n",
       "\n",
       "   year  month  \n",
       "0  2016     11  \n",
       "1  2016     11  "
      ]
     },
     "execution_count": 10,
     "metadata": {},
     "output_type": "execute_result"
    }
   ],
   "source": [
    "london_crime.drop([\"lsoa_code\"], axis=1, inplace=True)\n",
    "london_crime.head(2)"
   ]
  },
  {
   "cell_type": "markdown",
   "id": "4f2618c8",
   "metadata": {},
   "source": [
    "Code diatas digunakan untuk menghapus kolom \"lsoa_code\" dari DataFrame, dengan axis=1 yang digunakan untuk menandakan bahwa yang akan dihapus adalah kolom, bukan baris. Kemudian ditampilkan 2 data teratas untuk melihat perubahan."
   ]
  },
  {
   "cell_type": "markdown",
   "id": "d2aea8c7",
   "metadata": {},
   "source": [
    "### Menampilkan Informasi Statistik dari Data"
   ]
  },
  {
   "cell_type": "code",
   "execution_count": 11,
   "id": "f2fde4d9",
   "metadata": {
    "scrolled": true
   },
   "outputs": [
    {
     "data": {
      "text/html": [
       "<div>\n",
       "<style scoped>\n",
       "    .dataframe tbody tr th:only-of-type {\n",
       "        vertical-align: middle;\n",
       "    }\n",
       "\n",
       "    .dataframe tbody tr th {\n",
       "        vertical-align: top;\n",
       "    }\n",
       "\n",
       "    .dataframe thead th {\n",
       "        text-align: right;\n",
       "    }\n",
       "</style>\n",
       "<table border=\"1\" class=\"dataframe\">\n",
       "  <thead>\n",
       "    <tr style=\"text-align: right;\">\n",
       "      <th></th>\n",
       "      <th>Total</th>\n",
       "      <th>year</th>\n",
       "      <th>month</th>\n",
       "    </tr>\n",
       "  </thead>\n",
       "  <tbody>\n",
       "    <tr>\n",
       "      <th>count</th>\n",
       "      <td>1.349060e+07</td>\n",
       "      <td>1.349060e+07</td>\n",
       "      <td>1.349060e+07</td>\n",
       "    </tr>\n",
       "    <tr>\n",
       "      <th>mean</th>\n",
       "      <td>4.779444e-01</td>\n",
       "      <td>2.012000e+03</td>\n",
       "      <td>6.500000e+00</td>\n",
       "    </tr>\n",
       "    <tr>\n",
       "      <th>std</th>\n",
       "      <td>1.771513e+00</td>\n",
       "      <td>2.581989e+00</td>\n",
       "      <td>3.452053e+00</td>\n",
       "    </tr>\n",
       "    <tr>\n",
       "      <th>min</th>\n",
       "      <td>0.000000e+00</td>\n",
       "      <td>2.008000e+03</td>\n",
       "      <td>1.000000e+00</td>\n",
       "    </tr>\n",
       "    <tr>\n",
       "      <th>25%</th>\n",
       "      <td>0.000000e+00</td>\n",
       "      <td>2.010000e+03</td>\n",
       "      <td>3.750000e+00</td>\n",
       "    </tr>\n",
       "    <tr>\n",
       "      <th>50%</th>\n",
       "      <td>0.000000e+00</td>\n",
       "      <td>2.012000e+03</td>\n",
       "      <td>6.500000e+00</td>\n",
       "    </tr>\n",
       "    <tr>\n",
       "      <th>75%</th>\n",
       "      <td>1.000000e+00</td>\n",
       "      <td>2.014000e+03</td>\n",
       "      <td>9.250000e+00</td>\n",
       "    </tr>\n",
       "    <tr>\n",
       "      <th>max</th>\n",
       "      <td>3.090000e+02</td>\n",
       "      <td>2.016000e+03</td>\n",
       "      <td>1.200000e+01</td>\n",
       "    </tr>\n",
       "  </tbody>\n",
       "</table>\n",
       "</div>"
      ],
      "text/plain": [
       "              Total          year         month\n",
       "count  1.349060e+07  1.349060e+07  1.349060e+07\n",
       "mean   4.779444e-01  2.012000e+03  6.500000e+00\n",
       "std    1.771513e+00  2.581989e+00  3.452053e+00\n",
       "min    0.000000e+00  2.008000e+03  1.000000e+00\n",
       "25%    0.000000e+00  2.010000e+03  3.750000e+00\n",
       "50%    0.000000e+00  2.012000e+03  6.500000e+00\n",
       "75%    1.000000e+00  2.014000e+03  9.250000e+00\n",
       "max    3.090000e+02  2.016000e+03  1.200000e+01"
      ]
     },
     "execution_count": 11,
     "metadata": {},
     "output_type": "execute_result"
    }
   ],
   "source": [
    "london_crime.describe()"
   ]
  },
  {
   "cell_type": "markdown",
   "id": "7f2bda1f",
   "metadata": {},
   "source": [
    "Code diatas digunakan untuk menampilkan ringkasan statistik deskriptif dari kolom-kolom numerik dalam DataFrame london_crime, seperti jumlah data, rata-rata, standar deviasi, nilai minimum dan maksimum, serta quartil."
   ]
  },
  {
   "cell_type": "markdown",
   "id": "94b21348",
   "metadata": {},
   "source": [
    "### Menampilkan Nilai NULL dari Data"
   ]
  },
  {
   "cell_type": "code",
   "execution_count": 12,
   "id": "67333193",
   "metadata": {},
   "outputs": [
    {
     "data": {
      "text/plain": [
       "Region            0\n",
       "major_category    0\n",
       "minor_category    0\n",
       "Total             0\n",
       "year              0\n",
       "month             0\n",
       "dtype: int64"
      ]
     },
     "execution_count": 12,
     "metadata": {},
     "output_type": "execute_result"
    }
   ],
   "source": [
    "london_crime.isnull().sum()"
   ]
  },
  {
   "cell_type": "markdown",
   "id": "8a27d661",
   "metadata": {},
   "source": [
    "Code diatas digunakan untuk menghitung jumlah nilai kosong (missing values) pada setiap kolom dalam DataFrame, dari output dapat dilihat bahwa data ini tidak terdapat missing value. "
   ]
  },
  {
   "cell_type": "markdown",
   "id": "233b64e8",
   "metadata": {},
   "source": [
    "### Menampilkan beberapa Keunikan Data"
   ]
  },
  {
   "cell_type": "code",
   "execution_count": 13,
   "id": "7ae80e99",
   "metadata": {},
   "outputs": [
    {
     "name": "stdout",
     "output_type": "stream",
     "text": [
      "33\n",
      "['Croydon' 'Greenwich' 'Bromley' 'Redbridge' 'Wandsworth' 'Ealing'\n",
      " 'Hounslow' 'Newham' 'Sutton' 'Haringey' 'Lambeth' 'Richmond upon Thames'\n",
      " 'Hillingdon' 'Havering' 'Barking and Dagenham' 'Kingston upon Thames'\n",
      " 'Westminster' 'Hackney' 'Enfield' 'Harrow' 'Lewisham' 'Brent' 'Southwark'\n",
      " 'Barnet' 'Waltham Forest' 'Camden' 'Bexley' 'Kensington and Chelsea'\n",
      " 'Islington' 'Tower Hamlets' 'Hammersmith and Fulham' 'Merton'\n",
      " 'City of London']\n"
     ]
    }
   ],
   "source": [
    "#menampilkan jumlah wilayah yang unik dalam kolom \"Region\"\n",
    "print(london_crime[\"Region\"].nunique())\n",
    "\n",
    "#menampilkan sebuah array yang berisi wilayah unik dalam kolom \"Region\"\n",
    "print(london_crime[\"Region\"].unique())"
   ]
  },
  {
   "cell_type": "markdown",
   "id": "953c5ed7",
   "metadata": {},
   "source": [
    "Code diatas digunakan untuk melihat jumlah wilayah yang unik dan daftar wilayahnya"
   ]
  },
  {
   "cell_type": "code",
   "execution_count": 14,
   "id": "07c183a9",
   "metadata": {},
   "outputs": [
    {
     "name": "stdout",
     "output_type": "stream",
     "text": [
      "9\n",
      "['Burglary' 'Violence Against the Person' 'Robbery' 'Theft and Handling'\n",
      " 'Criminal Damage' 'Drugs' 'Fraud or Forgery' 'Other Notifiable Offences'\n",
      " 'Sexual Offences']\n"
     ]
    }
   ],
   "source": [
    "#menampilkan jumlah kejahatan utama yang unik dalam kolom \"major_category\"\n",
    "print(london_crime[\"major_category\"].nunique())\n",
    "\n",
    "#menampilkan sebuah array yang berisi kejahatan utama unik dalam kolom \"major_category\"\n",
    "print(london_crime[\"major_category\"].unique())"
   ]
  },
  {
   "cell_type": "markdown",
   "id": "4fb80d7b",
   "metadata": {},
   "source": [
    "Code diatas digunakan untuk melihat jumlah kejahatan utama yang unik dan daftar kejahatannya"
   ]
  },
  {
   "cell_type": "code",
   "execution_count": 15,
   "id": "4218e187",
   "metadata": {},
   "outputs": [
    {
     "name": "stdout",
     "output_type": "stream",
     "text": [
      "32\n",
      "['Burglary in Other Buildings' 'Other violence' 'Personal Property'\n",
      " 'Other Theft' 'Offensive Weapon' 'Criminal Damage To Other Building'\n",
      " 'Theft/Taking of Pedal Cycle' 'Motor Vehicle Interference & Tampering'\n",
      " 'Theft/Taking Of Motor Vehicle' 'Wounding/GBH' 'Other Theft Person'\n",
      " 'Common Assault' 'Theft From Shops' 'Possession Of Drugs' 'Harassment'\n",
      " 'Handling Stolen Goods' 'Criminal Damage To Dwelling'\n",
      " 'Burglary in a Dwelling' 'Criminal Damage To Motor Vehicle'\n",
      " 'Other Criminal Damage' 'Counted per Victim' 'Going Equipped'\n",
      " 'Other Fraud & Forgery' 'Assault with Injury' 'Drug Trafficking'\n",
      " 'Other Drugs' 'Business Property' 'Other Notifiable' 'Other Sexual'\n",
      " 'Theft From Motor Vehicle' 'Rape' 'Murder']\n"
     ]
    }
   ],
   "source": [
    "print(london_crime[\"minor_category\"].nunique())\n",
    "print(london_crime[\"minor_category\"].unique())"
   ]
  },
  {
   "cell_type": "markdown",
   "id": "acc84e49",
   "metadata": {},
   "source": [
    "Code diatas digunakan untuk melihat jumlah kejahatan minor yang unik dan daftar kejahatannya"
   ]
  },
  {
   "cell_type": "markdown",
   "id": "c7358b40",
   "metadata": {},
   "source": [
    "# VISUALISASI"
   ]
  },
  {
   "cell_type": "markdown",
   "id": "7631b3c1",
   "metadata": {},
   "source": [
    "### Line & Area Plot"
   ]
  },
  {
   "cell_type": "code",
   "execution_count": 16,
   "id": "c57421f1",
   "metadata": {},
   "outputs": [
    {
     "data": {
      "text/html": [
       "<div>\n",
       "<style scoped>\n",
       "    .dataframe tbody tr th:only-of-type {\n",
       "        vertical-align: middle;\n",
       "    }\n",
       "\n",
       "    .dataframe tbody tr th {\n",
       "        vertical-align: top;\n",
       "    }\n",
       "\n",
       "    .dataframe thead th {\n",
       "        text-align: right;\n",
       "    }\n",
       "</style>\n",
       "<table border=\"1\" class=\"dataframe\">\n",
       "  <thead>\n",
       "    <tr style=\"text-align: right;\">\n",
       "      <th></th>\n",
       "      <th>Region</th>\n",
       "      <th>major_category</th>\n",
       "      <th>minor_category</th>\n",
       "      <th>Total</th>\n",
       "      <th>year</th>\n",
       "      <th>month</th>\n",
       "    </tr>\n",
       "  </thead>\n",
       "  <tbody>\n",
       "    <tr>\n",
       "      <th>0</th>\n",
       "      <td>Croydon</td>\n",
       "      <td>Burglary</td>\n",
       "      <td>Burglary in Other Buildings</td>\n",
       "      <td>0</td>\n",
       "      <td>2016</td>\n",
       "      <td>11</td>\n",
       "    </tr>\n",
       "    <tr>\n",
       "      <th>1</th>\n",
       "      <td>Greenwich</td>\n",
       "      <td>Violence Against the Person</td>\n",
       "      <td>Other violence</td>\n",
       "      <td>0</td>\n",
       "      <td>2016</td>\n",
       "      <td>11</td>\n",
       "    </tr>\n",
       "    <tr>\n",
       "      <th>2</th>\n",
       "      <td>Bromley</td>\n",
       "      <td>Violence Against the Person</td>\n",
       "      <td>Other violence</td>\n",
       "      <td>0</td>\n",
       "      <td>2015</td>\n",
       "      <td>5</td>\n",
       "    </tr>\n",
       "    <tr>\n",
       "      <th>3</th>\n",
       "      <td>Redbridge</td>\n",
       "      <td>Burglary</td>\n",
       "      <td>Burglary in Other Buildings</td>\n",
       "      <td>0</td>\n",
       "      <td>2016</td>\n",
       "      <td>3</td>\n",
       "    </tr>\n",
       "    <tr>\n",
       "      <th>4</th>\n",
       "      <td>Wandsworth</td>\n",
       "      <td>Robbery</td>\n",
       "      <td>Personal Property</td>\n",
       "      <td>0</td>\n",
       "      <td>2008</td>\n",
       "      <td>6</td>\n",
       "    </tr>\n",
       "  </tbody>\n",
       "</table>\n",
       "</div>"
      ],
      "text/plain": [
       "       Region               major_category               minor_category  \\\n",
       "0     Croydon                     Burglary  Burglary in Other Buildings   \n",
       "1   Greenwich  Violence Against the Person               Other violence   \n",
       "2     Bromley  Violence Against the Person               Other violence   \n",
       "3   Redbridge                     Burglary  Burglary in Other Buildings   \n",
       "4  Wandsworth                      Robbery            Personal Property   \n",
       "\n",
       "   Total  year  month  \n",
       "0      0  2016     11  \n",
       "1      0  2016     11  \n",
       "2      0  2015      5  \n",
       "3      0  2016      3  \n",
       "4      0  2008      6  "
      ]
     },
     "execution_count": 16,
     "metadata": {},
     "output_type": "execute_result"
    }
   ],
   "source": [
    "london_crime.head()"
   ]
  },
  {
   "cell_type": "markdown",
   "id": "8c2e65c9",
   "metadata": {},
   "source": [
    "Melihat 5 data teratas untuk dilakukan analisis sebelum visualisasi"
   ]
  },
  {
   "cell_type": "code",
   "execution_count": 17,
   "id": "71807e95",
   "metadata": {},
   "outputs": [
    {
     "data": {
      "text/plain": [
       "major_category               year\n",
       "Burglary                     2008     88092\n",
       "                             2009     90619\n",
       "                             2010     86826\n",
       "                             2011     93315\n",
       "Criminal Damage              2008     91872\n",
       "                             2009     85565\n",
       "                             2010     77897\n",
       "                             2011     70914\n",
       "Drugs                        2008     68804\n",
       "                             2009     60549\n",
       "                             2010     58674\n",
       "                             2011     57550\n",
       "Fraud or Forgery             2008      5325\n",
       "                             2009         0\n",
       "                             2010         0\n",
       "                             2011         0\n",
       "Other Notifiable Offences    2008     10112\n",
       "                             2009     10644\n",
       "                             2010     10768\n",
       "                             2011     10264\n",
       "Robbery                      2008     29627\n",
       "                             2009     29568\n",
       "                             2010     32341\n",
       "                             2011     36679\n",
       "Sexual Offences              2008      1273\n",
       "                             2009         0\n",
       "                             2010         0\n",
       "                             2011         0\n",
       "Theft and Handling           2008    283692\n",
       "                             2009    279492\n",
       "                             2010    290924\n",
       "                             2011    309292\n",
       "Violence Against the Person  2008    159844\n",
       "                             2009    160777\n",
       "                             2010    157894\n",
       "                             2011    146901\n",
       "Name: Total, dtype: int64"
      ]
     },
     "execution_count": 17,
     "metadata": {},
     "output_type": "execute_result"
    }
   ],
   "source": [
    "# Membuat dataframe df3 yang merupakan hasil pengelompokkan berdasarkan kategori utama (major_category) dan tahun (year) dari dataframe london_crime\n",
    "# Data yang dipilih hanya data dengan tahun <= 2011\n",
    "# Data yang ditampilkan hanya kolom 'Total'\n",
    "df3= london_crime[(london_crime['year'] <= 2011)].groupby(['major_category','year'])['Total'].sum()\n",
    "\n",
    "# Menampilkan dataframe df3\n",
    "df3"
   ]
  },
  {
   "cell_type": "markdown",
   "id": "99a67c4b",
   "metadata": {},
   "source": [
    "Code diatas digunakan untuk membuat DataFrame baru yang berisi hasil pengelompokan dan penjumlahan data dalam kolom 'Total' berdasarkan kolom 'major_category' dan 'year' pada DataFrame london_crime dimana nilai tahun (year) tidak lebih besar dari 2011. Tujuan dilakukankan analisis ini adalah untuk menampilkan data kejahatan utama dalam 4 tahun pertama (saat data dikumpulkan)."
   ]
  },
  {
   "cell_type": "code",
   "execution_count": 18,
   "id": "7a790ba7",
   "metadata": {},
   "outputs": [
    {
     "data": {
      "text/plain": [
       "Theft and Handling             3966300\n",
       "Violence Against the Person    3171744\n",
       "Criminal Damage                2069172\n",
       "Drugs                          1179468\n",
       "Burglary                       1043604\n",
       "Name: major_category, dtype: int64"
      ]
     },
     "execution_count": 18,
     "metadata": {},
     "output_type": "execute_result"
    }
   ],
   "source": [
    "# Menghitung jumlah kemunculan setiap nilai dalam kolom 'major_category' pada dataframe london_crime menggunakan metode value_counts()\n",
    "# Mengambil 5 nilai teratas dari hasil penghitungan tersebut dengan menggunakan metode head(5)\n",
    "london_crime['major_category'].value_counts().head(5)"
   ]
  },
  {
   "cell_type": "markdown",
   "id": "1e8cfcbc",
   "metadata": {},
   "source": [
    "Code diatas untuk melihat seberapa banyak kejahatan utama yang dilakukan dalam rentang tahun 2008-2016, dan ditampilkan hanya 5 kejahatan dengan nilai tertinggi."
   ]
  },
  {
   "cell_type": "code",
   "execution_count": 19,
   "id": "d3b37163",
   "metadata": {},
   "outputs": [
    {
     "name": "stdout",
     "output_type": "stream",
     "text": [
      "      Theft and Handling\n",
      "year                    \n",
      "2008              283692\n",
      "2009              279492\n",
      "2010              290924\n",
      "2011              309292\n",
      "\n",
      "\n",
      "      Violence Against the Person\n",
      "year                             \n",
      "2008                       159844\n",
      "2009                       160777\n",
      "2010                       157894\n",
      "2011                       146901\n",
      "\n",
      "\n",
      "      Criminal Damage\n",
      "year                 \n",
      "2008            91872\n",
      "2009            85565\n",
      "2010            77897\n",
      "2011            70914\n",
      "\n",
      "\n",
      "      Drugs\n",
      "year       \n",
      "2008  68804\n",
      "2009  60549\n",
      "2010  58674\n",
      "2011  57550\n",
      "\n",
      "\n",
      "      Burglary\n",
      "year          \n",
      "2008     88092\n",
      "2009     90619\n",
      "2010     86826\n",
      "2011     93315\n",
      "\n",
      "\n"
     ]
    }
   ],
   "source": [
    "# Membuat dataframe baru untuk kelima kategori kejahatan diatas dengan menggunakan masing-masing kategori dari dataframe 'df3'\n",
    "# Mengubah kolom 'Total' menjadi nama masing-masing kategori pada dataframe menggunakan metode rename()\n",
    "# Menampilkan dataframe menggunakan print()\n",
    "major1 = df3['Theft and Handling'].to_frame()\n",
    "major1.rename(columns={'Total':'Theft and Handling'}, inplace = True)\n",
    "print(major1)\n",
    "print('\\n')\n",
    "\n",
    "major2 = df3['Violence Against the Person'].to_frame()\n",
    "major2.rename(columns={'Total':'Violence Against the Person'}, inplace = True)\n",
    "print(major2)\n",
    "print('\\n')\n",
    "\n",
    "major3 = df3['Criminal Damage'].to_frame()\n",
    "major3.rename(columns={'Total':'Criminal Damage'}, inplace = True)\n",
    "print(major3)\n",
    "print('\\n')\n",
    "\n",
    "major4 = df3['Drugs'].to_frame()\n",
    "major4.rename(columns={'Total':'Drugs'}, inplace = True)\n",
    "print(major4)\n",
    "print('\\n')\n",
    "\n",
    "major5 = df3['Burglary'].to_frame()\n",
    "major5.rename(columns={'Total':'Burglary'}, inplace = True)\n",
    "print(major5)\n",
    "print('\\n')"
   ]
  },
  {
   "cell_type": "markdown",
   "id": "7f25a6cf",
   "metadata": {},
   "source": [
    "Kemudian dari hasil yang sebelumnya, dipisahkan nilai kelima kejahatan utama tersebut berdasarkan data 4 tahun pertama (saat data dikumpulkan). Selanjutnya semua data dalam dataframe baru agar lebih mudah dipahami."
   ]
  },
  {
   "cell_type": "code",
   "execution_count": 20,
   "id": "7cbb05ee",
   "metadata": {},
   "outputs": [
    {
     "data": {
      "text/html": [
       "<div>\n",
       "<style scoped>\n",
       "    .dataframe tbody tr th:only-of-type {\n",
       "        vertical-align: middle;\n",
       "    }\n",
       "\n",
       "    .dataframe tbody tr th {\n",
       "        vertical-align: top;\n",
       "    }\n",
       "\n",
       "    .dataframe thead th {\n",
       "        text-align: right;\n",
       "    }\n",
       "</style>\n",
       "<table border=\"1\" class=\"dataframe\">\n",
       "  <thead>\n",
       "    <tr style=\"text-align: right;\">\n",
       "      <th></th>\n",
       "      <th>Theft and Handling</th>\n",
       "      <th>Violence Against the Person</th>\n",
       "      <th>Criminal Damage</th>\n",
       "      <th>Drugs</th>\n",
       "      <th>Burglary</th>\n",
       "    </tr>\n",
       "    <tr>\n",
       "      <th>year</th>\n",
       "      <th></th>\n",
       "      <th></th>\n",
       "      <th></th>\n",
       "      <th></th>\n",
       "      <th></th>\n",
       "    </tr>\n",
       "  </thead>\n",
       "  <tbody>\n",
       "    <tr>\n",
       "      <th>2008</th>\n",
       "      <td>283692</td>\n",
       "      <td>159844</td>\n",
       "      <td>91872</td>\n",
       "      <td>68804</td>\n",
       "      <td>88092</td>\n",
       "    </tr>\n",
       "    <tr>\n",
       "      <th>2009</th>\n",
       "      <td>279492</td>\n",
       "      <td>160777</td>\n",
       "      <td>85565</td>\n",
       "      <td>60549</td>\n",
       "      <td>90619</td>\n",
       "    </tr>\n",
       "    <tr>\n",
       "      <th>2010</th>\n",
       "      <td>290924</td>\n",
       "      <td>157894</td>\n",
       "      <td>77897</td>\n",
       "      <td>58674</td>\n",
       "      <td>86826</td>\n",
       "    </tr>\n",
       "    <tr>\n",
       "      <th>2011</th>\n",
       "      <td>309292</td>\n",
       "      <td>146901</td>\n",
       "      <td>70914</td>\n",
       "      <td>57550</td>\n",
       "      <td>93315</td>\n",
       "    </tr>\n",
       "  </tbody>\n",
       "</table>\n",
       "</div>"
      ],
      "text/plain": [
       "      Theft and Handling  Violence Against the Person  Criminal Damage  Drugs  \\\n",
       "year                                                                            \n",
       "2008              283692                       159844            91872  68804   \n",
       "2009              279492                       160777            85565  60549   \n",
       "2010              290924                       157894            77897  58674   \n",
       "2011              309292                       146901            70914  57550   \n",
       "\n",
       "      Burglary  \n",
       "year            \n",
       "2008     88092  \n",
       "2009     90619  \n",
       "2010     86826  \n",
       "2011     93315  "
      ]
     },
     "execution_count": 20,
     "metadata": {},
     "output_type": "execute_result"
    }
   ],
   "source": [
    "# Menggabungkan dataframe 'major1', 'major2', 'major3', 'major4', dan 'major5' secara horizontal (axis=1) menjadi dataframe baru 'df_major'\n",
    "df_major = pd.concat([major1, major2, major3, major4, major5], axis=1)\n",
    "\n",
    "df_major"
   ]
  },
  {
   "cell_type": "markdown",
   "id": "3ea02179",
   "metadata": {},
   "source": [
    "Kelima dataframe yang sudah dibentuk sebelumnya dijadikan satu dataframe dengan menggunakan fungsi pada pandas yaitu concat(), dan digunakan axis=1 agar terbentuk dalam kolom-kolom yang terpisah. "
   ]
  },
  {
   "cell_type": "code",
   "execution_count": 21,
   "id": "f31950d1",
   "metadata": {},
   "outputs": [
    {
     "data": {
      "image/png": "[encoded data removed]",
      "text/plain": [
       "<Figure size 720x360 with 1 Axes>"
      ]
     },
     "metadata": {
      "needs_background": "light"
     },
     "output_type": "display_data"
    }
   ],
   "source": [
    "# Membuat plot garis (line plot) dengan menggunakan dataframe 'df_major'\n",
    "df_major.plot(kind='line', figsize=(10,5)) # Ukuran plot (figsize) diatur menjadi 10 x 5 inci\n",
    "\n",
    "plt.title('5 Top Major Category of Crime 2008 - 2011\\n') # Menambahkan judul plot, label sumbu Y, dan label sumbu X \n",
    "plt.xlabel('\\nYears') \n",
    "plt.show() # Menampilkan plot menggunakan fungsi 'show()'\n"
   ]
  },
  {
   "cell_type": "markdown",
   "id": "1435943a",
   "metadata": {},
   "source": [
    "Selanjutnya, nilai yang terdapat pada dataframe sebelumnya akan di plot dengan line plot untuk melihat tren yang terjadi selama 4 tahun pertama. Pada hasil line plot dapat dilihat bahwa data kejahatan Theft and Handling memiliki nilai tertinggi dari kejatahan lain, dan nilai tersebut terus melonjak naik pada tahun 2011. Untuk data kejahatan lain di 4 tahun pertama masih terlihat cukup stabil dengan tidak adanya perubahan yang cukup signifikan, namun untuk data Violence Against the Person dan Criminal Damage mengalami penurunan seiring berjalannya waktu selama 4 tahun tersebut. "
   ]
  },
  {
   "cell_type": "code",
   "execution_count": 22,
   "id": "718ece28",
   "metadata": {},
   "outputs": [
    {
     "data": {
      "image/png": "[encoded data removed]",
      "text/plain": [
       "<Figure size 720x360 with 1 Axes>"
      ]
     },
     "metadata": {
      "needs_background": "light"
     },
     "output_type": "display_data"
    }
   ],
   "source": [
    "# Membuat plot area dengan menggunakan dataframe 'df_major'\n",
    "# Alpha digunakan untuk mengatur transparansi warna menjadi 0.2\n",
    "# Stacked diatur menjadi False agar area plot tidak tumpang tindih\n",
    "# Ukuran plot diatur menjadi 10 x 5 inci\n",
    "df_major.plot(kind='area', alpha=0.20, stacked=False, figsize=(10,5))\n",
    "\n",
    "# Menambahkan judul plot, label sumbu Y, dan label sumbu X \n",
    "# Menampilkan plot menggunakan fungsi 'show()'\n",
    "plt.title('5 Top Major Category of Crime 2008 - 2011\\n')\n",
    "plt.ylabel('Total of Crime')\n",
    "plt.xlabel('\\nYears')\n",
    "plt.show()\n"
   ]
  },
  {
   "cell_type": "markdown",
   "id": "e5ef1de9",
   "metadata": {},
   "source": [
    "Kemudian, line plot tadi dibentuk dalam area plot guna menunjukkan total yang berubah dari waktu ke waktu dalam kategori kejahatan utama, serta membantu melihat kontribusi dari setiap kategori pada total keseluruhan. Area plot diatas menunjukkan visualisasi yang sama dengan line plot sebelumnya. "
   ]
  },
  {
   "cell_type": "code",
   "execution_count": 23,
   "id": "faf23a1a",
   "metadata": {},
   "outputs": [
    {
     "data": {
      "image/png": "[encoded data removed]",
      "text/plain": [
       "<Figure size 720x360 with 1 Axes>"
      ]
     },
     "metadata": {
      "needs_background": "light"
     },
     "output_type": "display_data"
    }
   ],
   "source": [
    "#Stacked diatur menjadi True untuk menampilkan stacked area plot dengan data yang ditumpuk\n",
    "df_major.plot(kind='area', alpha=0.20, stacked=True, figsize=(10,5))\n",
    "\n",
    "plt.title('5 Top Major Category of Crime 2008 - 2011\\n')\n",
    "plt.ylabel('Total of Crime')\n",
    "plt.xlabel('\\nYears')\n",
    "plt.show()"
   ]
  },
  {
   "cell_type": "markdown",
   "id": "bffcaf1c",
   "metadata": {},
   "source": [
    "Area plot sebelumnya dibentuk kedalam area plot dengan stack (tumpukan)"
   ]
  },
  {
   "cell_type": "code",
   "execution_count": 24,
   "id": "deb320a9",
   "metadata": {},
   "outputs": [
    {
     "data": {
      "text/plain": [
       "major_category               year\n",
       "Burglary                     2013     87222\n",
       "                             2014     76053\n",
       "                             2015     70489\n",
       "                             2016     68285\n",
       "Criminal Damage              2013     56206\n",
       "                             2014     59279\n",
       "                             2015     62976\n",
       "                             2016     64071\n",
       "Drugs                        2013     50278\n",
       "                             2014     44435\n",
       "                             2015     39785\n",
       "                             2016     38914\n",
       "Fraud or Forgery             2013         0\n",
       "                             2014         0\n",
       "                             2015         0\n",
       "                             2016         0\n",
       "Other Notifiable Offences    2013     10811\n",
       "                             2014     13037\n",
       "                             2015     14229\n",
       "                             2016     15809\n",
       "Robbery                      2013     29337\n",
       "                             2014     22150\n",
       "                             2015     21383\n",
       "                             2016     22528\n",
       "Sexual Offences              2013         0\n",
       "                             2014         0\n",
       "                             2015         0\n",
       "                             2016         0\n",
       "Theft and Handling           2013    306372\n",
       "                             2014    279880\n",
       "                             2015    284022\n",
       "                             2016    294133\n",
       "Violence Against the Person  2013    146181\n",
       "                             2014    185349\n",
       "                             2015    218740\n",
       "                             2016    232381\n",
       "Name: Total, dtype: int64"
      ]
     },
     "execution_count": 24,
     "metadata": {},
     "output_type": "execute_result"
    }
   ],
   "source": [
    "# Membuat dataframe df4 yang merupakan hasil pengelompokkan berdasarkan kategori utama (major_category) dan tahun (year) dari dataframe london_crime\n",
    "# Data yang dipilih hanya data dengan tahun <= 2011\n",
    "# Data yang ditampilkan hanya kolom 'Total'\n",
    "df4 = london_crime[(london_crime['year'] >= 2013)].groupby(['major_category','year'])['Total'].sum()\n",
    "\n",
    "# Menampilkan dataframe df4\n",
    "df4"
   ]
  },
  {
   "cell_type": "markdown",
   "id": "efd3bba7",
   "metadata": {},
   "source": [
    "Code diatas digunakan untuk membuat DataFrame baru yang berisi hasil pengelompokan dan penjumlahan data dalam kolom 'Total' berdasarkan kolom 'major_category' dan 'year' pada DataFrame london_crime dimana nilai tahun (year) lebih besar dari 2013. Tujuan dilakukankan analisis ini adalah untuk menampilkan data kejahatan utama dalam 4 tahun terakhir (saat data berhenti dikumpulkan)."
   ]
  },
  {
   "cell_type": "code",
   "execution_count": 25,
   "id": "981677aa",
   "metadata": {},
   "outputs": [
    {
     "data": {
      "text/html": [
       "<div>\n",
       "<style scoped>\n",
       "    .dataframe tbody tr th:only-of-type {\n",
       "        vertical-align: middle;\n",
       "    }\n",
       "\n",
       "    .dataframe tbody tr th {\n",
       "        vertical-align: top;\n",
       "    }\n",
       "\n",
       "    .dataframe thead th {\n",
       "        text-align: right;\n",
       "    }\n",
       "</style>\n",
       "<table border=\"1\" class=\"dataframe\">\n",
       "  <thead>\n",
       "    <tr style=\"text-align: right;\">\n",
       "      <th></th>\n",
       "      <th>Theft and Handling</th>\n",
       "      <th>Violence Against the Person</th>\n",
       "      <th>Criminal Damage</th>\n",
       "      <th>Drugs</th>\n",
       "      <th>Burglary</th>\n",
       "    </tr>\n",
       "    <tr>\n",
       "      <th>year</th>\n",
       "      <th></th>\n",
       "      <th></th>\n",
       "      <th></th>\n",
       "      <th></th>\n",
       "      <th></th>\n",
       "    </tr>\n",
       "  </thead>\n",
       "  <tbody>\n",
       "    <tr>\n",
       "      <th>2013</th>\n",
       "      <td>306372</td>\n",
       "      <td>146181</td>\n",
       "      <td>56206</td>\n",
       "      <td>50278</td>\n",
       "      <td>87222</td>\n",
       "    </tr>\n",
       "    <tr>\n",
       "      <th>2014</th>\n",
       "      <td>279880</td>\n",
       "      <td>185349</td>\n",
       "      <td>59279</td>\n",
       "      <td>44435</td>\n",
       "      <td>76053</td>\n",
       "    </tr>\n",
       "    <tr>\n",
       "      <th>2015</th>\n",
       "      <td>284022</td>\n",
       "      <td>218740</td>\n",
       "      <td>62976</td>\n",
       "      <td>39785</td>\n",
       "      <td>70489</td>\n",
       "    </tr>\n",
       "    <tr>\n",
       "      <th>2016</th>\n",
       "      <td>294133</td>\n",
       "      <td>232381</td>\n",
       "      <td>64071</td>\n",
       "      <td>38914</td>\n",
       "      <td>68285</td>\n",
       "    </tr>\n",
       "  </tbody>\n",
       "</table>\n",
       "</div>"
      ],
      "text/plain": [
       "      Theft and Handling  Violence Against the Person  Criminal Damage  Drugs  \\\n",
       "year                                                                            \n",
       "2013              306372                       146181            56206  50278   \n",
       "2014              279880                       185349            59279  44435   \n",
       "2015              284022                       218740            62976  39785   \n",
       "2016              294133                       232381            64071  38914   \n",
       "\n",
       "      Burglary  \n",
       "year            \n",
       "2013     87222  \n",
       "2014     76053  \n",
       "2015     70489  \n",
       "2016     68285  "
      ]
     },
     "execution_count": 25,
     "metadata": {},
     "output_type": "execute_result"
    }
   ],
   "source": [
    "# Membuat dataframe baru untuk kelima kategori kejahatan dengan menggunakan masing-masing kategori dari dataframe 'df4' \n",
    "major1_2 = df4['Theft and Handling'].to_frame()\n",
    "major1_2.rename(columns={'Total':'Theft and Handling'}, inplace = True)\n",
    "\n",
    "major2_2 = df4['Violence Against the Person'].to_frame()\n",
    "major2_2.rename(columns={'Total':'Violence Against the Person'}, inplace = True)\n",
    "\n",
    "major3_2 = df4['Criminal Damage'].to_frame()\n",
    "major3_2.rename(columns={'Total':'Criminal Damage'}, inplace = True)\n",
    "\n",
    "major4_2 = df4['Drugs'].to_frame()\n",
    "major4_2.rename(columns={'Total':'Drugs'}, inplace = True)\n",
    "\n",
    "major5_2 = df4['Burglary'].to_frame()\n",
    "major5_2.rename(columns={'Total':'Burglary'}, inplace = True)\n",
    "\n",
    "# Menggabungkan dataframe secara horizontal (axis=1) menjadi dataframe baru 'df_major2'\n",
    "df_major2 = pd.concat([major1_2, major2_2, major3_2, major4_2, major5_2], axis=1)\n",
    "df_major2"
   ]
  },
  {
   "cell_type": "markdown",
   "id": "54b09227",
   "metadata": {},
   "source": [
    "Membuat dataframe-dataframe baru untuk menampung data 5 kejahatan utama berdasarkan rentang tahun 2013-2016 (4 tahun terakhir)"
   ]
  },
  {
   "cell_type": "code",
   "execution_count": 26,
   "id": "91e45732",
   "metadata": {},
   "outputs": [
    {
     "data": {
      "image/png": "[encoded data removed]",
      "text/plain": [
       "<Figure size 720x360 with 1 Axes>"
      ]
     },
     "metadata": {
      "needs_background": "light"
     },
     "output_type": "display_data"
    }
   ],
   "source": [
    "# Membuat plot garis (line plot) dengan menggunakan dataframe 'df_major2'\n",
    "df_major2.plot(kind='line', figsize=(10,5))\n",
    "\n",
    "plt.title('5 Top Major Category of Crime 2008 - 2011\\n')\n",
    "plt.ylabel('Total of Crime')\n",
    "plt.xlabel('\\nYears')\n",
    "plt.show()"
   ]
  },
  {
   "cell_type": "markdown",
   "id": "8ab83955",
   "metadata": {},
   "source": [
    "Menampilkan 5 data tertinggi pada kejahatan utama dengan line plot untuk rentang tahun 2013-2016 (4 tahun terakhir). Pada hasil plot dapat dilihat bahwa data Theft and Handling mengalami penurunan pada tahun 2014, namun setelahnya data kembali mengalami kenaikan. Untuk data Violence Against the Person mengalami kenaikan yang sangat signifikan pada rentang 4 tahun tersebut dan puncak tertinggi berada pada tahun 2016. Sementara untuk data kejahatan lainnya tren masih stabil (tidak terjadi kenaikan dan penurunan yang drastis). "
   ]
  },
  {
   "cell_type": "code",
   "execution_count": 27,
   "id": "4d1895de",
   "metadata": {},
   "outputs": [
    {
     "data": {
      "image/png": "[encoded data removed]",
      "text/plain": [
       "<Figure size 720x360 with 1 Axes>"
      ]
     },
     "metadata": {
      "needs_background": "light"
     },
     "output_type": "display_data"
    }
   ],
   "source": [
    "# Membuat plot area dengan menggunakan dataframe 'df_major2'\n",
    "df_major2.plot(kind='area', alpha=0.20, stacked=False, figsize=(10,5))\n",
    "\n",
    "plt.title('5 Top Major Category of Crime 2008 - 2011\\n')\n",
    "plt.ylabel('Total of Crime')\n",
    "plt.xlabel('\\nYears')\n",
    "plt.show()"
   ]
  },
  {
   "cell_type": "markdown",
   "id": "0789d7a2",
   "metadata": {},
   "source": [
    "Area plot diatas merupakan area plot yang merepresentasikan data yang sama dengan line plot sebelumnya. "
   ]
  },
  {
   "cell_type": "code",
   "execution_count": 28,
   "id": "8deb290f",
   "metadata": {},
   "outputs": [
    {
     "data": {
      "image/png": "[encoded data removed]",
      "text/plain": [
       "<Figure size 1080x360 with 2 Axes>"
      ]
     },
     "metadata": {
      "needs_background": "light"
     },
     "output_type": "display_data"
    }
   ],
   "source": [
    "# membuat subplot dengan ukuran 1x2\n",
    "fig, ax = plt.subplots(1, 2, figsize=(15, 5))\n",
    "\n",
    "# plot pertama\n",
    "df_major.plot(kind='line', ax=ax[0])\n",
    "ax[0].set_title('5 Top Major Category of Crime 2008 - 2011')\n",
    "ax[0].set_xlabel('Years')\n",
    "ax[0].set_ylabel('Total of Crime')\n",
    "\n",
    "# plot kedua\n",
    "df_major2.plot(kind='line', ax=ax[1])\n",
    "ax[1].set_title('5 Top Major Category of Crime 2012 - 2016')\n",
    "ax[1].set_xlabel('Years')\n",
    "ax[1].set_ylabel('Total of Crime')\n",
    "\n",
    "# menampilkan plot\n",
    "plt.show()\n"
   ]
  },
  {
   "cell_type": "markdown",
   "id": "5f4ceb44",
   "metadata": {},
   "source": [
    "Menampilkan 2 plot untuk dilakukan perbandingan antara data kejahatan utama di 4 tahun awal dengan data 4 tahun terakhir. Dari kedua plot diatas dapat dilihat bahwa perbedaan signifikan antara kedua plot tersebut terdapat pada kategori Theft and Handling dan Violence Against the Person. Sedangkan untuk data Bulgary pada 4 tahun awal mengalami kenaikan namun pada 4 tahun terakhir mengalami penurunan. Dan data Criminal Damage mengalami perbedaan 4 tahun awal terdapat penurunan, sedangkan 4 tahun terakhir mengalami kenaikan. "
   ]
  },
  {
   "cell_type": "markdown",
   "id": "b03cef15",
   "metadata": {},
   "source": [
    "### Histogram"
   ]
  },
  {
   "cell_type": "code",
   "execution_count": 29,
   "id": "f3f923a6",
   "metadata": {},
   "outputs": [
    {
     "data": {
      "text/html": [
       "<div>\n",
       "<style scoped>\n",
       "    .dataframe tbody tr th:only-of-type {\n",
       "        vertical-align: middle;\n",
       "    }\n",
       "\n",
       "    .dataframe tbody tr th {\n",
       "        vertical-align: top;\n",
       "    }\n",
       "\n",
       "    .dataframe thead th {\n",
       "        text-align: right;\n",
       "    }\n",
       "</style>\n",
       "<table border=\"1\" class=\"dataframe\">\n",
       "  <thead>\n",
       "    <tr style=\"text-align: right;\">\n",
       "      <th></th>\n",
       "      <th>Total</th>\n",
       "      <th>Total</th>\n",
       "      <th>Total</th>\n",
       "      <th>Total</th>\n",
       "      <th>Total</th>\n",
       "    </tr>\n",
       "    <tr>\n",
       "      <th>Region</th>\n",
       "      <th></th>\n",
       "      <th></th>\n",
       "      <th></th>\n",
       "      <th></th>\n",
       "      <th></th>\n",
       "    </tr>\n",
       "  </thead>\n",
       "  <tbody>\n",
       "    <tr>\n",
       "      <th>Barking and Dagenham</th>\n",
       "      <td>17130</td>\n",
       "      <td>16686</td>\n",
       "      <td>15990</td>\n",
       "      <td>15759</td>\n",
       "      <td>15426</td>\n",
       "    </tr>\n",
       "    <tr>\n",
       "      <th>Barnet</th>\n",
       "      <td>23416</td>\n",
       "      <td>24007</td>\n",
       "      <td>23573</td>\n",
       "      <td>22510</td>\n",
       "      <td>22572</td>\n",
       "    </tr>\n",
       "    <tr>\n",
       "      <th>Bexley</th>\n",
       "      <td>13166</td>\n",
       "      <td>11325</td>\n",
       "      <td>11669</td>\n",
       "      <td>11552</td>\n",
       "      <td>11844</td>\n",
       "    </tr>\n",
       "    <tr>\n",
       "      <th>Brent</th>\n",
       "      <td>25512</td>\n",
       "      <td>27669</td>\n",
       "      <td>26357</td>\n",
       "      <td>23759</td>\n",
       "      <td>24426</td>\n",
       "    </tr>\n",
       "    <tr>\n",
       "      <th>Bromley</th>\n",
       "      <td>19572</td>\n",
       "      <td>19868</td>\n",
       "      <td>19622</td>\n",
       "      <td>18945</td>\n",
       "      <td>19668</td>\n",
       "    </tr>\n",
       "    <tr>\n",
       "      <th>Camden</th>\n",
       "      <td>31804</td>\n",
       "      <td>33956</td>\n",
       "      <td>31472</td>\n",
       "      <td>28435</td>\n",
       "      <td>27198</td>\n",
       "    </tr>\n",
       "    <tr>\n",
       "      <th>City of London</th>\n",
       "      <td>0</td>\n",
       "      <td>69</td>\n",
       "      <td>157</td>\n",
       "      <td>110</td>\n",
       "      <td>115</td>\n",
       "    </tr>\n",
       "    <tr>\n",
       "      <th>Croydon</th>\n",
       "      <td>29373</td>\n",
       "      <td>29830</td>\n",
       "      <td>30189</td>\n",
       "      <td>27444</td>\n",
       "      <td>27357</td>\n",
       "    </tr>\n",
       "    <tr>\n",
       "      <th>Ealing</th>\n",
       "      <td>31360</td>\n",
       "      <td>29537</td>\n",
       "      <td>28832</td>\n",
       "      <td>25917</td>\n",
       "      <td>24978</td>\n",
       "    </tr>\n",
       "    <tr>\n",
       "      <th>Enfield</th>\n",
       "      <td>20808</td>\n",
       "      <td>21041</td>\n",
       "      <td>21069</td>\n",
       "      <td>21574</td>\n",
       "      <td>21700</td>\n",
       "    </tr>\n",
       "    <tr>\n",
       "      <th>Greenwich</th>\n",
       "      <td>18626</td>\n",
       "      <td>18552</td>\n",
       "      <td>20028</td>\n",
       "      <td>18948</td>\n",
       "      <td>19894</td>\n",
       "    </tr>\n",
       "    <tr>\n",
       "      <th>Hackney</th>\n",
       "      <td>20175</td>\n",
       "      <td>21395</td>\n",
       "      <td>27095</td>\n",
       "      <td>25633</td>\n",
       "      <td>24893</td>\n",
       "    </tr>\n",
       "    <tr>\n",
       "      <th>Hammersmith and Fulham</th>\n",
       "      <td>21941</td>\n",
       "      <td>22151</td>\n",
       "      <td>21030</td>\n",
       "      <td>18605</td>\n",
       "      <td>19185</td>\n",
       "    </tr>\n",
       "    <tr>\n",
       "      <th>Haringey</th>\n",
       "      <td>22156</td>\n",
       "      <td>23179</td>\n",
       "      <td>23231</td>\n",
       "      <td>20705</td>\n",
       "      <td>22773</td>\n",
       "    </tr>\n",
       "    <tr>\n",
       "      <th>Harrow</th>\n",
       "      <td>13945</td>\n",
       "      <td>12801</td>\n",
       "      <td>12803</td>\n",
       "      <td>11914</td>\n",
       "      <td>11909</td>\n",
       "    </tr>\n",
       "    <tr>\n",
       "      <th>Havering</th>\n",
       "      <td>14957</td>\n",
       "      <td>15496</td>\n",
       "      <td>15965</td>\n",
       "      <td>15089</td>\n",
       "      <td>14734</td>\n",
       "    </tr>\n",
       "    <tr>\n",
       "      <th>Hillingdon</th>\n",
       "      <td>23421</td>\n",
       "      <td>24282</td>\n",
       "      <td>22103</td>\n",
       "      <td>20248</td>\n",
       "      <td>23128</td>\n",
       "    </tr>\n",
       "    <tr>\n",
       "      <th>Hounslow</th>\n",
       "      <td>19665</td>\n",
       "      <td>21105</td>\n",
       "      <td>22724</td>\n",
       "      <td>19749</td>\n",
       "      <td>20005</td>\n",
       "    </tr>\n",
       "    <tr>\n",
       "      <th>Islington</th>\n",
       "      <td>24693</td>\n",
       "      <td>24980</td>\n",
       "      <td>26268</td>\n",
       "      <td>23784</td>\n",
       "      <td>24679</td>\n",
       "    </tr>\n",
       "    <tr>\n",
       "      <th>Kensington and Chelsea</th>\n",
       "      <td>19481</td>\n",
       "      <td>19146</td>\n",
       "      <td>19757</td>\n",
       "      <td>17702</td>\n",
       "      <td>17840</td>\n",
       "    </tr>\n",
       "    <tr>\n",
       "      <th>Kingston upon Thames</th>\n",
       "      <td>10171</td>\n",
       "      <td>10155</td>\n",
       "      <td>9956</td>\n",
       "      <td>9191</td>\n",
       "      <td>9288</td>\n",
       "    </tr>\n",
       "    <tr>\n",
       "      <th>Lambeth</th>\n",
       "      <td>31671</td>\n",
       "      <td>33224</td>\n",
       "      <td>33473</td>\n",
       "      <td>31868</td>\n",
       "      <td>31765</td>\n",
       "    </tr>\n",
       "    <tr>\n",
       "      <th>Lewisham</th>\n",
       "      <td>24532</td>\n",
       "      <td>24201</td>\n",
       "      <td>23652</td>\n",
       "      <td>22074</td>\n",
       "      <td>21101</td>\n",
       "    </tr>\n",
       "    <tr>\n",
       "      <th>Merton</th>\n",
       "      <td>13595</td>\n",
       "      <td>13548</td>\n",
       "      <td>12856</td>\n",
       "      <td>11595</td>\n",
       "      <td>11596</td>\n",
       "    </tr>\n",
       "    <tr>\n",
       "      <th>Newham</th>\n",
       "      <td>30728</td>\n",
       "      <td>27978</td>\n",
       "      <td>30067</td>\n",
       "      <td>27577</td>\n",
       "      <td>28005</td>\n",
       "    </tr>\n",
       "    <tr>\n",
       "      <th>Redbridge</th>\n",
       "      <td>20652</td>\n",
       "      <td>21994</td>\n",
       "      <td>21424</td>\n",
       "      <td>19793</td>\n",
       "      <td>19590</td>\n",
       "    </tr>\n",
       "    <tr>\n",
       "      <th>Richmond upon Thames</th>\n",
       "      <td>10601</td>\n",
       "      <td>10896</td>\n",
       "      <td>11168</td>\n",
       "      <td>10439</td>\n",
       "      <td>10456</td>\n",
       "    </tr>\n",
       "    <tr>\n",
       "      <th>Southwark</th>\n",
       "      <td>31320</td>\n",
       "      <td>30723</td>\n",
       "      <td>30737</td>\n",
       "      <td>31128</td>\n",
       "      <td>28912</td>\n",
       "    </tr>\n",
       "    <tr>\n",
       "      <th>Sutton</th>\n",
       "      <td>12032</td>\n",
       "      <td>11068</td>\n",
       "      <td>10948</td>\n",
       "      <td>10057</td>\n",
       "      <td>10443</td>\n",
       "    </tr>\n",
       "    <tr>\n",
       "      <th>Tower Hamlets</th>\n",
       "      <td>23072</td>\n",
       "      <td>24712</td>\n",
       "      <td>26784</td>\n",
       "      <td>26258</td>\n",
       "      <td>25504</td>\n",
       "    </tr>\n",
       "    <tr>\n",
       "      <th>Waltham Forest</th>\n",
       "      <td>24818</td>\n",
       "      <td>23714</td>\n",
       "      <td>22647</td>\n",
       "      <td>21903</td>\n",
       "      <td>20271</td>\n",
       "    </tr>\n",
       "    <tr>\n",
       "      <th>Wandsworth</th>\n",
       "      <td>22815</td>\n",
       "      <td>21384</td>\n",
       "      <td>24457</td>\n",
       "      <td>22290</td>\n",
       "      <td>21364</td>\n",
       "    </tr>\n",
       "    <tr>\n",
       "      <th>Westminster</th>\n",
       "      <td>48116</td>\n",
       "      <td>54243</td>\n",
       "      <td>59226</td>\n",
       "      <td>53852</td>\n",
       "      <td>47564</td>\n",
       "    </tr>\n",
       "  </tbody>\n",
       "</table>\n",
       "</div>"
      ],
      "text/plain": [
       "                        Total  Total  Total  Total  Total\n",
       "Region                                                   \n",
       "Barking and Dagenham    17130  16686  15990  15759  15426\n",
       "Barnet                  23416  24007  23573  22510  22572\n",
       "Bexley                  13166  11325  11669  11552  11844\n",
       "Brent                   25512  27669  26357  23759  24426\n",
       "Bromley                 19572  19868  19622  18945  19668\n",
       "Camden                  31804  33956  31472  28435  27198\n",
       "City of London              0     69    157    110    115\n",
       "Croydon                 29373  29830  30189  27444  27357\n",
       "Ealing                  31360  29537  28832  25917  24978\n",
       "Enfield                 20808  21041  21069  21574  21700\n",
       "Greenwich               18626  18552  20028  18948  19894\n",
       "Hackney                 20175  21395  27095  25633  24893\n",
       "Hammersmith and Fulham  21941  22151  21030  18605  19185\n",
       "Haringey                22156  23179  23231  20705  22773\n",
       "Harrow                  13945  12801  12803  11914  11909\n",
       "Havering                14957  15496  15965  15089  14734\n",
       "Hillingdon              23421  24282  22103  20248  23128\n",
       "Hounslow                19665  21105  22724  19749  20005\n",
       "Islington               24693  24980  26268  23784  24679\n",
       "Kensington and Chelsea  19481  19146  19757  17702  17840\n",
       "Kingston upon Thames    10171  10155   9956   9191   9288\n",
       "Lambeth                 31671  33224  33473  31868  31765\n",
       "Lewisham                24532  24201  23652  22074  21101\n",
       "Merton                  13595  13548  12856  11595  11596\n",
       "Newham                  30728  27978  30067  27577  28005\n",
       "Redbridge               20652  21994  21424  19793  19590\n",
       "Richmond upon Thames    10601  10896  11168  10439  10456\n",
       "Southwark               31320  30723  30737  31128  28912\n",
       "Sutton                  12032  11068  10948  10057  10443\n",
       "Tower Hamlets           23072  24712  26784  26258  25504\n",
       "Waltham Forest          24818  23714  22647  21903  20271\n",
       "Wandsworth              22815  21384  24457  22290  21364\n",
       "Westminster             48116  54243  59226  53852  47564"
      ]
     },
     "execution_count": 29,
     "metadata": {},
     "output_type": "execute_result"
    }
   ],
   "source": [
    "# membuat data frame untuk data Region pada tahun 2010-2014\n",
    "df_his1 = london_crime[(london_crime['year']==2010)].groupby(['Region'])[['Total']].sum()\n",
    "\n",
    "df_his2 = london_crime[(london_crime['year']==2011)].groupby(['Region'])[['Total']].sum()\n",
    "\n",
    "df_his3 = london_crime[(london_crime['year']==2012)].groupby(['Region'])[['Total']].sum()\n",
    "\n",
    "df_his4 = london_crime[(london_crime['year']==2013)].groupby(['Region'])[['Total']].sum()\n",
    "\n",
    "df_his5 = london_crime[(london_crime['year']==2014)].groupby(['Region'])[['Total']].sum()\n",
    "\n",
    "df_hist = pd.concat([df_his1, df_his2, df_his3, df_his4, df_his5], axis=1)\n",
    "\n",
    "df_hist\n"
   ]
  },
  {
   "cell_type": "markdown",
   "id": "416e68d9",
   "metadata": {},
   "source": [
    "Kode di atas bertujuan untuk membuat kolom baru untuk masing-masing tahun dimana memuat jumlah kasus untuk masing-masing wilayah (wilayah sebagai index). Kemudian dataframe tersebut digabung menjadi 1 untuk selanjutnya dilakukan pembentukan histogram. "
   ]
  },
  {
   "cell_type": "code",
   "execution_count": 30,
   "id": "f2f26e63",
   "metadata": {},
   "outputs": [
    {
     "data": {
      "text/plain": [
       "Text(0.5, 1.0, 'Histogram of Crime from 5 Region\\n')"
      ]
     },
     "execution_count": 30,
     "metadata": {},
     "output_type": "execute_result"
    },
    {
     "data": {
      "image/png": "[encoded data removed]",
      "text/plain": [
       "<Figure size 720x360 with 1 Axes>"
      ]
     },
     "metadata": {
      "needs_background": "light"
     },
     "output_type": "display_data"
    }
   ],
   "source": [
    "df_hist.loc[['Greenwich', 'Merton', 'Ealing', 'Tower Hamlets', 'Sutton']].T.plot(kind='hist', figsize=(10,5))\n",
    "\n",
    "plt.title(\"Histogram of Crime from 5 Region\\n\")"
   ]
  },
  {
   "cell_type": "markdown",
   "id": "bf4315d4",
   "metadata": {},
   "source": [
    "Histogram diatas menunjukkan persebaran data untuk 5 kota yaitu Greenwich, Merton, Ealing, Tower Hamlets, dan Sutton. Dapat dilihat bahwa data tersebar dengan kurang merata karena datanya bertumpuk pada suatu area range saja. Untuk wilayah Sutton dapat dilihat bahwa ada sebanyak 5 data yang berada pada range 10000-15000 yang artinya di setiap tahun (2010-2014) angka kejahatan di kota tersebut berada dalam rentang 10000-15000. Untuk wilayah Merton berada pada range yang sama dengan wilayah sutton. Sama halnya dengan wilayah lain namu berada dalam rentang yang berbeda. "
   ]
  },
  {
   "cell_type": "markdown",
   "id": "5acdf33d",
   "metadata": {},
   "source": [
    "### Bar Chart"
   ]
  },
  {
   "cell_type": "code",
   "execution_count": 31,
   "id": "443954ea",
   "metadata": {
    "scrolled": false
   },
   "outputs": [
    {
     "data": {
      "text/plain": [
       "Theft and Handling             3966300\n",
       "Violence Against the Person    3171744\n",
       "Criminal Damage                2069172\n",
       "Drugs                          1179468\n",
       "Burglary                       1043604\n",
       "Robbery                         939384\n",
       "Other Notifiable Offences       776304\n",
       "Fraud or Forgery                236520\n",
       "Sexual Offences                 108108\n",
       "Name: major_category, dtype: int64"
      ]
     },
     "execution_count": 31,
     "metadata": {},
     "output_type": "execute_result"
    }
   ],
   "source": [
    "#menghitung jumlah kemunculan setiap nilai unik dalam suatu kolom dalam bentuk Series\n",
    "df1 = london_crime['major_category'].value_counts()\n",
    "\n",
    "df1"
   ]
  },
  {
   "cell_type": "markdown",
   "id": "9ca596df",
   "metadata": {},
   "source": [
    "Code diatas digunakan untuk menghitung jumlah kemunculan kategori kejahatan utama "
   ]
  },
  {
   "cell_type": "code",
   "execution_count": 33,
   "id": "4bd2ca04",
   "metadata": {},
   "outputs": [
    {
     "data": {
      "image/png": "[encoded data removed]",
      "text/plain": [
       "<Figure size 720x360 with 1 Axes>"
      ]
     },
     "metadata": {
      "needs_background": "light"
     },
     "output_type": "display_data"
    }
   ],
   "source": [
    "# Menampilkan plot horizontal bar dari dataframe df1\n",
    "# dengan ukuran gambar 10 x 5 inci\n",
    "df1.plot(kind='barh', figsize=(10,5))\n",
    "\n",
    "# Menetapkan label untuk sumbu x\n",
    "plt.xlabel(\"Major Category\")\n",
    "\n",
    "# Menetapkan label untuk sumbu y\n",
    "plt.ylabel(\"Number of Crime\")\n",
    "\n",
    "# Menetapkan judul untuk plot\n",
    "plt.title(\"Number of Crimes Based on Major Category\\n\")\n",
    "\n",
    "# Menampilkan plot\n",
    "plt.show()"
   ]
  },
  {
   "cell_type": "markdown",
   "id": "4c86e443",
   "metadata": {},
   "source": [
    "BarChart diatas ditampilkan dalam bentuk horizontal untuk melihat persebaran data kejahatan utama untuk keseluruhan data. Dari barchart diatas dapat dilihat bahwa Theft and Handling merupakan kejahatan dengan nilai tertinggi di london. Kemudian diurutan kedua terdapat Violence Against the Person dan dilanjutkan dengan kejahatan-kejahatan lainnya, dimana kejahatan dengan nilai terendah adalah Sexual Offences. "
   ]
  },
  {
   "cell_type": "code",
   "execution_count": 34,
   "id": "3f6a54ec",
   "metadata": {},
   "outputs": [
    {
     "data": {
      "image/png": "[encoded data removed]",
      "text/plain": [
       "<Figure size 720x360 with 1 Axes>"
      ]
     },
     "metadata": {
      "needs_background": "light"
     },
     "output_type": "display_data"
    }
   ],
   "source": [
    "# Membuat dataframe df2 yang merupakan hasil pengelompokkan berdasarkan kategori utama (major_category) dan tahun (year) dari dataframe london_crime\n",
    "# Hanya data pada tahun 2008 yang dipilih\n",
    "# Data yang ditampilkan hanya kolom 'Total'\n",
    "df2 = london_crime[(london_crime['year'] == 2008)].groupby(['major_category','year'])['Total'].sum()\n",
    "\n",
    "# Menampilkan plot bar dari dataframe df2 dengan warna hijau dan ukuran gambar 10 x 5 inci\n",
    "df2.plot(kind='bar', color='green', figsize=(10,5))\n",
    "\n",
    "# Menetapkan label untuk sumbu x\n",
    "plt.xlabel('Major Category in 2008')\n",
    "\n",
    "# Menetapkan label untuk sumbu y\n",
    "plt.ylabel('Number of Crimes')\n",
    "\n",
    "# Menetapkan judul untuk plot\n",
    "plt.title('Number of Crimes Major Category in London 2008\\n')\n",
    "\n",
    "# Menampilkan plot\n",
    "plt.show()"
   ]
  },
  {
   "cell_type": "markdown",
   "id": "40e29f7c",
   "metadata": {},
   "source": [
    "Barchart diatas ditampilkan dalam bentuk vertikal menunjukkan data kejahatan utama di london pada tahun 2008 (tahun pertama data dikumpulkan). Dari barchart tersebut dapat dilihat bahwa Theft and Handling memiliki nilai tertinggi dengan lebih dari 250000 kejahatan dan yang paling kecil nilainya dimiliki oleh kejahatan Sexual Offences dengan nilai jauh dibawah 5000 kejahatan. "
   ]
  },
  {
   "cell_type": "code",
   "execution_count": 35,
   "id": "a94d45cd",
   "metadata": {
    "scrolled": true
   },
   "outputs": [
    {
     "data": {
      "image/png": "[encoded data removed]",
      "text/plain": [
       "<Figure size 720x432 with 1 Axes>"
      ]
     },
     "metadata": {
      "needs_background": "light"
     },
     "output_type": "display_data"
    }
   ],
   "source": [
    "# Kelompokkan data berdasarkan kategori minor dan hitung jumlah total kejahatan untuk setiap kategori\n",
    "grouped_data = london_crime.groupby('minor_category')['Total'].sum()\n",
    "\n",
    "# membuat plot\n",
    "grouped_data.plot(kind='bar', figsize=(10,6))\n",
    "\n",
    "# membuat judul\n",
    "plt.title('Total Number of Crimes by Minor Category\\n')\n",
    "plt.xlabel('Minor Category')\n",
    "plt.ylabel('Total Number of Crimes')\n",
    "\n",
    "# Sesuaikan tata letak\n",
    "plt.tight_layout()\n",
    "\n",
    "plt.show()"
   ]
  },
  {
   "cell_type": "markdown",
   "id": "3ad01634",
   "metadata": {},
   "source": [
    "Barchart diatas ditampilkan dalam bentuk vertikal untuk melihat persebaran angka kejahatan berdasarkan kejahatan minor atau turunan dari kejahatan utama. "
   ]
  },
  {
   "cell_type": "markdown",
   "id": "88ff6c4e",
   "metadata": {},
   "source": [
    "### Pie Chart"
   ]
  },
  {
   "cell_type": "code",
   "execution_count": 36,
   "id": "2d63f4ce",
   "metadata": {},
   "outputs": [
    {
     "data": {
      "text/html": [
       "<div>\n",
       "<style scoped>\n",
       "    .dataframe tbody tr th:only-of-type {\n",
       "        vertical-align: middle;\n",
       "    }\n",
       "\n",
       "    .dataframe tbody tr th {\n",
       "        vertical-align: top;\n",
       "    }\n",
       "\n",
       "    .dataframe thead th {\n",
       "        text-align: right;\n",
       "    }\n",
       "</style>\n",
       "<table border=\"1\" class=\"dataframe\">\n",
       "  <thead>\n",
       "    <tr style=\"text-align: right;\">\n",
       "      <th></th>\n",
       "      <th>Region</th>\n",
       "      <th>major_category</th>\n",
       "      <th>minor_category</th>\n",
       "      <th>Total</th>\n",
       "      <th>year</th>\n",
       "      <th>month</th>\n",
       "    </tr>\n",
       "  </thead>\n",
       "  <tbody>\n",
       "    <tr>\n",
       "      <th>0</th>\n",
       "      <td>Croydon</td>\n",
       "      <td>Burglary</td>\n",
       "      <td>Burglary in Other Buildings</td>\n",
       "      <td>0</td>\n",
       "      <td>2016</td>\n",
       "      <td>11</td>\n",
       "    </tr>\n",
       "    <tr>\n",
       "      <th>1</th>\n",
       "      <td>Greenwich</td>\n",
       "      <td>Violence Against the Person</td>\n",
       "      <td>Other violence</td>\n",
       "      <td>0</td>\n",
       "      <td>2016</td>\n",
       "      <td>11</td>\n",
       "    </tr>\n",
       "    <tr>\n",
       "      <th>2</th>\n",
       "      <td>Bromley</td>\n",
       "      <td>Violence Against the Person</td>\n",
       "      <td>Other violence</td>\n",
       "      <td>0</td>\n",
       "      <td>2015</td>\n",
       "      <td>5</td>\n",
       "    </tr>\n",
       "    <tr>\n",
       "      <th>3</th>\n",
       "      <td>Redbridge</td>\n",
       "      <td>Burglary</td>\n",
       "      <td>Burglary in Other Buildings</td>\n",
       "      <td>0</td>\n",
       "      <td>2016</td>\n",
       "      <td>3</td>\n",
       "    </tr>\n",
       "    <tr>\n",
       "      <th>4</th>\n",
       "      <td>Wandsworth</td>\n",
       "      <td>Robbery</td>\n",
       "      <td>Personal Property</td>\n",
       "      <td>0</td>\n",
       "      <td>2008</td>\n",
       "      <td>6</td>\n",
       "    </tr>\n",
       "  </tbody>\n",
       "</table>\n",
       "</div>"
      ],
      "text/plain": [
       "       Region               major_category               minor_category  \\\n",
       "0     Croydon                     Burglary  Burglary in Other Buildings   \n",
       "1   Greenwich  Violence Against the Person               Other violence   \n",
       "2     Bromley  Violence Against the Person               Other violence   \n",
       "3   Redbridge                     Burglary  Burglary in Other Buildings   \n",
       "4  Wandsworth                      Robbery            Personal Property   \n",
       "\n",
       "   Total  year  month  \n",
       "0      0  2016     11  \n",
       "1      0  2016     11  \n",
       "2      0  2015      5  \n",
       "3      0  2016      3  \n",
       "4      0  2008      6  "
      ]
     },
     "execution_count": 36,
     "metadata": {},
     "output_type": "execute_result"
    }
   ],
   "source": [
    "london_crime.head()"
   ]
  },
  {
   "cell_type": "code",
   "execution_count": 37,
   "id": "ca5a31fd",
   "metadata": {},
   "outputs": [
    {
     "data": {
      "text/html": [
       "<div>\n",
       "<style scoped>\n",
       "    .dataframe tbody tr th:only-of-type {\n",
       "        vertical-align: middle;\n",
       "    }\n",
       "\n",
       "    .dataframe tbody tr th {\n",
       "        vertical-align: top;\n",
       "    }\n",
       "\n",
       "    .dataframe thead th {\n",
       "        text-align: right;\n",
       "    }\n",
       "</style>\n",
       "<table border=\"1\" class=\"dataframe\">\n",
       "  <thead>\n",
       "    <tr style=\"text-align: right;\">\n",
       "      <th></th>\n",
       "      <th>Region</th>\n",
       "      <th>Total of crime</th>\n",
       "    </tr>\n",
       "  </thead>\n",
       "  <tbody>\n",
       "    <tr>\n",
       "      <th>0</th>\n",
       "      <td>Barking and Dagenham</td>\n",
       "      <td>149447</td>\n",
       "    </tr>\n",
       "    <tr>\n",
       "      <th>1</th>\n",
       "      <td>Barnet</td>\n",
       "      <td>212191</td>\n",
       "    </tr>\n",
       "    <tr>\n",
       "      <th>2</th>\n",
       "      <td>Bexley</td>\n",
       "      <td>114136</td>\n",
       "    </tr>\n",
       "    <tr>\n",
       "      <th>3</th>\n",
       "      <td>Brent</td>\n",
       "      <td>227551</td>\n",
       "    </tr>\n",
       "    <tr>\n",
       "      <th>4</th>\n",
       "      <td>Bromley</td>\n",
       "      <td>184349</td>\n",
       "    </tr>\n",
       "    <tr>\n",
       "      <th>5</th>\n",
       "      <td>Camden</td>\n",
       "      <td>275147</td>\n",
       "    </tr>\n",
       "    <tr>\n",
       "      <th>6</th>\n",
       "      <td>City of London</td>\n",
       "      <td>780</td>\n",
       "    </tr>\n",
       "    <tr>\n",
       "      <th>7</th>\n",
       "      <td>Croydon</td>\n",
       "      <td>260294</td>\n",
       "    </tr>\n",
       "    <tr>\n",
       "      <th>8</th>\n",
       "      <td>Ealing</td>\n",
       "      <td>251562</td>\n",
       "    </tr>\n",
       "    <tr>\n",
       "      <th>9</th>\n",
       "      <td>Enfield</td>\n",
       "      <td>193880</td>\n",
       "    </tr>\n",
       "    <tr>\n",
       "      <th>10</th>\n",
       "      <td>Greenwich</td>\n",
       "      <td>181568</td>\n",
       "    </tr>\n",
       "    <tr>\n",
       "      <th>11</th>\n",
       "      <td>Hackney</td>\n",
       "      <td>217119</td>\n",
       "    </tr>\n",
       "    <tr>\n",
       "      <th>12</th>\n",
       "      <td>Hammersmith and Fulham</td>\n",
       "      <td>185259</td>\n",
       "    </tr>\n",
       "    <tr>\n",
       "      <th>13</th>\n",
       "      <td>Haringey</td>\n",
       "      <td>213272</td>\n",
       "    </tr>\n",
       "    <tr>\n",
       "      <th>14</th>\n",
       "      <td>Harrow</td>\n",
       "      <td>116848</td>\n",
       "    </tr>\n",
       "    <tr>\n",
       "      <th>15</th>\n",
       "      <td>Havering</td>\n",
       "      <td>138947</td>\n",
       "    </tr>\n",
       "    <tr>\n",
       "      <th>16</th>\n",
       "      <td>Hillingdon</td>\n",
       "      <td>209680</td>\n",
       "    </tr>\n",
       "    <tr>\n",
       "      <th>17</th>\n",
       "      <td>Hounslow</td>\n",
       "      <td>186772</td>\n",
       "    </tr>\n",
       "    <tr>\n",
       "      <th>18</th>\n",
       "      <td>Islington</td>\n",
       "      <td>230286</td>\n",
       "    </tr>\n",
       "    <tr>\n",
       "      <th>19</th>\n",
       "      <td>Kensington and Chelsea</td>\n",
       "      <td>171981</td>\n",
       "    </tr>\n",
       "    <tr>\n",
       "      <th>20</th>\n",
       "      <td>Kingston upon Thames</td>\n",
       "      <td>89306</td>\n",
       "    </tr>\n",
       "    <tr>\n",
       "      <th>21</th>\n",
       "      <td>Lambeth</td>\n",
       "      <td>292178</td>\n",
       "    </tr>\n",
       "    <tr>\n",
       "      <th>22</th>\n",
       "      <td>Lewisham</td>\n",
       "      <td>215137</td>\n",
       "    </tr>\n",
       "    <tr>\n",
       "      <th>23</th>\n",
       "      <td>Merton</td>\n",
       "      <td>115654</td>\n",
       "    </tr>\n",
       "    <tr>\n",
       "      <th>24</th>\n",
       "      <td>Newham</td>\n",
       "      <td>262024</td>\n",
       "    </tr>\n",
       "    <tr>\n",
       "      <th>25</th>\n",
       "      <td>Redbridge</td>\n",
       "      <td>183562</td>\n",
       "    </tr>\n",
       "    <tr>\n",
       "      <th>26</th>\n",
       "      <td>Richmond upon Thames</td>\n",
       "      <td>96771</td>\n",
       "    </tr>\n",
       "    <tr>\n",
       "      <th>27</th>\n",
       "      <td>Southwark</td>\n",
       "      <td>278809</td>\n",
       "    </tr>\n",
       "    <tr>\n",
       "      <th>28</th>\n",
       "      <td>Sutton</td>\n",
       "      <td>100987</td>\n",
       "    </tr>\n",
       "    <tr>\n",
       "      <th>29</th>\n",
       "      <td>Tower Hamlets</td>\n",
       "      <td>228613</td>\n",
       "    </tr>\n",
       "    <tr>\n",
       "      <th>30</th>\n",
       "      <td>Waltham Forest</td>\n",
       "      <td>203879</td>\n",
       "    </tr>\n",
       "    <tr>\n",
       "      <th>31</th>\n",
       "      <td>Wandsworth</td>\n",
       "      <td>204741</td>\n",
       "    </tr>\n",
       "    <tr>\n",
       "      <th>32</th>\n",
       "      <td>Westminster</td>\n",
       "      <td>455028</td>\n",
       "    </tr>\n",
       "  </tbody>\n",
       "</table>\n",
       "</div>"
      ],
      "text/plain": [
       "                    Region  Total of crime\n",
       "0     Barking and Dagenham          149447\n",
       "1                   Barnet          212191\n",
       "2                   Bexley          114136\n",
       "3                    Brent          227551\n",
       "4                  Bromley          184349\n",
       "5                   Camden          275147\n",
       "6           City of London             780\n",
       "7                  Croydon          260294\n",
       "8                   Ealing          251562\n",
       "9                  Enfield          193880\n",
       "10               Greenwich          181568\n",
       "11                 Hackney          217119\n",
       "12  Hammersmith and Fulham          185259\n",
       "13                Haringey          213272\n",
       "14                  Harrow          116848\n",
       "15                Havering          138947\n",
       "16              Hillingdon          209680\n",
       "17                Hounslow          186772\n",
       "18               Islington          230286\n",
       "19  Kensington and Chelsea          171981\n",
       "20    Kingston upon Thames           89306\n",
       "21                 Lambeth          292178\n",
       "22                Lewisham          215137\n",
       "23                  Merton          115654\n",
       "24                  Newham          262024\n",
       "25               Redbridge          183562\n",
       "26    Richmond upon Thames           96771\n",
       "27               Southwark          278809\n",
       "28                  Sutton          100987\n",
       "29           Tower Hamlets          228613\n",
       "30          Waltham Forest          203879\n",
       "31              Wandsworth          204741\n",
       "32             Westminster          455028"
      ]
     },
     "execution_count": 37,
     "metadata": {},
     "output_type": "execute_result"
    }
   ],
   "source": [
    "# Mengelompokkan dataframe 'london_crime' berdasarkan kolom 'Region' dan kemudian menjumlahkan kolom 'Total' untuk setiap wilayah\n",
    "df_region = london_crime.groupby(['Region'])[['Total']].sum().reset_index()\n",
    "\n",
    "# Mengubah nama kolom 'Total' pada dataframe 'df_region' menjadi 'total of crime'\n",
    "df_region = df_region.rename(columns={'Total':'Total of crime'})\n",
    "\n",
    "df_region"
   ]
  },
  {
   "cell_type": "markdown",
   "id": "0625ef30",
   "metadata": {},
   "source": [
    "Code diatas digunakan untuk mengelompokkan data pada dataframe london_crime berdasarkan nilai unik pada kolom Region dan kemudian menjumlahkan nilai pada kolom Total untuk setiap wilayah. Hasilnya disimpan pada dataframe df_region."
   ]
  },
  {
   "cell_type": "code",
   "execution_count": 38,
   "id": "09804095",
   "metadata": {},
   "outputs": [
    {
     "data": {
      "text/html": [
       "<div>\n",
       "<style scoped>\n",
       "    .dataframe tbody tr th:only-of-type {\n",
       "        vertical-align: middle;\n",
       "    }\n",
       "\n",
       "    .dataframe tbody tr th {\n",
       "        vertical-align: top;\n",
       "    }\n",
       "\n",
       "    .dataframe thead th {\n",
       "        text-align: right;\n",
       "    }\n",
       "</style>\n",
       "<table border=\"1\" class=\"dataframe\">\n",
       "  <thead>\n",
       "    <tr style=\"text-align: right;\">\n",
       "      <th></th>\n",
       "      <th>Region</th>\n",
       "      <th>Total of crime</th>\n",
       "    </tr>\n",
       "  </thead>\n",
       "  <tbody>\n",
       "    <tr>\n",
       "      <th>32</th>\n",
       "      <td>Westminster</td>\n",
       "      <td>455028</td>\n",
       "    </tr>\n",
       "    <tr>\n",
       "      <th>21</th>\n",
       "      <td>Lambeth</td>\n",
       "      <td>292178</td>\n",
       "    </tr>\n",
       "    <tr>\n",
       "      <th>27</th>\n",
       "      <td>Southwark</td>\n",
       "      <td>278809</td>\n",
       "    </tr>\n",
       "    <tr>\n",
       "      <th>5</th>\n",
       "      <td>Camden</td>\n",
       "      <td>275147</td>\n",
       "    </tr>\n",
       "    <tr>\n",
       "      <th>24</th>\n",
       "      <td>Newham</td>\n",
       "      <td>262024</td>\n",
       "    </tr>\n",
       "    <tr>\n",
       "      <th>7</th>\n",
       "      <td>Croydon</td>\n",
       "      <td>260294</td>\n",
       "    </tr>\n",
       "    <tr>\n",
       "      <th>8</th>\n",
       "      <td>Ealing</td>\n",
       "      <td>251562</td>\n",
       "    </tr>\n",
       "    <tr>\n",
       "      <th>18</th>\n",
       "      <td>Islington</td>\n",
       "      <td>230286</td>\n",
       "    </tr>\n",
       "    <tr>\n",
       "      <th>29</th>\n",
       "      <td>Tower Hamlets</td>\n",
       "      <td>228613</td>\n",
       "    </tr>\n",
       "    <tr>\n",
       "      <th>3</th>\n",
       "      <td>Brent</td>\n",
       "      <td>227551</td>\n",
       "    </tr>\n",
       "    <tr>\n",
       "      <th>11</th>\n",
       "      <td>Hackney</td>\n",
       "      <td>217119</td>\n",
       "    </tr>\n",
       "    <tr>\n",
       "      <th>22</th>\n",
       "      <td>Lewisham</td>\n",
       "      <td>215137</td>\n",
       "    </tr>\n",
       "    <tr>\n",
       "      <th>13</th>\n",
       "      <td>Haringey</td>\n",
       "      <td>213272</td>\n",
       "    </tr>\n",
       "    <tr>\n",
       "      <th>1</th>\n",
       "      <td>Barnet</td>\n",
       "      <td>212191</td>\n",
       "    </tr>\n",
       "    <tr>\n",
       "      <th>16</th>\n",
       "      <td>Hillingdon</td>\n",
       "      <td>209680</td>\n",
       "    </tr>\n",
       "    <tr>\n",
       "      <th>31</th>\n",
       "      <td>Wandsworth</td>\n",
       "      <td>204741</td>\n",
       "    </tr>\n",
       "    <tr>\n",
       "      <th>30</th>\n",
       "      <td>Waltham Forest</td>\n",
       "      <td>203879</td>\n",
       "    </tr>\n",
       "    <tr>\n",
       "      <th>9</th>\n",
       "      <td>Enfield</td>\n",
       "      <td>193880</td>\n",
       "    </tr>\n",
       "    <tr>\n",
       "      <th>17</th>\n",
       "      <td>Hounslow</td>\n",
       "      <td>186772</td>\n",
       "    </tr>\n",
       "    <tr>\n",
       "      <th>12</th>\n",
       "      <td>Hammersmith and Fulham</td>\n",
       "      <td>185259</td>\n",
       "    </tr>\n",
       "    <tr>\n",
       "      <th>4</th>\n",
       "      <td>Bromley</td>\n",
       "      <td>184349</td>\n",
       "    </tr>\n",
       "    <tr>\n",
       "      <th>25</th>\n",
       "      <td>Redbridge</td>\n",
       "      <td>183562</td>\n",
       "    </tr>\n",
       "    <tr>\n",
       "      <th>10</th>\n",
       "      <td>Greenwich</td>\n",
       "      <td>181568</td>\n",
       "    </tr>\n",
       "    <tr>\n",
       "      <th>19</th>\n",
       "      <td>Kensington and Chelsea</td>\n",
       "      <td>171981</td>\n",
       "    </tr>\n",
       "    <tr>\n",
       "      <th>0</th>\n",
       "      <td>Barking and Dagenham</td>\n",
       "      <td>149447</td>\n",
       "    </tr>\n",
       "    <tr>\n",
       "      <th>15</th>\n",
       "      <td>Havering</td>\n",
       "      <td>138947</td>\n",
       "    </tr>\n",
       "    <tr>\n",
       "      <th>14</th>\n",
       "      <td>Harrow</td>\n",
       "      <td>116848</td>\n",
       "    </tr>\n",
       "    <tr>\n",
       "      <th>23</th>\n",
       "      <td>Merton</td>\n",
       "      <td>115654</td>\n",
       "    </tr>\n",
       "    <tr>\n",
       "      <th>2</th>\n",
       "      <td>Bexley</td>\n",
       "      <td>114136</td>\n",
       "    </tr>\n",
       "    <tr>\n",
       "      <th>28</th>\n",
       "      <td>Sutton</td>\n",
       "      <td>100987</td>\n",
       "    </tr>\n",
       "    <tr>\n",
       "      <th>26</th>\n",
       "      <td>Richmond upon Thames</td>\n",
       "      <td>96771</td>\n",
       "    </tr>\n",
       "    <tr>\n",
       "      <th>20</th>\n",
       "      <td>Kingston upon Thames</td>\n",
       "      <td>89306</td>\n",
       "    </tr>\n",
       "    <tr>\n",
       "      <th>6</th>\n",
       "      <td>City of London</td>\n",
       "      <td>780</td>\n",
       "    </tr>\n",
       "  </tbody>\n",
       "</table>\n",
       "</div>"
      ],
      "text/plain": [
       "                    Region  Total of crime\n",
       "32             Westminster          455028\n",
       "21                 Lambeth          292178\n",
       "27               Southwark          278809\n",
       "5                   Camden          275147\n",
       "24                  Newham          262024\n",
       "7                  Croydon          260294\n",
       "8                   Ealing          251562\n",
       "18               Islington          230286\n",
       "29           Tower Hamlets          228613\n",
       "3                    Brent          227551\n",
       "11                 Hackney          217119\n",
       "22                Lewisham          215137\n",
       "13                Haringey          213272\n",
       "1                   Barnet          212191\n",
       "16              Hillingdon          209680\n",
       "31              Wandsworth          204741\n",
       "30          Waltham Forest          203879\n",
       "9                  Enfield          193880\n",
       "17                Hounslow          186772\n",
       "12  Hammersmith and Fulham          185259\n",
       "4                  Bromley          184349\n",
       "25               Redbridge          183562\n",
       "10               Greenwich          181568\n",
       "19  Kensington and Chelsea          171981\n",
       "0     Barking and Dagenham          149447\n",
       "15                Havering          138947\n",
       "14                  Harrow          116848\n",
       "23                  Merton          115654\n",
       "2                   Bexley          114136\n",
       "28                  Sutton          100987\n",
       "26    Richmond upon Thames           96771\n",
       "20    Kingston upon Thames           89306\n",
       "6           City of London             780"
      ]
     },
     "execution_count": 38,
     "metadata": {},
     "output_type": "execute_result"
    }
   ],
   "source": [
    "# Mengurutkan nilai berdasarkan Total of crime\n",
    "df_region = df_region.sort_values(by=['Total of crime'], ascending=False)\n",
    "\n",
    "df_region"
   ]
  },
  {
   "cell_type": "markdown",
   "id": "f6ee8c64",
   "metadata": {},
   "source": [
    "Melakukan pengurutan berdasarkan angka Total of Crime untuk melihat data yang terurut."
   ]
  },
  {
   "cell_type": "code",
   "execution_count": 39,
   "id": "6bae6948",
   "metadata": {},
   "outputs": [
    {
     "data": {
      "text/html": [
       "<div>\n",
       "<style scoped>\n",
       "    .dataframe tbody tr th:only-of-type {\n",
       "        vertical-align: middle;\n",
       "    }\n",
       "\n",
       "    .dataframe tbody tr th {\n",
       "        vertical-align: top;\n",
       "    }\n",
       "\n",
       "    .dataframe thead th {\n",
       "        text-align: right;\n",
       "    }\n",
       "</style>\n",
       "<table border=\"1\" class=\"dataframe\">\n",
       "  <thead>\n",
       "    <tr style=\"text-align: right;\">\n",
       "      <th></th>\n",
       "      <th>Region</th>\n",
       "      <th>Total of crime</th>\n",
       "    </tr>\n",
       "  </thead>\n",
       "  <tbody>\n",
       "    <tr>\n",
       "      <th>32</th>\n",
       "      <td>Westminster</td>\n",
       "      <td>455028</td>\n",
       "    </tr>\n",
       "    <tr>\n",
       "      <th>21</th>\n",
       "      <td>Lambeth</td>\n",
       "      <td>292178</td>\n",
       "    </tr>\n",
       "    <tr>\n",
       "      <th>27</th>\n",
       "      <td>Southwark</td>\n",
       "      <td>278809</td>\n",
       "    </tr>\n",
       "    <tr>\n",
       "      <th>5</th>\n",
       "      <td>Camden</td>\n",
       "      <td>275147</td>\n",
       "    </tr>\n",
       "    <tr>\n",
       "      <th>24</th>\n",
       "      <td>Newham</td>\n",
       "      <td>262024</td>\n",
       "    </tr>\n",
       "    <tr>\n",
       "      <th>7</th>\n",
       "      <td>Croydon</td>\n",
       "      <td>260294</td>\n",
       "    </tr>\n",
       "    <tr>\n",
       "      <th>8</th>\n",
       "      <td>Ealing</td>\n",
       "      <td>251562</td>\n",
       "    </tr>\n",
       "  </tbody>\n",
       "</table>\n",
       "</div>"
      ],
      "text/plain": [
       "         Region  Total of crime\n",
       "32  Westminster          455028\n",
       "21      Lambeth          292178\n",
       "27    Southwark          278809\n",
       "5        Camden          275147\n",
       "24       Newham          262024\n",
       "7       Croydon          260294\n",
       "8        Ealing          251562"
      ]
     },
     "execution_count": 39,
     "metadata": {},
     "output_type": "execute_result"
    }
   ],
   "source": [
    "# Mengambil 7 data teratas dengan nilai tertinggi\n",
    "df_region_top7 = df_region.head(7)\n",
    "\n",
    "df_region_top7"
   ]
  },
  {
   "cell_type": "markdown",
   "id": "a821041c",
   "metadata": {},
   "source": [
    "Menggunakan 7 data Region teratas dengan angka Total of crime tertinggi untuk selanjutnya dilakukan visualisasi"
   ]
  },
  {
   "cell_type": "code",
   "execution_count": 40,
   "id": "1b9a7ef5",
   "metadata": {},
   "outputs": [
    {
     "data": {
      "text/plain": [
       "<AxesSubplot:ylabel='Total of crime'>"
      ]
     },
     "execution_count": 40,
     "metadata": {},
     "output_type": "execute_result"
    },
    {
     "data": {
      "image/png": "[encoded data removed]",
      "text/plain": [
       "<Figure size 432x288 with 1 Axes>"
      ]
     },
     "metadata": {},
     "output_type": "display_data"
    }
   ],
   "source": [
    "# Menampilkan Pie Chart dengan 7 data (nilai tertinggi)\n",
    "df_region_top7['Total of crime'].plot(\n",
    "    kind='pie', \n",
    "    labels=df_region_top7['Region'], \n",
    "    autopct='%1.1f%%', \n",
    "    startangle=90, \n",
    "    shadow=True\n",
    ")\n"
   ]
  },
  {
   "cell_type": "markdown",
   "id": "4edac4f6",
   "metadata": {},
   "source": [
    "Dibentuk Pie Chart untuk melihat persebaran persen berdasarkan 7 data teratas region sebelumnya, namun pie chart ini masih sedikit kurang mudah dipahami dan kurang menarik. "
   ]
  },
  {
   "cell_type": "code",
   "execution_count": 41,
   "id": "b107cf1a",
   "metadata": {},
   "outputs": [
    {
     "data": {
      "text/plain": [
       "<matplotlib.legend.Legend at 0x24a910617f0>"
      ]
     },
     "execution_count": 41,
     "metadata": {},
     "output_type": "execute_result"
    },
    {
     "data": {
      "image/png": "[encoded data removed]",
      "text/plain": [
       "<Figure size 1080x432 with 1 Axes>"
      ]
     },
     "metadata": {},
     "output_type": "display_data"
    }
   ],
   "source": [
    "# Menampilkan Pie Chart berdasarkan warna yang ditentukan\n",
    "color_list = [\"gold\", \"yellowgreen\", \"lightcoral\", \"lightskyblue\", \"lightgreen\",\"pink\", \"lightskyblue\"]\n",
    "\n",
    "# Menampilkan chart yang menarik dan lebih mudah dipahami\n",
    "df_region_top7['Total of crime'].plot(\n",
    "    kind='pie'\n",
    "    ,figsize=(15,6)\n",
    "    ,autopct='%1.1f%%'\n",
    "    ,startangle=90\n",
    "    ,shadow=True\n",
    "    ,labels=None\n",
    "    ,colors=color_list\n",
    "    ,pctdistance=1.12\n",
    "    ,explode = [0.1,0.1,0,0,0,0,0]\n",
    ")\n",
    "\n",
    "# Menampilkan title untuk chart yang dibuat\n",
    "plt.title(\"Top 7 Total of Crime by Region\", y=1.12)\n",
    "plt.axis('equal')\n",
    "plt.legend(labels=df_region_top7['Region'], loc='upper left')"
   ]
  },
  {
   "cell_type": "markdown",
   "id": "fe6fd7cf",
   "metadata": {},
   "source": [
    "Pie Chart diatas menggunakan data yang sama seperti pie chart sebelumnya, namun pie chart ini sudah dibentuk lebih menarik dan lebih mudah dipahami. Dimana dari piechart tersebut dapat dilihat bahwa data persen tertinggi terletak pada wilayah Westminster dengan angka 21.9% dari keseluruhan data, hal tersebut menunjukkan bahwa Westminster merupakan wilayah dengan jumlah kejahatan tertinggi di london. "
   ]
  },
  {
   "cell_type": "markdown",
   "id": "74126e93",
   "metadata": {},
   "source": [
    "### Box Plot"
   ]
  },
  {
   "cell_type": "code",
   "execution_count": 42,
   "id": "531367b6",
   "metadata": {},
   "outputs": [
    {
     "data": {
      "text/plain": [
       "Region                year\n",
       "Barking and Dagenham  2012    15990\n",
       "                      2013    15759\n",
       "                      2014    15426\n",
       "                      2015    16346\n",
       "                      2016    16741\n",
       "                              ...  \n",
       "Westminster           2012    59226\n",
       "                      2013    53852\n",
       "                      2014    47564\n",
       "                      2015    47395\n",
       "                      2016    48330\n",
       "Name: Total, Length: 165, dtype: int64"
      ]
     },
     "execution_count": 42,
     "metadata": {},
     "output_type": "execute_result"
    }
   ],
   "source": [
    "# Membuat dataframe Region yang merupakan hasil pengelompokkan berdasarkan kategori (Region) dan tahun (year) dari dataframe london_crime\n",
    "# Data yang dipilih hanya data dengan tahun >= 2012\n",
    "Region = london_crime[(london_crime['year'] >= 2012)].groupby(['Region','year'])['Total'].sum()\n",
    "\n",
    "Region"
   ]
  },
  {
   "cell_type": "code",
   "execution_count": 43,
   "id": "97e4b8b0",
   "metadata": {},
   "outputs": [],
   "source": [
    "# Membuat dataframe baru untuk 2 kategori Region dengan menggunakan masing-masing kategori Region dari dataframe 'Region'\n",
    "# Mengubah kolom 'Total' menjadi nama masing-masing kategori pada dataframe menggunakan metode rename()\n",
    "region1 = Region['Westminster'].to_frame()\n",
    "region1.rename(columns = {'Total':'Westminster'}, inplace = True)\n",
    "\n",
    "region2 = Region['Lambeth'].to_frame()\n",
    "region2.rename(columns = {'Total':'Lambeth'}, inplace = True)\n",
    "\n",
    "# Menggabungkan dataframe secara horizontal (axis=1) menjadi dataframe baru 'westminster_lambeth'\n",
    "westminster_lambeth = pd.concat([region1, region2], axis=1)"
   ]
  },
  {
   "cell_type": "code",
   "execution_count": 44,
   "id": "32ddef62",
   "metadata": {},
   "outputs": [
    {
     "data": {
      "text/html": [
       "<div>\n",
       "<style scoped>\n",
       "    .dataframe tbody tr th:only-of-type {\n",
       "        vertical-align: middle;\n",
       "    }\n",
       "\n",
       "    .dataframe tbody tr th {\n",
       "        vertical-align: top;\n",
       "    }\n",
       "\n",
       "    .dataframe thead th {\n",
       "        text-align: right;\n",
       "    }\n",
       "</style>\n",
       "<table border=\"1\" class=\"dataframe\">\n",
       "  <thead>\n",
       "    <tr style=\"text-align: right;\">\n",
       "      <th></th>\n",
       "      <th>Westminster</th>\n",
       "      <th>Lambeth</th>\n",
       "    </tr>\n",
       "    <tr>\n",
       "      <th>year</th>\n",
       "      <th></th>\n",
       "      <th></th>\n",
       "    </tr>\n",
       "  </thead>\n",
       "  <tbody>\n",
       "    <tr>\n",
       "      <th>2012</th>\n",
       "      <td>59226</td>\n",
       "      <td>33473</td>\n",
       "    </tr>\n",
       "    <tr>\n",
       "      <th>2013</th>\n",
       "      <td>53852</td>\n",
       "      <td>31868</td>\n",
       "    </tr>\n",
       "    <tr>\n",
       "      <th>2014</th>\n",
       "      <td>47564</td>\n",
       "      <td>31765</td>\n",
       "    </tr>\n",
       "    <tr>\n",
       "      <th>2015</th>\n",
       "      <td>47395</td>\n",
       "      <td>33164</td>\n",
       "    </tr>\n",
       "    <tr>\n",
       "      <th>2016</th>\n",
       "      <td>48330</td>\n",
       "      <td>34071</td>\n",
       "    </tr>\n",
       "  </tbody>\n",
       "</table>\n",
       "</div>"
      ],
      "text/plain": [
       "      Westminster  Lambeth\n",
       "year                      \n",
       "2012        59226    33473\n",
       "2013        53852    31868\n",
       "2014        47564    31765\n",
       "2015        47395    33164\n",
       "2016        48330    34071"
      ]
     },
     "execution_count": 44,
     "metadata": {},
     "output_type": "execute_result"
    }
   ],
   "source": [
    "westminster_lambeth"
   ]
  },
  {
   "cell_type": "markdown",
   "id": "596ef030",
   "metadata": {},
   "source": [
    "Dibentuk dataframe yang berisi nilai jumlah kejahatan di wilayah westminster dan lambeth pada rentang tahun 2012-2016. Pengambilan 2 wilayah tersebut didasari oleh  analisis data sebelumnya yang menunjukkan bahwa 2 wilayah ini merupakan wilayah dengan angka kejahatan tertinggi dibanding wilayah lain. "
   ]
  },
  {
   "cell_type": "code",
   "execution_count": 45,
   "id": "1fdd486f",
   "metadata": {},
   "outputs": [
    {
     "data": {
      "text/html": [
       "<div>\n",
       "<style scoped>\n",
       "    .dataframe tbody tr th:only-of-type {\n",
       "        vertical-align: middle;\n",
       "    }\n",
       "\n",
       "    .dataframe tbody tr th {\n",
       "        vertical-align: top;\n",
       "    }\n",
       "\n",
       "    .dataframe thead th {\n",
       "        text-align: right;\n",
       "    }\n",
       "</style>\n",
       "<table border=\"1\" class=\"dataframe\">\n",
       "  <thead>\n",
       "    <tr style=\"text-align: right;\">\n",
       "      <th></th>\n",
       "      <th>Westminster</th>\n",
       "      <th>Lambeth</th>\n",
       "    </tr>\n",
       "  </thead>\n",
       "  <tbody>\n",
       "    <tr>\n",
       "      <th>count</th>\n",
       "      <td>5.000000</td>\n",
       "      <td>5.000000</td>\n",
       "    </tr>\n",
       "    <tr>\n",
       "      <th>mean</th>\n",
       "      <td>51273.400000</td>\n",
       "      <td>32868.200000</td>\n",
       "    </tr>\n",
       "    <tr>\n",
       "      <th>std</th>\n",
       "      <td>5180.691633</td>\n",
       "      <td>1014.576118</td>\n",
       "    </tr>\n",
       "    <tr>\n",
       "      <th>min</th>\n",
       "      <td>47395.000000</td>\n",
       "      <td>31765.000000</td>\n",
       "    </tr>\n",
       "    <tr>\n",
       "      <th>25%</th>\n",
       "      <td>47564.000000</td>\n",
       "      <td>31868.000000</td>\n",
       "    </tr>\n",
       "    <tr>\n",
       "      <th>50%</th>\n",
       "      <td>48330.000000</td>\n",
       "      <td>33164.000000</td>\n",
       "    </tr>\n",
       "    <tr>\n",
       "      <th>75%</th>\n",
       "      <td>53852.000000</td>\n",
       "      <td>33473.000000</td>\n",
       "    </tr>\n",
       "    <tr>\n",
       "      <th>max</th>\n",
       "      <td>59226.000000</td>\n",
       "      <td>34071.000000</td>\n",
       "    </tr>\n",
       "  </tbody>\n",
       "</table>\n",
       "</div>"
      ],
      "text/plain": [
       "        Westminster       Lambeth\n",
       "count      5.000000      5.000000\n",
       "mean   51273.400000  32868.200000\n",
       "std     5180.691633   1014.576118\n",
       "min    47395.000000  31765.000000\n",
       "25%    47564.000000  31868.000000\n",
       "50%    48330.000000  33164.000000\n",
       "75%    53852.000000  33473.000000\n",
       "max    59226.000000  34071.000000"
      ]
     },
     "execution_count": 45,
     "metadata": {},
     "output_type": "execute_result"
    }
   ],
   "source": [
    "westminster_lambeth.describe()"
   ]
  },
  {
   "cell_type": "code",
   "execution_count": 46,
   "id": "3a91e57a",
   "metadata": {},
   "outputs": [
    {
     "data": {
      "text/plain": [
       "Text(0, 0.5, 'Region')"
      ]
     },
     "execution_count": 46,
     "metadata": {},
     "output_type": "execute_result"
    },
    {
     "data": {
      "image/png": "[encoded data removed]",
      "text/plain": [
       "<Figure size 864x576 with 1 Axes>"
      ]
     },
     "metadata": {
      "needs_background": "light"
     },
     "output_type": "display_data"
    }
   ],
   "source": [
    "# Menampilkan Boxplot untuk data wilayah Westminster dan lambeth (wilayah dengan nilai kejahatan tertinggi)\n",
    "westminster_lambeth.plot(kind='box', figsize=(12,8), vert=False, color='green')\n",
    "\n",
    "# Menampilkan judul\n",
    "plt.title('Boxplot Westminster vs Lambeth\\n')\n",
    "plt.xlabel('\\n Number of Crime')\n",
    "plt.ylabel('Region')"
   ]
  },
  {
   "cell_type": "markdown",
   "id": "8542b254",
   "metadata": {},
   "source": [
    "Boxplot diatas merupakan representasi dari dataframe westmeinster dan lambeth. Dimana pada boxplot tersebut dapat dilihat bahwa lambeth dan westminster memiliki persebaran data yang jauh berbeda. Westminster memiliki nilai kejahatan tertinggi di angka hampir mencapai 60000 dan terendah ada pada kisaran angka +-47000, sedangkan lambeth memiliki nilai kejahatan tertinggi di angka +-34000 dan nilai terendah pada kisaran +-20000 kejahatan. Boxplot sering digunakan dalam analisis data dan statistik untuk secara visual merangkum distribusi dataset dan memberikan cara yang cepat dan mudah untuk mengidentifikasi median, kuartil, dan outlier dari distribusi. "
   ]
  },
  {
   "cell_type": "markdown",
   "id": "60f3e49c",
   "metadata": {},
   "source": [
    "### Scatter Plot"
   ]
  },
  {
   "cell_type": "code",
   "execution_count": 47,
   "id": "3c1411fc",
   "metadata": {},
   "outputs": [],
   "source": [
    "# Mengelompokkan dataframe 'london_crime' berdasarkan kolom 'major_category' dan 'year' kemudian menjumlahkan kolom 'Total' untuk setiap Tahun\n",
    "# Data yang digunakan adalah seluruhnya dengan >= 2008\n",
    "years = london_crime[(london_crime['year'] >= 2008)].groupby(['major_category','year'])['Total'].sum()"
   ]
  },
  {
   "cell_type": "code",
   "execution_count": 48,
   "id": "df612576",
   "metadata": {},
   "outputs": [
    {
     "data": {
      "text/plain": [
       "major_category               year\n",
       "Burglary                     2008     88092\n",
       "                             2009     90619\n",
       "                             2010     86826\n",
       "                             2011     93315\n",
       "                             2012     93392\n",
       "                                      ...  \n",
       "Violence Against the Person  2012    150014\n",
       "                             2013    146181\n",
       "                             2014    185349\n",
       "                             2015    218740\n",
       "                             2016    232381\n",
       "Name: Total, Length: 81, dtype: int64"
      ]
     },
     "execution_count": 48,
     "metadata": {},
     "output_type": "execute_result"
    }
   ],
   "source": [
    "years"
   ]
  },
  {
   "cell_type": "code",
   "execution_count": 49,
   "id": "3b90850e",
   "metadata": {},
   "outputs": [],
   "source": [
    "# Membuat dataframe baru untuk menampung jumlah category 'Theft and Handling' untuk setiap tahunnya\n",
    "theft_yearly = years['Theft and Handling'].to_frame()\n",
    "\n",
    "# Mengubah nama Total dengan 'Theft and Handling' agar mudah dipahami\n",
    "theft_yearly.rename(columns={'Total':'Theft and Handling'}, inplace = True)"
   ]
  },
  {
   "cell_type": "code",
   "execution_count": 50,
   "id": "d78e5d00",
   "metadata": {},
   "outputs": [
    {
     "data": {
      "text/html": [
       "<div>\n",
       "<style scoped>\n",
       "    .dataframe tbody tr th:only-of-type {\n",
       "        vertical-align: middle;\n",
       "    }\n",
       "\n",
       "    .dataframe tbody tr th {\n",
       "        vertical-align: top;\n",
       "    }\n",
       "\n",
       "    .dataframe thead th {\n",
       "        text-align: right;\n",
       "    }\n",
       "</style>\n",
       "<table border=\"1\" class=\"dataframe\">\n",
       "  <thead>\n",
       "    <tr style=\"text-align: right;\">\n",
       "      <th></th>\n",
       "      <th>Theft and Handling</th>\n",
       "    </tr>\n",
       "    <tr>\n",
       "      <th>year</th>\n",
       "      <th></th>\n",
       "    </tr>\n",
       "  </thead>\n",
       "  <tbody>\n",
       "    <tr>\n",
       "      <th>2008</th>\n",
       "      <td>283692</td>\n",
       "    </tr>\n",
       "    <tr>\n",
       "      <th>2009</th>\n",
       "      <td>279492</td>\n",
       "    </tr>\n",
       "    <tr>\n",
       "      <th>2010</th>\n",
       "      <td>290924</td>\n",
       "    </tr>\n",
       "    <tr>\n",
       "      <th>2011</th>\n",
       "      <td>309292</td>\n",
       "    </tr>\n",
       "    <tr>\n",
       "      <th>2012</th>\n",
       "      <td>334054</td>\n",
       "    </tr>\n",
       "    <tr>\n",
       "      <th>2013</th>\n",
       "      <td>306372</td>\n",
       "    </tr>\n",
       "    <tr>\n",
       "      <th>2014</th>\n",
       "      <td>279880</td>\n",
       "    </tr>\n",
       "    <tr>\n",
       "      <th>2015</th>\n",
       "      <td>284022</td>\n",
       "    </tr>\n",
       "    <tr>\n",
       "      <th>2016</th>\n",
       "      <td>294133</td>\n",
       "    </tr>\n",
       "  </tbody>\n",
       "</table>\n",
       "</div>"
      ],
      "text/plain": [
       "      Theft and Handling\n",
       "year                    \n",
       "2008              283692\n",
       "2009              279492\n",
       "2010              290924\n",
       "2011              309292\n",
       "2012              334054\n",
       "2013              306372\n",
       "2014              279880\n",
       "2015              284022\n",
       "2016              294133"
      ]
     },
     "execution_count": 50,
     "metadata": {},
     "output_type": "execute_result"
    }
   ],
   "source": [
    "theft_yearly"
   ]
  },
  {
   "cell_type": "markdown",
   "id": "d2f861b3",
   "metadata": {},
   "source": [
    "Code diatas digunakan untuk membuat dataframe baru dengan isi persebaran data kejahatan category 'Theft and Handling' untuk setiap tahunnya dalam rentang 2008-2016."
   ]
  },
  {
   "cell_type": "code",
   "execution_count": 51,
   "id": "a2755c6c",
   "metadata": {},
   "outputs": [],
   "source": [
    "#mengatur kembali indeks dari DataFrame \"theft_yearly\" \n",
    "theft_yearly.reset_index(inplace=True)"
   ]
  },
  {
   "cell_type": "markdown",
   "id": "d2838085",
   "metadata": {},
   "source": [
    "Code diatas digunakan untuk membuat index baru agar data mudah divisualisasikan"
   ]
  },
  {
   "cell_type": "code",
   "execution_count": 52,
   "id": "d298f227",
   "metadata": {},
   "outputs": [
    {
     "data": {
      "text/plain": [
       "RangeIndex(start=0, stop=9, step=1)"
      ]
     },
     "execution_count": 52,
     "metadata": {},
     "output_type": "execute_result"
    }
   ],
   "source": [
    "# Menampilkan range index baru\n",
    "theft_yearly.index"
   ]
  },
  {
   "cell_type": "code",
   "execution_count": 53,
   "id": "6a159403",
   "metadata": {},
   "outputs": [],
   "source": [
    "# Membuat daftar kolom\n",
    "theft_yearly.columns = [\"Year\", \"Total_TH\"]"
   ]
  },
  {
   "cell_type": "code",
   "execution_count": 54,
   "id": "4e22727a",
   "metadata": {},
   "outputs": [
    {
     "data": {
      "text/html": [
       "<div>\n",
       "<style scoped>\n",
       "    .dataframe tbody tr th:only-of-type {\n",
       "        vertical-align: middle;\n",
       "    }\n",
       "\n",
       "    .dataframe tbody tr th {\n",
       "        vertical-align: top;\n",
       "    }\n",
       "\n",
       "    .dataframe thead th {\n",
       "        text-align: right;\n",
       "    }\n",
       "</style>\n",
       "<table border=\"1\" class=\"dataframe\">\n",
       "  <thead>\n",
       "    <tr style=\"text-align: right;\">\n",
       "      <th></th>\n",
       "      <th>Year</th>\n",
       "      <th>Total_TH</th>\n",
       "    </tr>\n",
       "  </thead>\n",
       "  <tbody>\n",
       "    <tr>\n",
       "      <th>0</th>\n",
       "      <td>2008</td>\n",
       "      <td>283692</td>\n",
       "    </tr>\n",
       "    <tr>\n",
       "      <th>1</th>\n",
       "      <td>2009</td>\n",
       "      <td>279492</td>\n",
       "    </tr>\n",
       "    <tr>\n",
       "      <th>2</th>\n",
       "      <td>2010</td>\n",
       "      <td>290924</td>\n",
       "    </tr>\n",
       "    <tr>\n",
       "      <th>3</th>\n",
       "      <td>2011</td>\n",
       "      <td>309292</td>\n",
       "    </tr>\n",
       "    <tr>\n",
       "      <th>4</th>\n",
       "      <td>2012</td>\n",
       "      <td>334054</td>\n",
       "    </tr>\n",
       "    <tr>\n",
       "      <th>5</th>\n",
       "      <td>2013</td>\n",
       "      <td>306372</td>\n",
       "    </tr>\n",
       "    <tr>\n",
       "      <th>6</th>\n",
       "      <td>2014</td>\n",
       "      <td>279880</td>\n",
       "    </tr>\n",
       "    <tr>\n",
       "      <th>7</th>\n",
       "      <td>2015</td>\n",
       "      <td>284022</td>\n",
       "    </tr>\n",
       "    <tr>\n",
       "      <th>8</th>\n",
       "      <td>2016</td>\n",
       "      <td>294133</td>\n",
       "    </tr>\n",
       "  </tbody>\n",
       "</table>\n",
       "</div>"
      ],
      "text/plain": [
       "   Year  Total_TH\n",
       "0  2008    283692\n",
       "1  2009    279492\n",
       "2  2010    290924\n",
       "3  2011    309292\n",
       "4  2012    334054\n",
       "5  2013    306372\n",
       "6  2014    279880\n",
       "7  2015    284022\n",
       "8  2016    294133"
      ]
     },
     "execution_count": 54,
     "metadata": {},
     "output_type": "execute_result"
    }
   ],
   "source": [
    "# Menampilkan dataframe\n",
    "theft_yearly"
   ]
  },
  {
   "cell_type": "code",
   "execution_count": 55,
   "id": "e53773b6",
   "metadata": {},
   "outputs": [
    {
     "data": {
      "text/plain": [
       "Text(0, 0.5, 'Num of category')"
      ]
     },
     "execution_count": 55,
     "metadata": {},
     "output_type": "execute_result"
    },
    {
     "data": {
      "image/png": "[encoded data removed]",
      "text/plain": [
       "<Figure size 720x432 with 1 Axes>"
      ]
     },
     "metadata": {
      "needs_background": "light"
     },
     "output_type": "display_data"
    }
   ],
   "source": [
    "# Membuat scatter plot untuk dataframe theft_yearly\n",
    "scatter = theft_yearly.plot(\n",
    "    kind='scatter'\n",
    "    ,x='Year'\n",
    "    ,y='Total_TH'\n",
    "    ,figsize=(10,6)\n",
    ")\n",
    "\n",
    "plt.title(\"Total of Major Category (Treft and Handling) from 2008-2016\\n\")\n",
    "plt.xlabel(\"\\nYear\")\n",
    "plt.ylabel(\"Num of category\")"
   ]
  },
  {
   "cell_type": "markdown",
   "id": "a494ab21",
   "metadata": {},
   "source": [
    "Plot ini biasanya digunakan untuk melihat hubungan dari dua variabel. Dari plot yang dihasilkan dapat disimpulkan bahwa variabel year dan count memiliki hubungan yang rendah. Dapat dilihat dari pergerakan data yang tidak se arah antara variabel year dan Total, dengan kata lain kenaikan atau penurunan salah satu variabel tidak mempengaruhi variabel lainnya. Selain itu juga dapat dilihat persebaran datanya, yaitu data ini tersebar secara acak atau tidak menumpuk pada suatu area. "
   ]
  },
  {
   "cell_type": "markdown",
   "id": "16bff67c",
   "metadata": {},
   "source": [
    "### Word Cloud"
   ]
  },
  {
   "cell_type": "code",
   "execution_count": 56,
   "id": "2be9019c",
   "metadata": {},
   "outputs": [
    {
     "data": {
      "image/png": "[encoded data removed]",
      "text/plain": [
       "<Figure size 432x288 with 1 Axes>"
      ]
     },
     "metadata": {
      "needs_background": "light"
     },
     "output_type": "display_data"
    }
   ],
   "source": [
    "# assign data town ke variable town\n",
    "region_word = london_crime['Region']\n",
    "\n",
    "text = ' '.join(region_word)\n",
    "wordcloud = WordCloud(width = 1000, height = 800, background_color = 'white').generate(text)\n",
    "\n",
    "# Membangun plot\n",
    "plt.imshow(wordcloud)\n",
    "plt.axis(\"off\")\n",
    "\n",
    "plt.show()"
   ]
  },
  {
   "cell_type": "markdown",
   "id": "c5433dc5",
   "metadata": {},
   "source": [
    "Kode di atas menggunakan data dari kolom Region untuk diolah. Menggunakan fungsi join(), diambil semua nilai dari kolom Region kemudian digabungkan ke dalam satu string dimana ' ' (spasi) digunakan sebagai separator atau pemisah antara nama kotak. Tujuan dari World Clouds ini adalah untuk melihat nama kota mana yang paling sering muncul."
   ]
  },
  {
   "cell_type": "markdown",
   "id": "9ec98ac6",
   "metadata": {},
   "source": [
    "### Folium Maps"
   ]
  },
  {
   "cell_type": "code",
   "execution_count": 57,
   "id": "3b19e5b4",
   "metadata": {},
   "outputs": [],
   "source": [
    "import folium"
   ]
  },
  {
   "cell_type": "code",
   "execution_count": 58,
   "id": "386b86b1",
   "metadata": {},
   "outputs": [
    {
     "data": {
      "text/html": [
       "<div style=\"width:100%;\"><div style=\"position:relative;width:100%;height:0;padding-bottom:60%;\"><span style=\"color:#565656\">Make this Notebook Trusted to load map: File -> Trust Notebook</span><iframe srcdoc=\"&lt;!DOCTYPE html&gt;\n",
       "&lt;html&gt;\n",
       "&lt;head&gt;\n",
       "    \n",
       "    &lt;meta http-equiv=&quot;content-type&quot; content=&quot;text/html; charset=UTF-8&quot; /&gt;\n",
       "    \n",
       "        &lt;script&gt;\n",
       "            L_NO_TOUCH = false;\n",
       "            L_DISABLE_3D = false;\n",
       "        &lt;/script&gt;\n",
       "    \n",
       "    &lt;style&gt;html, body {width: 100%;height: 100%;margin: 0;padding: 0;}&lt;/style&gt;\n",
       "    &lt;style&gt;#map {position:absolute;top:0;bottom:0;right:0;left:0;}&lt;/style&gt;\n",
       "    &lt;script src=&quot;https://cdn.jsdelivr.net/npm/leaflet@1.9.3/dist/leaflet.js&quot;&gt;&lt;/script&gt;\n",
       "    &lt;script src=&quot;https://code.jquery.com/jquery-1.12.4.min.js&quot;&gt;&lt;/script&gt;\n",
       "    &lt;script src=&quot;https://cdn.jsdelivr.net/npm/bootstrap@5.2.2/dist/js/bootstrap.bundle.min.js&quot;&gt;&lt;/script&gt;\n",
       "    &lt;script src=&quot;https://cdnjs.cloudflare.com/ajax/libs/Leaflet.awesome-markers/2.0.2/leaflet.awesome-markers.js&quot;&gt;&lt;/script&gt;\n",
       "    &lt;link rel=&quot;stylesheet&quot; href=&quot;https://cdn.jsdelivr.net/npm/leaflet@1.9.3/dist/leaflet.css&quot;/&gt;\n",
       "    &lt;link rel=&quot;stylesheet&quot; href=&quot;https://cdn.jsdelivr.net/npm/bootstrap@5.2.2/dist/css/bootstrap.min.css&quot;/&gt;\n",
       "    &lt;link rel=&quot;stylesheet&quot; href=&quot;https://netdna.bootstrapcdn.com/bootstrap/3.0.0/css/bootstrap.min.css&quot;/&gt;\n",
       "    &lt;link rel=&quot;stylesheet&quot; href=&quot;https://cdn.jsdelivr.net/npm/@fortawesome/fontawesome-free@6.2.0/css/all.min.css&quot;/&gt;\n",
       "    &lt;link rel=&quot;stylesheet&quot; href=&quot;https://cdnjs.cloudflare.com/ajax/libs/Leaflet.awesome-markers/2.0.2/leaflet.awesome-markers.css&quot;/&gt;\n",
       "    &lt;link rel=&quot;stylesheet&quot; href=&quot;https://cdn.jsdelivr.net/gh/python-visualization/folium/folium/templates/leaflet.awesome.rotate.min.css&quot;/&gt;\n",
       "    \n",
       "            &lt;meta name=&quot;viewport&quot; content=&quot;width=device-width,\n",
       "                initial-scale=1.0, maximum-scale=1.0, user-scalable=no&quot; /&gt;\n",
       "            &lt;style&gt;\n",
       "                #map_33f1df3dec192270cd708f733f19e84d {\n",
       "                    position: relative;\n",
       "                    width: 100.0%;\n",
       "                    height: 100.0%;\n",
       "                    left: 0.0%;\n",
       "                    top: 0.0%;\n",
       "                }\n",
       "                .leaflet-container { font-size: 1rem; }\n",
       "            &lt;/style&gt;\n",
       "        \n",
       "&lt;/head&gt;\n",
       "&lt;body&gt;\n",
       "    \n",
       "    \n",
       "            &lt;div class=&quot;folium-map&quot; id=&quot;map_33f1df3dec192270cd708f733f19e84d&quot; &gt;&lt;/div&gt;\n",
       "        \n",
       "&lt;/body&gt;\n",
       "&lt;script&gt;\n",
       "    \n",
       "    \n",
       "            var map_33f1df3dec192270cd708f733f19e84d = L.map(\n",
       "                &quot;map_33f1df3dec192270cd708f733f19e84d&quot;,\n",
       "                {\n",
       "                    center: [51.5072, -0.1275],\n",
       "                    crs: L.CRS.EPSG3857,\n",
       "                    zoom: 10,\n",
       "                    zoomControl: true,\n",
       "                    preferCanvas: false,\n",
       "                }\n",
       "            );\n",
       "\n",
       "            \n",
       "\n",
       "        \n",
       "    \n",
       "            var tile_layer_135b9a73e8e9548ca19867ee5a9d8b05 = L.tileLayer(\n",
       "                &quot;https://stamen-tiles-{s}.a.ssl.fastly.net/terrain/{z}/{x}/{y}.jpg&quot;,\n",
       "                {&quot;attribution&quot;: &quot;Map tiles by \\u003ca target=\\&quot;_blank\\&quot; href=\\&quot;http://stamen.com\\&quot;\\u003eStamen Design\\u003c/a\\u003e, under \\u003ca target=\\&quot;_blank\\&quot; href=\\&quot;http://creativecommons.org/licenses/by/3.0\\&quot;\\u003eCC BY 3.0\\u003c/a\\u003e. Data by \\u0026copy; \\u003ca target=\\&quot;_blank\\&quot; href=\\&quot;http://openstreetmap.org\\&quot;\\u003eOpenStreetMap\\u003c/a\\u003e, under \\u003ca target=\\&quot;_blank\\&quot; href=\\&quot;http://creativecommons.org/licenses/by-sa/3.0\\&quot;\\u003eCC BY SA\\u003c/a\\u003e.&quot;, &quot;detectRetina&quot;: false, &quot;maxNativeZoom&quot;: 18, &quot;maxZoom&quot;: 18, &quot;minZoom&quot;: 0, &quot;noWrap&quot;: false, &quot;opacity&quot;: 1, &quot;subdomains&quot;: &quot;abc&quot;, &quot;tms&quot;: false}\n",
       "            ).addTo(map_33f1df3dec192270cd708f733f19e84d);\n",
       "        \n",
       "&lt;/script&gt;\n",
       "&lt;/html&gt;\" style=\"position:absolute;width:100%;height:100%;left:0;top:0;border:none !important;\" allowfullscreen webkitallowfullscreen mozallowfullscreen></iframe></div></div>"
      ],
      "text/plain": [
       "<folium.folium.Map at 0x24a90bd3d60>"
      ]
     },
     "execution_count": 58,
     "metadata": {},
     "output_type": "execute_result"
    }
   ],
   "source": [
    "london_folium = folium.Map(location=[51.5072, -0.1275], zoom_start = 10, tiles='Stamen Terrain')\n",
    "london_folium"
   ]
  },
  {
   "cell_type": "markdown",
   "id": "d60b1a25",
   "metadata": {},
   "source": [
    "Code di atas untuk menampilkan peta london sesuai dengan titik koordinat bujur dan lintang."
   ]
  },
  {
   "cell_type": "markdown",
   "id": "652432fa",
   "metadata": {},
   "source": [
    "### Kesimpulan"
   ]
  },
  {
   "cell_type": "markdown",
   "id": "adbc8ace",
   "metadata": {},
   "source": [
    "Dari analisis dana visualisasi yang sudah ditampilkan diatas, dapat disimpulkan bahwa data crime di London yang ditracking setiap bulan dalam rentang tahun 2008 sampai 2016 tersebar secara tidak merata. Kemudian, tidak ditemukan keterkaitan erat antara variabel-variabel sehingga dapat dipastikan variabel-variabel yang tercatat perubahannya tidak mempengaruhi satu sama lain dengan kata lain tidak ada variabel yang saling terikat. Dan dari analisis yang dilakukan didapatkan bahwa wilayah Westminster merupakan wilayah dengan jumlah kejahatan yang paling dominan, dan jenis kejahatan yang paling tinggi nilainya yaitu Theft and Handling. Kemudian didapatkan pula bahwa wilayah City of London merupakan wilayah dengan jumlah kejahatan yang paling kecil maka dapat dipastika berdasarkan data ini City Of London merupakan wilayah ter-aman di London pada rentang tahun 2008-2016. "
   ]
  }
 ],
 "metadata": {
  "kernelspec": {
   "display_name": "Python 3 (ipykernel)",
   "language": "python",
   "name": "python3"
  },
  "language_info": {
   "codemirror_mode": {
    "name": "ipython",
    "version": 3
   },
   "file_extension": ".py",
   "mimetype": "text/x-python",
   "name": "python",
   "nbconvert_exporter": "python",
   "pygments_lexer": "ipython3",
   "version": "3.9.12"
  }
 },
 "nbformat": 4,
 "nbformat_minor": 5
}
