{
 "cells": [
  {
   "cell_type": "markdown",
   "id": "3a2eaacf",
   "metadata": {},
   "source": [
    "### A. Perkenalan"
   ]
  },
  {
   "cell_type": "markdown",
   "id": "022d129b",
   "metadata": {},
   "source": [
    "Kelompok 5 :\n",
    "- Adjie Perdana Kusuma (PYTN-KS12-010)\n",
    "- Yunita Yulianda (PYTN-KS12-001)\n",
    "- Naufal Reza Pahlevi (PYTN-KS12-021)\n",
    "\n",
    "Dataset yang digunakan adalah data Uber and Lyft yang merupakan kumpulan data yang berisi informasi tentang perjalanan yang diambil oleh pengemudi Uber dan Lyft di kota Boston, Massachusetts. Dataset ini bersumber dari website kaggle : https://www.kaggle.com/datasets/brllrb/uber-and-lyft-dataset-boston-ma. Data ini memuat 693.071 baris dan 57 kolom yang merepresentasikan fitur-fitur dalam dataset tersebut. Dari 57 kolom, yang menjadi kolom label atau fitur target pada prediksi adalah fitur 'price' yang berisikan nilai kontinu, artinya nilai dalam fitur ini dipengaruhi oleh fitur/kolom lainnya dalam dataset. Dataset ini memiliki sebanyak 55095 nilai null yang berada pada fitur price.\n",
    "\n",
    "Dengan dataset ini akan dilakukan prediksi menggunakan konsep regression dengan membagi datanya kedalam variabel independen(variabel tak terikat) yang berisikan fitur-fitur selain price, dan variabel dependen (variabel terikat) yang berisikan fitur 'price'. Konsep regresion akan diimplementasikan dengan algoritma Linear Regression dalam beberapa jenis model yaitu model Linear Regression, XGBoost, Desicion Tree Regressor, dan Random Forest Regressor. "
   ]
  },
  {
   "cell_type": "markdown",
   "id": "11091f25",
   "metadata": {},
   "source": [
    "### B. Import pustaka yang dibutuhkan"
   ]
  },
  {
   "cell_type": "code",
   "execution_count": 1,
   "id": "c88b75b9",
   "metadata": {},
   "outputs": [],
   "source": [
    "# Data Loading, data cleaning\n",
    "import numpy as np\n",
    "import pandas as pd\n",
    "\n",
    "# Data Exploration\n",
    "%matplotlib inline\n",
    "import matplotlib as mpl\n",
    "import matplotlib.pyplot as plt\n",
    "import seaborn as sns\n",
    "from wordcloud import WordCloud, STOPWORDS\n",
    "\n",
    "# Data Preprocessing\n",
    "from sklearn import preprocessing\n",
    "from sklearn.model_selection import train_test_split\n",
    "from sklearn.preprocessing import LabelEncoder\n",
    "\n",
    "# Model Definition\n",
    "from sklearn.linear_model import LinearRegression\n",
    "from sklearn.metrics import r2_score\n",
    "import xgboost as xg\n",
    "from sklearn.tree import DecisionTreeRegressor\n",
    "from sklearn.tree import plot_tree\n",
    "from sklearn.ensemble import RandomForestRegressor\n",
    "\n",
    "# Model Evaluation\n",
    "from sklearn.metrics import mean_squared_error\n",
    "from sklearn.metrics import mean_absolute_percentage_error"
   ]
  },
  {
   "cell_type": "markdown",
   "id": "53f81e70",
   "metadata": {},
   "source": [
    "Dilakukan import library yang dibutuhkan selama pengerjaan project, dan juga melakukan akses ke beberapa fungsi untuk nantinya akan digunakan selama proses menjalankan model regresi. "
   ]
  },
  {
   "cell_type": "markdown",
   "id": "bd8cbe03",
   "metadata": {},
   "source": [
    "### C. Data Loading"
   ]
  },
  {
   "cell_type": "code",
   "execution_count": 2,
   "id": "47b47234",
   "metadata": {},
   "outputs": [],
   "source": [
    "# Membaca file\n",
    "uber_lyft = pd.read_csv('Dataset/rideshare_kaggle.csv')"
   ]
  },
  {
   "cell_type": "markdown",
   "id": "8cb5a0a3",
   "metadata": {},
   "source": [
    "Dilakukan proses membaca file csv menggunakan library pandas. Data tersebut kemudian dimasukkan dalam dataFrame dengan nama uber_lyft agar mempermudah penggunaan ke proses selajutnya.  "
   ]
  },
  {
   "cell_type": "code",
   "execution_count": 3,
   "id": "a4b9af66",
   "metadata": {},
   "outputs": [
    {
     "data": {
      "text/html": [
       "<div>\n",
       "<style scoped>\n",
       "    .dataframe tbody tr th:only-of-type {\n",
       "        vertical-align: middle;\n",
       "    }\n",
       "\n",
       "    .dataframe tbody tr th {\n",
       "        vertical-align: top;\n",
       "    }\n",
       "\n",
       "    .dataframe thead th {\n",
       "        text-align: right;\n",
       "    }\n",
       "</style>\n",
       "<table border=\"1\" class=\"dataframe\">\n",
       "  <thead>\n",
       "    <tr style=\"text-align: right;\">\n",
       "      <th></th>\n",
       "      <th>id</th>\n",
       "      <th>timestamp</th>\n",
       "      <th>hour</th>\n",
       "      <th>day</th>\n",
       "      <th>month</th>\n",
       "      <th>datetime</th>\n",
       "      <th>timezone</th>\n",
       "      <th>source</th>\n",
       "      <th>destination</th>\n",
       "      <th>cab_type</th>\n",
       "      <th>...</th>\n",
       "      <th>precipIntensityMax</th>\n",
       "      <th>uvIndexTime</th>\n",
       "      <th>temperatureMin</th>\n",
       "      <th>temperatureMinTime</th>\n",
       "      <th>temperatureMax</th>\n",
       "      <th>temperatureMaxTime</th>\n",
       "      <th>apparentTemperatureMin</th>\n",
       "      <th>apparentTemperatureMinTime</th>\n",
       "      <th>apparentTemperatureMax</th>\n",
       "      <th>apparentTemperatureMaxTime</th>\n",
       "    </tr>\n",
       "  </thead>\n",
       "  <tbody>\n",
       "    <tr>\n",
       "      <th>0</th>\n",
       "      <td>424553bb-7174-41ea-aeb4-fe06d4f4b9d7</td>\n",
       "      <td>1.544953e+09</td>\n",
       "      <td>9</td>\n",
       "      <td>16</td>\n",
       "      <td>12</td>\n",
       "      <td>2018-12-16 09:30:07</td>\n",
       "      <td>America/New_York</td>\n",
       "      <td>Haymarket Square</td>\n",
       "      <td>North Station</td>\n",
       "      <td>Lyft</td>\n",
       "      <td>...</td>\n",
       "      <td>0.1276</td>\n",
       "      <td>1544979600</td>\n",
       "      <td>39.89</td>\n",
       "      <td>1545012000</td>\n",
       "      <td>43.68</td>\n",
       "      <td>1544968800</td>\n",
       "      <td>33.73</td>\n",
       "      <td>1545012000</td>\n",
       "      <td>38.07</td>\n",
       "      <td>1544958000</td>\n",
       "    </tr>\n",
       "    <tr>\n",
       "      <th>1</th>\n",
       "      <td>4bd23055-6827-41c6-b23b-3c491f24e74d</td>\n",
       "      <td>1.543284e+09</td>\n",
       "      <td>2</td>\n",
       "      <td>27</td>\n",
       "      <td>11</td>\n",
       "      <td>2018-11-27 02:00:23</td>\n",
       "      <td>America/New_York</td>\n",
       "      <td>Haymarket Square</td>\n",
       "      <td>North Station</td>\n",
       "      <td>Lyft</td>\n",
       "      <td>...</td>\n",
       "      <td>0.1300</td>\n",
       "      <td>1543251600</td>\n",
       "      <td>40.49</td>\n",
       "      <td>1543233600</td>\n",
       "      <td>47.30</td>\n",
       "      <td>1543251600</td>\n",
       "      <td>36.20</td>\n",
       "      <td>1543291200</td>\n",
       "      <td>43.92</td>\n",
       "      <td>1543251600</td>\n",
       "    </tr>\n",
       "    <tr>\n",
       "      <th>2</th>\n",
       "      <td>981a3613-77af-4620-a42a-0c0866077d1e</td>\n",
       "      <td>1.543367e+09</td>\n",
       "      <td>1</td>\n",
       "      <td>28</td>\n",
       "      <td>11</td>\n",
       "      <td>2018-11-28 01:00:22</td>\n",
       "      <td>America/New_York</td>\n",
       "      <td>Haymarket Square</td>\n",
       "      <td>North Station</td>\n",
       "      <td>Lyft</td>\n",
       "      <td>...</td>\n",
       "      <td>0.1064</td>\n",
       "      <td>1543338000</td>\n",
       "      <td>35.36</td>\n",
       "      <td>1543377600</td>\n",
       "      <td>47.55</td>\n",
       "      <td>1543320000</td>\n",
       "      <td>31.04</td>\n",
       "      <td>1543377600</td>\n",
       "      <td>44.12</td>\n",
       "      <td>1543320000</td>\n",
       "    </tr>\n",
       "    <tr>\n",
       "      <th>3</th>\n",
       "      <td>c2d88af2-d278-4bfd-a8d0-29ca77cc5512</td>\n",
       "      <td>1.543554e+09</td>\n",
       "      <td>4</td>\n",
       "      <td>30</td>\n",
       "      <td>11</td>\n",
       "      <td>2018-11-30 04:53:02</td>\n",
       "      <td>America/New_York</td>\n",
       "      <td>Haymarket Square</td>\n",
       "      <td>North Station</td>\n",
       "      <td>Lyft</td>\n",
       "      <td>...</td>\n",
       "      <td>0.0000</td>\n",
       "      <td>1543507200</td>\n",
       "      <td>34.67</td>\n",
       "      <td>1543550400</td>\n",
       "      <td>45.03</td>\n",
       "      <td>1543510800</td>\n",
       "      <td>30.30</td>\n",
       "      <td>1543550400</td>\n",
       "      <td>38.53</td>\n",
       "      <td>1543510800</td>\n",
       "    </tr>\n",
       "    <tr>\n",
       "      <th>4</th>\n",
       "      <td>e0126e1f-8ca9-4f2e-82b3-50505a09db9a</td>\n",
       "      <td>1.543463e+09</td>\n",
       "      <td>3</td>\n",
       "      <td>29</td>\n",
       "      <td>11</td>\n",
       "      <td>2018-11-29 03:49:20</td>\n",
       "      <td>America/New_York</td>\n",
       "      <td>Haymarket Square</td>\n",
       "      <td>North Station</td>\n",
       "      <td>Lyft</td>\n",
       "      <td>...</td>\n",
       "      <td>0.0001</td>\n",
       "      <td>1543420800</td>\n",
       "      <td>33.10</td>\n",
       "      <td>1543402800</td>\n",
       "      <td>42.18</td>\n",
       "      <td>1543420800</td>\n",
       "      <td>29.11</td>\n",
       "      <td>1543392000</td>\n",
       "      <td>35.75</td>\n",
       "      <td>1543420800</td>\n",
       "    </tr>\n",
       "  </tbody>\n",
       "</table>\n",
       "<p>5 rows × 57 columns</p>\n",
       "</div>"
      ],
      "text/plain": [
       "                                     id     timestamp  hour  day  month  \\\n",
       "0  424553bb-7174-41ea-aeb4-fe06d4f4b9d7  1.544953e+09     9   16     12   \n",
       "1  4bd23055-6827-41c6-b23b-3c491f24e74d  1.543284e+09     2   27     11   \n",
       "2  981a3613-77af-4620-a42a-0c0866077d1e  1.543367e+09     1   28     11   \n",
       "3  c2d88af2-d278-4bfd-a8d0-29ca77cc5512  1.543554e+09     4   30     11   \n",
       "4  e0126e1f-8ca9-4f2e-82b3-50505a09db9a  1.543463e+09     3   29     11   \n",
       "\n",
       "              datetime          timezone            source    destination  \\\n",
       "0  2018-12-16 09:30:07  America/New_York  Haymarket Square  North Station   \n",
       "1  2018-11-27 02:00:23  America/New_York  Haymarket Square  North Station   \n",
       "2  2018-11-28 01:00:22  America/New_York  Haymarket Square  North Station   \n",
       "3  2018-11-30 04:53:02  America/New_York  Haymarket Square  North Station   \n",
       "4  2018-11-29 03:49:20  America/New_York  Haymarket Square  North Station   \n",
       "\n",
       "  cab_type  ... precipIntensityMax uvIndexTime  temperatureMin  \\\n",
       "0     Lyft  ...             0.1276  1544979600           39.89   \n",
       "1     Lyft  ...             0.1300  1543251600           40.49   \n",
       "2     Lyft  ...             0.1064  1543338000           35.36   \n",
       "3     Lyft  ...             0.0000  1543507200           34.67   \n",
       "4     Lyft  ...             0.0001  1543420800           33.10   \n",
       "\n",
       "   temperatureMinTime  temperatureMax  temperatureMaxTime  \\\n",
       "0          1545012000           43.68          1544968800   \n",
       "1          1543233600           47.30          1543251600   \n",
       "2          1543377600           47.55          1543320000   \n",
       "3          1543550400           45.03          1543510800   \n",
       "4          1543402800           42.18          1543420800   \n",
       "\n",
       "   apparentTemperatureMin  apparentTemperatureMinTime  apparentTemperatureMax  \\\n",
       "0                   33.73                  1545012000                   38.07   \n",
       "1                   36.20                  1543291200                   43.92   \n",
       "2                   31.04                  1543377600                   44.12   \n",
       "3                   30.30                  1543550400                   38.53   \n",
       "4                   29.11                  1543392000                   35.75   \n",
       "\n",
       "  apparentTemperatureMaxTime  \n",
       "0                 1544958000  \n",
       "1                 1543251600  \n",
       "2                 1543320000  \n",
       "3                 1543510800  \n",
       "4                 1543420800  \n",
       "\n",
       "[5 rows x 57 columns]"
      ]
     },
     "execution_count": 3,
     "metadata": {},
     "output_type": "execute_result"
    }
   ],
   "source": [
    "# Menampilkan data teratas\n",
    "uber_lyft.head()"
   ]
  },
  {
   "cell_type": "markdown",
   "id": "8aca5928",
   "metadata": {},
   "source": [
    "Menampilkan 5 data teratas dan dapat dilihat bahwa data ini berisi 57 kolom dimulai dari id sampai kekolom apparentTemperatureMaxTime."
   ]
  },
  {
   "cell_type": "code",
   "execution_count": 4,
   "id": "54c5dec2",
   "metadata": {},
   "outputs": [
    {
     "data": {
      "text/html": [
       "<div>\n",
       "<style scoped>\n",
       "    .dataframe tbody tr th:only-of-type {\n",
       "        vertical-align: middle;\n",
       "    }\n",
       "\n",
       "    .dataframe tbody tr th {\n",
       "        vertical-align: top;\n",
       "    }\n",
       "\n",
       "    .dataframe thead th {\n",
       "        text-align: right;\n",
       "    }\n",
       "</style>\n",
       "<table border=\"1\" class=\"dataframe\">\n",
       "  <thead>\n",
       "    <tr style=\"text-align: right;\">\n",
       "      <th></th>\n",
       "      <th>id</th>\n",
       "      <th>timestamp</th>\n",
       "      <th>hour</th>\n",
       "      <th>day</th>\n",
       "      <th>month</th>\n",
       "      <th>datetime</th>\n",
       "      <th>timezone</th>\n",
       "      <th>source</th>\n",
       "      <th>destination</th>\n",
       "      <th>cab_type</th>\n",
       "      <th>...</th>\n",
       "      <th>precipIntensityMax</th>\n",
       "      <th>uvIndexTime</th>\n",
       "      <th>temperatureMin</th>\n",
       "      <th>temperatureMinTime</th>\n",
       "      <th>temperatureMax</th>\n",
       "      <th>temperatureMaxTime</th>\n",
       "      <th>apparentTemperatureMin</th>\n",
       "      <th>apparentTemperatureMinTime</th>\n",
       "      <th>apparentTemperatureMax</th>\n",
       "      <th>apparentTemperatureMaxTime</th>\n",
       "    </tr>\n",
       "  </thead>\n",
       "  <tbody>\n",
       "    <tr>\n",
       "      <th>693066</th>\n",
       "      <td>616d3611-1820-450a-9845-a9ff304a4842</td>\n",
       "      <td>1.543708e+09</td>\n",
       "      <td>23</td>\n",
       "      <td>1</td>\n",
       "      <td>12</td>\n",
       "      <td>2018-12-01 23:53:05</td>\n",
       "      <td>America/New_York</td>\n",
       "      <td>West End</td>\n",
       "      <td>North End</td>\n",
       "      <td>Uber</td>\n",
       "      <td>...</td>\n",
       "      <td>0.0</td>\n",
       "      <td>1543683600</td>\n",
       "      <td>31.42</td>\n",
       "      <td>1543658400</td>\n",
       "      <td>44.76</td>\n",
       "      <td>1543690800</td>\n",
       "      <td>27.77</td>\n",
       "      <td>1543658400</td>\n",
       "      <td>44.09</td>\n",
       "      <td>1543690800</td>\n",
       "    </tr>\n",
       "    <tr>\n",
       "      <th>693067</th>\n",
       "      <td>633a3fc3-1f86-4b9e-9d48-2b7132112341</td>\n",
       "      <td>1.543708e+09</td>\n",
       "      <td>23</td>\n",
       "      <td>1</td>\n",
       "      <td>12</td>\n",
       "      <td>2018-12-01 23:53:05</td>\n",
       "      <td>America/New_York</td>\n",
       "      <td>West End</td>\n",
       "      <td>North End</td>\n",
       "      <td>Uber</td>\n",
       "      <td>...</td>\n",
       "      <td>0.0</td>\n",
       "      <td>1543683600</td>\n",
       "      <td>31.42</td>\n",
       "      <td>1543658400</td>\n",
       "      <td>44.76</td>\n",
       "      <td>1543690800</td>\n",
       "      <td>27.77</td>\n",
       "      <td>1543658400</td>\n",
       "      <td>44.09</td>\n",
       "      <td>1543690800</td>\n",
       "    </tr>\n",
       "    <tr>\n",
       "      <th>693068</th>\n",
       "      <td>64d451d0-639f-47a4-9b7c-6fd92fbd264f</td>\n",
       "      <td>1.543708e+09</td>\n",
       "      <td>23</td>\n",
       "      <td>1</td>\n",
       "      <td>12</td>\n",
       "      <td>2018-12-01 23:53:05</td>\n",
       "      <td>America/New_York</td>\n",
       "      <td>West End</td>\n",
       "      <td>North End</td>\n",
       "      <td>Uber</td>\n",
       "      <td>...</td>\n",
       "      <td>0.0</td>\n",
       "      <td>1543683600</td>\n",
       "      <td>31.42</td>\n",
       "      <td>1543658400</td>\n",
       "      <td>44.76</td>\n",
       "      <td>1543690800</td>\n",
       "      <td>27.77</td>\n",
       "      <td>1543658400</td>\n",
       "      <td>44.09</td>\n",
       "      <td>1543690800</td>\n",
       "    </tr>\n",
       "    <tr>\n",
       "      <th>693069</th>\n",
       "      <td>727e5f07-a96b-4ad1-a2c7-9abc3ad55b4e</td>\n",
       "      <td>1.543708e+09</td>\n",
       "      <td>23</td>\n",
       "      <td>1</td>\n",
       "      <td>12</td>\n",
       "      <td>2018-12-01 23:53:05</td>\n",
       "      <td>America/New_York</td>\n",
       "      <td>West End</td>\n",
       "      <td>North End</td>\n",
       "      <td>Uber</td>\n",
       "      <td>...</td>\n",
       "      <td>0.0</td>\n",
       "      <td>1543683600</td>\n",
       "      <td>31.42</td>\n",
       "      <td>1543658400</td>\n",
       "      <td>44.76</td>\n",
       "      <td>1543690800</td>\n",
       "      <td>27.77</td>\n",
       "      <td>1543658400</td>\n",
       "      <td>44.09</td>\n",
       "      <td>1543690800</td>\n",
       "    </tr>\n",
       "    <tr>\n",
       "      <th>693070</th>\n",
       "      <td>e7fdc087-fe86-40a5-a3c3-3b2a8badcbda</td>\n",
       "      <td>1.543708e+09</td>\n",
       "      <td>23</td>\n",
       "      <td>1</td>\n",
       "      <td>12</td>\n",
       "      <td>2018-12-01 23:53:05</td>\n",
       "      <td>America/New_York</td>\n",
       "      <td>West End</td>\n",
       "      <td>North End</td>\n",
       "      <td>Uber</td>\n",
       "      <td>...</td>\n",
       "      <td>0.0</td>\n",
       "      <td>1543683600</td>\n",
       "      <td>31.42</td>\n",
       "      <td>1543658400</td>\n",
       "      <td>44.76</td>\n",
       "      <td>1543690800</td>\n",
       "      <td>27.77</td>\n",
       "      <td>1543658400</td>\n",
       "      <td>44.09</td>\n",
       "      <td>1543690800</td>\n",
       "    </tr>\n",
       "  </tbody>\n",
       "</table>\n",
       "<p>5 rows × 57 columns</p>\n",
       "</div>"
      ],
      "text/plain": [
       "                                          id     timestamp  hour  day  month  \\\n",
       "693066  616d3611-1820-450a-9845-a9ff304a4842  1.543708e+09    23    1     12   \n",
       "693067  633a3fc3-1f86-4b9e-9d48-2b7132112341  1.543708e+09    23    1     12   \n",
       "693068  64d451d0-639f-47a4-9b7c-6fd92fbd264f  1.543708e+09    23    1     12   \n",
       "693069  727e5f07-a96b-4ad1-a2c7-9abc3ad55b4e  1.543708e+09    23    1     12   \n",
       "693070  e7fdc087-fe86-40a5-a3c3-3b2a8badcbda  1.543708e+09    23    1     12   \n",
       "\n",
       "                   datetime          timezone    source destination cab_type  \\\n",
       "693066  2018-12-01 23:53:05  America/New_York  West End   North End     Uber   \n",
       "693067  2018-12-01 23:53:05  America/New_York  West End   North End     Uber   \n",
       "693068  2018-12-01 23:53:05  America/New_York  West End   North End     Uber   \n",
       "693069  2018-12-01 23:53:05  America/New_York  West End   North End     Uber   \n",
       "693070  2018-12-01 23:53:05  America/New_York  West End   North End     Uber   \n",
       "\n",
       "        ... precipIntensityMax uvIndexTime  temperatureMin  \\\n",
       "693066  ...                0.0  1543683600           31.42   \n",
       "693067  ...                0.0  1543683600           31.42   \n",
       "693068  ...                0.0  1543683600           31.42   \n",
       "693069  ...                0.0  1543683600           31.42   \n",
       "693070  ...                0.0  1543683600           31.42   \n",
       "\n",
       "        temperatureMinTime  temperatureMax  temperatureMaxTime  \\\n",
       "693066          1543658400           44.76          1543690800   \n",
       "693067          1543658400           44.76          1543690800   \n",
       "693068          1543658400           44.76          1543690800   \n",
       "693069          1543658400           44.76          1543690800   \n",
       "693070          1543658400           44.76          1543690800   \n",
       "\n",
       "        apparentTemperatureMin  apparentTemperatureMinTime  \\\n",
       "693066                   27.77                  1543658400   \n",
       "693067                   27.77                  1543658400   \n",
       "693068                   27.77                  1543658400   \n",
       "693069                   27.77                  1543658400   \n",
       "693070                   27.77                  1543658400   \n",
       "\n",
       "        apparentTemperatureMax apparentTemperatureMaxTime  \n",
       "693066                   44.09                 1543690800  \n",
       "693067                   44.09                 1543690800  \n",
       "693068                   44.09                 1543690800  \n",
       "693069                   44.09                 1543690800  \n",
       "693070                   44.09                 1543690800  \n",
       "\n",
       "[5 rows x 57 columns]"
      ]
     },
     "execution_count": 4,
     "metadata": {},
     "output_type": "execute_result"
    }
   ],
   "source": [
    "# Menampilkan data terbawah\n",
    "uber_lyft.tail()"
   ]
  },
  {
   "cell_type": "markdown",
   "id": "fbf8fa9a",
   "metadata": {},
   "source": [
    "Menampilkan 5 data terbawah dengan fungsi tail(). Dapat dilihat bahwa baris terbawah dari data ini adalah 693070."
   ]
  },
  {
   "cell_type": "code",
   "execution_count": 5,
   "id": "0c74f320",
   "metadata": {},
   "outputs": [
    {
     "name": "stdout",
     "output_type": "stream",
     "text": [
      "<class 'pandas.core.frame.DataFrame'>\n",
      "RangeIndex: 693071 entries, 0 to 693070\n",
      "Data columns (total 57 columns):\n",
      " #   Column                       Non-Null Count   Dtype  \n",
      "---  ------                       --------------   -----  \n",
      " 0   id                           693071 non-null  object \n",
      " 1   timestamp                    693071 non-null  float64\n",
      " 2   hour                         693071 non-null  int64  \n",
      " 3   day                          693071 non-null  int64  \n",
      " 4   month                        693071 non-null  int64  \n",
      " 5   datetime                     693071 non-null  object \n",
      " 6   timezone                     693071 non-null  object \n",
      " 7   source                       693071 non-null  object \n",
      " 8   destination                  693071 non-null  object \n",
      " 9   cab_type                     693071 non-null  object \n",
      " 10  product_id                   693071 non-null  object \n",
      " 11  name                         693071 non-null  object \n",
      " 12  price                        637976 non-null  float64\n",
      " 13  distance                     693071 non-null  float64\n",
      " 14  surge_multiplier             693071 non-null  float64\n",
      " 15  latitude                     693071 non-null  float64\n",
      " 16  longitude                    693071 non-null  float64\n",
      " 17  temperature                  693071 non-null  float64\n",
      " 18  apparentTemperature          693071 non-null  float64\n",
      " 19  short_summary                693071 non-null  object \n",
      " 20  long_summary                 693071 non-null  object \n",
      " 21  precipIntensity              693071 non-null  float64\n",
      " 22  precipProbability            693071 non-null  float64\n",
      " 23  humidity                     693071 non-null  float64\n",
      " 24  windSpeed                    693071 non-null  float64\n",
      " 25  windGust                     693071 non-null  float64\n",
      " 26  windGustTime                 693071 non-null  int64  \n",
      " 27  visibility                   693071 non-null  float64\n",
      " 28  temperatureHigh              693071 non-null  float64\n",
      " 29  temperatureHighTime          693071 non-null  int64  \n",
      " 30  temperatureLow               693071 non-null  float64\n",
      " 31  temperatureLowTime           693071 non-null  int64  \n",
      " 32  apparentTemperatureHigh      693071 non-null  float64\n",
      " 33  apparentTemperatureHighTime  693071 non-null  int64  \n",
      " 34  apparentTemperatureLow       693071 non-null  float64\n",
      " 35  apparentTemperatureLowTime   693071 non-null  int64  \n",
      " 36  icon                         693071 non-null  object \n",
      " 37  dewPoint                     693071 non-null  float64\n",
      " 38  pressure                     693071 non-null  float64\n",
      " 39  windBearing                  693071 non-null  int64  \n",
      " 40  cloudCover                   693071 non-null  float64\n",
      " 41  uvIndex                      693071 non-null  int64  \n",
      " 42  visibility.1                 693071 non-null  float64\n",
      " 43  ozone                        693071 non-null  float64\n",
      " 44  sunriseTime                  693071 non-null  int64  \n",
      " 45  sunsetTime                   693071 non-null  int64  \n",
      " 46  moonPhase                    693071 non-null  float64\n",
      " 47  precipIntensityMax           693071 non-null  float64\n",
      " 48  uvIndexTime                  693071 non-null  int64  \n",
      " 49  temperatureMin               693071 non-null  float64\n",
      " 50  temperatureMinTime           693071 non-null  int64  \n",
      " 51  temperatureMax               693071 non-null  float64\n",
      " 52  temperatureMaxTime           693071 non-null  int64  \n",
      " 53  apparentTemperatureMin       693071 non-null  float64\n",
      " 54  apparentTemperatureMinTime   693071 non-null  int64  \n",
      " 55  apparentTemperatureMax       693071 non-null  float64\n",
      " 56  apparentTemperatureMaxTime   693071 non-null  int64  \n",
      "dtypes: float64(29), int64(17), object(11)\n",
      "memory usage: 301.4+ MB\n"
     ]
    }
   ],
   "source": [
    "# Menampilkan informasi data\n",
    "uber_lyft.info()"
   ]
  },
  {
   "cell_type": "markdown",
   "id": "69393c5e",
   "metadata": {},
   "source": [
    "Code diatas digunakan untuk mengetahui informasi umum tentang dataset, seperti jumlah baris dan kolom, tipe data dari setiap kolom, serta jumlah nilai yang hilang atau kosong pada setiap kolom. Dapat dilihat bahwa fitur-fitur dalam data ini memiliki keberagaman tipe data yaitu float64(29 fitur), int64(17 fitur), object(11 fitur).  "
   ]
  },
  {
   "cell_type": "code",
   "execution_count": 6,
   "id": "6af30092",
   "metadata": {},
   "outputs": [
    {
     "data": {
      "text/plain": [
       "(693071, 57)"
      ]
     },
     "execution_count": 6,
     "metadata": {},
     "output_type": "execute_result"
    }
   ],
   "source": [
    "# Menampilkan dimensi data\n",
    "uber_lyft.shape"
   ]
  },
  {
   "cell_type": "markdown",
   "id": "a440914a",
   "metadata": {},
   "source": [
    "Menampilkan dimensi data yang berisikan 6930671 baris dan 57 kolom/fitur."
   ]
  },
  {
   "cell_type": "markdown",
   "id": "6b00c545",
   "metadata": {},
   "source": [
    "### D. Data Cleaning"
   ]
  },
  {
   "cell_type": "code",
   "execution_count": 7,
   "id": "b96bcbde",
   "metadata": {},
   "outputs": [],
   "source": [
    "# Menghapus kolom yang tidak digunakan\n",
    "uber_lyft.drop([\"id\", \"timestamp\", \"datetime\", \"timezone\", \"product_id\", \"hour\",\"day\", \"month\", \"visibility\", \"latitude\", \"longitude\", \"temperature\", \"apparentTemperature\", \"short_summary\", \"icon\", \"long_summary\", \"precipIntensity\", \"precipProbability\", \"humidity\", \"windSpeed\", \"windGust\", \"windGustTime\", \"temperatureHigh\", \"temperatureHighTime\", \"temperatureLow\", \"temperatureLowTime\", \"apparentTemperatureHigh\", \"apparentTemperatureHighTime\", \"apparentTemperatureLow\", \"apparentTemperatureLowTime\", \"dewPoint\", \"pressure\", \"windBearing\", \"cloudCover\", \"uvIndex\", \"visibility.1\", \"ozone\", \"sunriseTime\", \"sunsetTime\", \"moonPhase\", \"precipIntensityMax\", \"uvIndexTime\", \"temperatureMin\", \"temperatureMinTime\", \"temperatureMax\", \"temperatureMaxTime\", \"apparentTemperatureMin\", \"apparentTemperatureMinTime\", \"apparentTemperatureMax\", \"apparentTemperatureMaxTime\"], axis=1, inplace=True)"
   ]
  },
  {
   "cell_type": "markdown",
   "id": "da9ca44b",
   "metadata": {},
   "source": [
    "Code diatas digunakan untuk menghapus kolom-kolom yang tidak digunakan dalam proses prediksi. Dari 57 kolom, ada 50 kolom yang dihapus karena dianggap kurang memengaruhi perubahan terhadap fitur 'price'. Setelah dilakukan proses penghapusan kolom, terdapat 7 kolom yang dianggap paling relevan memengaruhi perubahan harga uber dan lyft yaitu :\n",
    "* source : Lokasi asal dari perjalanan. \n",
    "* destination : Lokasi tujuan dari perjalanan.\n",
    "* cab_type : Tipe layanan transportasi yang tersedia. Dalam dataset ini, tipe layanan yang tersedia adalah Uber dan Lyft\n",
    "* name : Nama layanan transportasi yang tersedia. Dalam dataset ini, nama layanan yang tersedia adalah 'Shared' 'Lux' 'Lyft' 'Lux Black XL' 'Lyft XL' 'Lux Black' 'UberXL' 'Black' 'UberX' 'WAV' 'Black SUV' 'UberPool'.\n",
    "* distance : Jarak tempuh dalam mil antara lokasi asal dan tujuan.\n",
    "* price : Harga atau biaya perjalanan dalam dolar Amerika Serikat.\n",
    "* surge_multiplier : Faktor pengali yang diterapkan pada harga normal ketika permintaan tinggi dan pasokan rendah."
   ]
  },
  {
   "cell_type": "code",
   "execution_count": 8,
   "id": "e3c0813e",
   "metadata": {},
   "outputs": [],
   "source": [
    "# Mengubah nama kolom\n",
    "uber_lyft.rename(columns={'source': 'Pickup','destination':'Destination', 'cab_type': 'Taxi_product','name': 'Taxi_name', 'distance':'Distance', 'surge_multiplier':'Surge_multiplier', 'price':'Price'}, inplace=True)"
   ]
  },
  {
   "cell_type": "markdown",
   "id": "22626b1c",
   "metadata": {},
   "source": [
    "Code diatas dilakukan untuk mengubah nama kolom agar penggunaanya lebih mudah. Diakhir diterapkan inplace=True agar perubahan yang dilakukan hanya akan terjadi pada objek DataFrame yang digunakan tanpa membuat salinan DataFrame yang baru."
   ]
  },
  {
   "cell_type": "code",
   "execution_count": 9,
   "id": "9da2924b",
   "metadata": {},
   "outputs": [
    {
     "data": {
      "text/html": [
       "<div>\n",
       "<style scoped>\n",
       "    .dataframe tbody tr th:only-of-type {\n",
       "        vertical-align: middle;\n",
       "    }\n",
       "\n",
       "    .dataframe tbody tr th {\n",
       "        vertical-align: top;\n",
       "    }\n",
       "\n",
       "    .dataframe thead th {\n",
       "        text-align: right;\n",
       "    }\n",
       "</style>\n",
       "<table border=\"1\" class=\"dataframe\">\n",
       "  <thead>\n",
       "    <tr style=\"text-align: right;\">\n",
       "      <th></th>\n",
       "      <th>Pickup</th>\n",
       "      <th>Destination</th>\n",
       "      <th>Taxi_product</th>\n",
       "      <th>Taxi_name</th>\n",
       "      <th>Price</th>\n",
       "      <th>Distance</th>\n",
       "      <th>Surge_multiplier</th>\n",
       "    </tr>\n",
       "  </thead>\n",
       "  <tbody>\n",
       "    <tr>\n",
       "      <th>0</th>\n",
       "      <td>Haymarket Square</td>\n",
       "      <td>North Station</td>\n",
       "      <td>Lyft</td>\n",
       "      <td>Shared</td>\n",
       "      <td>5.0</td>\n",
       "      <td>0.44</td>\n",
       "      <td>1.0</td>\n",
       "    </tr>\n",
       "    <tr>\n",
       "      <th>1</th>\n",
       "      <td>Haymarket Square</td>\n",
       "      <td>North Station</td>\n",
       "      <td>Lyft</td>\n",
       "      <td>Lux</td>\n",
       "      <td>11.0</td>\n",
       "      <td>0.44</td>\n",
       "      <td>1.0</td>\n",
       "    </tr>\n",
       "  </tbody>\n",
       "</table>\n",
       "</div>"
      ],
      "text/plain": [
       "             Pickup    Destination Taxi_product Taxi_name  Price  Distance  \\\n",
       "0  Haymarket Square  North Station         Lyft    Shared    5.0      0.44   \n",
       "1  Haymarket Square  North Station         Lyft       Lux   11.0      0.44   \n",
       "\n",
       "   Surge_multiplier  \n",
       "0               1.0  \n",
       "1               1.0  "
      ]
     },
     "execution_count": 9,
     "metadata": {},
     "output_type": "execute_result"
    }
   ],
   "source": [
    "# Menampilkan 2 data teratas\n",
    "uber_lyft.head(2)"
   ]
  },
  {
   "cell_type": "markdown",
   "id": "9c5aa3d0",
   "metadata": {},
   "source": [
    "Code diatas menampilkan 2 data teratas untuk melihat perubahan pada nama kolom"
   ]
  },
  {
   "cell_type": "code",
   "execution_count": 10,
   "id": "b824fc3a",
   "metadata": {},
   "outputs": [
    {
     "data": {
      "text/plain": [
       "Pickup                  0\n",
       "Destination             0\n",
       "Taxi_product            0\n",
       "Taxi_name               0\n",
       "Price               55095\n",
       "Distance                0\n",
       "Surge_multiplier        0\n",
       "dtype: int64"
      ]
     },
     "execution_count": 10,
     "metadata": {},
     "output_type": "execute_result"
    }
   ],
   "source": [
    "# Melihat nilai null\n",
    "uber_lyft.isnull().sum()"
   ]
  },
  {
   "cell_type": "markdown",
   "id": "bfe9538a",
   "metadata": {},
   "source": [
    "Code diatas digunakan untuk melihat missing value dalam fitur-fitur yang digunakan. Missing value terdapat pada kolom 'price' sebesar 55095 data. Sedangkan kolom/fitur lain tidak ditemukan missing value."
   ]
  },
  {
   "cell_type": "code",
   "execution_count": 11,
   "id": "f40ba250",
   "metadata": {},
   "outputs": [
    {
     "data": {
      "text/html": [
       "<div>\n",
       "<style scoped>\n",
       "    .dataframe tbody tr th:only-of-type {\n",
       "        vertical-align: middle;\n",
       "    }\n",
       "\n",
       "    .dataframe tbody tr th {\n",
       "        vertical-align: top;\n",
       "    }\n",
       "\n",
       "    .dataframe thead th {\n",
       "        text-align: right;\n",
       "    }\n",
       "</style>\n",
       "<table border=\"1\" class=\"dataframe\">\n",
       "  <thead>\n",
       "    <tr style=\"text-align: right;\">\n",
       "      <th></th>\n",
       "      <th>Pickup</th>\n",
       "      <th>Destination</th>\n",
       "      <th>Taxi_product</th>\n",
       "      <th>Taxi_name</th>\n",
       "      <th>Price</th>\n",
       "      <th>Distance</th>\n",
       "      <th>Surge_multiplier</th>\n",
       "    </tr>\n",
       "  </thead>\n",
       "  <tbody>\n",
       "    <tr>\n",
       "      <th>0</th>\n",
       "      <td>Haymarket Square</td>\n",
       "      <td>North Station</td>\n",
       "      <td>Lyft</td>\n",
       "      <td>Shared</td>\n",
       "      <td>5.0</td>\n",
       "      <td>0.44</td>\n",
       "      <td>1.0</td>\n",
       "    </tr>\n",
       "    <tr>\n",
       "      <th>1</th>\n",
       "      <td>Haymarket Square</td>\n",
       "      <td>North Station</td>\n",
       "      <td>Lyft</td>\n",
       "      <td>Lux</td>\n",
       "      <td>11.0</td>\n",
       "      <td>0.44</td>\n",
       "      <td>1.0</td>\n",
       "    </tr>\n",
       "    <tr>\n",
       "      <th>2</th>\n",
       "      <td>Haymarket Square</td>\n",
       "      <td>North Station</td>\n",
       "      <td>Lyft</td>\n",
       "      <td>Lyft</td>\n",
       "      <td>7.0</td>\n",
       "      <td>0.44</td>\n",
       "      <td>1.0</td>\n",
       "    </tr>\n",
       "    <tr>\n",
       "      <th>3</th>\n",
       "      <td>Haymarket Square</td>\n",
       "      <td>North Station</td>\n",
       "      <td>Lyft</td>\n",
       "      <td>Lux Black XL</td>\n",
       "      <td>26.0</td>\n",
       "      <td>0.44</td>\n",
       "      <td>1.0</td>\n",
       "    </tr>\n",
       "    <tr>\n",
       "      <th>4</th>\n",
       "      <td>Haymarket Square</td>\n",
       "      <td>North Station</td>\n",
       "      <td>Lyft</td>\n",
       "      <td>Lyft XL</td>\n",
       "      <td>9.0</td>\n",
       "      <td>0.44</td>\n",
       "      <td>1.0</td>\n",
       "    </tr>\n",
       "    <tr>\n",
       "      <th>5</th>\n",
       "      <td>Haymarket Square</td>\n",
       "      <td>North Station</td>\n",
       "      <td>Lyft</td>\n",
       "      <td>Lux Black</td>\n",
       "      <td>16.5</td>\n",
       "      <td>0.44</td>\n",
       "      <td>1.0</td>\n",
       "    </tr>\n",
       "    <tr>\n",
       "      <th>6</th>\n",
       "      <td>Back Bay</td>\n",
       "      <td>Northeastern University</td>\n",
       "      <td>Lyft</td>\n",
       "      <td>Lyft XL</td>\n",
       "      <td>10.5</td>\n",
       "      <td>1.08</td>\n",
       "      <td>1.0</td>\n",
       "    </tr>\n",
       "    <tr>\n",
       "      <th>7</th>\n",
       "      <td>Back Bay</td>\n",
       "      <td>Northeastern University</td>\n",
       "      <td>Lyft</td>\n",
       "      <td>Lux Black</td>\n",
       "      <td>16.5</td>\n",
       "      <td>1.08</td>\n",
       "      <td>1.0</td>\n",
       "    </tr>\n",
       "    <tr>\n",
       "      <th>8</th>\n",
       "      <td>Back Bay</td>\n",
       "      <td>Northeastern University</td>\n",
       "      <td>Lyft</td>\n",
       "      <td>Shared</td>\n",
       "      <td>3.0</td>\n",
       "      <td>1.08</td>\n",
       "      <td>1.0</td>\n",
       "    </tr>\n",
       "    <tr>\n",
       "      <th>9</th>\n",
       "      <td>Back Bay</td>\n",
       "      <td>Northeastern University</td>\n",
       "      <td>Lyft</td>\n",
       "      <td>Lux Black XL</td>\n",
       "      <td>27.5</td>\n",
       "      <td>1.08</td>\n",
       "      <td>1.0</td>\n",
       "    </tr>\n",
       "  </tbody>\n",
       "</table>\n",
       "</div>"
      ],
      "text/plain": [
       "             Pickup              Destination Taxi_product     Taxi_name  \\\n",
       "0  Haymarket Square            North Station         Lyft        Shared   \n",
       "1  Haymarket Square            North Station         Lyft           Lux   \n",
       "2  Haymarket Square            North Station         Lyft          Lyft   \n",
       "3  Haymarket Square            North Station         Lyft  Lux Black XL   \n",
       "4  Haymarket Square            North Station         Lyft       Lyft XL   \n",
       "5  Haymarket Square            North Station         Lyft     Lux Black   \n",
       "6          Back Bay  Northeastern University         Lyft       Lyft XL   \n",
       "7          Back Bay  Northeastern University         Lyft     Lux Black   \n",
       "8          Back Bay  Northeastern University         Lyft        Shared   \n",
       "9          Back Bay  Northeastern University         Lyft  Lux Black XL   \n",
       "\n",
       "   Price  Distance  Surge_multiplier  \n",
       "0    5.0      0.44               1.0  \n",
       "1   11.0      0.44               1.0  \n",
       "2    7.0      0.44               1.0  \n",
       "3   26.0      0.44               1.0  \n",
       "4    9.0      0.44               1.0  \n",
       "5   16.5      0.44               1.0  \n",
       "6   10.5      1.08               1.0  \n",
       "7   16.5      1.08               1.0  \n",
       "8    3.0      1.08               1.0  \n",
       "9   27.5      1.08               1.0  "
      ]
     },
     "execution_count": 11,
     "metadata": {},
     "output_type": "execute_result"
    }
   ],
   "source": [
    "# Melakukan penghapusan baris yang terdapat null\n",
    "uber_lyft.dropna(axis=0, inplace=True)\n",
    "uber_lyft.head(10)"
   ]
  },
  {
   "cell_type": "markdown",
   "id": "be125353",
   "metadata": {},
   "source": [
    "Untuk menanggulangi missing value pada kolom 'price' dilakukan penghapusan data sebesar jumlah missing value tersebut. Penghapusan dilakukan dengan fungsi dropna() yang digunakan untuk menghapus semua baris yang terdapat missing value di salah satu fiturnya. Penghapusan data dilakukan karena data yang memiliki missing value tidak terlalu besar dibandingkan dengan data keseluruhan. Dari 693070 data hanya 55095 data null, artinya hanya ada sekitar 7% dari keseluruhan data yang terdeteksi adanya missing value. Dengan hanya 7% data null dianggap data data yang tersisa tanpa null masih sangat cukup untuk mewakili data asli. "
   ]
  },
  {
   "cell_type": "code",
   "execution_count": 12,
   "id": "5ee54a0f",
   "metadata": {},
   "outputs": [
    {
     "data": {
      "text/plain": [
       "Pickup              0\n",
       "Destination         0\n",
       "Taxi_product        0\n",
       "Taxi_name           0\n",
       "Price               0\n",
       "Distance            0\n",
       "Surge_multiplier    0\n",
       "dtype: int64"
      ]
     },
     "execution_count": 12,
     "metadata": {},
     "output_type": "execute_result"
    }
   ],
   "source": [
    "# Melihat nilai null setelah dihapus\n",
    "uber_lyft.isnull().sum()"
   ]
  },
  {
   "cell_type": "markdown",
   "id": "f309c4fd",
   "metadata": {},
   "source": [
    "Code diatas menampilkan kembali perhitungan nilai null untuk semua kolom, setelah dilakukan penghapusan baris yang terdapat missing value maka dapat dipastikan semua kolom tidak lagi memiliki missing value (nilai null)."
   ]
  },
  {
   "cell_type": "code",
   "execution_count": 13,
   "id": "7483d675",
   "metadata": {},
   "outputs": [
    {
     "name": "stdout",
     "output_type": "stream",
     "text": [
      "<class 'pandas.core.frame.DataFrame'>\n",
      "Int64Index: 637976 entries, 0 to 693070\n",
      "Data columns (total 7 columns):\n",
      " #   Column            Non-Null Count   Dtype  \n",
      "---  ------            --------------   -----  \n",
      " 0   Pickup            637976 non-null  object \n",
      " 1   Destination       637976 non-null  object \n",
      " 2   Taxi_product      637976 non-null  object \n",
      " 3   Taxi_name         637976 non-null  object \n",
      " 4   Price             637976 non-null  float64\n",
      " 5   Distance          637976 non-null  float64\n",
      " 6   Surge_multiplier  637976 non-null  float64\n",
      "dtypes: float64(3), object(4)\n",
      "memory usage: 38.9+ MB\n"
     ]
    }
   ],
   "source": [
    "# Menampilkan informasi data setelah dilakukan penghapusan\n",
    "uber_lyft.info()"
   ]
  },
  {
   "cell_type": "markdown",
   "id": "a08c35bf",
   "metadata": {},
   "source": [
    "Menampilkan kembali informasi data untuk melihat perubahan jumlah data setelah dilakukan penghapusan. Jumlah data awal untuk setiap kolom adalah 693071, dan dilakukan penghapusan sebesar 55095 data. Maka ada 637976 data yang akan digunakan selama proses prediksi regresi."
   ]
  },
  {
   "cell_type": "code",
   "execution_count": 14,
   "id": "19a451d4",
   "metadata": {},
   "outputs": [],
   "source": [
    "# Membuat kolom baru\n",
    "uber_lyft[\"Route\"] = uber_lyft[\"Pickup\"] + \" to \" + uber_lyft[\"Destination\"]"
   ]
  },
  {
   "cell_type": "markdown",
   "id": "699fe2e7",
   "metadata": {},
   "source": [
    "Code diatas melakukan pembuatan kolom/fitur baru yang merupakan penggabungan dari 2 fitur awal yaitu Pickup dan Destination. Kolom baru diberi nama 'Route' karena kolom ini akan merepresentasikan rute perjalanan uber dan lyft dari Pickup ke Destination."
   ]
  },
  {
   "cell_type": "code",
   "execution_count": 15,
   "id": "1ce46182",
   "metadata": {},
   "outputs": [
    {
     "data": {
      "text/html": [
       "<div>\n",
       "<style scoped>\n",
       "    .dataframe tbody tr th:only-of-type {\n",
       "        vertical-align: middle;\n",
       "    }\n",
       "\n",
       "    .dataframe tbody tr th {\n",
       "        vertical-align: top;\n",
       "    }\n",
       "\n",
       "    .dataframe thead th {\n",
       "        text-align: right;\n",
       "    }\n",
       "</style>\n",
       "<table border=\"1\" class=\"dataframe\">\n",
       "  <thead>\n",
       "    <tr style=\"text-align: right;\">\n",
       "      <th></th>\n",
       "      <th>Pickup</th>\n",
       "      <th>Destination</th>\n",
       "      <th>Taxi_product</th>\n",
       "      <th>Taxi_name</th>\n",
       "      <th>Price</th>\n",
       "      <th>Distance</th>\n",
       "      <th>Surge_multiplier</th>\n",
       "      <th>Route</th>\n",
       "    </tr>\n",
       "  </thead>\n",
       "  <tbody>\n",
       "    <tr>\n",
       "      <th>0</th>\n",
       "      <td>Haymarket Square</td>\n",
       "      <td>North Station</td>\n",
       "      <td>Lyft</td>\n",
       "      <td>Shared</td>\n",
       "      <td>5.0</td>\n",
       "      <td>0.44</td>\n",
       "      <td>1.0</td>\n",
       "      <td>Haymarket Square to North Station</td>\n",
       "    </tr>\n",
       "    <tr>\n",
       "      <th>1</th>\n",
       "      <td>Haymarket Square</td>\n",
       "      <td>North Station</td>\n",
       "      <td>Lyft</td>\n",
       "      <td>Lux</td>\n",
       "      <td>11.0</td>\n",
       "      <td>0.44</td>\n",
       "      <td>1.0</td>\n",
       "      <td>Haymarket Square to North Station</td>\n",
       "    </tr>\n",
       "    <tr>\n",
       "      <th>2</th>\n",
       "      <td>Haymarket Square</td>\n",
       "      <td>North Station</td>\n",
       "      <td>Lyft</td>\n",
       "      <td>Lyft</td>\n",
       "      <td>7.0</td>\n",
       "      <td>0.44</td>\n",
       "      <td>1.0</td>\n",
       "      <td>Haymarket Square to North Station</td>\n",
       "    </tr>\n",
       "    <tr>\n",
       "      <th>3</th>\n",
       "      <td>Haymarket Square</td>\n",
       "      <td>North Station</td>\n",
       "      <td>Lyft</td>\n",
       "      <td>Lux Black XL</td>\n",
       "      <td>26.0</td>\n",
       "      <td>0.44</td>\n",
       "      <td>1.0</td>\n",
       "      <td>Haymarket Square to North Station</td>\n",
       "    </tr>\n",
       "    <tr>\n",
       "      <th>4</th>\n",
       "      <td>Haymarket Square</td>\n",
       "      <td>North Station</td>\n",
       "      <td>Lyft</td>\n",
       "      <td>Lyft XL</td>\n",
       "      <td>9.0</td>\n",
       "      <td>0.44</td>\n",
       "      <td>1.0</td>\n",
       "      <td>Haymarket Square to North Station</td>\n",
       "    </tr>\n",
       "    <tr>\n",
       "      <th>5</th>\n",
       "      <td>Haymarket Square</td>\n",
       "      <td>North Station</td>\n",
       "      <td>Lyft</td>\n",
       "      <td>Lux Black</td>\n",
       "      <td>16.5</td>\n",
       "      <td>0.44</td>\n",
       "      <td>1.0</td>\n",
       "      <td>Haymarket Square to North Station</td>\n",
       "    </tr>\n",
       "    <tr>\n",
       "      <th>6</th>\n",
       "      <td>Back Bay</td>\n",
       "      <td>Northeastern University</td>\n",
       "      <td>Lyft</td>\n",
       "      <td>Lyft XL</td>\n",
       "      <td>10.5</td>\n",
       "      <td>1.08</td>\n",
       "      <td>1.0</td>\n",
       "      <td>Back Bay to Northeastern University</td>\n",
       "    </tr>\n",
       "    <tr>\n",
       "      <th>7</th>\n",
       "      <td>Back Bay</td>\n",
       "      <td>Northeastern University</td>\n",
       "      <td>Lyft</td>\n",
       "      <td>Lux Black</td>\n",
       "      <td>16.5</td>\n",
       "      <td>1.08</td>\n",
       "      <td>1.0</td>\n",
       "      <td>Back Bay to Northeastern University</td>\n",
       "    </tr>\n",
       "    <tr>\n",
       "      <th>8</th>\n",
       "      <td>Back Bay</td>\n",
       "      <td>Northeastern University</td>\n",
       "      <td>Lyft</td>\n",
       "      <td>Shared</td>\n",
       "      <td>3.0</td>\n",
       "      <td>1.08</td>\n",
       "      <td>1.0</td>\n",
       "      <td>Back Bay to Northeastern University</td>\n",
       "    </tr>\n",
       "    <tr>\n",
       "      <th>9</th>\n",
       "      <td>Back Bay</td>\n",
       "      <td>Northeastern University</td>\n",
       "      <td>Lyft</td>\n",
       "      <td>Lux Black XL</td>\n",
       "      <td>27.5</td>\n",
       "      <td>1.08</td>\n",
       "      <td>1.0</td>\n",
       "      <td>Back Bay to Northeastern University</td>\n",
       "    </tr>\n",
       "  </tbody>\n",
       "</table>\n",
       "</div>"
      ],
      "text/plain": [
       "             Pickup              Destination Taxi_product     Taxi_name  \\\n",
       "0  Haymarket Square            North Station         Lyft        Shared   \n",
       "1  Haymarket Square            North Station         Lyft           Lux   \n",
       "2  Haymarket Square            North Station         Lyft          Lyft   \n",
       "3  Haymarket Square            North Station         Lyft  Lux Black XL   \n",
       "4  Haymarket Square            North Station         Lyft       Lyft XL   \n",
       "5  Haymarket Square            North Station         Lyft     Lux Black   \n",
       "6          Back Bay  Northeastern University         Lyft       Lyft XL   \n",
       "7          Back Bay  Northeastern University         Lyft     Lux Black   \n",
       "8          Back Bay  Northeastern University         Lyft        Shared   \n",
       "9          Back Bay  Northeastern University         Lyft  Lux Black XL   \n",
       "\n",
       "   Price  Distance  Surge_multiplier                                Route  \n",
       "0    5.0      0.44               1.0    Haymarket Square to North Station  \n",
       "1   11.0      0.44               1.0    Haymarket Square to North Station  \n",
       "2    7.0      0.44               1.0    Haymarket Square to North Station  \n",
       "3   26.0      0.44               1.0    Haymarket Square to North Station  \n",
       "4    9.0      0.44               1.0    Haymarket Square to North Station  \n",
       "5   16.5      0.44               1.0    Haymarket Square to North Station  \n",
       "6   10.5      1.08               1.0  Back Bay to Northeastern University  \n",
       "7   16.5      1.08               1.0  Back Bay to Northeastern University  \n",
       "8    3.0      1.08               1.0  Back Bay to Northeastern University  \n",
       "9   27.5      1.08               1.0  Back Bay to Northeastern University  "
      ]
     },
     "execution_count": 15,
     "metadata": {},
     "output_type": "execute_result"
    }
   ],
   "source": [
    "# Menampilkan 10 data teratas\n",
    "uber_lyft.head(10)"
   ]
  },
  {
   "cell_type": "markdown",
   "id": "12733b8c",
   "metadata": {},
   "source": [
    "Code diatas menampilkan 10 data teratas untuk melihat penambahan kolom."
   ]
  },
  {
   "cell_type": "code",
   "execution_count": 16,
   "id": "03a47d03",
   "metadata": {},
   "outputs": [],
   "source": [
    "# Melakukan penghapusan kolom\n",
    "uber_lyft.drop(['Pickup', 'Destination'], axis=1, inplace=True)"
   ]
  },
  {
   "cell_type": "markdown",
   "id": "8b197894",
   "metadata": {},
   "source": [
    "Dilakukan penghapusan kolom Pickup dan Destination karena kedua kolom tersebut sudah di gabungkan dalam kolom baru yaitu 'Route'."
   ]
  },
  {
   "cell_type": "code",
   "execution_count": 17,
   "id": "ef2143b0",
   "metadata": {},
   "outputs": [
    {
     "data": {
      "text/html": [
       "<div>\n",
       "<style scoped>\n",
       "    .dataframe tbody tr th:only-of-type {\n",
       "        vertical-align: middle;\n",
       "    }\n",
       "\n",
       "    .dataframe tbody tr th {\n",
       "        vertical-align: top;\n",
       "    }\n",
       "\n",
       "    .dataframe thead th {\n",
       "        text-align: right;\n",
       "    }\n",
       "</style>\n",
       "<table border=\"1\" class=\"dataframe\">\n",
       "  <thead>\n",
       "    <tr style=\"text-align: right;\">\n",
       "      <th></th>\n",
       "      <th>Taxi_product</th>\n",
       "      <th>Taxi_name</th>\n",
       "      <th>Price</th>\n",
       "      <th>Distance</th>\n",
       "      <th>Surge_multiplier</th>\n",
       "      <th>Route</th>\n",
       "    </tr>\n",
       "  </thead>\n",
       "  <tbody>\n",
       "    <tr>\n",
       "      <th>0</th>\n",
       "      <td>Lyft</td>\n",
       "      <td>Shared</td>\n",
       "      <td>5.0</td>\n",
       "      <td>0.44</td>\n",
       "      <td>1.0</td>\n",
       "      <td>Haymarket Square to North Station</td>\n",
       "    </tr>\n",
       "    <tr>\n",
       "      <th>1</th>\n",
       "      <td>Lyft</td>\n",
       "      <td>Lux</td>\n",
       "      <td>11.0</td>\n",
       "      <td>0.44</td>\n",
       "      <td>1.0</td>\n",
       "      <td>Haymarket Square to North Station</td>\n",
       "    </tr>\n",
       "    <tr>\n",
       "      <th>2</th>\n",
       "      <td>Lyft</td>\n",
       "      <td>Lyft</td>\n",
       "      <td>7.0</td>\n",
       "      <td>0.44</td>\n",
       "      <td>1.0</td>\n",
       "      <td>Haymarket Square to North Station</td>\n",
       "    </tr>\n",
       "    <tr>\n",
       "      <th>3</th>\n",
       "      <td>Lyft</td>\n",
       "      <td>Lux Black XL</td>\n",
       "      <td>26.0</td>\n",
       "      <td>0.44</td>\n",
       "      <td>1.0</td>\n",
       "      <td>Haymarket Square to North Station</td>\n",
       "    </tr>\n",
       "    <tr>\n",
       "      <th>4</th>\n",
       "      <td>Lyft</td>\n",
       "      <td>Lyft XL</td>\n",
       "      <td>9.0</td>\n",
       "      <td>0.44</td>\n",
       "      <td>1.0</td>\n",
       "      <td>Haymarket Square to North Station</td>\n",
       "    </tr>\n",
       "  </tbody>\n",
       "</table>\n",
       "</div>"
      ],
      "text/plain": [
       "  Taxi_product     Taxi_name  Price  Distance  Surge_multiplier  \\\n",
       "0         Lyft        Shared    5.0      0.44               1.0   \n",
       "1         Lyft           Lux   11.0      0.44               1.0   \n",
       "2         Lyft          Lyft    7.0      0.44               1.0   \n",
       "3         Lyft  Lux Black XL   26.0      0.44               1.0   \n",
       "4         Lyft       Lyft XL    9.0      0.44               1.0   \n",
       "\n",
       "                               Route  \n",
       "0  Haymarket Square to North Station  \n",
       "1  Haymarket Square to North Station  \n",
       "2  Haymarket Square to North Station  \n",
       "3  Haymarket Square to North Station  \n",
       "4  Haymarket Square to North Station  "
      ]
     },
     "execution_count": 17,
     "metadata": {},
     "output_type": "execute_result"
    }
   ],
   "source": [
    "# Menampilkan data teratas\n",
    "uber_lyft.head()"
   ]
  },
  {
   "cell_type": "markdown",
   "id": "bb2efceb",
   "metadata": {},
   "source": [
    "Menampilkan kembali data teratas untuk melihat perubahan, dapat dilihat bahwa terdapat 6 kolom baru yaitu Taxi_product, Taxi_name, Price, Distance, Surge_multiplier, dan Route. "
   ]
  },
  {
   "cell_type": "code",
   "execution_count": 18,
   "id": "f290ebac",
   "metadata": {},
   "outputs": [
    {
     "name": "stdout",
     "output_type": "stream",
     "text": [
      "Keunikan data pada kolom Route sebanyak     : 72\n",
      "Keunikan data pada kolom Taxi_name sebanyak : 12\n"
     ]
    }
   ],
   "source": [
    "print('Keunikan data pada kolom Route sebanyak     :', uber_lyft['Route'].nunique())\n",
    "print('Keunikan data pada kolom Taxi_name sebanyak :', uber_lyft['Taxi_name'].nunique())"
   ]
  },
  {
   "cell_type": "markdown",
   "id": "041471b2",
   "metadata": {},
   "source": [
    "Code diatas dilakukan pengecekan keunikan data untuk kolom route dan taxi_name, karena pada proses processing akan dilakukan label encoder."
   ]
  },
  {
   "attachments": {},
   "cell_type": "markdown",
   "id": "0000167c",
   "metadata": {},
   "source": [
    "### E. Eksplorasi Data"
   ]
  },
  {
   "cell_type": "code",
   "execution_count": 19,
   "id": "a8a63cc9",
   "metadata": {},
   "outputs": [],
   "source": [
    "#mensortir data jenis taxi menurut data yang terbesar hingga terkecil\n",
    "taxiname = uber_lyft['Taxi_name'].value_counts()\n",
    "taxiname = taxiname.sort_values(ascending=False)"
   ]
  },
  {
   "cell_type": "code",
   "execution_count": 20,
   "id": "2170deeb",
   "metadata": {},
   "outputs": [
    {
     "data": {
      "text/plain": [
       "UberXL          55096\n",
       "WAV             55096\n",
       "Black SUV       55096\n",
       "Black           55095\n",
       "UberX           55094\n",
       "UberPool        55091\n",
       "Lux             51235\n",
       "Lyft            51235\n",
       "Lux Black XL    51235\n",
       "Lyft XL         51235\n",
       "Lux Black       51235\n",
       "Shared          51233\n",
       "Name: Taxi_name, dtype: int64"
      ]
     },
     "execution_count": 20,
     "metadata": {},
     "output_type": "execute_result"
    }
   ],
   "source": [
    "taxiname"
   ]
  },
  {
   "cell_type": "code",
   "execution_count": 21,
   "id": "7c4d9963",
   "metadata": {},
   "outputs": [
    {
     "data": {
      "image/png": "[encoded data removed]",
      "text/plain": [
       "<Figure size 720x360 with 1 Axes>"
      ]
     },
     "metadata": {
      "needs_background": "light"
     },
     "output_type": "display_data"
    }
   ],
   "source": [
    "# Menampilkan plot horizontal bar dari dataframe taxiname\n",
    "# dengan ukuran gambar 10 x 5 inci\n",
    "taxiname.plot(kind='bar', figsize=(10,5), color='orange', edgecolor='black')\n",
    "\n",
    "# Menetapkan label untuk sumbu x\n",
    "plt.xlabel(\"Name of Taxi\")\n",
    "\n",
    "# Menetapkan label untuk sumbu y\n",
    "plt.ylabel(\"Count\")\n",
    "\n",
    "# Menetapkan judul untuk plot\n",
    "plt.title(\"Distribution of Taxi Name\\n\")\n",
    "\n",
    "# Menampilkan plot\n",
    "plt.show()"
   ]
  },
  {
   "cell_type": "markdown",
   "id": "7b5a31e7",
   "metadata": {},
   "source": [
    "Code diatas digunakan untuk menampilkan distribusi data berdasarkan jenis mobil taxi yang paling banyak digunakan dengan tampilan berupa barchart. Dapat dilihat dari visualisasi diatas, UberXL merupakan tipe mobil yang paling sering digunakan."
   ]
  },
  {
   "cell_type": "code",
   "execution_count": 22,
   "id": "af1a171f",
   "metadata": {},
   "outputs": [],
   "source": [
    "#Membuat dataframe rute_distance yang merupakan hasil pengelompokkan berdasarkan kategori rute (Route) dan jarak (Distance)\n",
    "rute_distance = uber_lyft.groupby(['Route'])['Distance'].first()"
   ]
  },
  {
   "cell_type": "code",
   "execution_count": 23,
   "id": "99daba55",
   "metadata": {},
   "outputs": [
    {
     "data": {
      "text/plain": [
       "Route\n",
       "Financial District to Boston University          4.44\n",
       "Fenway to Financial District                     4.43\n",
       "Northeastern University to Financial District    4.23\n",
       "Financial District to Fenway                     3.80\n",
       "Boston University to Financial District          3.68\n",
       "                                                 ... \n",
       "Haymarket Square to West End                     0.71\n",
       "Theatre District to South Station                0.55\n",
       "South Station to Financial District              0.54\n",
       "Haymarket Square to North Station                0.44\n",
       "Financial District to South Station              0.39\n",
       "Name: Distance, Length: 72, dtype: float64"
      ]
     },
     "execution_count": 23,
     "metadata": {},
     "output_type": "execute_result"
    }
   ],
   "source": [
    "# Mengurutkan nilai berdasarkan dari yang terbesar hingga terkecil\n",
    "rute_distance = rute_distance.sort_values(ascending=False)\n",
    "rute_distance"
   ]
  },
  {
   "cell_type": "code",
   "execution_count": 24,
   "id": "4877f7f3",
   "metadata": {},
   "outputs": [],
   "source": [
    "rute_distance_top10 = rute_distance.head(10)"
   ]
  },
  {
   "cell_type": "code",
   "execution_count": 25,
   "id": "8d47a12e",
   "metadata": {},
   "outputs": [
    {
     "data": {
      "image/png": "[encoded data removed]",
      "text/plain": [
       "<Figure size 720x360 with 1 Axes>"
      ]
     },
     "metadata": {
      "needs_background": "light"
     },
     "output_type": "display_data"
    }
   ],
   "source": [
    "rute_distance_top10.plot(kind='barh', figsize=(10,5), edgecolor='red')\n",
    "\n",
    "# Menetapkan label untuk sumbu x\n",
    "plt.xlabel(\"Distance\")\n",
    "\n",
    "# Menetapkan label untuk sumbu y\n",
    "plt.ylabel(\"Top 10 Route\")\n",
    "\n",
    "# Menetapkan judul untuk plot\n",
    "plt.title(\"Histogram Route vs Distance\\n\")\n",
    "\n",
    "# Menampilkan plot\n",
    "plt.show()"
   ]
  },
  {
   "cell_type": "markdown",
   "id": "a1231b22",
   "metadata": {},
   "source": [
    "Code diatas menampilkan plot dari sebuah histogram yang menampilkan data yang berkaitan dengan 10 rute teratas yang sering di gunakan dengan jarak tertinggi."
   ]
  },
  {
   "cell_type": "code",
   "execution_count": 26,
   "id": "cc55d3c3",
   "metadata": {},
   "outputs": [
    {
     "data": {
      "image/png": "[encoded data removed]",
      "text/plain": [
       "<Figure size 432x288 with 1 Axes>"
      ]
     },
     "metadata": {
      "needs_background": "light"
     },
     "output_type": "display_data"
    }
   ],
   "source": [
    "plt.hist(uber_lyft['Price'], bins=50, color='green', edgecolor='black')\n",
    "\n",
    "# Menetapkan label untuk sumbu x\n",
    "plt.xlabel(\"Price\")\n",
    "\n",
    "# Menetapkan label untuk sumbu y\n",
    "plt.ylabel(\"Count\")\n",
    "\n",
    "# Menetapkan judul untuk plot\n",
    "plt.title(\"Price distribution histogram of uber and lyft\\n\")\n",
    "\n",
    "# Menampilkan plot\n",
    "plt.show()"
   ]
  },
  {
   "cell_type": "markdown",
   "id": "aa95d359",
   "metadata": {},
   "source": [
    "Melalui plot diatas dapat kita lihat bahwa distribusi data untuk kolom 'price' tersebar secara tidak merata. Dapat dilihat bahwa pengguna taxi lebih sering menggunakan taxi dalam rentang harga 0-20 dollar, maka dari itu distribusi plot 'price' disebut tidak distribusi yang tidak normal."
   ]
  },
  {
   "cell_type": "code",
   "execution_count": 27,
   "id": "b0c38b42",
   "metadata": {},
   "outputs": [
    {
     "data": {
      "text/plain": [
       "Uber    330568\n",
       "Lyft    307408\n",
       "Name: Taxi_product, dtype: int64"
      ]
     },
     "execution_count": 27,
     "metadata": {},
     "output_type": "execute_result"
    }
   ],
   "source": [
    "# menampilkan jumlah dari masing masing produk taxi(Taxi_product) antara Uber dan Lyft\n",
    "taxiproduct = uber_lyft['Taxi_product'].value_counts()\n",
    "taxiproduct"
   ]
  },
  {
   "cell_type": "code",
   "execution_count": 28,
   "id": "d623b8f7",
   "metadata": {},
   "outputs": [
    {
     "data": {
      "text/plain": [
       "<matplotlib.legend.Legend at 0x1f50a1b3af0>"
      ]
     },
     "execution_count": 28,
     "metadata": {},
     "output_type": "execute_result"
    },
    {
     "data": {
      "image/png": "[encoded data removed]",
      "text/plain": [
       "<Figure size 1080x432 with 1 Axes>"
      ]
     },
     "metadata": {},
     "output_type": "display_data"
    }
   ],
   "source": [
    "# Menampilkan Pie Chart berdasarkan warna yang ditentukan\n",
    "color_list = [\"gold\", \"yellowgreen\"]\n",
    "\n",
    "# Menampilkan chart yang menarik dan lebih mudah dipahami\n",
    "taxiproduct.plot(\n",
    "    kind='pie'\n",
    "    ,figsize=(15,6)\n",
    "    ,autopct='%1.1f%%'\n",
    "    ,startangle=90\n",
    "    ,shadow=True\n",
    "    ,labels=taxiproduct.index\n",
    "    ,colors=color_list\n",
    "    ,pctdistance=0.45\n",
    ")\n",
    "\n",
    "# Menampilkan title untuk chart yang dibuat\n",
    "plt.title(\"Uber vs Lyft\")\n",
    "plt.axis('equal')\n",
    "plt.legend(loc='upper left')"
   ]
  },
  {
   "cell_type": "markdown",
   "id": "95578535",
   "metadata": {},
   "source": [
    "Pie Chart diatas menampilkan persentase dari kedua product taxi yaitu Uber dengan tampilan warna kuning sebanyak 51,8% dan Lyft dengan tampilan warna hijau sebanyak 48,2%. Dapat dilihat bahwa Uber lebih sering digunakan daripada lyft."
   ]
  },
  {
   "cell_type": "code",
   "execution_count": 29,
   "id": "9ede4f94",
   "metadata": {},
   "outputs": [
    {
     "data": {
      "text/plain": [
       "<function matplotlib.pyplot.show(close=None, block=None)>"
      ]
     },
     "execution_count": 29,
     "metadata": {},
     "output_type": "execute_result"
    },
    {
     "data": {
      "image/png": "[encoded data removed]",
      "text/plain": [
       "<Figure size 432x288 with 1 Axes>"
      ]
     },
     "metadata": {
      "needs_background": "light"
     },
     "output_type": "display_data"
    }
   ],
   "source": [
    "source_cloud = uber_lyft['Route']\n",
    "text = ' '.join(source_cloud)\n",
    "sourceWC = WordCloud(\n",
    "    background_color='white',\n",
    "    max_words=600000,\n",
    ").generate(text)\n",
    "\n",
    "# Membangun plot\n",
    "plt.imshow(sourceWC, interpolation='bilinear')\n",
    "plt.axis('off')\n",
    "\n",
    "# Menampilkan plot\n",
    "plt.show"
   ]
  },
  {
   "cell_type": "markdown",
   "id": "83e5a849",
   "metadata": {},
   "source": [
    "Kode diatas menggunakan data dari rute taxi yang diolah, tujuan dari World Clouds ini adalah untuk melihat nama kota mana yang paling sering muncul."
   ]
  },
  {
   "cell_type": "markdown",
   "id": "7cd58e42",
   "metadata": {},
   "source": [
    "### F. Data Preprocessing"
   ]
  },
  {
   "cell_type": "markdown",
   "id": "6d428bb2",
   "metadata": {},
   "source": [
    "#### Label Encoder"
   ]
  },
  {
   "cell_type": "code",
   "execution_count": 30,
   "id": "04a3d558",
   "metadata": {},
   "outputs": [
    {
     "name": "stdout",
     "output_type": "stream",
     "text": [
      "Taxi_product : ['Lyft' 'Uber']\n",
      "\n",
      "Taxi_name : ['Shared' 'Lux' 'Lyft' 'Lux Black XL' 'Lyft XL' 'Lux Black' 'UberXL'\n",
      " 'Black' 'UberX' 'WAV' 'Black SUV' 'UberPool']\n",
      "\n",
      "Route : ['Haymarket Square to North Station' 'Back Bay to Northeastern University'\n",
      " 'North End to West End' 'North Station to Haymarket Square'\n",
      " 'Beacon Hill to South Station' 'North Station to Northeastern University'\n",
      " 'North Station to Fenway' 'North Station to South Station'\n",
      " 'Haymarket Square to West End' 'Haymarket Square to Theatre District'\n",
      " 'North End to Beacon Hill' 'Haymarket Square to Beacon Hill'\n",
      " 'Boston University to North Station' 'Fenway to West End'\n",
      " 'South Station to Back Bay' 'Fenway to North Station'\n",
      " 'Theatre District to North End' 'West End to Northeastern University'\n",
      " 'North End to Back Bay' 'Theatre District to Haymarket Square'\n",
      " 'Beacon Hill to Fenway' 'Back Bay to North End'\n",
      " 'North Station to North End' 'Financial District to Haymarket Square'\n",
      " 'Fenway to Financial District' 'Back Bay to Fenway'\n",
      " 'North End to North Station' 'West End to Fenway'\n",
      " 'North End to Theatre District' 'South Station to Theatre District'\n",
      " 'Northeastern University to Beacon Hill' 'Boston University to West End'\n",
      " 'Theatre District to Fenway' 'Northeastern University to North Station'\n",
      " 'Haymarket Square to Back Bay'\n",
      " 'Financial District to Northeastern University'\n",
      " 'Northeastern University to Theatre District'\n",
      " 'Back Bay to Boston University' 'Theatre District to Boston University'\n",
      " 'Beacon Hill to Haymarket Square'\n",
      " 'Beacon Hill to Northeastern University'\n",
      " 'Theatre District to Northeastern University' 'West End to South Station'\n",
      " 'South Station to Beacon Hill' 'South Station to North Station'\n",
      " 'Haymarket Square to Financial District' 'Beacon Hill to North End'\n",
      " 'Back Bay to South Station' 'West End to Boston University'\n",
      " 'Financial District to North End' 'Boston University to Theatre District'\n",
      " 'North End to Financial District' 'North Station to Boston University'\n",
      " 'Boston University to Beacon Hill' 'Theatre District to South Station'\n",
      " 'Financial District to South Station' 'Financial District to Fenway'\n",
      " 'Fenway to Beacon Hill' 'Northeastern University to Financial District'\n",
      " 'Boston University to Back Bay' 'Beacon Hill to Boston University'\n",
      " 'South Station to West End' 'South Station to Financial District'\n",
      " 'Boston University to Financial District' 'Back Bay to Haymarket Square'\n",
      " 'Northeastern University to West End' 'Fenway to Theatre District'\n",
      " 'West End to North End' 'Northeastern University to Back Bay'\n",
      " 'Financial District to Boston University' 'West End to Haymarket Square'\n",
      " 'Fenway to Back Bay']\n",
      "\n"
     ]
    }
   ],
   "source": [
    "# Melakukan pengecekan kolom kategorikal\n",
    "category_col = uber_lyft.select_dtypes(include=['object']).columns.tolist()\n",
    "for column in uber_lyft[category_col]:\n",
    "    print(f'{column} : {uber_lyft[column].unique()}')\n",
    "    print()"
   ]
  },
  {
   "cell_type": "markdown",
   "id": "13c41b99",
   "metadata": {},
   "source": [
    "Dengan kode diatas, kita dapat melihat nilai unik yang terdapat dalam setiap kolom bertipe data object pada dataset uber_lyft, sehingga dapat membantu dalam memahami data dan membuat keputusan tentang bagaimana cara memproses dan menganalisis dataset tersebut"
   ]
  },
  {
   "cell_type": "code",
   "execution_count": 31,
   "id": "81aa348d",
   "metadata": {},
   "outputs": [
    {
     "data": {
      "text/html": [
       "<div>\n",
       "<style scoped>\n",
       "    .dataframe tbody tr th:only-of-type {\n",
       "        vertical-align: middle;\n",
       "    }\n",
       "\n",
       "    .dataframe tbody tr th {\n",
       "        vertical-align: top;\n",
       "    }\n",
       "\n",
       "    .dataframe thead th {\n",
       "        text-align: right;\n",
       "    }\n",
       "</style>\n",
       "<table border=\"1\" class=\"dataframe\">\n",
       "  <thead>\n",
       "    <tr style=\"text-align: right;\">\n",
       "      <th></th>\n",
       "      <th>Taxi_product</th>\n",
       "      <th>Taxi_name</th>\n",
       "      <th>Price</th>\n",
       "      <th>Distance</th>\n",
       "      <th>Surge_multiplier</th>\n",
       "      <th>Route</th>\n",
       "    </tr>\n",
       "  </thead>\n",
       "  <tbody>\n",
       "    <tr>\n",
       "      <th>0</th>\n",
       "      <td>0</td>\n",
       "      <td>Shared</td>\n",
       "      <td>5.0</td>\n",
       "      <td>0.44</td>\n",
       "      <td>1.0</td>\n",
       "      <td>Haymarket Square to North Station</td>\n",
       "    </tr>\n",
       "    <tr>\n",
       "      <th>1</th>\n",
       "      <td>0</td>\n",
       "      <td>Lux</td>\n",
       "      <td>11.0</td>\n",
       "      <td>0.44</td>\n",
       "      <td>1.0</td>\n",
       "      <td>Haymarket Square to North Station</td>\n",
       "    </tr>\n",
       "    <tr>\n",
       "      <th>2</th>\n",
       "      <td>0</td>\n",
       "      <td>Lyft</td>\n",
       "      <td>7.0</td>\n",
       "      <td>0.44</td>\n",
       "      <td>1.0</td>\n",
       "      <td>Haymarket Square to North Station</td>\n",
       "    </tr>\n",
       "    <tr>\n",
       "      <th>3</th>\n",
       "      <td>0</td>\n",
       "      <td>Lux Black XL</td>\n",
       "      <td>26.0</td>\n",
       "      <td>0.44</td>\n",
       "      <td>1.0</td>\n",
       "      <td>Haymarket Square to North Station</td>\n",
       "    </tr>\n",
       "    <tr>\n",
       "      <th>4</th>\n",
       "      <td>0</td>\n",
       "      <td>Lyft XL</td>\n",
       "      <td>9.0</td>\n",
       "      <td>0.44</td>\n",
       "      <td>1.0</td>\n",
       "      <td>Haymarket Square to North Station</td>\n",
       "    </tr>\n",
       "    <tr>\n",
       "      <th>5</th>\n",
       "      <td>0</td>\n",
       "      <td>Lux Black</td>\n",
       "      <td>16.5</td>\n",
       "      <td>0.44</td>\n",
       "      <td>1.0</td>\n",
       "      <td>Haymarket Square to North Station</td>\n",
       "    </tr>\n",
       "    <tr>\n",
       "      <th>6</th>\n",
       "      <td>0</td>\n",
       "      <td>Lyft XL</td>\n",
       "      <td>10.5</td>\n",
       "      <td>1.08</td>\n",
       "      <td>1.0</td>\n",
       "      <td>Back Bay to Northeastern University</td>\n",
       "    </tr>\n",
       "    <tr>\n",
       "      <th>7</th>\n",
       "      <td>0</td>\n",
       "      <td>Lux Black</td>\n",
       "      <td>16.5</td>\n",
       "      <td>1.08</td>\n",
       "      <td>1.0</td>\n",
       "      <td>Back Bay to Northeastern University</td>\n",
       "    </tr>\n",
       "    <tr>\n",
       "      <th>8</th>\n",
       "      <td>0</td>\n",
       "      <td>Shared</td>\n",
       "      <td>3.0</td>\n",
       "      <td>1.08</td>\n",
       "      <td>1.0</td>\n",
       "      <td>Back Bay to Northeastern University</td>\n",
       "    </tr>\n",
       "    <tr>\n",
       "      <th>9</th>\n",
       "      <td>0</td>\n",
       "      <td>Lux Black XL</td>\n",
       "      <td>27.5</td>\n",
       "      <td>1.08</td>\n",
       "      <td>1.0</td>\n",
       "      <td>Back Bay to Northeastern University</td>\n",
       "    </tr>\n",
       "    <tr>\n",
       "      <th>10</th>\n",
       "      <td>0</td>\n",
       "      <td>Lux</td>\n",
       "      <td>13.5</td>\n",
       "      <td>1.08</td>\n",
       "      <td>1.0</td>\n",
       "      <td>Back Bay to Northeastern University</td>\n",
       "    </tr>\n",
       "    <tr>\n",
       "      <th>11</th>\n",
       "      <td>0</td>\n",
       "      <td>Lyft</td>\n",
       "      <td>7.0</td>\n",
       "      <td>1.08</td>\n",
       "      <td>1.0</td>\n",
       "      <td>Back Bay to Northeastern University</td>\n",
       "    </tr>\n",
       "    <tr>\n",
       "      <th>12</th>\n",
       "      <td>1</td>\n",
       "      <td>UberXL</td>\n",
       "      <td>12.0</td>\n",
       "      <td>1.11</td>\n",
       "      <td>1.0</td>\n",
       "      <td>North End to West End</td>\n",
       "    </tr>\n",
       "    <tr>\n",
       "      <th>13</th>\n",
       "      <td>1</td>\n",
       "      <td>Black</td>\n",
       "      <td>16.0</td>\n",
       "      <td>1.11</td>\n",
       "      <td>1.0</td>\n",
       "      <td>North End to West End</td>\n",
       "    </tr>\n",
       "    <tr>\n",
       "      <th>14</th>\n",
       "      <td>1</td>\n",
       "      <td>UberX</td>\n",
       "      <td>7.5</td>\n",
       "      <td>1.11</td>\n",
       "      <td>1.0</td>\n",
       "      <td>North End to West End</td>\n",
       "    </tr>\n",
       "    <tr>\n",
       "      <th>15</th>\n",
       "      <td>1</td>\n",
       "      <td>WAV</td>\n",
       "      <td>7.5</td>\n",
       "      <td>1.11</td>\n",
       "      <td>1.0</td>\n",
       "      <td>North End to West End</td>\n",
       "    </tr>\n",
       "    <tr>\n",
       "      <th>16</th>\n",
       "      <td>1</td>\n",
       "      <td>Black SUV</td>\n",
       "      <td>26.0</td>\n",
       "      <td>1.11</td>\n",
       "      <td>1.0</td>\n",
       "      <td>North End to West End</td>\n",
       "    </tr>\n",
       "    <tr>\n",
       "      <th>17</th>\n",
       "      <td>1</td>\n",
       "      <td>UberPool</td>\n",
       "      <td>5.5</td>\n",
       "      <td>1.11</td>\n",
       "      <td>1.0</td>\n",
       "      <td>North End to West End</td>\n",
       "    </tr>\n",
       "    <tr>\n",
       "      <th>19</th>\n",
       "      <td>0</td>\n",
       "      <td>Lyft XL</td>\n",
       "      <td>11.0</td>\n",
       "      <td>0.72</td>\n",
       "      <td>1.0</td>\n",
       "      <td>North Station to Haymarket Square</td>\n",
       "    </tr>\n",
       "    <tr>\n",
       "      <th>20</th>\n",
       "      <td>0</td>\n",
       "      <td>Lux Black</td>\n",
       "      <td>16.5</td>\n",
       "      <td>0.72</td>\n",
       "      <td>1.0</td>\n",
       "      <td>North Station to Haymarket Square</td>\n",
       "    </tr>\n",
       "  </tbody>\n",
       "</table>\n",
       "</div>"
      ],
      "text/plain": [
       "    Taxi_product     Taxi_name  Price  Distance  Surge_multiplier  \\\n",
       "0              0        Shared    5.0      0.44               1.0   \n",
       "1              0           Lux   11.0      0.44               1.0   \n",
       "2              0          Lyft    7.0      0.44               1.0   \n",
       "3              0  Lux Black XL   26.0      0.44               1.0   \n",
       "4              0       Lyft XL    9.0      0.44               1.0   \n",
       "5              0     Lux Black   16.5      0.44               1.0   \n",
       "6              0       Lyft XL   10.5      1.08               1.0   \n",
       "7              0     Lux Black   16.5      1.08               1.0   \n",
       "8              0        Shared    3.0      1.08               1.0   \n",
       "9              0  Lux Black XL   27.5      1.08               1.0   \n",
       "10             0           Lux   13.5      1.08               1.0   \n",
       "11             0          Lyft    7.0      1.08               1.0   \n",
       "12             1        UberXL   12.0      1.11               1.0   \n",
       "13             1         Black   16.0      1.11               1.0   \n",
       "14             1         UberX    7.5      1.11               1.0   \n",
       "15             1           WAV    7.5      1.11               1.0   \n",
       "16             1     Black SUV   26.0      1.11               1.0   \n",
       "17             1      UberPool    5.5      1.11               1.0   \n",
       "19             0       Lyft XL   11.0      0.72               1.0   \n",
       "20             0     Lux Black   16.5      0.72               1.0   \n",
       "\n",
       "                                  Route  \n",
       "0     Haymarket Square to North Station  \n",
       "1     Haymarket Square to North Station  \n",
       "2     Haymarket Square to North Station  \n",
       "3     Haymarket Square to North Station  \n",
       "4     Haymarket Square to North Station  \n",
       "5     Haymarket Square to North Station  \n",
       "6   Back Bay to Northeastern University  \n",
       "7   Back Bay to Northeastern University  \n",
       "8   Back Bay to Northeastern University  \n",
       "9   Back Bay to Northeastern University  \n",
       "10  Back Bay to Northeastern University  \n",
       "11  Back Bay to Northeastern University  \n",
       "12                North End to West End  \n",
       "13                North End to West End  \n",
       "14                North End to West End  \n",
       "15                North End to West End  \n",
       "16                North End to West End  \n",
       "17                North End to West End  \n",
       "19    North Station to Haymarket Square  \n",
       "20    North Station to Haymarket Square  "
      ]
     },
     "execution_count": 31,
     "metadata": {},
     "output_type": "execute_result"
    }
   ],
   "source": [
    "# Menerapkan LabelEncoder pada kolom 'Taxi_product'\n",
    "le = LabelEncoder()\n",
    "uber_lyft['Taxi_product'] = le.fit_transform(uber_lyft['Taxi_product'])\n",
    "\n",
    "uber_lyft.head(20)"
   ]
  },
  {
   "cell_type": "markdown",
   "id": "6944a131",
   "metadata": {},
   "source": [
    "Code diatas digunakan untuk mengubah nilai kategorikal pada kolom \"Taxi_product\" menjadi nilai numerik menggunakan fungsi LabelEncoder() yang merupakan teknik yang digunakan untuk mengubah nilai kategorikal menjadi nilai numerik, sehingga memungkinkan kita untuk menggunakan variabel tersebut dalam model yang memerlukan input numerik."
   ]
  },
  {
   "cell_type": "code",
   "execution_count": 32,
   "id": "e5928486",
   "metadata": {},
   "outputs": [
    {
     "data": {
      "text/html": [
       "<div>\n",
       "<style scoped>\n",
       "    .dataframe tbody tr th:only-of-type {\n",
       "        vertical-align: middle;\n",
       "    }\n",
       "\n",
       "    .dataframe tbody tr th {\n",
       "        vertical-align: top;\n",
       "    }\n",
       "\n",
       "    .dataframe thead th {\n",
       "        text-align: right;\n",
       "    }\n",
       "</style>\n",
       "<table border=\"1\" class=\"dataframe\">\n",
       "  <thead>\n",
       "    <tr style=\"text-align: right;\">\n",
       "      <th></th>\n",
       "      <th>Taxi_product</th>\n",
       "      <th>Taxi_name</th>\n",
       "      <th>Price</th>\n",
       "      <th>Distance</th>\n",
       "      <th>Surge_multiplier</th>\n",
       "      <th>Route</th>\n",
       "    </tr>\n",
       "  </thead>\n",
       "  <tbody>\n",
       "    <tr>\n",
       "      <th>0</th>\n",
       "      <td>0</td>\n",
       "      <td>Shared</td>\n",
       "      <td>5.0</td>\n",
       "      <td>0.44</td>\n",
       "      <td>1.0</td>\n",
       "      <td>33</td>\n",
       "    </tr>\n",
       "    <tr>\n",
       "      <th>1</th>\n",
       "      <td>0</td>\n",
       "      <td>Lux</td>\n",
       "      <td>11.0</td>\n",
       "      <td>0.44</td>\n",
       "      <td>1.0</td>\n",
       "      <td>33</td>\n",
       "    </tr>\n",
       "    <tr>\n",
       "      <th>2</th>\n",
       "      <td>0</td>\n",
       "      <td>Lyft</td>\n",
       "      <td>7.0</td>\n",
       "      <td>0.44</td>\n",
       "      <td>1.0</td>\n",
       "      <td>33</td>\n",
       "    </tr>\n",
       "    <tr>\n",
       "      <th>3</th>\n",
       "      <td>0</td>\n",
       "      <td>Lux Black XL</td>\n",
       "      <td>26.0</td>\n",
       "      <td>0.44</td>\n",
       "      <td>1.0</td>\n",
       "      <td>33</td>\n",
       "    </tr>\n",
       "    <tr>\n",
       "      <th>4</th>\n",
       "      <td>0</td>\n",
       "      <td>Lyft XL</td>\n",
       "      <td>9.0</td>\n",
       "      <td>0.44</td>\n",
       "      <td>1.0</td>\n",
       "      <td>33</td>\n",
       "    </tr>\n",
       "    <tr>\n",
       "      <th>5</th>\n",
       "      <td>0</td>\n",
       "      <td>Lux Black</td>\n",
       "      <td>16.5</td>\n",
       "      <td>0.44</td>\n",
       "      <td>1.0</td>\n",
       "      <td>33</td>\n",
       "    </tr>\n",
       "    <tr>\n",
       "      <th>6</th>\n",
       "      <td>0</td>\n",
       "      <td>Lyft XL</td>\n",
       "      <td>10.5</td>\n",
       "      <td>1.08</td>\n",
       "      <td>1.0</td>\n",
       "      <td>4</td>\n",
       "    </tr>\n",
       "    <tr>\n",
       "      <th>7</th>\n",
       "      <td>0</td>\n",
       "      <td>Lux Black</td>\n",
       "      <td>16.5</td>\n",
       "      <td>1.08</td>\n",
       "      <td>1.0</td>\n",
       "      <td>4</td>\n",
       "    </tr>\n",
       "    <tr>\n",
       "      <th>8</th>\n",
       "      <td>0</td>\n",
       "      <td>Shared</td>\n",
       "      <td>3.0</td>\n",
       "      <td>1.08</td>\n",
       "      <td>1.0</td>\n",
       "      <td>4</td>\n",
       "    </tr>\n",
       "    <tr>\n",
       "      <th>9</th>\n",
       "      <td>0</td>\n",
       "      <td>Lux Black XL</td>\n",
       "      <td>27.5</td>\n",
       "      <td>1.08</td>\n",
       "      <td>1.0</td>\n",
       "      <td>4</td>\n",
       "    </tr>\n",
       "    <tr>\n",
       "      <th>10</th>\n",
       "      <td>0</td>\n",
       "      <td>Lux</td>\n",
       "      <td>13.5</td>\n",
       "      <td>1.08</td>\n",
       "      <td>1.0</td>\n",
       "      <td>4</td>\n",
       "    </tr>\n",
       "    <tr>\n",
       "      <th>11</th>\n",
       "      <td>0</td>\n",
       "      <td>Lyft</td>\n",
       "      <td>7.0</td>\n",
       "      <td>1.08</td>\n",
       "      <td>1.0</td>\n",
       "      <td>4</td>\n",
       "    </tr>\n",
       "    <tr>\n",
       "      <th>12</th>\n",
       "      <td>1</td>\n",
       "      <td>UberXL</td>\n",
       "      <td>12.0</td>\n",
       "      <td>1.11</td>\n",
       "      <td>1.0</td>\n",
       "      <td>41</td>\n",
       "    </tr>\n",
       "    <tr>\n",
       "      <th>13</th>\n",
       "      <td>1</td>\n",
       "      <td>Black</td>\n",
       "      <td>16.0</td>\n",
       "      <td>1.11</td>\n",
       "      <td>1.0</td>\n",
       "      <td>41</td>\n",
       "    </tr>\n",
       "    <tr>\n",
       "      <th>14</th>\n",
       "      <td>1</td>\n",
       "      <td>UberX</td>\n",
       "      <td>7.5</td>\n",
       "      <td>1.11</td>\n",
       "      <td>1.0</td>\n",
       "      <td>41</td>\n",
       "    </tr>\n",
       "    <tr>\n",
       "      <th>15</th>\n",
       "      <td>1</td>\n",
       "      <td>WAV</td>\n",
       "      <td>7.5</td>\n",
       "      <td>1.11</td>\n",
       "      <td>1.0</td>\n",
       "      <td>41</td>\n",
       "    </tr>\n",
       "    <tr>\n",
       "      <th>16</th>\n",
       "      <td>1</td>\n",
       "      <td>Black SUV</td>\n",
       "      <td>26.0</td>\n",
       "      <td>1.11</td>\n",
       "      <td>1.0</td>\n",
       "      <td>41</td>\n",
       "    </tr>\n",
       "    <tr>\n",
       "      <th>17</th>\n",
       "      <td>1</td>\n",
       "      <td>UberPool</td>\n",
       "      <td>5.5</td>\n",
       "      <td>1.11</td>\n",
       "      <td>1.0</td>\n",
       "      <td>41</td>\n",
       "    </tr>\n",
       "    <tr>\n",
       "      <th>19</th>\n",
       "      <td>0</td>\n",
       "      <td>Lyft XL</td>\n",
       "      <td>11.0</td>\n",
       "      <td>0.72</td>\n",
       "      <td>1.0</td>\n",
       "      <td>44</td>\n",
       "    </tr>\n",
       "    <tr>\n",
       "      <th>20</th>\n",
       "      <td>0</td>\n",
       "      <td>Lux Black</td>\n",
       "      <td>16.5</td>\n",
       "      <td>0.72</td>\n",
       "      <td>1.0</td>\n",
       "      <td>44</td>\n",
       "    </tr>\n",
       "  </tbody>\n",
       "</table>\n",
       "</div>"
      ],
      "text/plain": [
       "    Taxi_product     Taxi_name  Price  Distance  Surge_multiplier  Route\n",
       "0              0        Shared    5.0      0.44               1.0     33\n",
       "1              0           Lux   11.0      0.44               1.0     33\n",
       "2              0          Lyft    7.0      0.44               1.0     33\n",
       "3              0  Lux Black XL   26.0      0.44               1.0     33\n",
       "4              0       Lyft XL    9.0      0.44               1.0     33\n",
       "5              0     Lux Black   16.5      0.44               1.0     33\n",
       "6              0       Lyft XL   10.5      1.08               1.0      4\n",
       "7              0     Lux Black   16.5      1.08               1.0      4\n",
       "8              0        Shared    3.0      1.08               1.0      4\n",
       "9              0  Lux Black XL   27.5      1.08               1.0      4\n",
       "10             0           Lux   13.5      1.08               1.0      4\n",
       "11             0          Lyft    7.0      1.08               1.0      4\n",
       "12             1        UberXL   12.0      1.11               1.0     41\n",
       "13             1         Black   16.0      1.11               1.0     41\n",
       "14             1         UberX    7.5      1.11               1.0     41\n",
       "15             1           WAV    7.5      1.11               1.0     41\n",
       "16             1     Black SUV   26.0      1.11               1.0     41\n",
       "17             1      UberPool    5.5      1.11               1.0     41\n",
       "19             0       Lyft XL   11.0      0.72               1.0     44\n",
       "20             0     Lux Black   16.5      0.72               1.0     44"
      ]
     },
     "execution_count": 32,
     "metadata": {},
     "output_type": "execute_result"
    }
   ],
   "source": [
    "# Menerapkan LabelEncoder pada kolom Route\n",
    "le = LabelEncoder()\n",
    "uber_lyft['Route'] = le.fit_transform(uber_lyft['Route'])\n",
    "\n",
    "uber_lyft.head(20)"
   ]
  },
  {
   "cell_type": "markdown",
   "id": "f4370827",
   "metadata": {},
   "source": [
    "Code diatas digunakan untuk mengubah nilai kategorikal pada kolom \"Route\" menjadi nilai numerik menggunakan fungsi LabelEncoder() "
   ]
  },
  {
   "cell_type": "code",
   "execution_count": 33,
   "id": "07334a8c",
   "metadata": {},
   "outputs": [
    {
     "data": {
      "text/html": [
       "<div>\n",
       "<style scoped>\n",
       "    .dataframe tbody tr th:only-of-type {\n",
       "        vertical-align: middle;\n",
       "    }\n",
       "\n",
       "    .dataframe tbody tr th {\n",
       "        vertical-align: top;\n",
       "    }\n",
       "\n",
       "    .dataframe thead th {\n",
       "        text-align: right;\n",
       "    }\n",
       "</style>\n",
       "<table border=\"1\" class=\"dataframe\">\n",
       "  <thead>\n",
       "    <tr style=\"text-align: right;\">\n",
       "      <th></th>\n",
       "      <th>Black</th>\n",
       "      <th>Black SUV</th>\n",
       "      <th>Lux</th>\n",
       "      <th>Lux Black</th>\n",
       "      <th>Lux Black XL</th>\n",
       "      <th>Lyft</th>\n",
       "      <th>Lyft XL</th>\n",
       "      <th>Shared</th>\n",
       "      <th>UberPool</th>\n",
       "      <th>UberX</th>\n",
       "      <th>UberXL</th>\n",
       "      <th>WAV</th>\n",
       "    </tr>\n",
       "  </thead>\n",
       "  <tbody>\n",
       "    <tr>\n",
       "      <th>0</th>\n",
       "      <td>0</td>\n",
       "      <td>0</td>\n",
       "      <td>0</td>\n",
       "      <td>0</td>\n",
       "      <td>0</td>\n",
       "      <td>0</td>\n",
       "      <td>0</td>\n",
       "      <td>1</td>\n",
       "      <td>0</td>\n",
       "      <td>0</td>\n",
       "      <td>0</td>\n",
       "      <td>0</td>\n",
       "    </tr>\n",
       "    <tr>\n",
       "      <th>1</th>\n",
       "      <td>0</td>\n",
       "      <td>0</td>\n",
       "      <td>1</td>\n",
       "      <td>0</td>\n",
       "      <td>0</td>\n",
       "      <td>0</td>\n",
       "      <td>0</td>\n",
       "      <td>0</td>\n",
       "      <td>0</td>\n",
       "      <td>0</td>\n",
       "      <td>0</td>\n",
       "      <td>0</td>\n",
       "    </tr>\n",
       "    <tr>\n",
       "      <th>2</th>\n",
       "      <td>0</td>\n",
       "      <td>0</td>\n",
       "      <td>0</td>\n",
       "      <td>0</td>\n",
       "      <td>0</td>\n",
       "      <td>1</td>\n",
       "      <td>0</td>\n",
       "      <td>0</td>\n",
       "      <td>0</td>\n",
       "      <td>0</td>\n",
       "      <td>0</td>\n",
       "      <td>0</td>\n",
       "    </tr>\n",
       "    <tr>\n",
       "      <th>3</th>\n",
       "      <td>0</td>\n",
       "      <td>0</td>\n",
       "      <td>0</td>\n",
       "      <td>0</td>\n",
       "      <td>1</td>\n",
       "      <td>0</td>\n",
       "      <td>0</td>\n",
       "      <td>0</td>\n",
       "      <td>0</td>\n",
       "      <td>0</td>\n",
       "      <td>0</td>\n",
       "      <td>0</td>\n",
       "    </tr>\n",
       "    <tr>\n",
       "      <th>4</th>\n",
       "      <td>0</td>\n",
       "      <td>0</td>\n",
       "      <td>0</td>\n",
       "      <td>0</td>\n",
       "      <td>0</td>\n",
       "      <td>0</td>\n",
       "      <td>1</td>\n",
       "      <td>0</td>\n",
       "      <td>0</td>\n",
       "      <td>0</td>\n",
       "      <td>0</td>\n",
       "      <td>0</td>\n",
       "    </tr>\n",
       "    <tr>\n",
       "      <th>...</th>\n",
       "      <td>...</td>\n",
       "      <td>...</td>\n",
       "      <td>...</td>\n",
       "      <td>...</td>\n",
       "      <td>...</td>\n",
       "      <td>...</td>\n",
       "      <td>...</td>\n",
       "      <td>...</td>\n",
       "      <td>...</td>\n",
       "      <td>...</td>\n",
       "      <td>...</td>\n",
       "      <td>...</td>\n",
       "    </tr>\n",
       "    <tr>\n",
       "      <th>693065</th>\n",
       "      <td>0</td>\n",
       "      <td>0</td>\n",
       "      <td>0</td>\n",
       "      <td>0</td>\n",
       "      <td>0</td>\n",
       "      <td>0</td>\n",
       "      <td>0</td>\n",
       "      <td>0</td>\n",
       "      <td>0</td>\n",
       "      <td>0</td>\n",
       "      <td>0</td>\n",
       "      <td>1</td>\n",
       "    </tr>\n",
       "    <tr>\n",
       "      <th>693066</th>\n",
       "      <td>0</td>\n",
       "      <td>0</td>\n",
       "      <td>0</td>\n",
       "      <td>0</td>\n",
       "      <td>0</td>\n",
       "      <td>0</td>\n",
       "      <td>0</td>\n",
       "      <td>0</td>\n",
       "      <td>0</td>\n",
       "      <td>0</td>\n",
       "      <td>1</td>\n",
       "      <td>0</td>\n",
       "    </tr>\n",
       "    <tr>\n",
       "      <th>693067</th>\n",
       "      <td>0</td>\n",
       "      <td>0</td>\n",
       "      <td>0</td>\n",
       "      <td>0</td>\n",
       "      <td>0</td>\n",
       "      <td>0</td>\n",
       "      <td>0</td>\n",
       "      <td>0</td>\n",
       "      <td>0</td>\n",
       "      <td>1</td>\n",
       "      <td>0</td>\n",
       "      <td>0</td>\n",
       "    </tr>\n",
       "    <tr>\n",
       "      <th>693069</th>\n",
       "      <td>0</td>\n",
       "      <td>1</td>\n",
       "      <td>0</td>\n",
       "      <td>0</td>\n",
       "      <td>0</td>\n",
       "      <td>0</td>\n",
       "      <td>0</td>\n",
       "      <td>0</td>\n",
       "      <td>0</td>\n",
       "      <td>0</td>\n",
       "      <td>0</td>\n",
       "      <td>0</td>\n",
       "    </tr>\n",
       "    <tr>\n",
       "      <th>693070</th>\n",
       "      <td>0</td>\n",
       "      <td>0</td>\n",
       "      <td>0</td>\n",
       "      <td>0</td>\n",
       "      <td>0</td>\n",
       "      <td>0</td>\n",
       "      <td>0</td>\n",
       "      <td>0</td>\n",
       "      <td>1</td>\n",
       "      <td>0</td>\n",
       "      <td>0</td>\n",
       "      <td>0</td>\n",
       "    </tr>\n",
       "  </tbody>\n",
       "</table>\n",
       "<p>637976 rows × 12 columns</p>\n",
       "</div>"
      ],
      "text/plain": [
       "        Black  Black SUV  Lux  Lux Black  Lux Black XL  Lyft  Lyft XL  Shared  \\\n",
       "0           0          0    0          0             0     0        0       1   \n",
       "1           0          0    1          0             0     0        0       0   \n",
       "2           0          0    0          0             0     1        0       0   \n",
       "3           0          0    0          0             1     0        0       0   \n",
       "4           0          0    0          0             0     0        1       0   \n",
       "...       ...        ...  ...        ...           ...   ...      ...     ...   \n",
       "693065      0          0    0          0             0     0        0       0   \n",
       "693066      0          0    0          0             0     0        0       0   \n",
       "693067      0          0    0          0             0     0        0       0   \n",
       "693069      0          1    0          0             0     0        0       0   \n",
       "693070      0          0    0          0             0     0        0       0   \n",
       "\n",
       "        UberPool  UberX  UberXL  WAV  \n",
       "0              0      0       0    0  \n",
       "1              0      0       0    0  \n",
       "2              0      0       0    0  \n",
       "3              0      0       0    0  \n",
       "4              0      0       0    0  \n",
       "...          ...    ...     ...  ...  \n",
       "693065         0      0       0    1  \n",
       "693066         0      0       1    0  \n",
       "693067         0      1       0    0  \n",
       "693069         0      0       0    0  \n",
       "693070         1      0       0    0  \n",
       "\n",
       "[637976 rows x 12 columns]"
      ]
     },
     "execution_count": 33,
     "metadata": {},
     "output_type": "execute_result"
    }
   ],
   "source": [
    "# Menerapkan One Hot Encode pada kolom 'Taxi_name'\n",
    "encode = pd.get_dummies(uber_lyft['Taxi_name'])\n",
    "encode"
   ]
  },
  {
   "cell_type": "markdown",
   "id": "06a02389",
   "metadata": {},
   "source": [
    "Code diatas digunakan untuk membuat DataFrame baru yang berisi hasil transformasi kolom \"Taxi_name\" dari dataset uber_lyft menggunakan teknik One-Hot Encoding. Teknik ini mengubah nilai kategorikal pada kolom \"Taxi_name\" menjadi nilai numerik dalam bentuk kolom-kolom biner baru yang dapat digunakan dalam model yang memerlukan input numerik. Dapat dilihat bahwa keunikan data dalam 'Taxi_name' diubah menjadi kolom-kolom baru."
   ]
  },
  {
   "cell_type": "code",
   "execution_count": 34,
   "id": "e6931f98",
   "metadata": {},
   "outputs": [
    {
     "data": {
      "text/html": [
       "<div>\n",
       "<style scoped>\n",
       "    .dataframe tbody tr th:only-of-type {\n",
       "        vertical-align: middle;\n",
       "    }\n",
       "\n",
       "    .dataframe tbody tr th {\n",
       "        vertical-align: top;\n",
       "    }\n",
       "\n",
       "    .dataframe thead th {\n",
       "        text-align: right;\n",
       "    }\n",
       "</style>\n",
       "<table border=\"1\" class=\"dataframe\">\n",
       "  <thead>\n",
       "    <tr style=\"text-align: right;\">\n",
       "      <th></th>\n",
       "      <th>Taxi_product</th>\n",
       "      <th>Taxi_name</th>\n",
       "      <th>Price</th>\n",
       "      <th>Distance</th>\n",
       "      <th>Surge_multiplier</th>\n",
       "      <th>Route</th>\n",
       "      <th>Black</th>\n",
       "      <th>Black SUV</th>\n",
       "      <th>Lux</th>\n",
       "      <th>Lux Black</th>\n",
       "      <th>Lux Black XL</th>\n",
       "      <th>Lyft</th>\n",
       "      <th>Lyft XL</th>\n",
       "      <th>Shared</th>\n",
       "      <th>UberPool</th>\n",
       "      <th>UberX</th>\n",
       "      <th>UberXL</th>\n",
       "      <th>WAV</th>\n",
       "    </tr>\n",
       "  </thead>\n",
       "  <tbody>\n",
       "    <tr>\n",
       "      <th>0</th>\n",
       "      <td>0</td>\n",
       "      <td>Shared</td>\n",
       "      <td>5.0</td>\n",
       "      <td>0.44</td>\n",
       "      <td>1.0</td>\n",
       "      <td>33</td>\n",
       "      <td>0</td>\n",
       "      <td>0</td>\n",
       "      <td>0</td>\n",
       "      <td>0</td>\n",
       "      <td>0</td>\n",
       "      <td>0</td>\n",
       "      <td>0</td>\n",
       "      <td>1</td>\n",
       "      <td>0</td>\n",
       "      <td>0</td>\n",
       "      <td>0</td>\n",
       "      <td>0</td>\n",
       "    </tr>\n",
       "    <tr>\n",
       "      <th>1</th>\n",
       "      <td>0</td>\n",
       "      <td>Lux</td>\n",
       "      <td>11.0</td>\n",
       "      <td>0.44</td>\n",
       "      <td>1.0</td>\n",
       "      <td>33</td>\n",
       "      <td>0</td>\n",
       "      <td>0</td>\n",
       "      <td>1</td>\n",
       "      <td>0</td>\n",
       "      <td>0</td>\n",
       "      <td>0</td>\n",
       "      <td>0</td>\n",
       "      <td>0</td>\n",
       "      <td>0</td>\n",
       "      <td>0</td>\n",
       "      <td>0</td>\n",
       "      <td>0</td>\n",
       "    </tr>\n",
       "    <tr>\n",
       "      <th>2</th>\n",
       "      <td>0</td>\n",
       "      <td>Lyft</td>\n",
       "      <td>7.0</td>\n",
       "      <td>0.44</td>\n",
       "      <td>1.0</td>\n",
       "      <td>33</td>\n",
       "      <td>0</td>\n",
       "      <td>0</td>\n",
       "      <td>0</td>\n",
       "      <td>0</td>\n",
       "      <td>0</td>\n",
       "      <td>1</td>\n",
       "      <td>0</td>\n",
       "      <td>0</td>\n",
       "      <td>0</td>\n",
       "      <td>0</td>\n",
       "      <td>0</td>\n",
       "      <td>0</td>\n",
       "    </tr>\n",
       "    <tr>\n",
       "      <th>3</th>\n",
       "      <td>0</td>\n",
       "      <td>Lux Black XL</td>\n",
       "      <td>26.0</td>\n",
       "      <td>0.44</td>\n",
       "      <td>1.0</td>\n",
       "      <td>33</td>\n",
       "      <td>0</td>\n",
       "      <td>0</td>\n",
       "      <td>0</td>\n",
       "      <td>0</td>\n",
       "      <td>1</td>\n",
       "      <td>0</td>\n",
       "      <td>0</td>\n",
       "      <td>0</td>\n",
       "      <td>0</td>\n",
       "      <td>0</td>\n",
       "      <td>0</td>\n",
       "      <td>0</td>\n",
       "    </tr>\n",
       "    <tr>\n",
       "      <th>4</th>\n",
       "      <td>0</td>\n",
       "      <td>Lyft XL</td>\n",
       "      <td>9.0</td>\n",
       "      <td>0.44</td>\n",
       "      <td>1.0</td>\n",
       "      <td>33</td>\n",
       "      <td>0</td>\n",
       "      <td>0</td>\n",
       "      <td>0</td>\n",
       "      <td>0</td>\n",
       "      <td>0</td>\n",
       "      <td>0</td>\n",
       "      <td>1</td>\n",
       "      <td>0</td>\n",
       "      <td>0</td>\n",
       "      <td>0</td>\n",
       "      <td>0</td>\n",
       "      <td>0</td>\n",
       "    </tr>\n",
       "    <tr>\n",
       "      <th>...</th>\n",
       "      <td>...</td>\n",
       "      <td>...</td>\n",
       "      <td>...</td>\n",
       "      <td>...</td>\n",
       "      <td>...</td>\n",
       "      <td>...</td>\n",
       "      <td>...</td>\n",
       "      <td>...</td>\n",
       "      <td>...</td>\n",
       "      <td>...</td>\n",
       "      <td>...</td>\n",
       "      <td>...</td>\n",
       "      <td>...</td>\n",
       "      <td>...</td>\n",
       "      <td>...</td>\n",
       "      <td>...</td>\n",
       "      <td>...</td>\n",
       "      <td>...</td>\n",
       "    </tr>\n",
       "    <tr>\n",
       "      <th>693065</th>\n",
       "      <td>1</td>\n",
       "      <td>WAV</td>\n",
       "      <td>9.5</td>\n",
       "      <td>1.00</td>\n",
       "      <td>1.0</td>\n",
       "      <td>69</td>\n",
       "      <td>0</td>\n",
       "      <td>0</td>\n",
       "      <td>0</td>\n",
       "      <td>0</td>\n",
       "      <td>0</td>\n",
       "      <td>0</td>\n",
       "      <td>0</td>\n",
       "      <td>0</td>\n",
       "      <td>0</td>\n",
       "      <td>0</td>\n",
       "      <td>0</td>\n",
       "      <td>1</td>\n",
       "    </tr>\n",
       "    <tr>\n",
       "      <th>693066</th>\n",
       "      <td>1</td>\n",
       "      <td>UberXL</td>\n",
       "      <td>13.0</td>\n",
       "      <td>1.00</td>\n",
       "      <td>1.0</td>\n",
       "      <td>69</td>\n",
       "      <td>0</td>\n",
       "      <td>0</td>\n",
       "      <td>0</td>\n",
       "      <td>0</td>\n",
       "      <td>0</td>\n",
       "      <td>0</td>\n",
       "      <td>0</td>\n",
       "      <td>0</td>\n",
       "      <td>0</td>\n",
       "      <td>0</td>\n",
       "      <td>1</td>\n",
       "      <td>0</td>\n",
       "    </tr>\n",
       "    <tr>\n",
       "      <th>693067</th>\n",
       "      <td>1</td>\n",
       "      <td>UberX</td>\n",
       "      <td>9.5</td>\n",
       "      <td>1.00</td>\n",
       "      <td>1.0</td>\n",
       "      <td>69</td>\n",
       "      <td>0</td>\n",
       "      <td>0</td>\n",
       "      <td>0</td>\n",
       "      <td>0</td>\n",
       "      <td>0</td>\n",
       "      <td>0</td>\n",
       "      <td>0</td>\n",
       "      <td>0</td>\n",
       "      <td>0</td>\n",
       "      <td>1</td>\n",
       "      <td>0</td>\n",
       "      <td>0</td>\n",
       "    </tr>\n",
       "    <tr>\n",
       "      <th>693069</th>\n",
       "      <td>1</td>\n",
       "      <td>Black SUV</td>\n",
       "      <td>27.0</td>\n",
       "      <td>1.00</td>\n",
       "      <td>1.0</td>\n",
       "      <td>69</td>\n",
       "      <td>0</td>\n",
       "      <td>1</td>\n",
       "      <td>0</td>\n",
       "      <td>0</td>\n",
       "      <td>0</td>\n",
       "      <td>0</td>\n",
       "      <td>0</td>\n",
       "      <td>0</td>\n",
       "      <td>0</td>\n",
       "      <td>0</td>\n",
       "      <td>0</td>\n",
       "      <td>0</td>\n",
       "    </tr>\n",
       "    <tr>\n",
       "      <th>693070</th>\n",
       "      <td>1</td>\n",
       "      <td>UberPool</td>\n",
       "      <td>10.0</td>\n",
       "      <td>1.00</td>\n",
       "      <td>1.0</td>\n",
       "      <td>69</td>\n",
       "      <td>0</td>\n",
       "      <td>0</td>\n",
       "      <td>0</td>\n",
       "      <td>0</td>\n",
       "      <td>0</td>\n",
       "      <td>0</td>\n",
       "      <td>0</td>\n",
       "      <td>0</td>\n",
       "      <td>1</td>\n",
       "      <td>0</td>\n",
       "      <td>0</td>\n",
       "      <td>0</td>\n",
       "    </tr>\n",
       "  </tbody>\n",
       "</table>\n",
       "<p>637976 rows × 18 columns</p>\n",
       "</div>"
      ],
      "text/plain": [
       "        Taxi_product     Taxi_name  Price  Distance  Surge_multiplier  Route  \\\n",
       "0                  0        Shared    5.0      0.44               1.0     33   \n",
       "1                  0           Lux   11.0      0.44               1.0     33   \n",
       "2                  0          Lyft    7.0      0.44               1.0     33   \n",
       "3                  0  Lux Black XL   26.0      0.44               1.0     33   \n",
       "4                  0       Lyft XL    9.0      0.44               1.0     33   \n",
       "...              ...           ...    ...       ...               ...    ...   \n",
       "693065             1           WAV    9.5      1.00               1.0     69   \n",
       "693066             1        UberXL   13.0      1.00               1.0     69   \n",
       "693067             1         UberX    9.5      1.00               1.0     69   \n",
       "693069             1     Black SUV   27.0      1.00               1.0     69   \n",
       "693070             1      UberPool   10.0      1.00               1.0     69   \n",
       "\n",
       "        Black  Black SUV  Lux  Lux Black  Lux Black XL  Lyft  Lyft XL  Shared  \\\n",
       "0           0          0    0          0             0     0        0       1   \n",
       "1           0          0    1          0             0     0        0       0   \n",
       "2           0          0    0          0             0     1        0       0   \n",
       "3           0          0    0          0             1     0        0       0   \n",
       "4           0          0    0          0             0     0        1       0   \n",
       "...       ...        ...  ...        ...           ...   ...      ...     ...   \n",
       "693065      0          0    0          0             0     0        0       0   \n",
       "693066      0          0    0          0             0     0        0       0   \n",
       "693067      0          0    0          0             0     0        0       0   \n",
       "693069      0          1    0          0             0     0        0       0   \n",
       "693070      0          0    0          0             0     0        0       0   \n",
       "\n",
       "        UberPool  UberX  UberXL  WAV  \n",
       "0              0      0       0    0  \n",
       "1              0      0       0    0  \n",
       "2              0      0       0    0  \n",
       "3              0      0       0    0  \n",
       "4              0      0       0    0  \n",
       "...          ...    ...     ...  ...  \n",
       "693065         0      0       0    1  \n",
       "693066         0      0       1    0  \n",
       "693067         0      1       0    0  \n",
       "693069         0      0       0    0  \n",
       "693070         1      0       0    0  \n",
       "\n",
       "[637976 rows x 18 columns]"
      ]
     },
     "execution_count": 34,
     "metadata": {},
     "output_type": "execute_result"
    }
   ],
   "source": [
    "# Menggabungkan hasil one hot encode dengan dataFarme uber and lyft\n",
    "uber_lyft = uber_lyft.join(encode)\n",
    "uber_lyft"
   ]
  },
  {
   "cell_type": "markdown",
   "id": "4af52545",
   "metadata": {},
   "source": [
    "Code diatas digunakan untuk menggabungkan dataFrame hasil one hot encode dengan dataFrame uber_lyft dengan fungsi join()"
   ]
  },
  {
   "cell_type": "code",
   "execution_count": 35,
   "id": "a27860b6",
   "metadata": {},
   "outputs": [],
   "source": [
    "# Melakukan penghapusan kolom 'Taxi_name'\n",
    "uber_lyft.drop(['Taxi_name'], axis=1, inplace=True)"
   ]
  },
  {
   "cell_type": "code",
   "execution_count": 36,
   "id": "8238d99a",
   "metadata": {},
   "outputs": [
    {
     "data": {
      "text/html": [
       "<div>\n",
       "<style scoped>\n",
       "    .dataframe tbody tr th:only-of-type {\n",
       "        vertical-align: middle;\n",
       "    }\n",
       "\n",
       "    .dataframe tbody tr th {\n",
       "        vertical-align: top;\n",
       "    }\n",
       "\n",
       "    .dataframe thead th {\n",
       "        text-align: right;\n",
       "    }\n",
       "</style>\n",
       "<table border=\"1\" class=\"dataframe\">\n",
       "  <thead>\n",
       "    <tr style=\"text-align: right;\">\n",
       "      <th></th>\n",
       "      <th>Taxi_product</th>\n",
       "      <th>Price</th>\n",
       "      <th>Distance</th>\n",
       "      <th>Surge_multiplier</th>\n",
       "      <th>Route</th>\n",
       "      <th>Black</th>\n",
       "      <th>Black SUV</th>\n",
       "      <th>Lux</th>\n",
       "      <th>Lux Black</th>\n",
       "      <th>Lux Black XL</th>\n",
       "      <th>Lyft</th>\n",
       "      <th>Lyft XL</th>\n",
       "      <th>Shared</th>\n",
       "      <th>UberPool</th>\n",
       "      <th>UberX</th>\n",
       "      <th>UberXL</th>\n",
       "      <th>WAV</th>\n",
       "    </tr>\n",
       "  </thead>\n",
       "  <tbody>\n",
       "    <tr>\n",
       "      <th>0</th>\n",
       "      <td>0</td>\n",
       "      <td>5.0</td>\n",
       "      <td>0.44</td>\n",
       "      <td>1.0</td>\n",
       "      <td>33</td>\n",
       "      <td>0</td>\n",
       "      <td>0</td>\n",
       "      <td>0</td>\n",
       "      <td>0</td>\n",
       "      <td>0</td>\n",
       "      <td>0</td>\n",
       "      <td>0</td>\n",
       "      <td>1</td>\n",
       "      <td>0</td>\n",
       "      <td>0</td>\n",
       "      <td>0</td>\n",
       "      <td>0</td>\n",
       "    </tr>\n",
       "    <tr>\n",
       "      <th>1</th>\n",
       "      <td>0</td>\n",
       "      <td>11.0</td>\n",
       "      <td>0.44</td>\n",
       "      <td>1.0</td>\n",
       "      <td>33</td>\n",
       "      <td>0</td>\n",
       "      <td>0</td>\n",
       "      <td>1</td>\n",
       "      <td>0</td>\n",
       "      <td>0</td>\n",
       "      <td>0</td>\n",
       "      <td>0</td>\n",
       "      <td>0</td>\n",
       "      <td>0</td>\n",
       "      <td>0</td>\n",
       "      <td>0</td>\n",
       "      <td>0</td>\n",
       "    </tr>\n",
       "    <tr>\n",
       "      <th>2</th>\n",
       "      <td>0</td>\n",
       "      <td>7.0</td>\n",
       "      <td>0.44</td>\n",
       "      <td>1.0</td>\n",
       "      <td>33</td>\n",
       "      <td>0</td>\n",
       "      <td>0</td>\n",
       "      <td>0</td>\n",
       "      <td>0</td>\n",
       "      <td>0</td>\n",
       "      <td>1</td>\n",
       "      <td>0</td>\n",
       "      <td>0</td>\n",
       "      <td>0</td>\n",
       "      <td>0</td>\n",
       "      <td>0</td>\n",
       "      <td>0</td>\n",
       "    </tr>\n",
       "    <tr>\n",
       "      <th>3</th>\n",
       "      <td>0</td>\n",
       "      <td>26.0</td>\n",
       "      <td>0.44</td>\n",
       "      <td>1.0</td>\n",
       "      <td>33</td>\n",
       "      <td>0</td>\n",
       "      <td>0</td>\n",
       "      <td>0</td>\n",
       "      <td>0</td>\n",
       "      <td>1</td>\n",
       "      <td>0</td>\n",
       "      <td>0</td>\n",
       "      <td>0</td>\n",
       "      <td>0</td>\n",
       "      <td>0</td>\n",
       "      <td>0</td>\n",
       "      <td>0</td>\n",
       "    </tr>\n",
       "    <tr>\n",
       "      <th>4</th>\n",
       "      <td>0</td>\n",
       "      <td>9.0</td>\n",
       "      <td>0.44</td>\n",
       "      <td>1.0</td>\n",
       "      <td>33</td>\n",
       "      <td>0</td>\n",
       "      <td>0</td>\n",
       "      <td>0</td>\n",
       "      <td>0</td>\n",
       "      <td>0</td>\n",
       "      <td>0</td>\n",
       "      <td>1</td>\n",
       "      <td>0</td>\n",
       "      <td>0</td>\n",
       "      <td>0</td>\n",
       "      <td>0</td>\n",
       "      <td>0</td>\n",
       "    </tr>\n",
       "    <tr>\n",
       "      <th>...</th>\n",
       "      <td>...</td>\n",
       "      <td>...</td>\n",
       "      <td>...</td>\n",
       "      <td>...</td>\n",
       "      <td>...</td>\n",
       "      <td>...</td>\n",
       "      <td>...</td>\n",
       "      <td>...</td>\n",
       "      <td>...</td>\n",
       "      <td>...</td>\n",
       "      <td>...</td>\n",
       "      <td>...</td>\n",
       "      <td>...</td>\n",
       "      <td>...</td>\n",
       "      <td>...</td>\n",
       "      <td>...</td>\n",
       "      <td>...</td>\n",
       "    </tr>\n",
       "    <tr>\n",
       "      <th>693065</th>\n",
       "      <td>1</td>\n",
       "      <td>9.5</td>\n",
       "      <td>1.00</td>\n",
       "      <td>1.0</td>\n",
       "      <td>69</td>\n",
       "      <td>0</td>\n",
       "      <td>0</td>\n",
       "      <td>0</td>\n",
       "      <td>0</td>\n",
       "      <td>0</td>\n",
       "      <td>0</td>\n",
       "      <td>0</td>\n",
       "      <td>0</td>\n",
       "      <td>0</td>\n",
       "      <td>0</td>\n",
       "      <td>0</td>\n",
       "      <td>1</td>\n",
       "    </tr>\n",
       "    <tr>\n",
       "      <th>693066</th>\n",
       "      <td>1</td>\n",
       "      <td>13.0</td>\n",
       "      <td>1.00</td>\n",
       "      <td>1.0</td>\n",
       "      <td>69</td>\n",
       "      <td>0</td>\n",
       "      <td>0</td>\n",
       "      <td>0</td>\n",
       "      <td>0</td>\n",
       "      <td>0</td>\n",
       "      <td>0</td>\n",
       "      <td>0</td>\n",
       "      <td>0</td>\n",
       "      <td>0</td>\n",
       "      <td>0</td>\n",
       "      <td>1</td>\n",
       "      <td>0</td>\n",
       "    </tr>\n",
       "    <tr>\n",
       "      <th>693067</th>\n",
       "      <td>1</td>\n",
       "      <td>9.5</td>\n",
       "      <td>1.00</td>\n",
       "      <td>1.0</td>\n",
       "      <td>69</td>\n",
       "      <td>0</td>\n",
       "      <td>0</td>\n",
       "      <td>0</td>\n",
       "      <td>0</td>\n",
       "      <td>0</td>\n",
       "      <td>0</td>\n",
       "      <td>0</td>\n",
       "      <td>0</td>\n",
       "      <td>0</td>\n",
       "      <td>1</td>\n",
       "      <td>0</td>\n",
       "      <td>0</td>\n",
       "    </tr>\n",
       "    <tr>\n",
       "      <th>693069</th>\n",
       "      <td>1</td>\n",
       "      <td>27.0</td>\n",
       "      <td>1.00</td>\n",
       "      <td>1.0</td>\n",
       "      <td>69</td>\n",
       "      <td>0</td>\n",
       "      <td>1</td>\n",
       "      <td>0</td>\n",
       "      <td>0</td>\n",
       "      <td>0</td>\n",
       "      <td>0</td>\n",
       "      <td>0</td>\n",
       "      <td>0</td>\n",
       "      <td>0</td>\n",
       "      <td>0</td>\n",
       "      <td>0</td>\n",
       "      <td>0</td>\n",
       "    </tr>\n",
       "    <tr>\n",
       "      <th>693070</th>\n",
       "      <td>1</td>\n",
       "      <td>10.0</td>\n",
       "      <td>1.00</td>\n",
       "      <td>1.0</td>\n",
       "      <td>69</td>\n",
       "      <td>0</td>\n",
       "      <td>0</td>\n",
       "      <td>0</td>\n",
       "      <td>0</td>\n",
       "      <td>0</td>\n",
       "      <td>0</td>\n",
       "      <td>0</td>\n",
       "      <td>0</td>\n",
       "      <td>1</td>\n",
       "      <td>0</td>\n",
       "      <td>0</td>\n",
       "      <td>0</td>\n",
       "    </tr>\n",
       "  </tbody>\n",
       "</table>\n",
       "<p>637976 rows × 17 columns</p>\n",
       "</div>"
      ],
      "text/plain": [
       "        Taxi_product  Price  Distance  Surge_multiplier  Route  Black  \\\n",
       "0                  0    5.0      0.44               1.0     33      0   \n",
       "1                  0   11.0      0.44               1.0     33      0   \n",
       "2                  0    7.0      0.44               1.0     33      0   \n",
       "3                  0   26.0      0.44               1.0     33      0   \n",
       "4                  0    9.0      0.44               1.0     33      0   \n",
       "...              ...    ...       ...               ...    ...    ...   \n",
       "693065             1    9.5      1.00               1.0     69      0   \n",
       "693066             1   13.0      1.00               1.0     69      0   \n",
       "693067             1    9.5      1.00               1.0     69      0   \n",
       "693069             1   27.0      1.00               1.0     69      0   \n",
       "693070             1   10.0      1.00               1.0     69      0   \n",
       "\n",
       "        Black SUV  Lux  Lux Black  Lux Black XL  Lyft  Lyft XL  Shared  \\\n",
       "0               0    0          0             0     0        0       1   \n",
       "1               0    1          0             0     0        0       0   \n",
       "2               0    0          0             0     1        0       0   \n",
       "3               0    0          0             1     0        0       0   \n",
       "4               0    0          0             0     0        1       0   \n",
       "...           ...  ...        ...           ...   ...      ...     ...   \n",
       "693065          0    0          0             0     0        0       0   \n",
       "693066          0    0          0             0     0        0       0   \n",
       "693067          0    0          0             0     0        0       0   \n",
       "693069          1    0          0             0     0        0       0   \n",
       "693070          0    0          0             0     0        0       0   \n",
       "\n",
       "        UberPool  UberX  UberXL  WAV  \n",
       "0              0      0       0    0  \n",
       "1              0      0       0    0  \n",
       "2              0      0       0    0  \n",
       "3              0      0       0    0  \n",
       "4              0      0       0    0  \n",
       "...          ...    ...     ...  ...  \n",
       "693065         0      0       0    1  \n",
       "693066         0      0       1    0  \n",
       "693067         0      1       0    0  \n",
       "693069         0      0       0    0  \n",
       "693070         1      0       0    0  \n",
       "\n",
       "[637976 rows x 17 columns]"
      ]
     },
     "execution_count": 36,
     "metadata": {},
     "output_type": "execute_result"
    }
   ],
   "source": [
    "# Menampilkan data uber_lyft\n",
    "uber_lyft"
   ]
  },
  {
   "cell_type": "markdown",
   "id": "4b414344",
   "metadata": {},
   "source": [
    "Code diatas dilakukan penghapusan kolom 'Taxi_name' pada dataFrame uber_lyft karena kolom tersebut sudah dilakukan onehot encode, dan data kolom tersebut tidak digunakan lagi. "
   ]
  },
  {
   "cell_type": "code",
   "execution_count": 37,
   "id": "a1f49eff",
   "metadata": {},
   "outputs": [
    {
     "data": {
      "text/html": [
       "<div>\n",
       "<style scoped>\n",
       "    .dataframe tbody tr th:only-of-type {\n",
       "        vertical-align: middle;\n",
       "    }\n",
       "\n",
       "    .dataframe tbody tr th {\n",
       "        vertical-align: top;\n",
       "    }\n",
       "\n",
       "    .dataframe thead th {\n",
       "        text-align: right;\n",
       "    }\n",
       "</style>\n",
       "<table border=\"1\" class=\"dataframe\">\n",
       "  <thead>\n",
       "    <tr style=\"text-align: right;\">\n",
       "      <th></th>\n",
       "      <th>Taxi_product</th>\n",
       "      <th>Price</th>\n",
       "      <th>Distance</th>\n",
       "      <th>Surge_multiplier</th>\n",
       "      <th>Route</th>\n",
       "      <th>Black</th>\n",
       "      <th>Black SUV</th>\n",
       "      <th>Lux</th>\n",
       "      <th>Lux Black</th>\n",
       "      <th>Lux Black XL</th>\n",
       "      <th>Lyft</th>\n",
       "      <th>Lyft XL</th>\n",
       "      <th>Shared</th>\n",
       "      <th>UberPool</th>\n",
       "      <th>UberX</th>\n",
       "      <th>UberXL</th>\n",
       "      <th>WAV</th>\n",
       "    </tr>\n",
       "  </thead>\n",
       "  <tbody>\n",
       "    <tr>\n",
       "      <th>Taxi_product</th>\n",
       "      <td>1.000000</td>\n",
       "      <td>-0.083385</td>\n",
       "      <td>0.001941</td>\n",
       "      <td>-0.163745</td>\n",
       "      <td>0.000963</td>\n",
       "      <td>0.296479</td>\n",
       "      <td>0.296482</td>\n",
       "      <td>-0.306431</td>\n",
       "      <td>-0.306431</td>\n",
       "      <td>-0.306431</td>\n",
       "      <td>-0.306431</td>\n",
       "      <td>-0.306431</td>\n",
       "      <td>-0.306425</td>\n",
       "      <td>0.296467</td>\n",
       "      <td>0.296476</td>\n",
       "      <td>0.296482</td>\n",
       "      <td>0.296482</td>\n",
       "    </tr>\n",
       "    <tr>\n",
       "      <th>Price</th>\n",
       "      <td>-0.083385</td>\n",
       "      <td>1.000000</td>\n",
       "      <td>0.345061</td>\n",
       "      <td>0.240458</td>\n",
       "      <td>-0.030206</td>\n",
       "      <td>0.131185</td>\n",
       "      <td>0.453096</td>\n",
       "      <td>0.038857</td>\n",
       "      <td>0.206544</td>\n",
       "      <td>0.500057</td>\n",
       "      <td>-0.219756</td>\n",
       "      <td>-0.039163</td>\n",
       "      <td>-0.333235</td>\n",
       "      <td>-0.256930</td>\n",
       "      <td>-0.223551</td>\n",
       "      <td>-0.028587</td>\n",
       "      <td>-0.223557</td>\n",
       "    </tr>\n",
       "    <tr>\n",
       "      <th>Distance</th>\n",
       "      <td>0.001941</td>\n",
       "      <td>0.345061</td>\n",
       "      <td>1.000000</td>\n",
       "      <td>0.025946</td>\n",
       "      <td>-0.103760</td>\n",
       "      <td>0.000579</td>\n",
       "      <td>0.000573</td>\n",
       "      <td>-0.000597</td>\n",
       "      <td>-0.000597</td>\n",
       "      <td>-0.000597</td>\n",
       "      <td>-0.000597</td>\n",
       "      <td>-0.000597</td>\n",
       "      <td>-0.000585</td>\n",
       "      <td>0.000578</td>\n",
       "      <td>0.000577</td>\n",
       "      <td>0.000573</td>\n",
       "      <td>0.000573</td>\n",
       "    </tr>\n",
       "    <tr>\n",
       "      <th>Surge_multiplier</th>\n",
       "      <td>-0.163745</td>\n",
       "      <td>0.240458</td>\n",
       "      <td>0.025946</td>\n",
       "      <td>1.000000</td>\n",
       "      <td>-0.033976</td>\n",
       "      <td>-0.048547</td>\n",
       "      <td>-0.048547</td>\n",
       "      <td>0.068468</td>\n",
       "      <td>0.068468</td>\n",
       "      <td>0.068468</td>\n",
       "      <td>0.071157</td>\n",
       "      <td>0.071157</td>\n",
       "      <td>-0.046660</td>\n",
       "      <td>-0.048545</td>\n",
       "      <td>-0.048546</td>\n",
       "      <td>-0.048547</td>\n",
       "      <td>-0.048547</td>\n",
       "    </tr>\n",
       "    <tr>\n",
       "      <th>Route</th>\n",
       "      <td>0.000963</td>\n",
       "      <td>-0.030206</td>\n",
       "      <td>-0.103760</td>\n",
       "      <td>-0.033976</td>\n",
       "      <td>1.000000</td>\n",
       "      <td>0.000287</td>\n",
       "      <td>0.000288</td>\n",
       "      <td>-0.000297</td>\n",
       "      <td>-0.000297</td>\n",
       "      <td>-0.000297</td>\n",
       "      <td>-0.000297</td>\n",
       "      <td>-0.000297</td>\n",
       "      <td>-0.000286</td>\n",
       "      <td>0.000282</td>\n",
       "      <td>0.000281</td>\n",
       "      <td>0.000288</td>\n",
       "      <td>0.000288</td>\n",
       "    </tr>\n",
       "    <tr>\n",
       "      <th>Black</th>\n",
       "      <td>0.296479</td>\n",
       "      <td>0.131185</td>\n",
       "      <td>0.000579</td>\n",
       "      <td>-0.048547</td>\n",
       "      <td>0.000287</td>\n",
       "      <td>1.000000</td>\n",
       "      <td>-0.094523</td>\n",
       "      <td>-0.090850</td>\n",
       "      <td>-0.090850</td>\n",
       "      <td>-0.090850</td>\n",
       "      <td>-0.090850</td>\n",
       "      <td>-0.090850</td>\n",
       "      <td>-0.090848</td>\n",
       "      <td>-0.094518</td>\n",
       "      <td>-0.094521</td>\n",
       "      <td>-0.094523</td>\n",
       "      <td>-0.094523</td>\n",
       "    </tr>\n",
       "    <tr>\n",
       "      <th>Black SUV</th>\n",
       "      <td>0.296482</td>\n",
       "      <td>0.453096</td>\n",
       "      <td>0.000573</td>\n",
       "      <td>-0.048547</td>\n",
       "      <td>0.000288</td>\n",
       "      <td>-0.094523</td>\n",
       "      <td>1.000000</td>\n",
       "      <td>-0.090851</td>\n",
       "      <td>-0.090851</td>\n",
       "      <td>-0.090851</td>\n",
       "      <td>-0.090851</td>\n",
       "      <td>-0.090851</td>\n",
       "      <td>-0.090849</td>\n",
       "      <td>-0.094519</td>\n",
       "      <td>-0.094522</td>\n",
       "      <td>-0.094524</td>\n",
       "      <td>-0.094524</td>\n",
       "    </tr>\n",
       "    <tr>\n",
       "      <th>Lux</th>\n",
       "      <td>-0.306431</td>\n",
       "      <td>0.038857</td>\n",
       "      <td>-0.000597</td>\n",
       "      <td>0.068468</td>\n",
       "      <td>-0.000297</td>\n",
       "      <td>-0.090850</td>\n",
       "      <td>-0.090851</td>\n",
       "      <td>1.000000</td>\n",
       "      <td>-0.087321</td>\n",
       "      <td>-0.087321</td>\n",
       "      <td>-0.087321</td>\n",
       "      <td>-0.087321</td>\n",
       "      <td>-0.087319</td>\n",
       "      <td>-0.090847</td>\n",
       "      <td>-0.090849</td>\n",
       "      <td>-0.090851</td>\n",
       "      <td>-0.090851</td>\n",
       "    </tr>\n",
       "    <tr>\n",
       "      <th>Lux Black</th>\n",
       "      <td>-0.306431</td>\n",
       "      <td>0.206544</td>\n",
       "      <td>-0.000597</td>\n",
       "      <td>0.068468</td>\n",
       "      <td>-0.000297</td>\n",
       "      <td>-0.090850</td>\n",
       "      <td>-0.090851</td>\n",
       "      <td>-0.087321</td>\n",
       "      <td>1.000000</td>\n",
       "      <td>-0.087321</td>\n",
       "      <td>-0.087321</td>\n",
       "      <td>-0.087321</td>\n",
       "      <td>-0.087319</td>\n",
       "      <td>-0.090847</td>\n",
       "      <td>-0.090849</td>\n",
       "      <td>-0.090851</td>\n",
       "      <td>-0.090851</td>\n",
       "    </tr>\n",
       "    <tr>\n",
       "      <th>Lux Black XL</th>\n",
       "      <td>-0.306431</td>\n",
       "      <td>0.500057</td>\n",
       "      <td>-0.000597</td>\n",
       "      <td>0.068468</td>\n",
       "      <td>-0.000297</td>\n",
       "      <td>-0.090850</td>\n",
       "      <td>-0.090851</td>\n",
       "      <td>-0.087321</td>\n",
       "      <td>-0.087321</td>\n",
       "      <td>1.000000</td>\n",
       "      <td>-0.087321</td>\n",
       "      <td>-0.087321</td>\n",
       "      <td>-0.087319</td>\n",
       "      <td>-0.090847</td>\n",
       "      <td>-0.090849</td>\n",
       "      <td>-0.090851</td>\n",
       "      <td>-0.090851</td>\n",
       "    </tr>\n",
       "    <tr>\n",
       "      <th>Lyft</th>\n",
       "      <td>-0.306431</td>\n",
       "      <td>-0.219756</td>\n",
       "      <td>-0.000597</td>\n",
       "      <td>0.071157</td>\n",
       "      <td>-0.000297</td>\n",
       "      <td>-0.090850</td>\n",
       "      <td>-0.090851</td>\n",
       "      <td>-0.087321</td>\n",
       "      <td>-0.087321</td>\n",
       "      <td>-0.087321</td>\n",
       "      <td>1.000000</td>\n",
       "      <td>-0.087321</td>\n",
       "      <td>-0.087319</td>\n",
       "      <td>-0.090847</td>\n",
       "      <td>-0.090849</td>\n",
       "      <td>-0.090851</td>\n",
       "      <td>-0.090851</td>\n",
       "    </tr>\n",
       "    <tr>\n",
       "      <th>Lyft XL</th>\n",
       "      <td>-0.306431</td>\n",
       "      <td>-0.039163</td>\n",
       "      <td>-0.000597</td>\n",
       "      <td>0.071157</td>\n",
       "      <td>-0.000297</td>\n",
       "      <td>-0.090850</td>\n",
       "      <td>-0.090851</td>\n",
       "      <td>-0.087321</td>\n",
       "      <td>-0.087321</td>\n",
       "      <td>-0.087321</td>\n",
       "      <td>-0.087321</td>\n",
       "      <td>1.000000</td>\n",
       "      <td>-0.087319</td>\n",
       "      <td>-0.090847</td>\n",
       "      <td>-0.090849</td>\n",
       "      <td>-0.090851</td>\n",
       "      <td>-0.090851</td>\n",
       "    </tr>\n",
       "    <tr>\n",
       "      <th>Shared</th>\n",
       "      <td>-0.306425</td>\n",
       "      <td>-0.333235</td>\n",
       "      <td>-0.000585</td>\n",
       "      <td>-0.046660</td>\n",
       "      <td>-0.000286</td>\n",
       "      <td>-0.090848</td>\n",
       "      <td>-0.090849</td>\n",
       "      <td>-0.087319</td>\n",
       "      <td>-0.087319</td>\n",
       "      <td>-0.087319</td>\n",
       "      <td>-0.087319</td>\n",
       "      <td>-0.087319</td>\n",
       "      <td>1.000000</td>\n",
       "      <td>-0.090845</td>\n",
       "      <td>-0.090847</td>\n",
       "      <td>-0.090849</td>\n",
       "      <td>-0.090849</td>\n",
       "    </tr>\n",
       "    <tr>\n",
       "      <th>UberPool</th>\n",
       "      <td>0.296467</td>\n",
       "      <td>-0.256930</td>\n",
       "      <td>0.000578</td>\n",
       "      <td>-0.048545</td>\n",
       "      <td>0.000282</td>\n",
       "      <td>-0.094518</td>\n",
       "      <td>-0.094519</td>\n",
       "      <td>-0.090847</td>\n",
       "      <td>-0.090847</td>\n",
       "      <td>-0.090847</td>\n",
       "      <td>-0.090847</td>\n",
       "      <td>-0.090847</td>\n",
       "      <td>-0.090845</td>\n",
       "      <td>1.000000</td>\n",
       "      <td>-0.094517</td>\n",
       "      <td>-0.094519</td>\n",
       "      <td>-0.094519</td>\n",
       "    </tr>\n",
       "    <tr>\n",
       "      <th>UberX</th>\n",
       "      <td>0.296476</td>\n",
       "      <td>-0.223551</td>\n",
       "      <td>0.000577</td>\n",
       "      <td>-0.048546</td>\n",
       "      <td>0.000281</td>\n",
       "      <td>-0.094521</td>\n",
       "      <td>-0.094522</td>\n",
       "      <td>-0.090849</td>\n",
       "      <td>-0.090849</td>\n",
       "      <td>-0.090849</td>\n",
       "      <td>-0.090849</td>\n",
       "      <td>-0.090849</td>\n",
       "      <td>-0.090847</td>\n",
       "      <td>-0.094517</td>\n",
       "      <td>1.000000</td>\n",
       "      <td>-0.094522</td>\n",
       "      <td>-0.094522</td>\n",
       "    </tr>\n",
       "    <tr>\n",
       "      <th>UberXL</th>\n",
       "      <td>0.296482</td>\n",
       "      <td>-0.028587</td>\n",
       "      <td>0.000573</td>\n",
       "      <td>-0.048547</td>\n",
       "      <td>0.000288</td>\n",
       "      <td>-0.094523</td>\n",
       "      <td>-0.094524</td>\n",
       "      <td>-0.090851</td>\n",
       "      <td>-0.090851</td>\n",
       "      <td>-0.090851</td>\n",
       "      <td>-0.090851</td>\n",
       "      <td>-0.090851</td>\n",
       "      <td>-0.090849</td>\n",
       "      <td>-0.094519</td>\n",
       "      <td>-0.094522</td>\n",
       "      <td>1.000000</td>\n",
       "      <td>-0.094524</td>\n",
       "    </tr>\n",
       "    <tr>\n",
       "      <th>WAV</th>\n",
       "      <td>0.296482</td>\n",
       "      <td>-0.223557</td>\n",
       "      <td>0.000573</td>\n",
       "      <td>-0.048547</td>\n",
       "      <td>0.000288</td>\n",
       "      <td>-0.094523</td>\n",
       "      <td>-0.094524</td>\n",
       "      <td>-0.090851</td>\n",
       "      <td>-0.090851</td>\n",
       "      <td>-0.090851</td>\n",
       "      <td>-0.090851</td>\n",
       "      <td>-0.090851</td>\n",
       "      <td>-0.090849</td>\n",
       "      <td>-0.094519</td>\n",
       "      <td>-0.094522</td>\n",
       "      <td>-0.094524</td>\n",
       "      <td>1.000000</td>\n",
       "    </tr>\n",
       "  </tbody>\n",
       "</table>\n",
       "</div>"
      ],
      "text/plain": [
       "                  Taxi_product     Price  Distance  Surge_multiplier  \\\n",
       "Taxi_product          1.000000 -0.083385  0.001941         -0.163745   \n",
       "Price                -0.083385  1.000000  0.345061          0.240458   \n",
       "Distance              0.001941  0.345061  1.000000          0.025946   \n",
       "Surge_multiplier     -0.163745  0.240458  0.025946          1.000000   \n",
       "Route                 0.000963 -0.030206 -0.103760         -0.033976   \n",
       "Black                 0.296479  0.131185  0.000579         -0.048547   \n",
       "Black SUV             0.296482  0.453096  0.000573         -0.048547   \n",
       "Lux                  -0.306431  0.038857 -0.000597          0.068468   \n",
       "Lux Black            -0.306431  0.206544 -0.000597          0.068468   \n",
       "Lux Black XL         -0.306431  0.500057 -0.000597          0.068468   \n",
       "Lyft                 -0.306431 -0.219756 -0.000597          0.071157   \n",
       "Lyft XL              -0.306431 -0.039163 -0.000597          0.071157   \n",
       "Shared               -0.306425 -0.333235 -0.000585         -0.046660   \n",
       "UberPool              0.296467 -0.256930  0.000578         -0.048545   \n",
       "UberX                 0.296476 -0.223551  0.000577         -0.048546   \n",
       "UberXL                0.296482 -0.028587  0.000573         -0.048547   \n",
       "WAV                   0.296482 -0.223557  0.000573         -0.048547   \n",
       "\n",
       "                     Route     Black  Black SUV       Lux  Lux Black  \\\n",
       "Taxi_product      0.000963  0.296479   0.296482 -0.306431  -0.306431   \n",
       "Price            -0.030206  0.131185   0.453096  0.038857   0.206544   \n",
       "Distance         -0.103760  0.000579   0.000573 -0.000597  -0.000597   \n",
       "Surge_multiplier -0.033976 -0.048547  -0.048547  0.068468   0.068468   \n",
       "Route             1.000000  0.000287   0.000288 -0.000297  -0.000297   \n",
       "Black             0.000287  1.000000  -0.094523 -0.090850  -0.090850   \n",
       "Black SUV         0.000288 -0.094523   1.000000 -0.090851  -0.090851   \n",
       "Lux              -0.000297 -0.090850  -0.090851  1.000000  -0.087321   \n",
       "Lux Black        -0.000297 -0.090850  -0.090851 -0.087321   1.000000   \n",
       "Lux Black XL     -0.000297 -0.090850  -0.090851 -0.087321  -0.087321   \n",
       "Lyft             -0.000297 -0.090850  -0.090851 -0.087321  -0.087321   \n",
       "Lyft XL          -0.000297 -0.090850  -0.090851 -0.087321  -0.087321   \n",
       "Shared           -0.000286 -0.090848  -0.090849 -0.087319  -0.087319   \n",
       "UberPool          0.000282 -0.094518  -0.094519 -0.090847  -0.090847   \n",
       "UberX             0.000281 -0.094521  -0.094522 -0.090849  -0.090849   \n",
       "UberXL            0.000288 -0.094523  -0.094524 -0.090851  -0.090851   \n",
       "WAV               0.000288 -0.094523  -0.094524 -0.090851  -0.090851   \n",
       "\n",
       "                  Lux Black XL      Lyft   Lyft XL    Shared  UberPool  \\\n",
       "Taxi_product         -0.306431 -0.306431 -0.306431 -0.306425  0.296467   \n",
       "Price                 0.500057 -0.219756 -0.039163 -0.333235 -0.256930   \n",
       "Distance             -0.000597 -0.000597 -0.000597 -0.000585  0.000578   \n",
       "Surge_multiplier      0.068468  0.071157  0.071157 -0.046660 -0.048545   \n",
       "Route                -0.000297 -0.000297 -0.000297 -0.000286  0.000282   \n",
       "Black                -0.090850 -0.090850 -0.090850 -0.090848 -0.094518   \n",
       "Black SUV            -0.090851 -0.090851 -0.090851 -0.090849 -0.094519   \n",
       "Lux                  -0.087321 -0.087321 -0.087321 -0.087319 -0.090847   \n",
       "Lux Black            -0.087321 -0.087321 -0.087321 -0.087319 -0.090847   \n",
       "Lux Black XL          1.000000 -0.087321 -0.087321 -0.087319 -0.090847   \n",
       "Lyft                 -0.087321  1.000000 -0.087321 -0.087319 -0.090847   \n",
       "Lyft XL              -0.087321 -0.087321  1.000000 -0.087319 -0.090847   \n",
       "Shared               -0.087319 -0.087319 -0.087319  1.000000 -0.090845   \n",
       "UberPool             -0.090847 -0.090847 -0.090847 -0.090845  1.000000   \n",
       "UberX                -0.090849 -0.090849 -0.090849 -0.090847 -0.094517   \n",
       "UberXL               -0.090851 -0.090851 -0.090851 -0.090849 -0.094519   \n",
       "WAV                  -0.090851 -0.090851 -0.090851 -0.090849 -0.094519   \n",
       "\n",
       "                     UberX    UberXL       WAV  \n",
       "Taxi_product      0.296476  0.296482  0.296482  \n",
       "Price            -0.223551 -0.028587 -0.223557  \n",
       "Distance          0.000577  0.000573  0.000573  \n",
       "Surge_multiplier -0.048546 -0.048547 -0.048547  \n",
       "Route             0.000281  0.000288  0.000288  \n",
       "Black            -0.094521 -0.094523 -0.094523  \n",
       "Black SUV        -0.094522 -0.094524 -0.094524  \n",
       "Lux              -0.090849 -0.090851 -0.090851  \n",
       "Lux Black        -0.090849 -0.090851 -0.090851  \n",
       "Lux Black XL     -0.090849 -0.090851 -0.090851  \n",
       "Lyft             -0.090849 -0.090851 -0.090851  \n",
       "Lyft XL          -0.090849 -0.090851 -0.090851  \n",
       "Shared           -0.090847 -0.090849 -0.090849  \n",
       "UberPool         -0.094517 -0.094519 -0.094519  \n",
       "UberX             1.000000 -0.094522 -0.094522  \n",
       "UberXL           -0.094522  1.000000 -0.094524  \n",
       "WAV              -0.094522 -0.094524  1.000000  "
      ]
     },
     "execution_count": 37,
     "metadata": {},
     "output_type": "execute_result"
    }
   ],
   "source": [
    "# Menampilkan korelasi antar kolom\n",
    "uber_lyft.corr()"
   ]
  },
  {
   "cell_type": "markdown",
   "id": "4281e9ae",
   "metadata": {},
   "source": [
    "Code diatas digunakan untuk menampilkan nilai correlasi antar kolom untuk melihat seberapa besar keterkaitan hibungan antar kolom."
   ]
  },
  {
   "cell_type": "code",
   "execution_count": 38,
   "id": "d8fda7d3",
   "metadata": {},
   "outputs": [
    {
     "data": {
      "text/plain": [
       "<AxesSubplot:title={'center':'Correlation in Headmap\\n'}>"
      ]
     },
     "execution_count": 38,
     "metadata": {},
     "output_type": "execute_result"
    },
    {
     "data": {
      "image/png": "[encoded data removed]",
      "text/plain": [
       "<Figure size 1440x864 with 2 Axes>"
      ]
     },
     "metadata": {
      "needs_background": "light"
     },
     "output_type": "display_data"
    }
   ],
   "source": [
    "# Menampilkan visualisasi headmap untuk korelasi\n",
    "plt.figure(figsize=(20, 12))\n",
    "plt.title('Correlation in Headmap\\n')\n",
    "sns.heatmap(uber_lyft.corr(),annot=True)"
   ]
  },
  {
   "cell_type": "markdown",
   "id": "3477fad7",
   "metadata": {},
   "source": [
    "Kemudian, dari hasil korelasi sebelumnya divisualisasikan dalam headmap dengan fungsi sns.heatmap() guna mempermudah melihat nilai korelasinya. Dapat dilihat dari hasil visualisasi diatas, korelasi antar kolom terbilang kecil. Dan korelasi terbesar terdapat pada kolom 'price' dengan 'Distance'."
   ]
  },
  {
   "cell_type": "markdown",
   "id": "da16acce",
   "metadata": {},
   "source": [
    "#### Splitting Data"
   ]
  },
  {
   "cell_type": "markdown",
   "id": "c0dd950c",
   "metadata": {},
   "source": [
    "Splitting data adalah suatu teknik untuk membagi dataset menjadi dua subset yang berbeda: training set dan testing set. Tujuan dari splitting data ini adalah untuk menguji kinerja model pada data yang belum pernah dilihat sebelumnya, sehingga dapat menghindari overfitting atau underfitting."
   ]
  },
  {
   "cell_type": "code",
   "execution_count": 39,
   "id": "4721f4b3",
   "metadata": {},
   "outputs": [],
   "source": [
    "# Membagi data ke dalam X dan Y\n",
    "fitur_x = ['Route', 'Taxi_product', 'Distance', 'Surge_multiplier', 'Black', 'Black SUV', 'Lux', 'Lux Black', 'Lux Black XL', 'Lyft', 'Lyft XL', 'Shared', 'UberPool', 'UberX', 'UberXL', 'WAV']\n",
    "fitur_y = ['Price']"
   ]
  },
  {
   "cell_type": "markdown",
   "id": "bae8fcf1",
   "metadata": {},
   "source": [
    "Code diatas digunakan untuk memisahkan kolom yang akan dibagi ke dalam X dan Y, dimana X merupakan variabel independen yang merupakan variabel yang memengaruhi perubahan harga, sedangkan Y merupakan variabel dependen (variabel target) yaitu kolom 'price'."
   ]
  },
  {
   "cell_type": "code",
   "execution_count": 40,
   "id": "080990f1",
   "metadata": {},
   "outputs": [],
   "source": [
    "x = uber_lyft[fitur_x] # X = Data fitur\n",
    "y = uber_lyft[fitur_y] # Y = Data Label"
   ]
  },
  {
   "cell_type": "code",
   "execution_count": 41,
   "id": "16857262",
   "metadata": {},
   "outputs": [
    {
     "data": {
      "text/html": [
       "<div>\n",
       "<style scoped>\n",
       "    .dataframe tbody tr th:only-of-type {\n",
       "        vertical-align: middle;\n",
       "    }\n",
       "\n",
       "    .dataframe tbody tr th {\n",
       "        vertical-align: top;\n",
       "    }\n",
       "\n",
       "    .dataframe thead th {\n",
       "        text-align: right;\n",
       "    }\n",
       "</style>\n",
       "<table border=\"1\" class=\"dataframe\">\n",
       "  <thead>\n",
       "    <tr style=\"text-align: right;\">\n",
       "      <th></th>\n",
       "      <th>Route</th>\n",
       "      <th>Taxi_product</th>\n",
       "      <th>Distance</th>\n",
       "      <th>Surge_multiplier</th>\n",
       "      <th>Black</th>\n",
       "      <th>Black SUV</th>\n",
       "      <th>Lux</th>\n",
       "      <th>Lux Black</th>\n",
       "      <th>Lux Black XL</th>\n",
       "      <th>Lyft</th>\n",
       "      <th>Lyft XL</th>\n",
       "      <th>Shared</th>\n",
       "      <th>UberPool</th>\n",
       "      <th>UberX</th>\n",
       "      <th>UberXL</th>\n",
       "      <th>WAV</th>\n",
       "    </tr>\n",
       "  </thead>\n",
       "  <tbody>\n",
       "    <tr>\n",
       "      <th>0</th>\n",
       "      <td>33</td>\n",
       "      <td>0</td>\n",
       "      <td>0.44</td>\n",
       "      <td>1.0</td>\n",
       "      <td>0</td>\n",
       "      <td>0</td>\n",
       "      <td>0</td>\n",
       "      <td>0</td>\n",
       "      <td>0</td>\n",
       "      <td>0</td>\n",
       "      <td>0</td>\n",
       "      <td>1</td>\n",
       "      <td>0</td>\n",
       "      <td>0</td>\n",
       "      <td>0</td>\n",
       "      <td>0</td>\n",
       "    </tr>\n",
       "    <tr>\n",
       "      <th>1</th>\n",
       "      <td>33</td>\n",
       "      <td>0</td>\n",
       "      <td>0.44</td>\n",
       "      <td>1.0</td>\n",
       "      <td>0</td>\n",
       "      <td>0</td>\n",
       "      <td>1</td>\n",
       "      <td>0</td>\n",
       "      <td>0</td>\n",
       "      <td>0</td>\n",
       "      <td>0</td>\n",
       "      <td>0</td>\n",
       "      <td>0</td>\n",
       "      <td>0</td>\n",
       "      <td>0</td>\n",
       "      <td>0</td>\n",
       "    </tr>\n",
       "    <tr>\n",
       "      <th>2</th>\n",
       "      <td>33</td>\n",
       "      <td>0</td>\n",
       "      <td>0.44</td>\n",
       "      <td>1.0</td>\n",
       "      <td>0</td>\n",
       "      <td>0</td>\n",
       "      <td>0</td>\n",
       "      <td>0</td>\n",
       "      <td>0</td>\n",
       "      <td>1</td>\n",
       "      <td>0</td>\n",
       "      <td>0</td>\n",
       "      <td>0</td>\n",
       "      <td>0</td>\n",
       "      <td>0</td>\n",
       "      <td>0</td>\n",
       "    </tr>\n",
       "    <tr>\n",
       "      <th>3</th>\n",
       "      <td>33</td>\n",
       "      <td>0</td>\n",
       "      <td>0.44</td>\n",
       "      <td>1.0</td>\n",
       "      <td>0</td>\n",
       "      <td>0</td>\n",
       "      <td>0</td>\n",
       "      <td>0</td>\n",
       "      <td>1</td>\n",
       "      <td>0</td>\n",
       "      <td>0</td>\n",
       "      <td>0</td>\n",
       "      <td>0</td>\n",
       "      <td>0</td>\n",
       "      <td>0</td>\n",
       "      <td>0</td>\n",
       "    </tr>\n",
       "    <tr>\n",
       "      <th>4</th>\n",
       "      <td>33</td>\n",
       "      <td>0</td>\n",
       "      <td>0.44</td>\n",
       "      <td>1.0</td>\n",
       "      <td>0</td>\n",
       "      <td>0</td>\n",
       "      <td>0</td>\n",
       "      <td>0</td>\n",
       "      <td>0</td>\n",
       "      <td>0</td>\n",
       "      <td>1</td>\n",
       "      <td>0</td>\n",
       "      <td>0</td>\n",
       "      <td>0</td>\n",
       "      <td>0</td>\n",
       "      <td>0</td>\n",
       "    </tr>\n",
       "  </tbody>\n",
       "</table>\n",
       "</div>"
      ],
      "text/plain": [
       "   Route  Taxi_product  Distance  Surge_multiplier  Black  Black SUV  Lux  \\\n",
       "0     33             0      0.44               1.0      0          0    0   \n",
       "1     33             0      0.44               1.0      0          0    1   \n",
       "2     33             0      0.44               1.0      0          0    0   \n",
       "3     33             0      0.44               1.0      0          0    0   \n",
       "4     33             0      0.44               1.0      0          0    0   \n",
       "\n",
       "   Lux Black  Lux Black XL  Lyft  Lyft XL  Shared  UberPool  UberX  UberXL  \\\n",
       "0          0             0     0        0       1         0      0       0   \n",
       "1          0             0     0        0       0         0      0       0   \n",
       "2          0             0     1        0       0         0      0       0   \n",
       "3          0             1     0        0       0         0      0       0   \n",
       "4          0             0     0        1       0         0      0       0   \n",
       "\n",
       "   WAV  \n",
       "0    0  \n",
       "1    0  \n",
       "2    0  \n",
       "3    0  \n",
       "4    0  "
      ]
     },
     "execution_count": 41,
     "metadata": {},
     "output_type": "execute_result"
    }
   ],
   "source": [
    "x.head(5)"
   ]
  },
  {
   "cell_type": "markdown",
   "id": "2d64a98b",
   "metadata": {},
   "source": [
    "Code diatas menampilkan data fitur untuk X (Variabel independen)"
   ]
  },
  {
   "cell_type": "code",
   "execution_count": 42,
   "id": "389aa554",
   "metadata": {},
   "outputs": [
    {
     "data": {
      "text/html": [
       "<div>\n",
       "<style scoped>\n",
       "    .dataframe tbody tr th:only-of-type {\n",
       "        vertical-align: middle;\n",
       "    }\n",
       "\n",
       "    .dataframe tbody tr th {\n",
       "        vertical-align: top;\n",
       "    }\n",
       "\n",
       "    .dataframe thead th {\n",
       "        text-align: right;\n",
       "    }\n",
       "</style>\n",
       "<table border=\"1\" class=\"dataframe\">\n",
       "  <thead>\n",
       "    <tr style=\"text-align: right;\">\n",
       "      <th></th>\n",
       "      <th>Price</th>\n",
       "    </tr>\n",
       "  </thead>\n",
       "  <tbody>\n",
       "    <tr>\n",
       "      <th>0</th>\n",
       "      <td>5.0</td>\n",
       "    </tr>\n",
       "    <tr>\n",
       "      <th>1</th>\n",
       "      <td>11.0</td>\n",
       "    </tr>\n",
       "    <tr>\n",
       "      <th>2</th>\n",
       "      <td>7.0</td>\n",
       "    </tr>\n",
       "    <tr>\n",
       "      <th>3</th>\n",
       "      <td>26.0</td>\n",
       "    </tr>\n",
       "    <tr>\n",
       "      <th>4</th>\n",
       "      <td>9.0</td>\n",
       "    </tr>\n",
       "  </tbody>\n",
       "</table>\n",
       "</div>"
      ],
      "text/plain": [
       "   Price\n",
       "0    5.0\n",
       "1   11.0\n",
       "2    7.0\n",
       "3   26.0\n",
       "4    9.0"
      ]
     },
     "execution_count": 42,
     "metadata": {},
     "output_type": "execute_result"
    }
   ],
   "source": [
    "y.head(5)"
   ]
  },
  {
   "cell_type": "markdown",
   "id": "22213058",
   "metadata": {},
   "source": [
    "Code diatas menampilkan data label untuk Y (Variabel dependen)"
   ]
  },
  {
   "cell_type": "code",
   "execution_count": 43,
   "id": "08de37ed",
   "metadata": {},
   "outputs": [],
   "source": [
    "# split dengan 70% training, dan 30% testing\n",
    "X_train, X_test, y_train, y_test = train_test_split(x, y, test_size=0.3, random_state=0)"
   ]
  },
  {
   "cell_type": "markdown",
   "id": "ec0aaea2",
   "metadata": {},
   "source": [
    "Code diatas melakukan proses splitting menggunakan fungsi train_test_split(), dengan parameter:\n",
    "* x = Data fitur\n",
    "* y = Data label\n",
    "* test_size = 0.3 (ukuran data testing yaitu 30%)\n",
    "* random_state : status pseudo-random number generator"
   ]
  },
  {
   "cell_type": "code",
   "execution_count": 44,
   "id": "ba4dcac8",
   "metadata": {},
   "outputs": [
    {
     "name": "stdout",
     "output_type": "stream",
     "text": [
      "Jumlah data dalam data Training :  446583\n",
      "Jumlah data dalam data Testing  :  191393\n",
      "Data untuk Training             :  70%\n",
      "Data untuk Testing              :  30%\n"
     ]
    }
   ],
   "source": [
    "print('Jumlah data dalam data Training : ', len(X_train))\n",
    "print('Jumlah data dalam data Testing  : ', len(X_test))\n",
    "print('Data untuk Training             :  70%')\n",
    "print('Data untuk Testing              :  30%')"
   ]
  },
  {
   "cell_type": "markdown",
   "id": "820aaf45",
   "metadata": {},
   "source": [
    "Menampilkan jumlah data training dana jumlah data testing. Training set digunakan untuk melatih model dengan menghitung nilai bobot atau parameter yang sesuai. Sedangkan, testing set digunakan untuk menguji kinerja model dengan menghitung nilai prediksi dan membandingkannya dengan nilai aktual."
   ]
  },
  {
   "cell_type": "markdown",
   "id": "a08bd17f",
   "metadata": {},
   "source": [
    "### G. Pendefinisian Model"
   ]
  },
  {
   "cell_type": "markdown",
   "id": "835e93cf",
   "metadata": {},
   "source": [
    "#### Linear Regression"
   ]
  },
  {
   "cell_type": "markdown",
   "id": "1aba65dc",
   "metadata": {},
   "source": [
    "Model Linear Regression adalah model prediktif yang digunakan dalam machine learning dan statistik untuk memodelkan hubungan antara satu atau lebih variabel input (X) dan variabel output (Y) dengan menggunakan persamaan linear. \n",
    "\n",
    "Tujuan dari model Linear Regression adalah :\n",
    "* Mempelajari hubungan linear antara variabel input (X) dan variabel output (Y), sehingga dapat digunakan untuk memprediksi nilai variabel output (Y) berdasarkan nilai variabel input (X),\n",
    "* Mencari nilai koefisien dan konstanta (bias) yang paling baik memetakan hubungan linier antara variabel input (X) dan variabel output (Y), \n",
    "* Digunakan untuk membuat prediksi pada data baru."
   ]
  },
  {
   "cell_type": "code",
   "execution_count": 45,
   "id": "0e7709fa",
   "metadata": {},
   "outputs": [],
   "source": [
    "model1 = LinearRegression()"
   ]
  },
  {
   "cell_type": "markdown",
   "id": "1e405ba6",
   "metadata": {},
   "source": [
    "Code diatas menginisialisasi variabel model1 sebagai objek LinearRegression(). LinearRegression() adalah sebuah kelas pada pustaka Scikit-Learn yang digunakan untuk membangun model regresi linear."
   ]
  },
  {
   "cell_type": "markdown",
   "id": "d2f37e2b",
   "metadata": {},
   "source": [
    "#### XGBoost"
   ]
  },
  {
   "cell_type": "markdown",
   "id": "bdb9037f",
   "metadata": {},
   "source": [
    "XGBoost (eXtreme Gradient Boosting) adalah algoritma yang menggunakan teknik ensemble learning dengan membangun sejumlah model pohon keputusan (decision tree) yang digabungkan menjadi sebuah model prediktif yang lebih kuat dan akurat. XGBoost mengoptimalkan model prediksi dengan cara mengurangi nilai error pada setiap iterasi sehingga model yang dihasilkan semakin baik. XGBoost memiliki beberapa kelebihan, antara lain:\n",
    "* Performa yang baik: XGBoost terbukti memberikan performa yang baik pada berbagai dataset, terutama pada dataset yang kompleks dengan banyak fitur dan variabel.\n",
    "* Scalability: XGBoost dirancang untuk dapat dijalankan pada dataset dengan ukuran yang besar dan jumlah variabel yang banyak, sehingga cocok digunakan pada big data.\n",
    "* XGBoost dapat digunakan pada tugas-tugas klasifikasi dan regresi, dan dapat menangani data yang tidak seimbang.\n",
    "* Penanganan missing value: XGBoost dapat menangani missing value pada dataset dengan baik, sehingga tidak perlu melakukan pengisian nilai missing value secara manual."
   ]
  },
  {
   "cell_type": "code",
   "execution_count": 46,
   "id": "8f772187",
   "metadata": {},
   "outputs": [],
   "source": [
    "model2 = xg.XGBRegressor(objective='reg:linear',n_estimators = 10, seed = 123)"
   ]
  },
  {
   "cell_type": "markdown",
   "id": "47142f17",
   "metadata": {},
   "source": [
    "Code diatas menginisialisasi variabel model2 sebagai objek XGBRegressor(). XGBRegressor() adalah sebuah kelas pada pustaka XGBoost yang digunakan untuk membangun model Regresi menggunakan algoritma Extreme Gradient Boosting (XGBoost). Parameter-parameter yang diberikan pada inisialisasi XGBRegressor() yaitu :\n",
    "* objective='reg:linear': digunakan untuk menentukan jenis fungsi tujuan (objective function) yang akan digunakan untuk mengoptimalkan model. reg:linear berarti model regresi linear.\n",
    "* n_estimators=10: menentukan jumlah pohon keputusan (decision tree) yang akan dibangun dalam model.\n",
    "* seed=123: menentukan nilai seed yang digunakan untuk menghasilkan bilangan acak pada saat membangun model."
   ]
  },
  {
   "cell_type": "markdown",
   "id": "a98abd7c",
   "metadata": {},
   "source": [
    "#### Decision Tree Regressor"
   ]
  },
  {
   "cell_type": "markdown",
   "id": "ea4847d5",
   "metadata": {},
   "source": [
    "Decision Tree Regressor adalah algoritma machine learning untuk tugas regresi, yang bekerja dengan membangun model pohon keputusan (decision tree) yang dapat menghasilkan nilai prediksi berdasarkan pemilihan cabang dari pohon keputusan tersebut. Kelebihan dari model Decision Tree Regressor antara lain:\n",
    "* Mudah dipahami dan diinterpretasi\n",
    "* Tidak memerlukan persyaratan khusus pada data, seperti normalitas dan linearitas\n",
    "* Dapat digunakan pada data numerik dan kategorikal"
   ]
  },
  {
   "cell_type": "code",
   "execution_count": 47,
   "id": "c59eff30",
   "metadata": {},
   "outputs": [],
   "source": [
    "model3 = DecisionTreeRegressor(max_depth=5, random_state=42)"
   ]
  },
  {
   "cell_type": "markdown",
   "id": "f5acfc97",
   "metadata": {},
   "source": [
    "Pada code diatas, dibuat sebuah objek model DecisionTreeRegressor dengan menggunakan parameter max_depth dan random_state.\n",
    "* max_depth merupakan parameter yang menentukan kedalaman maksimum dari pohon keputusan yang dibangun. \n",
    "* random_state adalah parameter yang digunakan untuk mengatur seed atau biji acak pada model. Hal ini bertujuan agar hasil prediksi yang dihasilkan oleh model selalu sama setiap kali dijalankan pada data yang sama. "
   ]
  },
  {
   "cell_type": "markdown",
   "id": "e60ef5f0",
   "metadata": {},
   "source": [
    "#### Random Forest Regressor"
   ]
  },
  {
   "cell_type": "markdown",
   "id": "3e56ff5c",
   "metadata": {},
   "source": [
    "Random Forest Regressor adalah algoritma machine learning untuk tugas regresi, yang bekerja dengan menggabungkan beberapa pohon keputusan (decision tree) untuk menghasilkan prediksi yang lebih akurat dan stabil. Setiap pohon keputusan pada model Random Forest Regressor dibangun secara acak dari subset acak dari data latih. Kelebihan dari model Random Forest Regressor antara lain:\n",
    "* Lebih akurat dan stabil dalam melakukan prediksi dibandingkan dengan model Decision Tree Regressor\n",
    "* Mampu menangani data yang kompleks atau terlalu banyak fitur\n",
    "* Tidak cenderung overfitting karena model terdiri dari banyak pohon keputusan yang dibangun dari subset acak dari data latih"
   ]
  },
  {
   "cell_type": "code",
   "execution_count": 48,
   "id": "34437523",
   "metadata": {},
   "outputs": [],
   "source": [
    "model4 = RandomForestRegressor(n_estimators=100, max_depth=5, random_state=33)"
   ]
  },
  {
   "cell_type": "markdown",
   "id": "14d36ff9",
   "metadata": {},
   "source": [
    "Code diatas menginisialisasi variabel model3 sebagai objek RandomForestRgressor dengan parameter yaitu :\n",
    "* n_estimators adalah parameter yang menentukan jumlah pohon keputusan yang dibangun dalam model Random Forest Regressor.\n",
    "* max_depth merupakan parameter yang menentukan kedalaman maksimum dari pohon keputusan yang dibangun.\n",
    "* random_state adalah parameter yang digunakan untuk mengatur seed atau biji acak pada model. Hal ini bertujuan agar hasil prediksi yang dihasilkan oleh model selalu sama setiap kali dijalankan pada data yang sama."
   ]
  },
  {
   "cell_type": "markdown",
   "id": "b8f09fa3",
   "metadata": {},
   "source": [
    "### H. Pelatihan Model"
   ]
  },
  {
   "cell_type": "markdown",
   "id": "b7ff924d",
   "metadata": {},
   "source": [
    "#### Linear Regression"
   ]
  },
  {
   "cell_type": "code",
   "execution_count": 49,
   "id": "9c5cb19b",
   "metadata": {},
   "outputs": [],
   "source": [
    "model1.fit(X_train, y_train)\n",
    "\n",
    "y_pred_lr = model1.predict(X_test)"
   ]
  },
  {
   "cell_type": "markdown",
   "id": "d5bfb7cd",
   "metadata": {},
   "source": [
    "Code diatas dilakukan untuk melatih model Linear Regression dengan variabel independen X_train, dan variabel independen y_train yang kemudian melakukan prediksi terhadap variabel independen X_test"
   ]
  },
  {
   "cell_type": "code",
   "execution_count": 50,
   "id": "426bbd92",
   "metadata": {},
   "outputs": [
    {
     "data": {
      "text/plain": [
       "0.9282472233146163"
      ]
     },
     "execution_count": 50,
     "metadata": {},
     "output_type": "execute_result"
    }
   ],
   "source": [
    "model1.score(X_test, y_test)"
   ]
  },
  {
   "cell_type": "markdown",
   "id": "a9701d62",
   "metadata": {},
   "source": [
    "Code diatas digunakan untuk melihat akurasi/performa model dengan fungsi score(). Pengecekan akurasi diatas menggunakan set data testing."
   ]
  },
  {
   "cell_type": "code",
   "execution_count": 51,
   "id": "0e97607c",
   "metadata": {},
   "outputs": [
    {
     "data": {
      "text/plain": [
       "0.9270466424341965"
      ]
     },
     "execution_count": 51,
     "metadata": {},
     "output_type": "execute_result"
    }
   ],
   "source": [
    "model1.score(X_train, y_train)"
   ]
  },
  {
   "cell_type": "markdown",
   "id": "f3b8c597",
   "metadata": {},
   "source": [
    "Code diatas juga merupakan pengecekan akurasi model namun menggunakan set data training."
   ]
  },
  {
   "cell_type": "code",
   "execution_count": 52,
   "id": "5e1c1957",
   "metadata": {},
   "outputs": [
    {
     "data": {
      "text/html": [
       "<div>\n",
       "<style scoped>\n",
       "    .dataframe tbody tr th:only-of-type {\n",
       "        vertical-align: middle;\n",
       "    }\n",
       "\n",
       "    .dataframe tbody tr th {\n",
       "        vertical-align: top;\n",
       "    }\n",
       "\n",
       "    .dataframe thead th {\n",
       "        text-align: right;\n",
       "    }\n",
       "</style>\n",
       "<table border=\"1\" class=\"dataframe\">\n",
       "  <thead>\n",
       "    <tr style=\"text-align: right;\">\n",
       "      <th></th>\n",
       "      <th>Price</th>\n",
       "      <th>predict</th>\n",
       "    </tr>\n",
       "  </thead>\n",
       "  <tbody>\n",
       "    <tr>\n",
       "      <th>677566</th>\n",
       "      <td>19.5</td>\n",
       "      <td>21.173068</td>\n",
       "    </tr>\n",
       "    <tr>\n",
       "      <th>308691</th>\n",
       "      <td>10.5</td>\n",
       "      <td>11.724112</td>\n",
       "    </tr>\n",
       "    <tr>\n",
       "      <th>396241</th>\n",
       "      <td>5.0</td>\n",
       "      <td>8.098183</td>\n",
       "    </tr>\n",
       "    <tr>\n",
       "      <th>136589</th>\n",
       "      <td>16.5</td>\n",
       "      <td>16.949238</td>\n",
       "    </tr>\n",
       "    <tr>\n",
       "      <th>198998</th>\n",
       "      <td>38.5</td>\n",
       "      <td>33.417293</td>\n",
       "    </tr>\n",
       "    <tr>\n",
       "      <th>179736</th>\n",
       "      <td>16.5</td>\n",
       "      <td>16.046611</td>\n",
       "    </tr>\n",
       "    <tr>\n",
       "      <th>311934</th>\n",
       "      <td>30.5</td>\n",
       "      <td>29.176560</td>\n",
       "    </tr>\n",
       "    <tr>\n",
       "      <th>510750</th>\n",
       "      <td>19.5</td>\n",
       "      <td>19.165795</td>\n",
       "    </tr>\n",
       "    <tr>\n",
       "      <th>6135</th>\n",
       "      <td>13.5</td>\n",
       "      <td>12.004767</td>\n",
       "    </tr>\n",
       "    <tr>\n",
       "      <th>313476</th>\n",
       "      <td>10.5</td>\n",
       "      <td>13.811116</td>\n",
       "    </tr>\n",
       "  </tbody>\n",
       "</table>\n",
       "</div>"
      ],
      "text/plain": [
       "        Price    predict\n",
       "677566   19.5  21.173068\n",
       "308691   10.5  11.724112\n",
       "396241    5.0   8.098183\n",
       "136589   16.5  16.949238\n",
       "198998   38.5  33.417293\n",
       "179736   16.5  16.046611\n",
       "311934   30.5  29.176560\n",
       "510750   19.5  19.165795\n",
       "6135     13.5  12.004767\n",
       "313476   10.5  13.811116"
      ]
     },
     "execution_count": 52,
     "metadata": {},
     "output_type": "execute_result"
    }
   ],
   "source": [
    "pred = pd.DataFrame(y_test[:10])\n",
    "pred['predict'] = y_pred_lr[:10]\n",
    "pred"
   ]
  },
  {
   "cell_type": "markdown",
   "id": "2c45af44",
   "metadata": {},
   "source": [
    "Code diatas menampilkan hasil prediksi dengan menggunakan fungsi DataFrame() untuk melihat 10 pertama hasil output prediksi dari data X_test kemudian dibandingkan dengan nilai price real dari y_test. Dari hasil diatas dapat dilihat bahwa perbedaan nilai prediksi dengan aktual tidak jauh berbeda, hal tersebut menandakan bahwa model ini sudah cukup baik dalam memprediksi sebuah data. "
   ]
  },
  {
   "cell_type": "code",
   "execution_count": 53,
   "id": "7b0cd476",
   "metadata": {},
   "outputs": [
    {
     "data": {
      "image/png": "[encoded data removed]",
      "text/plain": [
       "<Figure size 432x288 with 1 Axes>"
      ]
     },
     "metadata": {
      "needs_background": "light"
     },
     "output_type": "display_data"
    }
   ],
   "source": [
    "plt.scatter(x = range(1,51),\n",
    "            y = y_test[:50],\n",
    "            marker='*',\n",
    "            c='r',\n",
    "            s=70,\n",
    "            label = 'y_test'\n",
    ")\n",
    "\n",
    "plt.scatter(x = range(1,51),\n",
    "            y = y_pred_lr[:50],\n",
    "            marker='o',\n",
    "            c='g',\n",
    "            s=50,\n",
    "            label= 'y_pred'\n",
    ")\n",
    "\n",
    "plt.title('Linear Regression\\n')\n",
    "plt.legend(loc='center left', bbox_to_anchor=(1, 0.5))\n",
    "plt.show()"
   ]
  },
  {
   "cell_type": "markdown",
   "id": "cba26f5e",
   "metadata": {},
   "source": [
    "Code diatas digunakan untuk memvisualisasikan hasil prediksi dengan Scatter Plot untuk melihat 50 pertama hasil output prediksi dari data X_test kemudian dibandingkan dengan nilai price real dari y_test. Dapat dilihat dari visualisasi tersebut letak antara merah dan hijau saling berdekatan, yang menandakan hasil prediksi tidak terlalu jauh dari nilai asli."
   ]
  },
  {
   "cell_type": "markdown",
   "id": "9687eb7a",
   "metadata": {},
   "source": [
    "#### XGBoost"
   ]
  },
  {
   "cell_type": "code",
   "execution_count": 54,
   "id": "1f9421cb",
   "metadata": {},
   "outputs": [
    {
     "name": "stdout",
     "output_type": "stream",
     "text": [
      "[22:40:37] WARNING: C:\\buildkite-agent\\builds\\buildkite-windows-cpu-autoscaling-group-i-07593ffd91cd9da33-1\\xgboost\\xgboost-ci-windows\\src\\objective\\regression_obj.cu:213: reg:linear is now deprecated in favor of reg:squarederror.\n"
     ]
    }
   ],
   "source": [
    "model2.fit(X_train, y_train)\n",
    "\n",
    "y_pred_xgb = model2.predict(X_test)"
   ]
  },
  {
   "cell_type": "markdown",
   "id": "e4ee6359",
   "metadata": {},
   "source": [
    "Code diatas dilakukan untuk melatih model XGBoost dengan variabel independen X_train, dan variabel independen y_train yang kemudian melakukan prediksi terhadap variabel independen X_test"
   ]
  },
  {
   "cell_type": "code",
   "execution_count": 55,
   "id": "fb9bd068",
   "metadata": {},
   "outputs": [
    {
     "data": {
      "text/plain": [
       "0.9523286842305174"
      ]
     },
     "execution_count": 55,
     "metadata": {},
     "output_type": "execute_result"
    }
   ],
   "source": [
    "model2.score(X_train, y_train)"
   ]
  },
  {
   "cell_type": "markdown",
   "id": "69e35d03",
   "metadata": {},
   "source": [
    "Code diatas digunakan untuk melihat akurasi/performa model dengan fungsi score(). Pengecekan akurasi diatas menggunakan set data training."
   ]
  },
  {
   "cell_type": "code",
   "execution_count": 56,
   "id": "1bab9e9e",
   "metadata": {},
   "outputs": [
    {
     "data": {
      "text/plain": [
       "0.9526562676405693"
      ]
     },
     "execution_count": 56,
     "metadata": {},
     "output_type": "execute_result"
    }
   ],
   "source": [
    "model2.score(X_test, y_test)"
   ]
  },
  {
   "cell_type": "markdown",
   "id": "c60ea60a",
   "metadata": {},
   "source": [
    "Code diatas juga merupakan pengecekan akurasi model namun menggunakan set data testing."
   ]
  },
  {
   "cell_type": "code",
   "execution_count": 57,
   "id": "48b61525",
   "metadata": {},
   "outputs": [
    {
     "data": {
      "text/html": [
       "<div>\n",
       "<style scoped>\n",
       "    .dataframe tbody tr th:only-of-type {\n",
       "        vertical-align: middle;\n",
       "    }\n",
       "\n",
       "    .dataframe tbody tr th {\n",
       "        vertical-align: top;\n",
       "    }\n",
       "\n",
       "    .dataframe thead th {\n",
       "        text-align: right;\n",
       "    }\n",
       "</style>\n",
       "<table border=\"1\" class=\"dataframe\">\n",
       "  <thead>\n",
       "    <tr style=\"text-align: right;\">\n",
       "      <th></th>\n",
       "      <th>Price</th>\n",
       "      <th>Predict</th>\n",
       "    </tr>\n",
       "  </thead>\n",
       "  <tbody>\n",
       "    <tr>\n",
       "      <th>677566</th>\n",
       "      <td>19.5</td>\n",
       "      <td>21.476704</td>\n",
       "    </tr>\n",
       "    <tr>\n",
       "      <th>308691</th>\n",
       "      <td>10.5</td>\n",
       "      <td>11.104454</td>\n",
       "    </tr>\n",
       "    <tr>\n",
       "      <th>396241</th>\n",
       "      <td>5.0</td>\n",
       "      <td>7.030320</td>\n",
       "    </tr>\n",
       "    <tr>\n",
       "      <th>136589</th>\n",
       "      <td>16.5</td>\n",
       "      <td>14.966918</td>\n",
       "    </tr>\n",
       "    <tr>\n",
       "      <th>198998</th>\n",
       "      <td>38.5</td>\n",
       "      <td>32.284843</td>\n",
       "    </tr>\n",
       "    <tr>\n",
       "      <th>179736</th>\n",
       "      <td>16.5</td>\n",
       "      <td>14.966918</td>\n",
       "    </tr>\n",
       "    <tr>\n",
       "      <th>311934</th>\n",
       "      <td>30.5</td>\n",
       "      <td>22.250605</td>\n",
       "    </tr>\n",
       "    <tr>\n",
       "      <th>510750</th>\n",
       "      <td>19.5</td>\n",
       "      <td>19.535925</td>\n",
       "    </tr>\n",
       "    <tr>\n",
       "      <th>6135</th>\n",
       "      <td>13.5</td>\n",
       "      <td>11.144557</td>\n",
       "    </tr>\n",
       "    <tr>\n",
       "      <th>313476</th>\n",
       "      <td>10.5</td>\n",
       "      <td>12.574756</td>\n",
       "    </tr>\n",
       "  </tbody>\n",
       "</table>\n",
       "</div>"
      ],
      "text/plain": [
       "        Price    Predict\n",
       "677566   19.5  21.476704\n",
       "308691   10.5  11.104454\n",
       "396241    5.0   7.030320\n",
       "136589   16.5  14.966918\n",
       "198998   38.5  32.284843\n",
       "179736   16.5  14.966918\n",
       "311934   30.5  22.250605\n",
       "510750   19.5  19.535925\n",
       "6135     13.5  11.144557\n",
       "313476   10.5  12.574756"
      ]
     },
     "execution_count": 57,
     "metadata": {},
     "output_type": "execute_result"
    }
   ],
   "source": [
    "pred = pd.DataFrame(y_test[:10])\n",
    "pred['Predict'] = y_pred_xgb[:10]\n",
    "pred"
   ]
  },
  {
   "cell_type": "markdown",
   "id": "56ba0de9",
   "metadata": {},
   "source": [
    "Code diatas menampilkan hasil prediksi dari model XGBoost dengan menggunakan fungsi DataFrame() untuk melihat 10 pertama hasil output prediksi dari data X_test kemudian dibandingkan dengan nilai price real dari y_test. Dari hasil diatas dapat dilihat bahwa perbedaan nilai prediksi dengan aktual tidak jauh berbeda, hal tersebut menandakan bahwa model ini sudah cukup baik dalam memprediksi sebuah data."
   ]
  },
  {
   "cell_type": "code",
   "execution_count": 58,
   "id": "4fa55fcb",
   "metadata": {},
   "outputs": [
    {
     "data": {
      "image/png": "[encoded data removed]",
      "text/plain": [
       "<Figure size 432x288 with 1 Axes>"
      ]
     },
     "metadata": {
      "needs_background": "light"
     },
     "output_type": "display_data"
    }
   ],
   "source": [
    "plt.scatter(x = range(1,51),\n",
    "            y = y_test[:50],\n",
    "            marker = '*',\n",
    "            c = 'r',\n",
    "            s = 70,\n",
    "            label = 'y_test'\n",
    ")\n",
    "\n",
    "plt.scatter(x = range(1,51),\n",
    "            y = y_pred_xgb[:50],\n",
    "            marker = 'o',\n",
    "            c = 'g',\n",
    "            s = 50,\n",
    "            label = 'y_pred'\n",
    ")\n",
    "\n",
    "plt.title('XG Boost Regressor')\n",
    "plt.legend(loc='center left', bbox_to_anchor=(1, 0.5))\n",
    "plt.show()"
   ]
  },
  {
   "cell_type": "markdown",
   "id": "04617dac",
   "metadata": {},
   "source": [
    "Code diatas digunakan untuk memvisualisasikan hasil prediksi dengan Scatter Plot untuk melihat 50 pertama hasil output prediksi XGBoost dari data X_test kemudian dibandingkan dengan nilai price real dari y_test. Dapat dilihat dari visualisasi tersebut letak antara merah dan hijau lebih saling berdekatan dari model sebelumnya, yang menandakan hasil prediksi tidak terlalu jauh dari nilai asli dan model sudah baik dalam prediksi."
   ]
  },
  {
   "cell_type": "markdown",
   "id": "c8927b19",
   "metadata": {},
   "source": [
    "#### Decision Tree"
   ]
  },
  {
   "cell_type": "code",
   "execution_count": 59,
   "id": "1bf83d0d",
   "metadata": {},
   "outputs": [],
   "source": [
    "model3.fit(X_train, y_train)\n",
    "\n",
    "y_pred_dt = model3.predict(X_test)"
   ]
  },
  {
   "cell_type": "markdown",
   "id": "97c33fc7",
   "metadata": {},
   "source": [
    "Code diatas dilakukan untuk melatih model Desicion Tree dengan variabel independen X_train, dan variabel independen y_train yang kemudian melakukan prediksi terhadap variabel independen X_test"
   ]
  },
  {
   "cell_type": "code",
   "execution_count": 60,
   "id": "dc686856",
   "metadata": {},
   "outputs": [
    {
     "data": {
      "text/plain": [
       "0.8042651493140112"
      ]
     },
     "execution_count": 60,
     "metadata": {},
     "output_type": "execute_result"
    }
   ],
   "source": [
    "model3.score(X_train, y_train)"
   ]
  },
  {
   "cell_type": "markdown",
   "id": "f44d443d",
   "metadata": {},
   "source": [
    "Code diatas digunakan untuk melihat akurasi/performa model Desicion Tree dengan fungsi score(). Pengecekan akurasi diatas menggunakan set data training."
   ]
  },
  {
   "cell_type": "code",
   "execution_count": 61,
   "id": "03d02c5f",
   "metadata": {},
   "outputs": [
    {
     "data": {
      "text/plain": [
       "0.8030808654370112"
      ]
     },
     "execution_count": 61,
     "metadata": {},
     "output_type": "execute_result"
    }
   ],
   "source": [
    "model3.score(X_test, y_test)"
   ]
  },
  {
   "cell_type": "markdown",
   "id": "e52f47fc",
   "metadata": {},
   "source": [
    "Code diatas juga merupakan pengecekan akurasi model Desicion Tree namun menggunakan set data testing."
   ]
  },
  {
   "cell_type": "code",
   "execution_count": 62,
   "id": "8fa187b9",
   "metadata": {},
   "outputs": [
    {
     "data": {
      "text/html": [
       "<div>\n",
       "<style scoped>\n",
       "    .dataframe tbody tr th:only-of-type {\n",
       "        vertical-align: middle;\n",
       "    }\n",
       "\n",
       "    .dataframe tbody tr th {\n",
       "        vertical-align: top;\n",
       "    }\n",
       "\n",
       "    .dataframe thead th {\n",
       "        text-align: right;\n",
       "    }\n",
       "</style>\n",
       "<table border=\"1\" class=\"dataframe\">\n",
       "  <thead>\n",
       "    <tr style=\"text-align: right;\">\n",
       "      <th></th>\n",
       "      <th>Price</th>\n",
       "      <th>predict</th>\n",
       "    </tr>\n",
       "  </thead>\n",
       "  <tbody>\n",
       "    <tr>\n",
       "      <th>677566</th>\n",
       "      <td>19.5</td>\n",
       "      <td>24.291684</td>\n",
       "    </tr>\n",
       "    <tr>\n",
       "      <th>308691</th>\n",
       "      <td>10.5</td>\n",
       "      <td>10.716971</td>\n",
       "    </tr>\n",
       "    <tr>\n",
       "      <th>396241</th>\n",
       "      <td>5.0</td>\n",
       "      <td>10.716971</td>\n",
       "    </tr>\n",
       "    <tr>\n",
       "      <th>136589</th>\n",
       "      <td>16.5</td>\n",
       "      <td>17.765794</td>\n",
       "    </tr>\n",
       "    <tr>\n",
       "      <th>198998</th>\n",
       "      <td>38.5</td>\n",
       "      <td>34.637761</td>\n",
       "    </tr>\n",
       "    <tr>\n",
       "      <th>179736</th>\n",
       "      <td>16.5</td>\n",
       "      <td>17.765794</td>\n",
       "    </tr>\n",
       "    <tr>\n",
       "      <th>311934</th>\n",
       "      <td>30.5</td>\n",
       "      <td>10.716971</td>\n",
       "    </tr>\n",
       "    <tr>\n",
       "      <th>510750</th>\n",
       "      <td>19.5</td>\n",
       "      <td>17.765794</td>\n",
       "    </tr>\n",
       "    <tr>\n",
       "      <th>6135</th>\n",
       "      <td>13.5</td>\n",
       "      <td>10.716971</td>\n",
       "    </tr>\n",
       "    <tr>\n",
       "      <th>313476</th>\n",
       "      <td>10.5</td>\n",
       "      <td>17.765794</td>\n",
       "    </tr>\n",
       "  </tbody>\n",
       "</table>\n",
       "</div>"
      ],
      "text/plain": [
       "        Price    predict\n",
       "677566   19.5  24.291684\n",
       "308691   10.5  10.716971\n",
       "396241    5.0  10.716971\n",
       "136589   16.5  17.765794\n",
       "198998   38.5  34.637761\n",
       "179736   16.5  17.765794\n",
       "311934   30.5  10.716971\n",
       "510750   19.5  17.765794\n",
       "6135     13.5  10.716971\n",
       "313476   10.5  17.765794"
      ]
     },
     "execution_count": 62,
     "metadata": {},
     "output_type": "execute_result"
    }
   ],
   "source": [
    "pred=pd.DataFrame(y_test[:10])\n",
    "pred['predict']=y_pred_dt[:10]\n",
    "pred"
   ]
  },
  {
   "cell_type": "markdown",
   "id": "c40f204d",
   "metadata": {},
   "source": [
    "Code diatas menampilkan hasil prediksi dari model Desicion Tree dengan menggunakan fungsi DataFrame() untuk melihat 10 pertama hasil output prediksi dari data X_test kemudian dibandingkan dengan nilai price real dari y_test. Dari hasil diatas dapat dilihat bahwa perbedaan nilai prediksi dengan aktual memiliki selisih yang cukup jauh berbeda, artinya model masih kurang baik dalam memprediksi."
   ]
  },
  {
   "cell_type": "code",
   "execution_count": 63,
   "id": "ccb60edb",
   "metadata": {},
   "outputs": [
    {
     "data": {
      "image/png": "[encoded data removed]",
      "text/plain": [
       "<Figure size 1440x720 with 1 Axes>"
      ]
     },
     "metadata": {
      "needs_background": "light"
     },
     "output_type": "display_data"
    }
   ],
   "source": [
    "# Divisualisasikan model dengan plot_tree\n",
    "plt.figure(figsize=(20,10))\n",
    "plot_tree(model3, filled=True)\n",
    "plt.show()"
   ]
  },
  {
   "cell_type": "markdown",
   "id": "1ded98b6",
   "metadata": {},
   "source": [
    "Code diatas digunakan untuk memvisualisasikan hasil model desicion tree dalam bentuk tree, namun visualisasi diatas sulit untuk dipahami. Namun dapat dilihat bahwa kedalaman pohon terbentuk sesuai dengan parameter yang ditetapkan diawal yaitu 5. "
   ]
  },
  {
   "cell_type": "code",
   "execution_count": 64,
   "id": "5b1b7269",
   "metadata": {},
   "outputs": [
    {
     "data": {
      "image/png": "[encoded data removed]",
      "text/plain": [
       "<Figure size 432x288 with 1 Axes>"
      ]
     },
     "metadata": {
      "needs_background": "light"
     },
     "output_type": "display_data"
    }
   ],
   "source": [
    "plt.scatter(x = range(1,51),\n",
    "            y = y_test[:50],\n",
    "            marker = '*',\n",
    "            c = 'r',\n",
    "            s = 70,\n",
    "            label = 'y_test'\n",
    ")\n",
    "\n",
    "plt.scatter(x = range(1,51),\n",
    "            y = y_pred_dt[:50],\n",
    "            marker = 'o',\n",
    "            c = 'g',\n",
    "            s = 50,\n",
    "            label = 'y_pred'\n",
    ")\n",
    "\n",
    "plt.title('Decision Tree Regressor')\n",
    "plt.legend(loc='center left', bbox_to_anchor=(1, 0.5))\n",
    "plt.show()"
   ]
  },
  {
   "cell_type": "markdown",
   "id": "d184f42c",
   "metadata": {},
   "source": [
    "Code diatas digunakan untuk memvisualisasikan hasil prediksi dengan Scatter Plot untuk melihat 50 pertama hasil output prediksi Desicion Tree dari data X_test kemudian dibandingkan dengan nilai price real dari y_test. Dapat dilihat dari visualisasi tersebut letak antara merah dan hijau jauh berbeda, hal tersebut menandakan bahwa nilai prediksi jauh selisih dengan nilai aktual."
   ]
  },
  {
   "cell_type": "markdown",
   "id": "57d1d664",
   "metadata": {},
   "source": [
    "#### Random Forest Regressor"
   ]
  },
  {
   "cell_type": "code",
   "execution_count": 65,
   "id": "6b047ef3",
   "metadata": {},
   "outputs": [
    {
     "name": "stderr",
     "output_type": "stream",
     "text": [
      "C:\\Users\\HP\\AppData\\Local\\Temp\\ipykernel_9636\\628202682.py:1: DataConversionWarning: A column-vector y was passed when a 1d array was expected. Please change the shape of y to (n_samples,), for example using ravel().\n",
      "  model4.fit(X_train, y_train)\n"
     ]
    }
   ],
   "source": [
    "model4.fit(X_train, y_train)\n",
    "\n",
    "y_pred_rf = model4.predict(X_test)"
   ]
  },
  {
   "cell_type": "markdown",
   "id": "49987b10",
   "metadata": {},
   "source": [
    "Code diatas dilakukan untuk melatih model Random Forest Regressor dengan variabel independen X_train, dan variabel independen y_train yang kemudian melakukan prediksi terhadap variabel independen X_test"
   ]
  },
  {
   "cell_type": "code",
   "execution_count": 66,
   "id": "c3f7a333",
   "metadata": {},
   "outputs": [
    {
     "data": {
      "text/plain": [
       "0.8071814599165721"
      ]
     },
     "execution_count": 66,
     "metadata": {},
     "output_type": "execute_result"
    }
   ],
   "source": [
    "model4.score(X_train, y_train)"
   ]
  },
  {
   "cell_type": "markdown",
   "id": "1bbffd7c",
   "metadata": {},
   "source": [
    "Code diatas digunakan untuk melihat akurasi/performa model Random Forest Regressor dengan fungsi score(). Pengecekan akurasi diatas menggunakan set data training."
   ]
  },
  {
   "cell_type": "code",
   "execution_count": 67,
   "id": "cf52ef9e",
   "metadata": {},
   "outputs": [
    {
     "data": {
      "text/plain": [
       "0.8063064788477278"
      ]
     },
     "execution_count": 67,
     "metadata": {},
     "output_type": "execute_result"
    }
   ],
   "source": [
    "model4.score(X_test, y_test)"
   ]
  },
  {
   "cell_type": "markdown",
   "id": "df65eb2d",
   "metadata": {},
   "source": [
    "Code diatas juga merupakan pengecekan akurasi model Random Forest Regressor namun menggunakan set data testing."
   ]
  },
  {
   "cell_type": "code",
   "execution_count": 68,
   "id": "0425373a",
   "metadata": {},
   "outputs": [
    {
     "data": {
      "text/html": [
       "<div>\n",
       "<style scoped>\n",
       "    .dataframe tbody tr th:only-of-type {\n",
       "        vertical-align: middle;\n",
       "    }\n",
       "\n",
       "    .dataframe tbody tr th {\n",
       "        vertical-align: top;\n",
       "    }\n",
       "\n",
       "    .dataframe thead th {\n",
       "        text-align: right;\n",
       "    }\n",
       "</style>\n",
       "<table border=\"1\" class=\"dataframe\">\n",
       "  <thead>\n",
       "    <tr style=\"text-align: right;\">\n",
       "      <th></th>\n",
       "      <th>Price</th>\n",
       "      <th>predict</th>\n",
       "    </tr>\n",
       "  </thead>\n",
       "  <tbody>\n",
       "    <tr>\n",
       "      <th>677566</th>\n",
       "      <td>19.5</td>\n",
       "      <td>24.128320</td>\n",
       "    </tr>\n",
       "    <tr>\n",
       "      <th>308691</th>\n",
       "      <td>10.5</td>\n",
       "      <td>10.717344</td>\n",
       "    </tr>\n",
       "    <tr>\n",
       "      <th>396241</th>\n",
       "      <td>5.0</td>\n",
       "      <td>10.717344</td>\n",
       "    </tr>\n",
       "    <tr>\n",
       "      <th>136589</th>\n",
       "      <td>16.5</td>\n",
       "      <td>17.767099</td>\n",
       "    </tr>\n",
       "    <tr>\n",
       "      <th>198998</th>\n",
       "      <td>38.5</td>\n",
       "      <td>34.666132</td>\n",
       "    </tr>\n",
       "    <tr>\n",
       "      <th>179736</th>\n",
       "      <td>16.5</td>\n",
       "      <td>17.767099</td>\n",
       "    </tr>\n",
       "    <tr>\n",
       "      <th>311934</th>\n",
       "      <td>30.5</td>\n",
       "      <td>10.717344</td>\n",
       "    </tr>\n",
       "    <tr>\n",
       "      <th>510750</th>\n",
       "      <td>19.5</td>\n",
       "      <td>17.767099</td>\n",
       "    </tr>\n",
       "    <tr>\n",
       "      <th>6135</th>\n",
       "      <td>13.5</td>\n",
       "      <td>10.717344</td>\n",
       "    </tr>\n",
       "    <tr>\n",
       "      <th>313476</th>\n",
       "      <td>10.5</td>\n",
       "      <td>17.767099</td>\n",
       "    </tr>\n",
       "  </tbody>\n",
       "</table>\n",
       "</div>"
      ],
      "text/plain": [
       "        Price    predict\n",
       "677566   19.5  24.128320\n",
       "308691   10.5  10.717344\n",
       "396241    5.0  10.717344\n",
       "136589   16.5  17.767099\n",
       "198998   38.5  34.666132\n",
       "179736   16.5  17.767099\n",
       "311934   30.5  10.717344\n",
       "510750   19.5  17.767099\n",
       "6135     13.5  10.717344\n",
       "313476   10.5  17.767099"
      ]
     },
     "execution_count": 68,
     "metadata": {},
     "output_type": "execute_result"
    }
   ],
   "source": [
    "pred=pd.DataFrame(y_test[:10])\n",
    "pred['predict']=y_pred_rf[:10]\n",
    "pred"
   ]
  },
  {
   "cell_type": "markdown",
   "id": "c6c5ebbf",
   "metadata": {},
   "source": [
    "Code diatas menampilkan hasil prediksi dari model Random Forest Regressor dengan menggunakan fungsi DataFrame() untuk melihat 10 pertama hasil output prediksi dari data X_test kemudian dibandingkan dengan nilai price real dari y_test. Dari hasil diatas dapat dilihat bahwa perbedaan nilai prediksi dengan aktual memiliki selisih yang cukup jauh berbeda, artinya model masih kurang baik dalam memprediksi."
   ]
  },
  {
   "cell_type": "code",
   "execution_count": 69,
   "id": "56ed5ada",
   "metadata": {},
   "outputs": [
    {
     "data": {
      "image/png": "[encoded data removed]",
      "text/plain": [
       "<Figure size 432x288 with 1 Axes>"
      ]
     },
     "metadata": {
      "needs_background": "light"
     },
     "output_type": "display_data"
    }
   ],
   "source": [
    "plt.scatter(x = range(1,51),\n",
    "            y = y_test[:50],\n",
    "            marker = '*',\n",
    "            c = 'r',\n",
    "            s = 70,\n",
    "            label = 'y_test'\n",
    ")\n",
    "\n",
    "plt.scatter(x = range(1,51),\n",
    "            y = y_pred_rf[:50],\n",
    "            marker = 'o',\n",
    "            c = 'g',\n",
    "            s = 50,\n",
    "            label = 'y_pred'\n",
    ")\n",
    "\n",
    "plt.title('Random Forest Regressor')\n",
    "plt.legend(loc='center left', bbox_to_anchor=(1, 0.5))\n",
    "plt.show()"
   ]
  },
  {
   "cell_type": "markdown",
   "id": "fa2bb3f9",
   "metadata": {},
   "source": [
    "Code diatas digunakan untuk memvisualisasikan hasil prediksi dengan Scatter Plot untuk melihat 50 pertama hasil output prediksi Random Forest Regressor dari data X_test kemudian dibandingkan dengan nilai price real dari y_test. Dapat dilihat dari visualisasi tersebut letak antara merah dan hijau jauh berbeda, hal tersebut menandakan bahwa nilai prediksi jauh selisih dengan nilai aktual."
   ]
  },
  {
   "cell_type": "markdown",
   "id": "305993c6",
   "metadata": {},
   "source": [
    "### I.  Evaluasi Model"
   ]
  },
  {
   "cell_type": "code",
   "execution_count": 70,
   "id": "b3186ac0",
   "metadata": {},
   "outputs": [
    {
     "name": "stdout",
     "output_type": "stream",
     "text": [
      "Akurasi dari model Linear Regression       =  0.9282472233146163\n",
      "Akurasi dari model XGBoost                 =  0.9526562676405693\n",
      "Akurasi dari model Desicion Tree           =  0.8030808654370112\n",
      "Akurasi dari model Random Forest Regressor =  0.8063064788477278\n"
     ]
    }
   ],
   "source": [
    "print('Akurasi dari model Linear Regression       = ', model1.score(X_test, y_test))\n",
    "print('Akurasi dari model XGBoost                 = ', model2.score(X_test, y_test))\n",
    "print('Akurasi dari model Desicion Tree           = ', model3.score(X_test, y_test))\n",
    "print('Akurasi dari model Random Forest Regressor = ', model4.score(X_test, y_test))"
   ]
  },
  {
   "cell_type": "markdown",
   "id": "0f17a945",
   "metadata": {},
   "source": [
    "Code diatas untuk menampilkan akurasi dari 4 model yang digunakan. Dapat dilihat pada output diatas, model XGBoost merupakan model dengan akurasi/performa terbaik yaitu 0.95 dan disusul model Linear Regression dengan akurasi sebesar 0.92. Dari keempat model yang diimplementasikan, model Desicion tree merupakan model dengan akurasi terendah yaitu 0.80."
   ]
  },
  {
   "cell_type": "markdown",
   "id": "ea86b398",
   "metadata": {},
   "source": [
    "Kemudian model juga dievaluasi menggunakan metrik evaluasi yang digunakan untuk mengevaluasi performa model regresi, dengan menghitung selisih antara nilai aktual dan nilai prediksi pada dataset yang diuji. Metrik evaluasi yang digunakan yaitu :\n",
    "* Mean Squared Error (MSE) adalah metrik evaluasi yang mengukur rata-rata kuadrat dari selisih antara nilai prediksi dan nilai aktual pada dataset. Semakin rendah nilai MSE, semakin baik kualitas model.\n",
    "* Root Mean Squared Error (RMSE) adalah akar dari MSE. Semakin rendah nilai RMSE, semakin baik kualitas model.\n",
    "* Mean Absolute Percentage Error (MAPE) adalah metrik evaluasi yang mengukur rata-rata persentase kesalahan antara nilai prediksi dan nilai aktual pada dataset. MAPE memberikan informasi tentang seberapa besar kesalahan yang dihasilkan oleh model dalam persentase. Semakin rendah nilai MAPE, semakin baik kualitas model. "
   ]
  },
  {
   "cell_type": "markdown",
   "id": "0e1b3e49",
   "metadata": {},
   "source": [
    "#### Linear Regression"
   ]
  },
  {
   "cell_type": "code",
   "execution_count": 71,
   "id": "020d1d68",
   "metadata": {},
   "outputs": [
    {
     "name": "stdout",
     "output_type": "stream",
     "text": [
      "MSE model Linear Regression : 6.1894298763663675\n",
      "RMSE model Linear Regression : 2.4878564822686955\n",
      "MAPE model Linear Regression : 0.13438772551667622\n"
     ]
    }
   ],
   "source": [
    "# menghitung MSE\n",
    "mse = mean_squared_error(y_test, y_pred_lr)\n",
    "print(\"MSE model Linear Regression :\", mse)\n",
    "\n",
    "# menghitung RMSE\n",
    "rmse = np.sqrt(mse)\n",
    "print(\"RMSE model Linear Regression :\", rmse)\n",
    "\n",
    "# menghitung MAPE\n",
    "mape = mean_absolute_percentage_error(y_test, y_pred_lr)\n",
    "print(\"MAPE model Linear Regression :\", mape)"
   ]
  },
  {
   "cell_type": "markdown",
   "id": "966c48e6",
   "metadata": {},
   "source": [
    "Dari hasil evaluasi metrik diatas dapat disimpulkan bahwa:\n",
    "* Berdasarkan nilai MSE dari model Linear Regression sebesar 6.1894 yang berarti terdapat kesalahan sebesar 6.1894 dalam model tersebut memprediksi nilai, terlihat bahwa nilai MSE dari model tersebut tidak terlalu besar yang berarti tingkat error dalam memprediksi juga cukup kecil.\n",
    "* Berdasarkan nilai RMSE dari model Linear Regression didapat RMSE sebesar 2.4878, nilai RMSE tersebut tidak terlalu yang berarti tingkat error dalam memprediksi juga cukup kecil.\n",
    "* Berdasarkan nilai MAPE terlihat dari nilai MAPE model Random Forest sebesar 0.1343 atau rata-rata kesalahan dari model tersebut dalam memprediksi yaitu sebesar 13% yang mana nilai ini tidak terlalu besar untuk dataset sebesar ini."
   ]
  },
  {
   "cell_type": "markdown",
   "id": "bc1ef955",
   "metadata": {},
   "source": [
    "#### XGBoost"
   ]
  },
  {
   "cell_type": "code",
   "execution_count": 72,
   "id": "9cbfc470",
   "metadata": {},
   "outputs": [
    {
     "name": "stdout",
     "output_type": "stream",
     "text": [
      "MSE model XGBoost : 4.083893684128948\n",
      "RMSE model XGBoost : 2.020864588271304\n",
      "MAPE model XGBoost : 0.09654817612389163\n"
     ]
    }
   ],
   "source": [
    "# menghitung MSE\n",
    "mse = mean_squared_error(y_test, y_pred_xgb)\n",
    "print(\"MSE model XGBoost :\", mse)\n",
    "\n",
    "# menghitung RMSE\n",
    "rmse = np.sqrt(mse)\n",
    "print(\"RMSE model XGBoost :\", rmse)\n",
    "\n",
    "# menghitung MAPE\n",
    "mape = mean_absolute_percentage_error(y_test, y_pred_xgb)\n",
    "print(\"MAPE model XGBoost :\", mape)"
   ]
  },
  {
   "cell_type": "markdown",
   "id": "7361a8c1",
   "metadata": {},
   "source": [
    "Dari hasil evaluasi metrik diatas dapat disimpulkan bahwa:\n",
    "* Berdasarkan nilai MSE dari model XGBoost sebesar 4.083 yang berarti terdapat kesalahan sebesar 4.0838 dalam model tersebut memprediksi nilai, terlihat bahwa nilai MSE dari model tersebut tidak terlalu besar yang berarti tingkat error dalam memprediksi juga cukup kecil. Model ini menghasilkan nilai MSE lebih kecil dari Linear Regression, artinya model ini lebih baik dari model sebelumnya. \n",
    "* Berdasarkan nilai RMSE dari model Linear Regression didapat RMSE sebesar 2.020, nilai RMSE tersebut tidak terlalu yang berarti tingkat error dalam memprediksi juga cukup kecil.\n",
    "* Berdasarkan nilai MAPE terlihat dari nilai MAPE model Random Forest sebesar 0.096 atau rata-rata kesalahan dari model tersebut dalam memprediksi yaitu sebesar 9% yang mana nilai ini sangat rendah untuk dataset sebesar ini. Maka dapat disimpulkan bahwa model ini sudah sangat baik dalam melakukan prediksi."
   ]
  },
  {
   "cell_type": "markdown",
   "id": "7a57a218",
   "metadata": {},
   "source": [
    "#### Desicion Tree"
   ]
  },
  {
   "cell_type": "code",
   "execution_count": 73,
   "id": "910273d1",
   "metadata": {},
   "outputs": [
    {
     "name": "stdout",
     "output_type": "stream",
     "text": [
      "MSE model Desicion Tree : 16.986341588375762\n",
      "RMSE model Desicion Tree : 4.121448967095888\n",
      "MAPE model Desicion Tree : 0.263741203888045\n"
     ]
    }
   ],
   "source": [
    "# menghitung MSE\n",
    "mse = mean_squared_error(y_test, y_pred_dt)\n",
    "print(\"MSE model Desicion Tree :\", mse)\n",
    "\n",
    "# menghitung RMSE\n",
    "rmse = np.sqrt(mse)\n",
    "print(\"RMSE model Desicion Tree :\", rmse)\n",
    "\n",
    "# menghitung MAPE\n",
    "mape = mean_absolute_percentage_error(y_test, y_pred_dt)\n",
    "print(\"MAPE model Desicion Tree :\", mape)"
   ]
  },
  {
   "cell_type": "markdown",
   "id": "0a59092a",
   "metadata": {},
   "source": [
    "Dari hasil evaluasi metrik diatas dapat disimpulkan bahwa:\n",
    "* Berdasarkan nilai MSE dari model Desicion Tree sebesar 16.986 yang berarti terdapat kesalahan sebesar 16.986 dalam model tersebut memprediksi nilai, terlihat bahwa nilai MSE dari model tersebut cukup besar yang berarti tingkat error dalam memprediksi juga cukup besar.\n",
    "* Berdasarkan nilai RMSE dari model Desicion Tree didapat RMSE sebesar 4.1214, nilai RMSE tersebut cukup besar yang berarti tingkat error dalam memprediksi juga cukup besar.\n",
    "* Berdasarkan nilai MAPE terlihat dari nilai MAPE model Desicion Tree sebesar 0.2637 atau rata-rata kesalahan dari model tersebut dalam memprediksi yaitu sebesar 26% yang mana nilai ini cukup besar untuk memprediksi sebuah data."
   ]
  },
  {
   "cell_type": "markdown",
   "id": "4b0373be",
   "metadata": {},
   "source": [
    "#### Random Forest"
   ]
  },
  {
   "cell_type": "code",
   "execution_count": 74,
   "id": "6685ffb5",
   "metadata": {},
   "outputs": [
    {
     "name": "stdout",
     "output_type": "stream",
     "text": [
      "MSE model Random Forest Regressor : 16.70809858599779\n",
      "RMSE model Random Forest Regressor : 4.087554108020808\n",
      "MAPE model Random Forest Regressor : 0.26173929975010474\n"
     ]
    }
   ],
   "source": [
    "# menghitung MSE\n",
    "mse = mean_squared_error(y_test, y_pred_rf)\n",
    "print(\"MSE model Random Forest Regressor :\", mse)\n",
    "\n",
    "# menghitung RMSE\n",
    "rmse = np.sqrt(mse)\n",
    "print(\"RMSE model Random Forest Regressor :\", rmse)\n",
    "\n",
    "# menghitung MAPE\n",
    "mape = mean_absolute_percentage_error(y_test, y_pred_rf)\n",
    "print(\"MAPE model Random Forest Regressor :\", mape)"
   ]
  },
  {
   "cell_type": "markdown",
   "id": "50b98aa9",
   "metadata": {},
   "source": [
    "Dari hasil evaluasi metrik diatas dapat disimpulkan bahwa:\n",
    "* Berdasarkan nilai MSE dari model Random Forest Regressor sebesar 16.708 yang berarti terdapat kesalahan sebesar 16.708 dalam model tersebut memprediksi nilai, terlihat bahwa nilai MSE dari model tersebut cukup besar yang berarti tingkat error dalam memprediksi juga cukup besar.\n",
    "* Berdasarkan nilai RMSE dari model Random Forest Regressor didapat RMSE sebesar 4.0875, nilai RMSE tersebut cukup besar yang berarti tingkat error dalam memprediksi juga cukup besar.\n",
    "* Berdasarkan nilai MAPE terlihat dari nilai MAPE model Random Forest sebesar 0.2617 atau rata-rata kesalahan dari model tersebut dalam memprediksi yaitu sebesar 26% yang mana nilai ini cukup besar untuk memprediksi sebuah data. Model ini memiliki banyak kesamaan dengan model desicion tree, masih kurang baik dalam memprediksi. "
   ]
  },
  {
   "cell_type": "markdown",
   "id": "9928f141",
   "metadata": {},
   "source": [
    "### J. Kesimpulan"
   ]
  },
  {
   "cell_type": "markdown",
   "id": "f277a2e3",
   "metadata": {},
   "source": [
    "Berdasarakan analisis yang dilakukan diatas, dapat disimpulkan beberapa hal yaitu :\n",
    "* Data untuk kolom price memiliki distribusi yang tidak normal hal ini terlihat dari distribution plot, sehingga data tidak terdistribusi secara merata.\n",
    "\n",
    "* Pada data ini frekuensi pemakaian taxi jenis uber lebih besar dibanding taxi jenis lyft\n",
    "\n",
    "* Model yang digunakan pada project ini ada 4 yaitu Linear regression, XGBoost, Desicion Tree, dan Random Forest Regressor. \n",
    "\n",
    "* Dari keempat model yang dijalankan, model XGBoost merupakan model yang paling baik untuk memprediksi data dengan akurasi/performa sebesar 0.95, MSE = 4.08, RMSE = 2.02, dan MAPE = 9%. Angka-angka metrik tersebut cukup kecil untuk data sebesar uber and lyft ini, maka semakin kecil nilai evaluasi metricnya semakin baik pula kualitas modelnya. Dan semakin besar akurasi maka semakin baik model dalam memprediksi data. \n",
    "\n",
    "* Variabel yang paling berpengaruh terhadap perubahan 'price' adalah variabel surge_multiplier dan distance, hal tersebut dapat dilihat berdasarkan korelasi antar kolom tersebut dengan kolom 'price'. Namun 7 kolom yang telah dipilih juga sangat berpengaruh besar pada hasil performa model untuk memprediksi price uber and lyft."
   ]
  }
 ],
 "metadata": {
  "kernelspec": {
   "display_name": "Python 3 (ipykernel)",
   "language": "python",
   "name": "python3"
  },
  "language_info": {
   "codemirror_mode": {
    "name": "ipython",
    "version": 3
   },
   "file_extension": ".py",
   "mimetype": "text/x-python",
   "name": "python",
   "nbconvert_exporter": "python",
   "pygments_lexer": "ipython3",
   "version": "3.9.12"
  }
 },
 "nbformat": 4,
 "nbformat_minor": 5
}
