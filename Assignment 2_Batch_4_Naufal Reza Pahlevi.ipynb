{
 "cells": [
  {
   "cell_type": "markdown",
   "id": "fd1b31a5",
   "metadata": {},
   "source": [
    "# Assignment 2 PYTN "
   ]
  },
  {
   "cell_type": "markdown",
   "id": "72db9f01",
   "metadata": {},
   "source": [
    "Pada assignment ini, dataset yang digunakan merupakan data NYC Property Sales yang merupakan kumpulan data tentang penjualan properti di New York City (NYC). Dataset NYC Property Sales dikumpulkan oleh Departemen Pajak dan Keuangan NYC sebagai bagian dari program Open Data NYC, yang bertujuan untuk meningkatkan transparansi dan akuntabilitas pemerintah kota. Data ini diperbarui setiap bulan dan mencakup penjualan properti yang terjadi selama 12 bulan terakhir. Adapun variabel-variabel yang terdapat dalam dataset ini yaitu :\n",
    "1. Unnamed : Terdapat satu kolom (tanpa nama) yang tidak memberikan informasi penting dalam dataset.\n",
    "2. Borough: Borough atau distrik di NYC tempat properti terletak. \n",
    "3. Neighborhood: Nama lingkungan di mana properti terletak.\n",
    "4. Building Class Category: Kategori kelas bangunan properti tersebut, seperti apartemen, gedung perkantoran, toko, dll..\n",
    "5. Tax Class At Present: Kategori pajak properti saat ini, seperti pajak perumahan dan pajak komersial.\n",
    "6. Block: Nomor blok tempat properti berada.\n",
    "7. Lot: Nomor lot atau nomor unit properti tersebut.\n",
    "8. Easement: Informasi tentang adanya hak penggunaan properti oleh pihak ketiga.\n",
    "9. Building Class At Present: Kategori kelas bangunan properti saat ini.\n",
    "10. Address: Alamat lengkap properti.\n",
    "11. Apartment Number: Nomor unit properti jika ada.\n",
    "12. Zip Code: Kode pos alamat properti.\n",
    "13. Residential Units: Jumlah unit tempat tinggal di dalam properti.\n",
    "14. Commercial Units: Jumlah unit komersial di dalam properti.\n",
    "15. Total Units: Total jumlah unit di dalam properti.\n",
    "16. Land Square Feet: Luas tanah properti dalam kaki persegi.\n",
    "17. Gross Square Feet: Luas total bangunan dalam kaki persegi.\n",
    "18. Year Built: Tahun bangunan dibangun.\n",
    "19. Tax Class At Time Of Sale: Kategori pajak properti pada saat penjualan.\n",
    "20. Building Class At Time Of Sale: Kategori kelas bangunan pada saat penjualan.\n",
    "21. Sale Price: Harga jual properti.\n",
    "22. Sale Date: Tanggal penjualan properti."
   ]
  },
  {
   "cell_type": "markdown",
   "id": "1e18b656",
   "metadata": {},
   "source": [
    "#### Import Library"
   ]
  },
  {
   "cell_type": "code",
   "execution_count": 1,
   "id": "9fd17077",
   "metadata": {},
   "outputs": [],
   "source": [
    "# Import library yang akan digunakan\n",
    "import numpy as np\n",
    "import scipy.stats\n",
    "import pandas as pd\n",
    "\n",
    "%matplotlib inline\n",
    "\n",
    "import matplotlib as mpl\n",
    "import matplotlib.pyplot as plt\n",
    "import seaborn as sns\n",
    "\n",
    "import statsmodels.api as sm"
   ]
  },
  {
   "cell_type": "markdown",
   "id": "69b264b0",
   "metadata": {},
   "source": [
    "Code diatas melakukan import beberapa library yang akan digunakan pada analisis data"
   ]
  },
  {
   "cell_type": "markdown",
   "id": "dd13787a",
   "metadata": {},
   "source": [
    "#### Membaca file dataset csv"
   ]
  },
  {
   "cell_type": "code",
   "execution_count": 2,
   "id": "6788cb5c",
   "metadata": {},
   "outputs": [],
   "source": [
    "df_NYC = pd.read_csv('Dataset/nyc-rolling-sales.csv')"
   ]
  },
  {
   "cell_type": "markdown",
   "id": "16839407",
   "metadata": {},
   "source": [
    "#### Menampilkan data teratas "
   ]
  },
  {
   "cell_type": "code",
   "execution_count": 3,
   "id": "0db913cf",
   "metadata": {},
   "outputs": [
    {
     "data": {
      "text/html": [
       "<div>\n",
       "<style scoped>\n",
       "    .dataframe tbody tr th:only-of-type {\n",
       "        vertical-align: middle;\n",
       "    }\n",
       "\n",
       "    .dataframe tbody tr th {\n",
       "        vertical-align: top;\n",
       "    }\n",
       "\n",
       "    .dataframe thead th {\n",
       "        text-align: right;\n",
       "    }\n",
       "</style>\n",
       "<table border=\"1\" class=\"dataframe\">\n",
       "  <thead>\n",
       "    <tr style=\"text-align: right;\">\n",
       "      <th></th>\n",
       "      <th>Unnamed: 0</th>\n",
       "      <th>BOROUGH</th>\n",
       "      <th>NEIGHBORHOOD</th>\n",
       "      <th>BUILDING CLASS CATEGORY</th>\n",
       "      <th>TAX CLASS AT PRESENT</th>\n",
       "      <th>BLOCK</th>\n",
       "      <th>LOT</th>\n",
       "      <th>EASE-MENT</th>\n",
       "      <th>BUILDING CLASS AT PRESENT</th>\n",
       "      <th>ADDRESS</th>\n",
       "      <th>...</th>\n",
       "      <th>RESIDENTIAL UNITS</th>\n",
       "      <th>COMMERCIAL UNITS</th>\n",
       "      <th>TOTAL UNITS</th>\n",
       "      <th>LAND SQUARE FEET</th>\n",
       "      <th>GROSS SQUARE FEET</th>\n",
       "      <th>YEAR BUILT</th>\n",
       "      <th>TAX CLASS AT TIME OF SALE</th>\n",
       "      <th>BUILDING CLASS AT TIME OF SALE</th>\n",
       "      <th>SALE PRICE</th>\n",
       "      <th>SALE DATE</th>\n",
       "    </tr>\n",
       "  </thead>\n",
       "  <tbody>\n",
       "    <tr>\n",
       "      <th>0</th>\n",
       "      <td>4</td>\n",
       "      <td>1</td>\n",
       "      <td>ALPHABET CITY</td>\n",
       "      <td>07 RENTALS - WALKUP APARTMENTS</td>\n",
       "      <td>2A</td>\n",
       "      <td>392</td>\n",
       "      <td>6</td>\n",
       "      <td></td>\n",
       "      <td>C2</td>\n",
       "      <td>153 AVENUE B</td>\n",
       "      <td>...</td>\n",
       "      <td>5</td>\n",
       "      <td>0</td>\n",
       "      <td>5</td>\n",
       "      <td>1633</td>\n",
       "      <td>6440</td>\n",
       "      <td>1900</td>\n",
       "      <td>2</td>\n",
       "      <td>C2</td>\n",
       "      <td>6625000</td>\n",
       "      <td>2017-07-19 00:00:00</td>\n",
       "    </tr>\n",
       "    <tr>\n",
       "      <th>1</th>\n",
       "      <td>5</td>\n",
       "      <td>1</td>\n",
       "      <td>ALPHABET CITY</td>\n",
       "      <td>07 RENTALS - WALKUP APARTMENTS</td>\n",
       "      <td>2</td>\n",
       "      <td>399</td>\n",
       "      <td>26</td>\n",
       "      <td></td>\n",
       "      <td>C7</td>\n",
       "      <td>234 EAST 4TH   STREET</td>\n",
       "      <td>...</td>\n",
       "      <td>28</td>\n",
       "      <td>3</td>\n",
       "      <td>31</td>\n",
       "      <td>4616</td>\n",
       "      <td>18690</td>\n",
       "      <td>1900</td>\n",
       "      <td>2</td>\n",
       "      <td>C7</td>\n",
       "      <td>-</td>\n",
       "      <td>2016-12-14 00:00:00</td>\n",
       "    </tr>\n",
       "    <tr>\n",
       "      <th>2</th>\n",
       "      <td>6</td>\n",
       "      <td>1</td>\n",
       "      <td>ALPHABET CITY</td>\n",
       "      <td>07 RENTALS - WALKUP APARTMENTS</td>\n",
       "      <td>2</td>\n",
       "      <td>399</td>\n",
       "      <td>39</td>\n",
       "      <td></td>\n",
       "      <td>C7</td>\n",
       "      <td>197 EAST 3RD   STREET</td>\n",
       "      <td>...</td>\n",
       "      <td>16</td>\n",
       "      <td>1</td>\n",
       "      <td>17</td>\n",
       "      <td>2212</td>\n",
       "      <td>7803</td>\n",
       "      <td>1900</td>\n",
       "      <td>2</td>\n",
       "      <td>C7</td>\n",
       "      <td>-</td>\n",
       "      <td>2016-12-09 00:00:00</td>\n",
       "    </tr>\n",
       "    <tr>\n",
       "      <th>3</th>\n",
       "      <td>7</td>\n",
       "      <td>1</td>\n",
       "      <td>ALPHABET CITY</td>\n",
       "      <td>07 RENTALS - WALKUP APARTMENTS</td>\n",
       "      <td>2B</td>\n",
       "      <td>402</td>\n",
       "      <td>21</td>\n",
       "      <td></td>\n",
       "      <td>C4</td>\n",
       "      <td>154 EAST 7TH STREET</td>\n",
       "      <td>...</td>\n",
       "      <td>10</td>\n",
       "      <td>0</td>\n",
       "      <td>10</td>\n",
       "      <td>2272</td>\n",
       "      <td>6794</td>\n",
       "      <td>1913</td>\n",
       "      <td>2</td>\n",
       "      <td>C4</td>\n",
       "      <td>3936272</td>\n",
       "      <td>2016-09-23 00:00:00</td>\n",
       "    </tr>\n",
       "    <tr>\n",
       "      <th>4</th>\n",
       "      <td>8</td>\n",
       "      <td>1</td>\n",
       "      <td>ALPHABET CITY</td>\n",
       "      <td>07 RENTALS - WALKUP APARTMENTS</td>\n",
       "      <td>2A</td>\n",
       "      <td>404</td>\n",
       "      <td>55</td>\n",
       "      <td></td>\n",
       "      <td>C2</td>\n",
       "      <td>301 EAST 10TH   STREET</td>\n",
       "      <td>...</td>\n",
       "      <td>6</td>\n",
       "      <td>0</td>\n",
       "      <td>6</td>\n",
       "      <td>2369</td>\n",
       "      <td>4615</td>\n",
       "      <td>1900</td>\n",
       "      <td>2</td>\n",
       "      <td>C2</td>\n",
       "      <td>8000000</td>\n",
       "      <td>2016-11-17 00:00:00</td>\n",
       "    </tr>\n",
       "  </tbody>\n",
       "</table>\n",
       "<p>5 rows × 22 columns</p>\n",
       "</div>"
      ],
      "text/plain": [
       "   Unnamed: 0  BOROUGH   NEIGHBORHOOD  \\\n",
       "0           4        1  ALPHABET CITY   \n",
       "1           5        1  ALPHABET CITY   \n",
       "2           6        1  ALPHABET CITY   \n",
       "3           7        1  ALPHABET CITY   \n",
       "4           8        1  ALPHABET CITY   \n",
       "\n",
       "                       BUILDING CLASS CATEGORY TAX CLASS AT PRESENT  BLOCK  \\\n",
       "0  07 RENTALS - WALKUP APARTMENTS                                2A    392   \n",
       "1  07 RENTALS - WALKUP APARTMENTS                                 2    399   \n",
       "2  07 RENTALS - WALKUP APARTMENTS                                 2    399   \n",
       "3  07 RENTALS - WALKUP APARTMENTS                                2B    402   \n",
       "4  07 RENTALS - WALKUP APARTMENTS                                2A    404   \n",
       "\n",
       "   LOT EASE-MENT BUILDING CLASS AT PRESENT                 ADDRESS  ...  \\\n",
       "0    6                                  C2            153 AVENUE B  ...   \n",
       "1   26                                  C7   234 EAST 4TH   STREET  ...   \n",
       "2   39                                  C7   197 EAST 3RD   STREET  ...   \n",
       "3   21                                  C4     154 EAST 7TH STREET  ...   \n",
       "4   55                                  C2  301 EAST 10TH   STREET  ...   \n",
       "\n",
       "  RESIDENTIAL UNITS  COMMERCIAL UNITS  TOTAL UNITS  LAND SQUARE FEET  \\\n",
       "0                 5                 0            5              1633   \n",
       "1                28                 3           31              4616   \n",
       "2                16                 1           17              2212   \n",
       "3                10                 0           10              2272   \n",
       "4                 6                 0            6              2369   \n",
       "\n",
       "   GROSS SQUARE FEET YEAR BUILT TAX CLASS AT TIME OF SALE  \\\n",
       "0               6440       1900                         2   \n",
       "1              18690       1900                         2   \n",
       "2               7803       1900                         2   \n",
       "3               6794       1913                         2   \n",
       "4               4615       1900                         2   \n",
       "\n",
       "   BUILDING CLASS AT TIME OF SALE  SALE PRICE            SALE DATE  \n",
       "0                              C2     6625000  2017-07-19 00:00:00  \n",
       "1                              C7         -    2016-12-14 00:00:00  \n",
       "2                              C7         -    2016-12-09 00:00:00  \n",
       "3                              C4     3936272  2016-09-23 00:00:00  \n",
       "4                              C2     8000000  2016-11-17 00:00:00  \n",
       "\n",
       "[5 rows x 22 columns]"
      ]
     },
     "execution_count": 3,
     "metadata": {},
     "output_type": "execute_result"
    }
   ],
   "source": [
    "df_NYC.head()"
   ]
  },
  {
   "cell_type": "markdown",
   "id": "df6829ec",
   "metadata": {},
   "source": [
    "#### Menampilkan data terbawah"
   ]
  },
  {
   "cell_type": "code",
   "execution_count": 4,
   "id": "8becb2ce",
   "metadata": {
    "scrolled": true
   },
   "outputs": [
    {
     "data": {
      "text/html": [
       "<div>\n",
       "<style scoped>\n",
       "    .dataframe tbody tr th:only-of-type {\n",
       "        vertical-align: middle;\n",
       "    }\n",
       "\n",
       "    .dataframe tbody tr th {\n",
       "        vertical-align: top;\n",
       "    }\n",
       "\n",
       "    .dataframe thead th {\n",
       "        text-align: right;\n",
       "    }\n",
       "</style>\n",
       "<table border=\"1\" class=\"dataframe\">\n",
       "  <thead>\n",
       "    <tr style=\"text-align: right;\">\n",
       "      <th></th>\n",
       "      <th>Unnamed: 0</th>\n",
       "      <th>BOROUGH</th>\n",
       "      <th>NEIGHBORHOOD</th>\n",
       "      <th>BUILDING CLASS CATEGORY</th>\n",
       "      <th>TAX CLASS AT PRESENT</th>\n",
       "      <th>BLOCK</th>\n",
       "      <th>LOT</th>\n",
       "      <th>EASE-MENT</th>\n",
       "      <th>BUILDING CLASS AT PRESENT</th>\n",
       "      <th>ADDRESS</th>\n",
       "      <th>...</th>\n",
       "      <th>RESIDENTIAL UNITS</th>\n",
       "      <th>COMMERCIAL UNITS</th>\n",
       "      <th>TOTAL UNITS</th>\n",
       "      <th>LAND SQUARE FEET</th>\n",
       "      <th>GROSS SQUARE FEET</th>\n",
       "      <th>YEAR BUILT</th>\n",
       "      <th>TAX CLASS AT TIME OF SALE</th>\n",
       "      <th>BUILDING CLASS AT TIME OF SALE</th>\n",
       "      <th>SALE PRICE</th>\n",
       "      <th>SALE DATE</th>\n",
       "    </tr>\n",
       "  </thead>\n",
       "  <tbody>\n",
       "    <tr>\n",
       "      <th>84543</th>\n",
       "      <td>8409</td>\n",
       "      <td>5</td>\n",
       "      <td>WOODROW</td>\n",
       "      <td>02 TWO FAMILY DWELLINGS</td>\n",
       "      <td>1</td>\n",
       "      <td>7349</td>\n",
       "      <td>34</td>\n",
       "      <td></td>\n",
       "      <td>B9</td>\n",
       "      <td>37 QUAIL LANE</td>\n",
       "      <td>...</td>\n",
       "      <td>2</td>\n",
       "      <td>0</td>\n",
       "      <td>2</td>\n",
       "      <td>2400</td>\n",
       "      <td>2575</td>\n",
       "      <td>1998</td>\n",
       "      <td>1</td>\n",
       "      <td>B9</td>\n",
       "      <td>450000</td>\n",
       "      <td>2016-11-28 00:00:00</td>\n",
       "    </tr>\n",
       "    <tr>\n",
       "      <th>84544</th>\n",
       "      <td>8410</td>\n",
       "      <td>5</td>\n",
       "      <td>WOODROW</td>\n",
       "      <td>02 TWO FAMILY DWELLINGS</td>\n",
       "      <td>1</td>\n",
       "      <td>7349</td>\n",
       "      <td>78</td>\n",
       "      <td></td>\n",
       "      <td>B9</td>\n",
       "      <td>32 PHEASANT LANE</td>\n",
       "      <td>...</td>\n",
       "      <td>2</td>\n",
       "      <td>0</td>\n",
       "      <td>2</td>\n",
       "      <td>2498</td>\n",
       "      <td>2377</td>\n",
       "      <td>1998</td>\n",
       "      <td>1</td>\n",
       "      <td>B9</td>\n",
       "      <td>550000</td>\n",
       "      <td>2017-04-21 00:00:00</td>\n",
       "    </tr>\n",
       "    <tr>\n",
       "      <th>84545</th>\n",
       "      <td>8411</td>\n",
       "      <td>5</td>\n",
       "      <td>WOODROW</td>\n",
       "      <td>02 TWO FAMILY DWELLINGS</td>\n",
       "      <td>1</td>\n",
       "      <td>7351</td>\n",
       "      <td>60</td>\n",
       "      <td></td>\n",
       "      <td>B2</td>\n",
       "      <td>49 PITNEY AVENUE</td>\n",
       "      <td>...</td>\n",
       "      <td>2</td>\n",
       "      <td>0</td>\n",
       "      <td>2</td>\n",
       "      <td>4000</td>\n",
       "      <td>1496</td>\n",
       "      <td>1925</td>\n",
       "      <td>1</td>\n",
       "      <td>B2</td>\n",
       "      <td>460000</td>\n",
       "      <td>2017-07-05 00:00:00</td>\n",
       "    </tr>\n",
       "    <tr>\n",
       "      <th>84546</th>\n",
       "      <td>8412</td>\n",
       "      <td>5</td>\n",
       "      <td>WOODROW</td>\n",
       "      <td>22 STORE BUILDINGS</td>\n",
       "      <td>4</td>\n",
       "      <td>7100</td>\n",
       "      <td>28</td>\n",
       "      <td></td>\n",
       "      <td>K6</td>\n",
       "      <td>2730 ARTHUR KILL ROAD</td>\n",
       "      <td>...</td>\n",
       "      <td>0</td>\n",
       "      <td>7</td>\n",
       "      <td>7</td>\n",
       "      <td>208033</td>\n",
       "      <td>64117</td>\n",
       "      <td>2001</td>\n",
       "      <td>4</td>\n",
       "      <td>K6</td>\n",
       "      <td>11693337</td>\n",
       "      <td>2016-12-21 00:00:00</td>\n",
       "    </tr>\n",
       "    <tr>\n",
       "      <th>84547</th>\n",
       "      <td>8413</td>\n",
       "      <td>5</td>\n",
       "      <td>WOODROW</td>\n",
       "      <td>35 INDOOR PUBLIC AND CULTURAL FACILITIES</td>\n",
       "      <td>4</td>\n",
       "      <td>7105</td>\n",
       "      <td>679</td>\n",
       "      <td></td>\n",
       "      <td>P9</td>\n",
       "      <td>155 CLAY PIT ROAD</td>\n",
       "      <td>...</td>\n",
       "      <td>0</td>\n",
       "      <td>1</td>\n",
       "      <td>1</td>\n",
       "      <td>10796</td>\n",
       "      <td>2400</td>\n",
       "      <td>2006</td>\n",
       "      <td>4</td>\n",
       "      <td>P9</td>\n",
       "      <td>69300</td>\n",
       "      <td>2016-10-27 00:00:00</td>\n",
       "    </tr>\n",
       "  </tbody>\n",
       "</table>\n",
       "<p>5 rows × 22 columns</p>\n",
       "</div>"
      ],
      "text/plain": [
       "       Unnamed: 0  BOROUGH NEIGHBORHOOD  \\\n",
       "84543        8409        5      WOODROW   \n",
       "84544        8410        5      WOODROW   \n",
       "84545        8411        5      WOODROW   \n",
       "84546        8412        5      WOODROW   \n",
       "84547        8413        5      WOODROW   \n",
       "\n",
       "                           BUILDING CLASS CATEGORY TAX CLASS AT PRESENT  \\\n",
       "84543  02 TWO FAMILY DWELLINGS                                        1   \n",
       "84544  02 TWO FAMILY DWELLINGS                                        1   \n",
       "84545  02 TWO FAMILY DWELLINGS                                        1   \n",
       "84546  22 STORE BUILDINGS                                             4   \n",
       "84547  35 INDOOR PUBLIC AND CULTURAL FACILITIES                       4   \n",
       "\n",
       "       BLOCK  LOT EASE-MENT BUILDING CLASS AT PRESENT                ADDRESS  \\\n",
       "84543   7349   34                                  B9          37 QUAIL LANE   \n",
       "84544   7349   78                                  B9       32 PHEASANT LANE   \n",
       "84545   7351   60                                  B2       49 PITNEY AVENUE   \n",
       "84546   7100   28                                  K6  2730 ARTHUR KILL ROAD   \n",
       "84547   7105  679                                  P9      155 CLAY PIT ROAD   \n",
       "\n",
       "       ... RESIDENTIAL UNITS  COMMERCIAL UNITS  TOTAL UNITS  LAND SQUARE FEET  \\\n",
       "84543  ...                 2                 0            2              2400   \n",
       "84544  ...                 2                 0            2              2498   \n",
       "84545  ...                 2                 0            2              4000   \n",
       "84546  ...                 0                 7            7            208033   \n",
       "84547  ...                 0                 1            1             10796   \n",
       "\n",
       "       GROSS SQUARE FEET YEAR BUILT TAX CLASS AT TIME OF SALE  \\\n",
       "84543               2575       1998                         1   \n",
       "84544               2377       1998                         1   \n",
       "84545               1496       1925                         1   \n",
       "84546              64117       2001                         4   \n",
       "84547               2400       2006                         4   \n",
       "\n",
       "       BUILDING CLASS AT TIME OF SALE  SALE PRICE            SALE DATE  \n",
       "84543                              B9      450000  2016-11-28 00:00:00  \n",
       "84544                              B9      550000  2017-04-21 00:00:00  \n",
       "84545                              B2      460000  2017-07-05 00:00:00  \n",
       "84546                              K6    11693337  2016-12-21 00:00:00  \n",
       "84547                              P9       69300  2016-10-27 00:00:00  \n",
       "\n",
       "[5 rows x 22 columns]"
      ]
     },
     "execution_count": 4,
     "metadata": {},
     "output_type": "execute_result"
    }
   ],
   "source": [
    "df_NYC.tail()"
   ]
  },
  {
   "cell_type": "markdown",
   "id": "35f9d495",
   "metadata": {},
   "source": [
    "Kedua code diatas digunakan untuk melihat data teratas dan terbawah, dapat dilihat bahwa terdapat 22 fitur/variabel dalam dataset NYC Property Sale. Untuk penjelasan masing-masing fitur sudah dijelaskan diatas."
   ]
  },
  {
   "cell_type": "markdown",
   "id": "1ae61a51",
   "metadata": {},
   "source": [
    "#### Menghapus kolom yang tidak penting "
   ]
  },
  {
   "cell_type": "code",
   "execution_count": 5,
   "id": "018b03c1",
   "metadata": {},
   "outputs": [],
   "source": [
    "df_NYC.drop('Unnamed: 0', axis=1, inplace=True)"
   ]
  },
  {
   "cell_type": "markdown",
   "id": "70d91d70",
   "metadata": {},
   "source": [
    "Code diatas digunakan untuk menghapus fitur Unnamed dalam data karena dianggap tidak memberikan pengaruh penting dalam data"
   ]
  },
  {
   "cell_type": "markdown",
   "id": "a7b21b5a",
   "metadata": {},
   "source": [
    "#### Melihat informasi data"
   ]
  },
  {
   "cell_type": "code",
   "execution_count": 6,
   "id": "0f0b9cbb",
   "metadata": {},
   "outputs": [
    {
     "name": "stdout",
     "output_type": "stream",
     "text": [
      "<class 'pandas.core.frame.DataFrame'>\n",
      "RangeIndex: 84548 entries, 0 to 84547\n",
      "Data columns (total 21 columns):\n",
      " #   Column                          Non-Null Count  Dtype \n",
      "---  ------                          --------------  ----- \n",
      " 0   BOROUGH                         84548 non-null  int64 \n",
      " 1   NEIGHBORHOOD                    84548 non-null  object\n",
      " 2   BUILDING CLASS CATEGORY         84548 non-null  object\n",
      " 3   TAX CLASS AT PRESENT            84548 non-null  object\n",
      " 4   BLOCK                           84548 non-null  int64 \n",
      " 5   LOT                             84548 non-null  int64 \n",
      " 6   EASE-MENT                       84548 non-null  object\n",
      " 7   BUILDING CLASS AT PRESENT       84548 non-null  object\n",
      " 8   ADDRESS                         84548 non-null  object\n",
      " 9   APARTMENT NUMBER                84548 non-null  object\n",
      " 10  ZIP CODE                        84548 non-null  int64 \n",
      " 11  RESIDENTIAL UNITS               84548 non-null  int64 \n",
      " 12  COMMERCIAL UNITS                84548 non-null  int64 \n",
      " 13  TOTAL UNITS                     84548 non-null  int64 \n",
      " 14  LAND SQUARE FEET                84548 non-null  object\n",
      " 15  GROSS SQUARE FEET               84548 non-null  object\n",
      " 16  YEAR BUILT                      84548 non-null  int64 \n",
      " 17  TAX CLASS AT TIME OF SALE       84548 non-null  int64 \n",
      " 18  BUILDING CLASS AT TIME OF SALE  84548 non-null  object\n",
      " 19  SALE PRICE                      84548 non-null  object\n",
      " 20  SALE DATE                       84548 non-null  object\n",
      "dtypes: int64(9), object(12)\n",
      "memory usage: 13.5+ MB\n"
     ]
    }
   ],
   "source": [
    "df_NYC.info()"
   ]
  },
  {
   "cell_type": "markdown",
   "id": "d66a7674",
   "metadata": {},
   "source": [
    "Code diatas digunakan untuk melihat informasi data untuk menampilkan jumlah baris, kolom, nilai null, type data, dan penggunaan memory."
   ]
  },
  {
   "cell_type": "markdown",
   "id": "0771e6b3",
   "metadata": {},
   "source": [
    "#### Menampilkan jumlah nilai null dalam data"
   ]
  },
  {
   "cell_type": "code",
   "execution_count": 7,
   "id": "8a4f64dc",
   "metadata": {
    "scrolled": true
   },
   "outputs": [
    {
     "data": {
      "text/plain": [
       "BOROUGH                           0\n",
       "NEIGHBORHOOD                      0\n",
       "BUILDING CLASS CATEGORY           0\n",
       "TAX CLASS AT PRESENT              0\n",
       "BLOCK                             0\n",
       "LOT                               0\n",
       "EASE-MENT                         0\n",
       "BUILDING CLASS AT PRESENT         0\n",
       "ADDRESS                           0\n",
       "APARTMENT NUMBER                  0\n",
       "ZIP CODE                          0\n",
       "RESIDENTIAL UNITS                 0\n",
       "COMMERCIAL UNITS                  0\n",
       "TOTAL UNITS                       0\n",
       "LAND SQUARE FEET                  0\n",
       "GROSS SQUARE FEET                 0\n",
       "YEAR BUILT                        0\n",
       "TAX CLASS AT TIME OF SALE         0\n",
       "BUILDING CLASS AT TIME OF SALE    0\n",
       "SALE PRICE                        0\n",
       "SALE DATE                         0\n",
       "dtype: int64"
      ]
     },
     "execution_count": 7,
     "metadata": {},
     "output_type": "execute_result"
    }
   ],
   "source": [
    "df_NYC.isnull().sum()"
   ]
  },
  {
   "cell_type": "markdown",
   "id": "69cbdae2",
   "metadata": {},
   "source": [
    "Dari output code diatas dapat dilihat bahwa untuk semua kolom tidak terdapat missing value"
   ]
  },
  {
   "cell_type": "markdown",
   "id": "491a80f2",
   "metadata": {},
   "source": [
    "#### Melihat dimensi data"
   ]
  },
  {
   "cell_type": "code",
   "execution_count": 8,
   "id": "4f4efec6",
   "metadata": {},
   "outputs": [
    {
     "data": {
      "text/plain": [
       "(84548, 21)"
      ]
     },
     "execution_count": 8,
     "metadata": {},
     "output_type": "execute_result"
    }
   ],
   "source": [
    "df_NYC.shape"
   ]
  },
  {
   "cell_type": "markdown",
   "id": "de570822",
   "metadata": {},
   "source": [
    "Code diatas digunakan untuk melihat dimensi data yaitu jumlah baris dan kolom pada data, dari output dapat dilihat bahwa data yang digunakan memiliki 84.548 baris dan 21 kolom (setelah satu fitur dihapus).  "
   ]
  },
  {
   "cell_type": "markdown",
   "id": "e427948c",
   "metadata": {},
   "source": [
    "#### Mengambil 5 variabel yang akan dianalisis"
   ]
  },
  {
   "cell_type": "code",
   "execution_count": 9,
   "id": "75aa04d3",
   "metadata": {},
   "outputs": [
    {
     "data": {
      "text/html": [
       "<div>\n",
       "<style scoped>\n",
       "    .dataframe tbody tr th:only-of-type {\n",
       "        vertical-align: middle;\n",
       "    }\n",
       "\n",
       "    .dataframe tbody tr th {\n",
       "        vertical-align: top;\n",
       "    }\n",
       "\n",
       "    .dataframe thead th {\n",
       "        text-align: right;\n",
       "    }\n",
       "</style>\n",
       "<table border=\"1\" class=\"dataframe\">\n",
       "  <thead>\n",
       "    <tr style=\"text-align: right;\">\n",
       "      <th></th>\n",
       "      <th>BOROUGH</th>\n",
       "      <th>TOTAL UNITS</th>\n",
       "      <th>YEAR BUILT</th>\n",
       "      <th>TAX CLASS AT TIME OF SALE</th>\n",
       "      <th>SALE PRICE</th>\n",
       "    </tr>\n",
       "  </thead>\n",
       "  <tbody>\n",
       "    <tr>\n",
       "      <th>0</th>\n",
       "      <td>1</td>\n",
       "      <td>5</td>\n",
       "      <td>1900</td>\n",
       "      <td>2</td>\n",
       "      <td>6625000</td>\n",
       "    </tr>\n",
       "    <tr>\n",
       "      <th>1</th>\n",
       "      <td>1</td>\n",
       "      <td>31</td>\n",
       "      <td>1900</td>\n",
       "      <td>2</td>\n",
       "      <td>-</td>\n",
       "    </tr>\n",
       "    <tr>\n",
       "      <th>2</th>\n",
       "      <td>1</td>\n",
       "      <td>17</td>\n",
       "      <td>1900</td>\n",
       "      <td>2</td>\n",
       "      <td>-</td>\n",
       "    </tr>\n",
       "    <tr>\n",
       "      <th>3</th>\n",
       "      <td>1</td>\n",
       "      <td>10</td>\n",
       "      <td>1913</td>\n",
       "      <td>2</td>\n",
       "      <td>3936272</td>\n",
       "    </tr>\n",
       "    <tr>\n",
       "      <th>4</th>\n",
       "      <td>1</td>\n",
       "      <td>6</td>\n",
       "      <td>1900</td>\n",
       "      <td>2</td>\n",
       "      <td>8000000</td>\n",
       "    </tr>\n",
       "  </tbody>\n",
       "</table>\n",
       "</div>"
      ],
      "text/plain": [
       "   BOROUGH  TOTAL UNITS  YEAR BUILT  TAX CLASS AT TIME OF SALE SALE PRICE\n",
       "0        1            5        1900                          2    6625000\n",
       "1        1           31        1900                          2        -  \n",
       "2        1           17        1900                          2        -  \n",
       "3        1           10        1913                          2    3936272\n",
       "4        1            6        1900                          2    8000000"
      ]
     },
     "execution_count": 9,
     "metadata": {},
     "output_type": "execute_result"
    }
   ],
   "source": [
    "df = df_NYC[['BOROUGH', 'TOTAL UNITS', 'YEAR BUILT', 'TAX CLASS AT TIME OF SALE', 'SALE PRICE']]\n",
    "\n",
    "df.head()"
   ]
  },
  {
   "cell_type": "markdown",
   "id": "ec6ba01f",
   "metadata": {},
   "source": [
    "Kemudian, dari 21 kolom hanya 5 kolom yang akan dianalisis. 5 kolom yang dipilih dianggap paling berpengaruh terhadap perubahan data. Kolom-kolom tersebut kemudian dimasukkan dalam variabel baru yaitu 'df' dan ditampilkan 5 data teratasnya. "
   ]
  },
  {
   "cell_type": "markdown",
   "id": "9ca03ae6",
   "metadata": {},
   "source": [
    "#### Mencari Value Error dari 5 variabel"
   ]
  },
  {
   "cell_type": "code",
   "execution_count": 10,
   "id": "7fb36bd2",
   "metadata": {},
   "outputs": [
    {
     "data": {
      "text/html": [
       "<div>\n",
       "<style scoped>\n",
       "    .dataframe tbody tr th:only-of-type {\n",
       "        vertical-align: middle;\n",
       "    }\n",
       "\n",
       "    .dataframe tbody tr th {\n",
       "        vertical-align: top;\n",
       "    }\n",
       "\n",
       "    .dataframe thead th {\n",
       "        text-align: right;\n",
       "    }\n",
       "</style>\n",
       "<table border=\"1\" class=\"dataframe\">\n",
       "  <thead>\n",
       "    <tr style=\"text-align: right;\">\n",
       "      <th></th>\n",
       "      <th>BOROUGH</th>\n",
       "      <th>TOTAL UNITS</th>\n",
       "      <th>YEAR BUILT</th>\n",
       "      <th>TAX CLASS AT TIME OF SALE</th>\n",
       "      <th>SALE PRICE</th>\n",
       "    </tr>\n",
       "  </thead>\n",
       "  <tbody>\n",
       "    <tr>\n",
       "      <th>0</th>\n",
       "      <td>1</td>\n",
       "      <td>5</td>\n",
       "      <td>1900</td>\n",
       "      <td>2</td>\n",
       "      <td>6625000</td>\n",
       "    </tr>\n",
       "    <tr>\n",
       "      <th>1</th>\n",
       "      <td>1</td>\n",
       "      <td>31</td>\n",
       "      <td>1900</td>\n",
       "      <td>2</td>\n",
       "      <td>-</td>\n",
       "    </tr>\n",
       "    <tr>\n",
       "      <th>2</th>\n",
       "      <td>1</td>\n",
       "      <td>17</td>\n",
       "      <td>1900</td>\n",
       "      <td>2</td>\n",
       "      <td>-</td>\n",
       "    </tr>\n",
       "    <tr>\n",
       "      <th>3</th>\n",
       "      <td>1</td>\n",
       "      <td>10</td>\n",
       "      <td>1913</td>\n",
       "      <td>2</td>\n",
       "      <td>3936272</td>\n",
       "    </tr>\n",
       "    <tr>\n",
       "      <th>4</th>\n",
       "      <td>1</td>\n",
       "      <td>6</td>\n",
       "      <td>1900</td>\n",
       "      <td>2</td>\n",
       "      <td>8000000</td>\n",
       "    </tr>\n",
       "    <tr>\n",
       "      <th>5</th>\n",
       "      <td>1</td>\n",
       "      <td>20</td>\n",
       "      <td>1900</td>\n",
       "      <td>2</td>\n",
       "      <td>-</td>\n",
       "    </tr>\n",
       "    <tr>\n",
       "      <th>6</th>\n",
       "      <td>1</td>\n",
       "      <td>8</td>\n",
       "      <td>1920</td>\n",
       "      <td>2</td>\n",
       "      <td>3192840</td>\n",
       "    </tr>\n",
       "    <tr>\n",
       "      <th>7</th>\n",
       "      <td>1</td>\n",
       "      <td>46</td>\n",
       "      <td>1900</td>\n",
       "      <td>2</td>\n",
       "      <td>-</td>\n",
       "    </tr>\n",
       "    <tr>\n",
       "      <th>8</th>\n",
       "      <td>1</td>\n",
       "      <td>15</td>\n",
       "      <td>1920</td>\n",
       "      <td>2</td>\n",
       "      <td>-</td>\n",
       "    </tr>\n",
       "    <tr>\n",
       "      <th>9</th>\n",
       "      <td>1</td>\n",
       "      <td>24</td>\n",
       "      <td>1920</td>\n",
       "      <td>2</td>\n",
       "      <td>16232000</td>\n",
       "    </tr>\n",
       "  </tbody>\n",
       "</table>\n",
       "</div>"
      ],
      "text/plain": [
       "   BOROUGH  TOTAL UNITS  YEAR BUILT  TAX CLASS AT TIME OF SALE SALE PRICE\n",
       "0        1            5        1900                          2    6625000\n",
       "1        1           31        1900                          2        -  \n",
       "2        1           17        1900                          2        -  \n",
       "3        1           10        1913                          2    3936272\n",
       "4        1            6        1900                          2    8000000\n",
       "5        1           20        1900                          2        -  \n",
       "6        1            8        1920                          2    3192840\n",
       "7        1           46        1900                          2        -  \n",
       "8        1           15        1920                          2        -  \n",
       "9        1           24        1920                          2   16232000"
      ]
     },
     "execution_count": 10,
     "metadata": {},
     "output_type": "execute_result"
    }
   ],
   "source": [
    "# mencari value error pada kolom BOROUGH\n",
    "index = 0 \n",
    "for row in df['BOROUGH']:\n",
    "    try:\n",
    "        float(row)\n",
    "        pass\n",
    "    except ValueError:\n",
    "        df.loc[index, 'BOROUGH'] = np.nan\n",
    "    index += 1\n",
    "\n",
    "df.head(10)"
   ]
  },
  {
   "cell_type": "markdown",
   "id": "5cee1f46",
   "metadata": {},
   "source": [
    "Code diatas digunakan untuk mengecek data value error dalam kolom BOROUGH, dilakukan try dan except jika ditemukan nilai error maka akan digantikan dengan nilai NaN. Value error tidak sama dengan missing value, nilainya ada tapi tidak sesuai (misalnya nilai strip (-)). Kemudian diakhir ditampilkan 10 data teratas untuk melihat perubahan data. "
   ]
  },
  {
   "cell_type": "code",
   "execution_count": 11,
   "id": "b64f457e",
   "metadata": {},
   "outputs": [
    {
     "data": {
      "text/html": [
       "<div>\n",
       "<style scoped>\n",
       "    .dataframe tbody tr th:only-of-type {\n",
       "        vertical-align: middle;\n",
       "    }\n",
       "\n",
       "    .dataframe tbody tr th {\n",
       "        vertical-align: top;\n",
       "    }\n",
       "\n",
       "    .dataframe thead th {\n",
       "        text-align: right;\n",
       "    }\n",
       "</style>\n",
       "<table border=\"1\" class=\"dataframe\">\n",
       "  <thead>\n",
       "    <tr style=\"text-align: right;\">\n",
       "      <th></th>\n",
       "      <th>BOROUGH</th>\n",
       "      <th>TOTAL UNITS</th>\n",
       "      <th>YEAR BUILT</th>\n",
       "      <th>TAX CLASS AT TIME OF SALE</th>\n",
       "      <th>SALE PRICE</th>\n",
       "    </tr>\n",
       "  </thead>\n",
       "  <tbody>\n",
       "    <tr>\n",
       "      <th>0</th>\n",
       "      <td>1</td>\n",
       "      <td>5</td>\n",
       "      <td>1900</td>\n",
       "      <td>2</td>\n",
       "      <td>6625000</td>\n",
       "    </tr>\n",
       "    <tr>\n",
       "      <th>1</th>\n",
       "      <td>1</td>\n",
       "      <td>31</td>\n",
       "      <td>1900</td>\n",
       "      <td>2</td>\n",
       "      <td>-</td>\n",
       "    </tr>\n",
       "    <tr>\n",
       "      <th>2</th>\n",
       "      <td>1</td>\n",
       "      <td>17</td>\n",
       "      <td>1900</td>\n",
       "      <td>2</td>\n",
       "      <td>-</td>\n",
       "    </tr>\n",
       "    <tr>\n",
       "      <th>3</th>\n",
       "      <td>1</td>\n",
       "      <td>10</td>\n",
       "      <td>1913</td>\n",
       "      <td>2</td>\n",
       "      <td>3936272</td>\n",
       "    </tr>\n",
       "    <tr>\n",
       "      <th>4</th>\n",
       "      <td>1</td>\n",
       "      <td>6</td>\n",
       "      <td>1900</td>\n",
       "      <td>2</td>\n",
       "      <td>8000000</td>\n",
       "    </tr>\n",
       "    <tr>\n",
       "      <th>5</th>\n",
       "      <td>1</td>\n",
       "      <td>20</td>\n",
       "      <td>1900</td>\n",
       "      <td>2</td>\n",
       "      <td>-</td>\n",
       "    </tr>\n",
       "    <tr>\n",
       "      <th>6</th>\n",
       "      <td>1</td>\n",
       "      <td>8</td>\n",
       "      <td>1920</td>\n",
       "      <td>2</td>\n",
       "      <td>3192840</td>\n",
       "    </tr>\n",
       "    <tr>\n",
       "      <th>7</th>\n",
       "      <td>1</td>\n",
       "      <td>46</td>\n",
       "      <td>1900</td>\n",
       "      <td>2</td>\n",
       "      <td>-</td>\n",
       "    </tr>\n",
       "    <tr>\n",
       "      <th>8</th>\n",
       "      <td>1</td>\n",
       "      <td>15</td>\n",
       "      <td>1920</td>\n",
       "      <td>2</td>\n",
       "      <td>-</td>\n",
       "    </tr>\n",
       "    <tr>\n",
       "      <th>9</th>\n",
       "      <td>1</td>\n",
       "      <td>24</td>\n",
       "      <td>1920</td>\n",
       "      <td>2</td>\n",
       "      <td>16232000</td>\n",
       "    </tr>\n",
       "  </tbody>\n",
       "</table>\n",
       "</div>"
      ],
      "text/plain": [
       "   BOROUGH  TOTAL UNITS  YEAR BUILT  TAX CLASS AT TIME OF SALE SALE PRICE\n",
       "0        1            5        1900                          2    6625000\n",
       "1        1           31        1900                          2        -  \n",
       "2        1           17        1900                          2        -  \n",
       "3        1           10        1913                          2    3936272\n",
       "4        1            6        1900                          2    8000000\n",
       "5        1           20        1900                          2        -  \n",
       "6        1            8        1920                          2    3192840\n",
       "7        1           46        1900                          2        -  \n",
       "8        1           15        1920                          2        -  \n",
       "9        1           24        1920                          2   16232000"
      ]
     },
     "execution_count": 11,
     "metadata": {},
     "output_type": "execute_result"
    }
   ],
   "source": [
    "# mencari value error pada kolom TOTAL UNITS\n",
    "index = 0 \n",
    "for row in df['TOTAL UNITS']:\n",
    "    try:\n",
    "        float(row)\n",
    "        pass\n",
    "    except ValueError:\n",
    "        df.loc[index, 'TOTAL UNITS'] = np.nan\n",
    "    index += 1\n",
    "\n",
    "df.head(10)"
   ]
  },
  {
   "cell_type": "markdown",
   "id": "385b7f00",
   "metadata": {},
   "source": [
    "Code diatas digunakan untuk mengecek data value error dalam kolom TOTAL UNITS, dilakukan try dan except jika ditemukan nilai error maka akan digantikan dengan nilai NaN."
   ]
  },
  {
   "cell_type": "code",
   "execution_count": 12,
   "id": "7d6332ec",
   "metadata": {},
   "outputs": [
    {
     "data": {
      "text/html": [
       "<div>\n",
       "<style scoped>\n",
       "    .dataframe tbody tr th:only-of-type {\n",
       "        vertical-align: middle;\n",
       "    }\n",
       "\n",
       "    .dataframe tbody tr th {\n",
       "        vertical-align: top;\n",
       "    }\n",
       "\n",
       "    .dataframe thead th {\n",
       "        text-align: right;\n",
       "    }\n",
       "</style>\n",
       "<table border=\"1\" class=\"dataframe\">\n",
       "  <thead>\n",
       "    <tr style=\"text-align: right;\">\n",
       "      <th></th>\n",
       "      <th>BOROUGH</th>\n",
       "      <th>TOTAL UNITS</th>\n",
       "      <th>YEAR BUILT</th>\n",
       "      <th>TAX CLASS AT TIME OF SALE</th>\n",
       "      <th>SALE PRICE</th>\n",
       "    </tr>\n",
       "  </thead>\n",
       "  <tbody>\n",
       "    <tr>\n",
       "      <th>0</th>\n",
       "      <td>1</td>\n",
       "      <td>5</td>\n",
       "      <td>1900</td>\n",
       "      <td>2</td>\n",
       "      <td>6625000</td>\n",
       "    </tr>\n",
       "    <tr>\n",
       "      <th>1</th>\n",
       "      <td>1</td>\n",
       "      <td>31</td>\n",
       "      <td>1900</td>\n",
       "      <td>2</td>\n",
       "      <td>-</td>\n",
       "    </tr>\n",
       "    <tr>\n",
       "      <th>2</th>\n",
       "      <td>1</td>\n",
       "      <td>17</td>\n",
       "      <td>1900</td>\n",
       "      <td>2</td>\n",
       "      <td>-</td>\n",
       "    </tr>\n",
       "    <tr>\n",
       "      <th>3</th>\n",
       "      <td>1</td>\n",
       "      <td>10</td>\n",
       "      <td>1913</td>\n",
       "      <td>2</td>\n",
       "      <td>3936272</td>\n",
       "    </tr>\n",
       "    <tr>\n",
       "      <th>4</th>\n",
       "      <td>1</td>\n",
       "      <td>6</td>\n",
       "      <td>1900</td>\n",
       "      <td>2</td>\n",
       "      <td>8000000</td>\n",
       "    </tr>\n",
       "    <tr>\n",
       "      <th>5</th>\n",
       "      <td>1</td>\n",
       "      <td>20</td>\n",
       "      <td>1900</td>\n",
       "      <td>2</td>\n",
       "      <td>-</td>\n",
       "    </tr>\n",
       "    <tr>\n",
       "      <th>6</th>\n",
       "      <td>1</td>\n",
       "      <td>8</td>\n",
       "      <td>1920</td>\n",
       "      <td>2</td>\n",
       "      <td>3192840</td>\n",
       "    </tr>\n",
       "    <tr>\n",
       "      <th>7</th>\n",
       "      <td>1</td>\n",
       "      <td>46</td>\n",
       "      <td>1900</td>\n",
       "      <td>2</td>\n",
       "      <td>-</td>\n",
       "    </tr>\n",
       "    <tr>\n",
       "      <th>8</th>\n",
       "      <td>1</td>\n",
       "      <td>15</td>\n",
       "      <td>1920</td>\n",
       "      <td>2</td>\n",
       "      <td>-</td>\n",
       "    </tr>\n",
       "    <tr>\n",
       "      <th>9</th>\n",
       "      <td>1</td>\n",
       "      <td>24</td>\n",
       "      <td>1920</td>\n",
       "      <td>2</td>\n",
       "      <td>16232000</td>\n",
       "    </tr>\n",
       "  </tbody>\n",
       "</table>\n",
       "</div>"
      ],
      "text/plain": [
       "   BOROUGH  TOTAL UNITS  YEAR BUILT  TAX CLASS AT TIME OF SALE SALE PRICE\n",
       "0        1            5        1900                          2    6625000\n",
       "1        1           31        1900                          2        -  \n",
       "2        1           17        1900                          2        -  \n",
       "3        1           10        1913                          2    3936272\n",
       "4        1            6        1900                          2    8000000\n",
       "5        1           20        1900                          2        -  \n",
       "6        1            8        1920                          2    3192840\n",
       "7        1           46        1900                          2        -  \n",
       "8        1           15        1920                          2        -  \n",
       "9        1           24        1920                          2   16232000"
      ]
     },
     "execution_count": 12,
     "metadata": {},
     "output_type": "execute_result"
    }
   ],
   "source": [
    "# mencari value error pada kolom YEAR BUILT\n",
    "index = 0 \n",
    "for row in df['YEAR BUILT']:\n",
    "    try:\n",
    "        float(row)\n",
    "        pass\n",
    "    except ValueError:\n",
    "        df.loc[index, 'YEAR BUILT'] = np.nan\n",
    "    index += 1\n",
    "\n",
    "df.head(10)"
   ]
  },
  {
   "cell_type": "markdown",
   "id": "73385afd",
   "metadata": {},
   "source": [
    "Code diatas digunakan untuk mengecek data value error dalam kolom YEAR BUILT, dilakukan try dan except jika ditemukan nilai error maka akan digantikan dengan nilai NaN."
   ]
  },
  {
   "cell_type": "code",
   "execution_count": 13,
   "id": "587329f6",
   "metadata": {},
   "outputs": [
    {
     "data": {
      "text/html": [
       "<div>\n",
       "<style scoped>\n",
       "    .dataframe tbody tr th:only-of-type {\n",
       "        vertical-align: middle;\n",
       "    }\n",
       "\n",
       "    .dataframe tbody tr th {\n",
       "        vertical-align: top;\n",
       "    }\n",
       "\n",
       "    .dataframe thead th {\n",
       "        text-align: right;\n",
       "    }\n",
       "</style>\n",
       "<table border=\"1\" class=\"dataframe\">\n",
       "  <thead>\n",
       "    <tr style=\"text-align: right;\">\n",
       "      <th></th>\n",
       "      <th>BOROUGH</th>\n",
       "      <th>TOTAL UNITS</th>\n",
       "      <th>YEAR BUILT</th>\n",
       "      <th>TAX CLASS AT TIME OF SALE</th>\n",
       "      <th>SALE PRICE</th>\n",
       "    </tr>\n",
       "  </thead>\n",
       "  <tbody>\n",
       "    <tr>\n",
       "      <th>0</th>\n",
       "      <td>1</td>\n",
       "      <td>5</td>\n",
       "      <td>1900</td>\n",
       "      <td>2</td>\n",
       "      <td>6625000</td>\n",
       "    </tr>\n",
       "    <tr>\n",
       "      <th>1</th>\n",
       "      <td>1</td>\n",
       "      <td>31</td>\n",
       "      <td>1900</td>\n",
       "      <td>2</td>\n",
       "      <td>-</td>\n",
       "    </tr>\n",
       "    <tr>\n",
       "      <th>2</th>\n",
       "      <td>1</td>\n",
       "      <td>17</td>\n",
       "      <td>1900</td>\n",
       "      <td>2</td>\n",
       "      <td>-</td>\n",
       "    </tr>\n",
       "    <tr>\n",
       "      <th>3</th>\n",
       "      <td>1</td>\n",
       "      <td>10</td>\n",
       "      <td>1913</td>\n",
       "      <td>2</td>\n",
       "      <td>3936272</td>\n",
       "    </tr>\n",
       "    <tr>\n",
       "      <th>4</th>\n",
       "      <td>1</td>\n",
       "      <td>6</td>\n",
       "      <td>1900</td>\n",
       "      <td>2</td>\n",
       "      <td>8000000</td>\n",
       "    </tr>\n",
       "    <tr>\n",
       "      <th>5</th>\n",
       "      <td>1</td>\n",
       "      <td>20</td>\n",
       "      <td>1900</td>\n",
       "      <td>2</td>\n",
       "      <td>-</td>\n",
       "    </tr>\n",
       "    <tr>\n",
       "      <th>6</th>\n",
       "      <td>1</td>\n",
       "      <td>8</td>\n",
       "      <td>1920</td>\n",
       "      <td>2</td>\n",
       "      <td>3192840</td>\n",
       "    </tr>\n",
       "    <tr>\n",
       "      <th>7</th>\n",
       "      <td>1</td>\n",
       "      <td>46</td>\n",
       "      <td>1900</td>\n",
       "      <td>2</td>\n",
       "      <td>-</td>\n",
       "    </tr>\n",
       "    <tr>\n",
       "      <th>8</th>\n",
       "      <td>1</td>\n",
       "      <td>15</td>\n",
       "      <td>1920</td>\n",
       "      <td>2</td>\n",
       "      <td>-</td>\n",
       "    </tr>\n",
       "    <tr>\n",
       "      <th>9</th>\n",
       "      <td>1</td>\n",
       "      <td>24</td>\n",
       "      <td>1920</td>\n",
       "      <td>2</td>\n",
       "      <td>16232000</td>\n",
       "    </tr>\n",
       "  </tbody>\n",
       "</table>\n",
       "</div>"
      ],
      "text/plain": [
       "   BOROUGH  TOTAL UNITS  YEAR BUILT  TAX CLASS AT TIME OF SALE SALE PRICE\n",
       "0        1            5        1900                          2    6625000\n",
       "1        1           31        1900                          2        -  \n",
       "2        1           17        1900                          2        -  \n",
       "3        1           10        1913                          2    3936272\n",
       "4        1            6        1900                          2    8000000\n",
       "5        1           20        1900                          2        -  \n",
       "6        1            8        1920                          2    3192840\n",
       "7        1           46        1900                          2        -  \n",
       "8        1           15        1920                          2        -  \n",
       "9        1           24        1920                          2   16232000"
      ]
     },
     "execution_count": 13,
     "metadata": {},
     "output_type": "execute_result"
    }
   ],
   "source": [
    "# mencari value error pada kolom TAX CLASS AT TIME OF SALE\n",
    "index = 0 \n",
    "for row in df['TAX CLASS AT TIME OF SALE']:\n",
    "    try:\n",
    "        float(row)\n",
    "        pass\n",
    "    except ValueError:\n",
    "        df.loc[index, 'TAX CLASS AT TIME OF SALE'] = np.nan\n",
    "    index += 1\n",
    "\n",
    "df.head(10)"
   ]
  },
  {
   "cell_type": "markdown",
   "id": "84d39a17",
   "metadata": {},
   "source": [
    "Code diatas digunakan untuk mengecek data value error dalam kolom TAX CLASS AT TIME OF SALE, dilakukan try dan except jika ditemukan nilai error maka akan digantikan dengan nilai NaN."
   ]
  },
  {
   "cell_type": "code",
   "execution_count": 14,
   "id": "a462da9c",
   "metadata": {
    "scrolled": true
   },
   "outputs": [
    {
     "data": {
      "text/html": [
       "<div>\n",
       "<style scoped>\n",
       "    .dataframe tbody tr th:only-of-type {\n",
       "        vertical-align: middle;\n",
       "    }\n",
       "\n",
       "    .dataframe tbody tr th {\n",
       "        vertical-align: top;\n",
       "    }\n",
       "\n",
       "    .dataframe thead th {\n",
       "        text-align: right;\n",
       "    }\n",
       "</style>\n",
       "<table border=\"1\" class=\"dataframe\">\n",
       "  <thead>\n",
       "    <tr style=\"text-align: right;\">\n",
       "      <th></th>\n",
       "      <th>BOROUGH</th>\n",
       "      <th>TOTAL UNITS</th>\n",
       "      <th>YEAR BUILT</th>\n",
       "      <th>TAX CLASS AT TIME OF SALE</th>\n",
       "      <th>SALE PRICE</th>\n",
       "    </tr>\n",
       "  </thead>\n",
       "  <tbody>\n",
       "    <tr>\n",
       "      <th>0</th>\n",
       "      <td>1</td>\n",
       "      <td>5</td>\n",
       "      <td>1900</td>\n",
       "      <td>2</td>\n",
       "      <td>6625000</td>\n",
       "    </tr>\n",
       "    <tr>\n",
       "      <th>1</th>\n",
       "      <td>1</td>\n",
       "      <td>31</td>\n",
       "      <td>1900</td>\n",
       "      <td>2</td>\n",
       "      <td>NaN</td>\n",
       "    </tr>\n",
       "    <tr>\n",
       "      <th>2</th>\n",
       "      <td>1</td>\n",
       "      <td>17</td>\n",
       "      <td>1900</td>\n",
       "      <td>2</td>\n",
       "      <td>NaN</td>\n",
       "    </tr>\n",
       "    <tr>\n",
       "      <th>3</th>\n",
       "      <td>1</td>\n",
       "      <td>10</td>\n",
       "      <td>1913</td>\n",
       "      <td>2</td>\n",
       "      <td>3936272</td>\n",
       "    </tr>\n",
       "    <tr>\n",
       "      <th>4</th>\n",
       "      <td>1</td>\n",
       "      <td>6</td>\n",
       "      <td>1900</td>\n",
       "      <td>2</td>\n",
       "      <td>8000000</td>\n",
       "    </tr>\n",
       "    <tr>\n",
       "      <th>5</th>\n",
       "      <td>1</td>\n",
       "      <td>20</td>\n",
       "      <td>1900</td>\n",
       "      <td>2</td>\n",
       "      <td>NaN</td>\n",
       "    </tr>\n",
       "    <tr>\n",
       "      <th>6</th>\n",
       "      <td>1</td>\n",
       "      <td>8</td>\n",
       "      <td>1920</td>\n",
       "      <td>2</td>\n",
       "      <td>3192840</td>\n",
       "    </tr>\n",
       "    <tr>\n",
       "      <th>7</th>\n",
       "      <td>1</td>\n",
       "      <td>46</td>\n",
       "      <td>1900</td>\n",
       "      <td>2</td>\n",
       "      <td>NaN</td>\n",
       "    </tr>\n",
       "    <tr>\n",
       "      <th>8</th>\n",
       "      <td>1</td>\n",
       "      <td>15</td>\n",
       "      <td>1920</td>\n",
       "      <td>2</td>\n",
       "      <td>NaN</td>\n",
       "    </tr>\n",
       "    <tr>\n",
       "      <th>9</th>\n",
       "      <td>1</td>\n",
       "      <td>24</td>\n",
       "      <td>1920</td>\n",
       "      <td>2</td>\n",
       "      <td>16232000</td>\n",
       "    </tr>\n",
       "  </tbody>\n",
       "</table>\n",
       "</div>"
      ],
      "text/plain": [
       "   BOROUGH  TOTAL UNITS  YEAR BUILT  TAX CLASS AT TIME OF SALE SALE PRICE\n",
       "0        1            5        1900                          2    6625000\n",
       "1        1           31        1900                          2        NaN\n",
       "2        1           17        1900                          2        NaN\n",
       "3        1           10        1913                          2    3936272\n",
       "4        1            6        1900                          2    8000000\n",
       "5        1           20        1900                          2        NaN\n",
       "6        1            8        1920                          2    3192840\n",
       "7        1           46        1900                          2        NaN\n",
       "8        1           15        1920                          2        NaN\n",
       "9        1           24        1920                          2   16232000"
      ]
     },
     "execution_count": 14,
     "metadata": {},
     "output_type": "execute_result"
    }
   ],
   "source": [
    "# mencari value error pada kolom SALE PRICE\n",
    "index = 0 \n",
    "for row in df['SALE PRICE']:\n",
    "    try:\n",
    "        float(row)\n",
    "        pass\n",
    "    except ValueError:\n",
    "        df.loc[index, 'SALE PRICE'] = np.nan\n",
    "    index += 1\n",
    "\n",
    "df.head(10)"
   ]
  },
  {
   "cell_type": "markdown",
   "id": "5345ec1b",
   "metadata": {},
   "source": [
    "Code diatas digunakan untuk mengecek data value error dalam kolom SALE PRICE, dilakukan try dan except jika ditemukan nilai error maka akan digantikan dengan nilai NaN. Pada fitur ini terlihat jelas beberapa nilai yang diganti dengan NaN yang artinya nilai tersebut menjadi Null (kosong)."
   ]
  },
  {
   "cell_type": "markdown",
   "id": "35f352d3",
   "metadata": {},
   "source": [
    "#### Menampilkan jumlah nilai null dalam data dengan 5 variabel"
   ]
  },
  {
   "cell_type": "code",
   "execution_count": 15,
   "id": "850d5a8b",
   "metadata": {},
   "outputs": [
    {
     "data": {
      "text/plain": [
       "BOROUGH                          0\n",
       "TOTAL UNITS                      0\n",
       "YEAR BUILT                       0\n",
       "TAX CLASS AT TIME OF SALE        0\n",
       "SALE PRICE                   14561\n",
       "dtype: int64"
      ]
     },
     "execution_count": 15,
     "metadata": {},
     "output_type": "execute_result"
    }
   ],
   "source": [
    "df.isnull().sum()"
   ]
  },
  {
   "cell_type": "markdown",
   "id": "fcff77db",
   "metadata": {},
   "source": [
    "Code diatas digunakan untuk melihat jumlah nilai Null untuk 5 fitur yang digunakan setelah dilakukan pengecekan value error. Dapat dilihat bahwa pada kolom SALE PRICE menghasilkan nilai Null sebesar 14561 data.  "
   ]
  },
  {
   "cell_type": "markdown",
   "id": "a16ea237",
   "metadata": {},
   "source": [
    "#### Menampilkan informasi data baru"
   ]
  },
  {
   "cell_type": "code",
   "execution_count": 16,
   "id": "30d85f5c",
   "metadata": {
    "scrolled": true
   },
   "outputs": [
    {
     "name": "stdout",
     "output_type": "stream",
     "text": [
      "<class 'pandas.core.frame.DataFrame'>\n",
      "RangeIndex: 84548 entries, 0 to 84547\n",
      "Data columns (total 5 columns):\n",
      " #   Column                     Non-Null Count  Dtype \n",
      "---  ------                     --------------  ----- \n",
      " 0   BOROUGH                    84548 non-null  int64 \n",
      " 1   TOTAL UNITS                84548 non-null  int64 \n",
      " 2   YEAR BUILT                 84548 non-null  int64 \n",
      " 3   TAX CLASS AT TIME OF SALE  84548 non-null  int64 \n",
      " 4   SALE PRICE                 69987 non-null  object\n",
      "dtypes: int64(4), object(1)\n",
      "memory usage: 3.2+ MB\n"
     ]
    }
   ],
   "source": [
    "df.info()"
   ]
  },
  {
   "cell_type": "markdown",
   "id": "e9896c38",
   "metadata": {},
   "source": [
    "Code diatas menampilkan informasi data terbaru setelah dilakukan pengecekan nilai error. Dapat dilihat bahwa pada SALE PRICE terdapat pengurangan data yang tidak null dari yang awalnya 84548 data menjadi 69987 data. Selisih antara nilai awal dengan nilai baru tidak terlalu jauh, maka dari itu diputuskan untuk menghapus baris data dimana SALE PRICE nya bernilai Null (menyamaratakan jumlah data yang tidak Null untuk semua kolom/fitur)."
   ]
  },
  {
   "cell_type": "markdown",
   "id": "3e649d31",
   "metadata": {},
   "source": [
    "#### Menghapus nilai null"
   ]
  },
  {
   "cell_type": "code",
   "execution_count": 17,
   "id": "1fc34e91",
   "metadata": {},
   "outputs": [
    {
     "name": "stderr",
     "output_type": "stream",
     "text": [
      "C:\\Users\\HP\\AppData\\Local\\Temp\\ipykernel_14564\\4125816914.py:1: SettingWithCopyWarning: \n",
      "A value is trying to be set on a copy of a slice from a DataFrame\n",
      "\n",
      "See the caveats in the documentation: https://pandas.pydata.org/pandas-docs/stable/user_guide/indexing.html#returning-a-view-versus-a-copy\n",
      "  df.dropna(axis=0, inplace=True)\n"
     ]
    },
    {
     "data": {
      "text/html": [
       "<div>\n",
       "<style scoped>\n",
       "    .dataframe tbody tr th:only-of-type {\n",
       "        vertical-align: middle;\n",
       "    }\n",
       "\n",
       "    .dataframe tbody tr th {\n",
       "        vertical-align: top;\n",
       "    }\n",
       "\n",
       "    .dataframe thead th {\n",
       "        text-align: right;\n",
       "    }\n",
       "</style>\n",
       "<table border=\"1\" class=\"dataframe\">\n",
       "  <thead>\n",
       "    <tr style=\"text-align: right;\">\n",
       "      <th></th>\n",
       "      <th>BOROUGH</th>\n",
       "      <th>TOTAL UNITS</th>\n",
       "      <th>YEAR BUILT</th>\n",
       "      <th>TAX CLASS AT TIME OF SALE</th>\n",
       "      <th>SALE PRICE</th>\n",
       "    </tr>\n",
       "  </thead>\n",
       "  <tbody>\n",
       "    <tr>\n",
       "      <th>0</th>\n",
       "      <td>1</td>\n",
       "      <td>5</td>\n",
       "      <td>1900</td>\n",
       "      <td>2</td>\n",
       "      <td>6625000</td>\n",
       "    </tr>\n",
       "    <tr>\n",
       "      <th>3</th>\n",
       "      <td>1</td>\n",
       "      <td>10</td>\n",
       "      <td>1913</td>\n",
       "      <td>2</td>\n",
       "      <td>3936272</td>\n",
       "    </tr>\n",
       "    <tr>\n",
       "      <th>4</th>\n",
       "      <td>1</td>\n",
       "      <td>6</td>\n",
       "      <td>1900</td>\n",
       "      <td>2</td>\n",
       "      <td>8000000</td>\n",
       "    </tr>\n",
       "    <tr>\n",
       "      <th>6</th>\n",
       "      <td>1</td>\n",
       "      <td>8</td>\n",
       "      <td>1920</td>\n",
       "      <td>2</td>\n",
       "      <td>3192840</td>\n",
       "    </tr>\n",
       "    <tr>\n",
       "      <th>9</th>\n",
       "      <td>1</td>\n",
       "      <td>24</td>\n",
       "      <td>1920</td>\n",
       "      <td>2</td>\n",
       "      <td>16232000</td>\n",
       "    </tr>\n",
       "    <tr>\n",
       "      <th>11</th>\n",
       "      <td>1</td>\n",
       "      <td>10</td>\n",
       "      <td>2009</td>\n",
       "      <td>2</td>\n",
       "      <td>10350000</td>\n",
       "    </tr>\n",
       "    <tr>\n",
       "      <th>12</th>\n",
       "      <td>1</td>\n",
       "      <td>0</td>\n",
       "      <td>1920</td>\n",
       "      <td>2</td>\n",
       "      <td>1</td>\n",
       "    </tr>\n",
       "    <tr>\n",
       "      <th>13</th>\n",
       "      <td>1</td>\n",
       "      <td>0</td>\n",
       "      <td>1920</td>\n",
       "      <td>2</td>\n",
       "      <td>499000</td>\n",
       "    </tr>\n",
       "    <tr>\n",
       "      <th>14</th>\n",
       "      <td>1</td>\n",
       "      <td>0</td>\n",
       "      <td>1920</td>\n",
       "      <td>2</td>\n",
       "      <td>10</td>\n",
       "    </tr>\n",
       "    <tr>\n",
       "      <th>15</th>\n",
       "      <td>1</td>\n",
       "      <td>0</td>\n",
       "      <td>1920</td>\n",
       "      <td>2</td>\n",
       "      <td>529500</td>\n",
       "    </tr>\n",
       "  </tbody>\n",
       "</table>\n",
       "</div>"
      ],
      "text/plain": [
       "    BOROUGH  TOTAL UNITS  YEAR BUILT  TAX CLASS AT TIME OF SALE SALE PRICE\n",
       "0         1            5        1900                          2    6625000\n",
       "3         1           10        1913                          2    3936272\n",
       "4         1            6        1900                          2    8000000\n",
       "6         1            8        1920                          2    3192840\n",
       "9         1           24        1920                          2   16232000\n",
       "11        1           10        2009                          2   10350000\n",
       "12        1            0        1920                          2          1\n",
       "13        1            0        1920                          2     499000\n",
       "14        1            0        1920                          2         10\n",
       "15        1            0        1920                          2     529500"
      ]
     },
     "execution_count": 17,
     "metadata": {},
     "output_type": "execute_result"
    }
   ],
   "source": [
    "df.dropna(axis=0, inplace=True)\n",
    "df.head(10)"
   ]
  },
  {
   "cell_type": "markdown",
   "id": "0b0ce963",
   "metadata": {},
   "source": [
    "Dilakukan penghapusan baris untuk seluruh kolom yang memiliki nilai Null pada salah satu kolomnya. "
   ]
  },
  {
   "cell_type": "markdown",
   "id": "7890db8e",
   "metadata": {},
   "source": [
    "#### Menampilkan informasi data yang sudah dihapus nilai null"
   ]
  },
  {
   "cell_type": "code",
   "execution_count": 18,
   "id": "63736e4d",
   "metadata": {},
   "outputs": [
    {
     "name": "stdout",
     "output_type": "stream",
     "text": [
      "<class 'pandas.core.frame.DataFrame'>\n",
      "Int64Index: 69987 entries, 0 to 84547\n",
      "Data columns (total 5 columns):\n",
      " #   Column                     Non-Null Count  Dtype \n",
      "---  ------                     --------------  ----- \n",
      " 0   BOROUGH                    69987 non-null  int64 \n",
      " 1   TOTAL UNITS                69987 non-null  int64 \n",
      " 2   YEAR BUILT                 69987 non-null  int64 \n",
      " 3   TAX CLASS AT TIME OF SALE  69987 non-null  int64 \n",
      " 4   SALE PRICE                 69987 non-null  object\n",
      "dtypes: int64(4), object(1)\n",
      "memory usage: 3.2+ MB\n"
     ]
    }
   ],
   "source": [
    "df.info()"
   ]
  },
  {
   "cell_type": "markdown",
   "id": "f5b19a9e",
   "metadata": {},
   "source": [
    "Kembali ditampilkan informasi data untuk melihat perubahan jumlah baris setelah dihapus. Dapat dilihat bahwa baris data untuk seluruh fitur sudah sama yaitu 69987 data. "
   ]
  },
  {
   "cell_type": "markdown",
   "id": "dd7dd31c",
   "metadata": {},
   "source": [
    "### Measure of Central Tendency: Mean"
   ]
  },
  {
   "cell_type": "code",
   "execution_count": 19,
   "id": "fb6003ec",
   "metadata": {},
   "outputs": [
    {
     "data": {
      "text/plain": [
       "1799.34823610099"
      ]
     },
     "execution_count": 19,
     "metadata": {},
     "output_type": "execute_result"
    }
   ],
   "source": [
    "np.mean(df['YEAR BUILT'])"
   ]
  },
  {
   "cell_type": "markdown",
   "id": "a1805e3e",
   "metadata": {},
   "source": [
    "Code diatas melakukan perhitungan nilai mean (rata-rata) untuk kolom YEAR BUILT menggunakan library Numpy. Dapat dilihat nilai yang dihasilkan adalah 1799.3, maka dari itu dapat disimpulkan bahwa rata-rata property yang dijual dibangun pada tahun 1799-an."
   ]
  },
  {
   "cell_type": "code",
   "execution_count": 20,
   "id": "8f7c1606",
   "metadata": {},
   "outputs": [
    {
     "data": {
      "text/plain": [
       "2.092202837669853"
      ]
     },
     "execution_count": 20,
     "metadata": {},
     "output_type": "execute_result"
    }
   ],
   "source": [
    "pd.Series(df['TOTAL UNITS']).mean()"
   ]
  },
  {
   "cell_type": "markdown",
   "id": "d44e8246",
   "metadata": {},
   "source": [
    "Code diatas melakukan perhitungan nilai mean untuk kolom TOTAL UNITS menggunakan library Pandas. Dapat dilihat bahwa nilai yang dihasilkan sebesar 2.09 atau 2 (setelah dibulatkan), maka dapat disimpulkan bahwa rata-rata TOTAL UNITS property adalah 2 unit. "
   ]
  },
  {
   "cell_type": "code",
   "execution_count": 21,
   "id": "5ed80556",
   "metadata": {},
   "outputs": [
    {
     "name": "stderr",
     "output_type": "stream",
     "text": [
      "C:\\Users\\HP\\AppData\\Local\\Temp\\ipykernel_14564\\4017751912.py:1: DeprecationWarning: scipy.mean is deprecated and will be removed in SciPy 2.0.0, use numpy.mean instead\n",
      "  scipy.mean(df['BOROUGH'])\n"
     ]
    },
    {
     "data": {
      "text/plain": [
       "2.9219283581236515"
      ]
     },
     "execution_count": 21,
     "metadata": {},
     "output_type": "execute_result"
    }
   ],
   "source": [
    "scipy.mean(df['BOROUGH'])"
   ]
  },
  {
   "cell_type": "markdown",
   "id": "21bbc0fd",
   "metadata": {},
   "source": [
    "Melakukan perhitungan nilai mean untuk kolom BOROUGH menggunakan library scipy. Perhitungan menghasilkan nilai sebesar 2.9 atau 3 (setelah dibulatkan). Dari hasil yang didapatkan, dapat disimpulkan bahwa rata-rata property yang dijual terletak pada kota dengan kode angka 3 yaitu kota Brooklyn. "
   ]
  },
  {
   "cell_type": "markdown",
   "id": "4aebdc86",
   "metadata": {},
   "source": [
    "### Measure of Central Tendency: Median"
   ]
  },
  {
   "cell_type": "code",
   "execution_count": 22,
   "id": "97c64850",
   "metadata": {},
   "outputs": [
    {
     "data": {
      "text/plain": [
       "2.0"
      ]
     },
     "execution_count": 22,
     "metadata": {},
     "output_type": "execute_result"
    }
   ],
   "source": [
    "np.median(df['TAX CLASS AT TIME OF SALE'])"
   ]
  },
  {
   "cell_type": "markdown",
   "id": "38f86231",
   "metadata": {},
   "source": [
    "Code diatas melakukan perhitungan nilai median (nilai tengah) terhadap fitur TAX CLASS AT TIME OF SALE menggunakan library Numpy. Dari hasil didapatkan nilai 2.0, yang dapat disimpulkan bahwa nilai Median untuk fitur tersebut adalah tax dengan angka 2. "
   ]
  },
  {
   "cell_type": "code",
   "execution_count": 23,
   "id": "3dcf62f6",
   "metadata": {},
   "outputs": [
    {
     "data": {
      "text/plain": [
       "1937.0"
      ]
     },
     "execution_count": 23,
     "metadata": {},
     "output_type": "execute_result"
    }
   ],
   "source": [
    "pd.Series(df['YEAR BUILT']).median()"
   ]
  },
  {
   "cell_type": "markdown",
   "id": "2152a58f",
   "metadata": {},
   "source": [
    "Code diatas melakukan perhitungan nilai median untuk fitur YEAR BUILT dengan library Pandas. Didapatkan hasil dengan angka 1937. Maka, dapat disimpulkan bahwa nilai tengah untuk fitur pembuatan property adalah tahun 1937. "
   ]
  },
  {
   "cell_type": "code",
   "execution_count": 24,
   "id": "804a7726",
   "metadata": {},
   "outputs": [
    {
     "name": "stderr",
     "output_type": "stream",
     "text": [
      "C:\\Users\\HP\\AppData\\Local\\Temp\\ipykernel_14564\\2371358566.py:1: DeprecationWarning: scipy.median is deprecated and will be removed in SciPy 2.0.0, use numpy.median instead\n",
      "  scipy.median(df['TOTAL UNITS'])\n"
     ]
    },
    {
     "data": {
      "text/plain": [
       "1.0"
      ]
     },
     "execution_count": 24,
     "metadata": {},
     "output_type": "execute_result"
    }
   ],
   "source": [
    "scipy.median(df['TOTAL UNITS'])"
   ]
  },
  {
   "cell_type": "markdown",
   "id": "d94478e5",
   "metadata": {},
   "source": [
    "Code diatas melakukan perhitungan nilai median untuk kolom TOTAL UNITS dengan library Scipy. Dari hasil dapat disimpulkan bahwa nilai tengah untuk fitur tersebut adalah 1 units. "
   ]
  },
  {
   "cell_type": "markdown",
   "id": "10101c2c",
   "metadata": {},
   "source": [
    "### Measure of Central Tendency: Modus/Mode"
   ]
  },
  {
   "cell_type": "code",
   "execution_count": 25,
   "id": "072a3981",
   "metadata": {},
   "outputs": [
    {
     "data": {
      "text/plain": [
       "0    3\n",
       "Name: BOROUGH, dtype: int64"
      ]
     },
     "execution_count": 25,
     "metadata": {},
     "output_type": "execute_result"
    }
   ],
   "source": [
    "pd.Series(df['BOROUGH']).mode()"
   ]
  },
  {
   "cell_type": "markdown",
   "id": "45a47b2c",
   "metadata": {},
   "source": [
    "Code diatas melakukan perhitungan nilai modus (paling banyak muncul) untuk kolom BOROUGH dengan library Pandas. Dari hasil dapat disimpulkan bahwa BOROUGH dengan kode angka 3 (Queens) merupakan kota yang paling banyak muncul dalam data."
   ]
  },
  {
   "cell_type": "code",
   "execution_count": 26,
   "id": "95e5de7d",
   "metadata": {},
   "outputs": [
    {
     "data": {
      "text/plain": [
       "ModeResult(mode=array([0], dtype=int64), count=array([5391]))"
      ]
     },
     "execution_count": 26,
     "metadata": {},
     "output_type": "execute_result"
    }
   ],
   "source": [
    "scipy.stats.mode(df['YEAR BUILT'])"
   ]
  },
  {
   "cell_type": "markdown",
   "id": "c62e6a50",
   "metadata": {},
   "source": [
    "Code diatas melakukan perhitungan nilai modus untuk kolom YEAR BUILT dengan library Scipy. Hasil didapatkan dalam bentuk alamat array yang berada pada index 5391. "
   ]
  },
  {
   "cell_type": "code",
   "execution_count": 27,
   "id": "72dcd14f",
   "metadata": {},
   "outputs": [
    {
     "data": {
      "text/plain": [
       "BOROUGH                           1\n",
       "TOTAL UNITS                       0\n",
       "YEAR BUILT                     1955\n",
       "TAX CLASS AT TIME OF SALE         2\n",
       "SALE PRICE                   775000\n",
       "Name: 6888, dtype: object"
      ]
     },
     "execution_count": 27,
     "metadata": {},
     "output_type": "execute_result"
    }
   ],
   "source": [
    "df.iloc[5391]"
   ]
  },
  {
   "cell_type": "markdown",
   "id": "ccf38f43",
   "metadata": {},
   "source": [
    "Kemudian dilakukan pengecekan nilai array dengan fungsi iloc untuk melihat nilai dari index tersebut. Didapatkan bahwa nilai YEAR BUILT yang didapatkan adalah tahun 1955, maka dapat disimpulkan tahun 1955 merupakan tahun paling banyak muncul dalam data. "
   ]
  },
  {
   "cell_type": "markdown",
   "id": "ec96250a",
   "metadata": {},
   "source": [
    "### Measure of Spread: Range"
   ]
  },
  {
   "cell_type": "code",
   "execution_count": 28,
   "id": "f5659b9f",
   "metadata": {},
   "outputs": [],
   "source": [
    "df_range = df['YEAR BUILT'].to_numpy()"
   ]
  },
  {
   "cell_type": "code",
   "execution_count": 29,
   "id": "d781112d",
   "metadata": {},
   "outputs": [
    {
     "data": {
      "text/plain": [
       "array([1900, 1913, 1900, ..., 1925, 2001, 2006], dtype=int64)"
      ]
     },
     "execution_count": 29,
     "metadata": {},
     "output_type": "execute_result"
    }
   ],
   "source": [
    "df_range"
   ]
  },
  {
   "cell_type": "markdown",
   "id": "0de3393e",
   "metadata": {},
   "source": [
    "Dibuatkan variabel baru untuk menampung data dalam bentuk array untuk kolom YEAR BUILT agar dapat dihitung Range-nya. "
   ]
  },
  {
   "cell_type": "code",
   "execution_count": 30,
   "id": "969ba47c",
   "metadata": {},
   "outputs": [
    {
     "data": {
      "text/plain": [
       "2017"
      ]
     },
     "execution_count": 30,
     "metadata": {},
     "output_type": "execute_result"
    }
   ],
   "source": [
    "np.amax(df_range)"
   ]
  },
  {
   "cell_type": "markdown",
   "id": "54aac55d",
   "metadata": {},
   "source": [
    "Dilihat nilai maximum dari variabel baru tersebut dengan fungsi amax() yang nantinya digunakan untuk menghitung range. "
   ]
  },
  {
   "cell_type": "code",
   "execution_count": 31,
   "id": "c846c42e",
   "metadata": {},
   "outputs": [
    {
     "data": {
      "text/plain": [
       "0"
      ]
     },
     "execution_count": 31,
     "metadata": {},
     "output_type": "execute_result"
    }
   ],
   "source": [
    "np.amin(df_range)"
   ]
  },
  {
   "cell_type": "markdown",
   "id": "b87e9e7a",
   "metadata": {},
   "source": [
    "Kemudian dilihat juga nilai minimum untuk data tersebut dengan fungsi amin(), karena untuk mencari nilai range dihitung dengan nilai maksimum - nilai minimum. "
   ]
  },
  {
   "cell_type": "code",
   "execution_count": 32,
   "id": "c5f1d552",
   "metadata": {},
   "outputs": [
    {
     "data": {
      "text/plain": [
       "2017"
      ]
     },
     "execution_count": 32,
     "metadata": {},
     "output_type": "execute_result"
    }
   ],
   "source": [
    "np.amax(df_range) - np.amin(df_range)"
   ]
  },
  {
   "cell_type": "markdown",
   "id": "fe2073d6",
   "metadata": {},
   "source": [
    "Dilakukan perhitungan nilai range dengan pengurangan nilai max dengan nilai min. Hasil yang didapatkan adalah 2017. "
   ]
  },
  {
   "cell_type": "code",
   "execution_count": 33,
   "id": "e28cbe91",
   "metadata": {},
   "outputs": [
    {
     "data": {
      "text/plain": [
       "2017"
      ]
     },
     "execution_count": 33,
     "metadata": {},
     "output_type": "execute_result"
    }
   ],
   "source": [
    "np.ptp(df_range)"
   ]
  },
  {
   "cell_type": "markdown",
   "id": "4d6da4f0",
   "metadata": {},
   "source": [
    "Kemudian juga digunakan np.ptp yang mengembalikan rentang nilai sepanjang sumbu, atau sama saja dengan peak to peak yang berarti pengurangan nilai ujung terbesar dengan nilai ujung terkecil. Hasilnya tentu sama dengan yang sebelumnya."
   ]
  },
  {
   "cell_type": "markdown",
   "id": "9099bed4",
   "metadata": {},
   "source": [
    "### Measure of Spread: Variance"
   ]
  },
  {
   "cell_type": "code",
   "execution_count": 34,
   "id": "9df28600",
   "metadata": {},
   "outputs": [],
   "source": [
    "df_var = df['SALE PRICE'].astype('int64')"
   ]
  },
  {
   "cell_type": "code",
   "execution_count": 35,
   "id": "1e41be96",
   "metadata": {},
   "outputs": [
    {
     "data": {
      "text/plain": [
       "0         6625000\n",
       "3         3936272\n",
       "4         8000000\n",
       "6         3192840\n",
       "9        16232000\n",
       "           ...   \n",
       "84543      450000\n",
       "84544      550000\n",
       "84545      460000\n",
       "84546    11693337\n",
       "84547       69300\n",
       "Name: SALE PRICE, Length: 69987, dtype: int64"
      ]
     },
     "execution_count": 35,
     "metadata": {},
     "output_type": "execute_result"
    }
   ],
   "source": [
    "df_var"
   ]
  },
  {
   "cell_type": "markdown",
   "id": "4239a7ea",
   "metadata": {},
   "source": [
    "Code diatas digunakan untuk membuat variabel baru dengan isi fitur SALE PRICE yang awalnya bertipe string diubah menjadi tipe Int agar dapat dihitung nilai variancenya. "
   ]
  },
  {
   "cell_type": "code",
   "execution_count": 36,
   "id": "788bf08a",
   "metadata": {},
   "outputs": [
    {
     "data": {
      "text/plain": [
       "130079849507240.9"
      ]
     },
     "execution_count": 36,
     "metadata": {},
     "output_type": "execute_result"
    }
   ],
   "source": [
    "pd.Series(df_var).var()"
   ]
  },
  {
   "cell_type": "markdown",
   "id": "a05eb1fc",
   "metadata": {},
   "source": [
    "Dengan menggunakan library Pandas didapatkan nilai varians untuk df_var tersebut adalah 130079849507240.9. Dimana, varians digunakan untuk mengukur penyebaran data dan menunjukkan seberapa jauh titik data dari mean data. Dari hasil yang didapatkan dapat disimpulkan bahwa data dalam fitur SALE PRICE memiliki varians dengan nilai sangat besar yang menandakan bahwa titik data sangat jauh dari nilai rata-rata. "
   ]
  },
  {
   "cell_type": "code",
   "execution_count": 37,
   "id": "7476805b",
   "metadata": {},
   "outputs": [
    {
     "data": {
      "text/plain": [
       "130079849507240.9"
      ]
     },
     "execution_count": 37,
     "metadata": {},
     "output_type": "execute_result"
    }
   ],
   "source": [
    "np.var(df_var,ddof=1)"
   ]
  },
  {
   "cell_type": "markdown",
   "id": "58bb6e09",
   "metadata": {},
   "source": [
    "Dilakukan juga dengan menggunakan library Numpy dan hasil yang dihasilkan menunjukkan nilai yang sama. "
   ]
  },
  {
   "cell_type": "markdown",
   "id": "2aa86799",
   "metadata": {},
   "source": [
    "### Measure of Spread : Standard Deviation"
   ]
  },
  {
   "cell_type": "code",
   "execution_count": 38,
   "id": "3cf6967a",
   "metadata": {},
   "outputs": [
    {
     "data": {
      "text/plain": [
       "0.7711617163591019"
      ]
     },
     "execution_count": 38,
     "metadata": {},
     "output_type": "execute_result"
    }
   ],
   "source": [
    "np.std(df['TAX CLASS AT TIME OF SALE'], ddof=1) #ddof=1 memberikan estimator yang tidak bias dari varian populasi tak terbatas"
   ]
  },
  {
   "cell_type": "markdown",
   "id": "90b6aff8",
   "metadata": {},
   "source": [
    "Code diatas melakukan pencarian nilai standar deviasi dengan fungsi std() pada library Numpy. Dimana, standar deviasi digunakan untuk mengukur sebaran data dari mean, semakin mendekati nol maka semakin rendah variabilitas data dan mean semakin dapat diandalkan. Jadi dapat disimpulkan bahwa data pada fitur TAX CLASS AT TIME OF SALE memiliki variabilitas yang sedikit dengan nilai 0.77 dan dapat dipastikan nilai rata-ratanya dapat diandalkan. "
   ]
  },
  {
   "cell_type": "code",
   "execution_count": 39,
   "id": "ca2504b9",
   "metadata": {},
   "outputs": [
    {
     "data": {
      "text/plain": [
       "17.276100132845"
      ]
     },
     "execution_count": 39,
     "metadata": {},
     "output_type": "execute_result"
    }
   ],
   "source": [
    "df['TOTAL UNITS'].std()"
   ]
  },
  {
   "cell_type": "markdown",
   "id": "36b141ae",
   "metadata": {},
   "source": [
    "Code diatas melakukan pencarian nilai std dengan library Pandas. Didapatkan dilihat bahwa nilai std untuk fitur TOTAL UNITS dangat besar, maka dapat disimpulkan bahwa fitur TOTAL UNITS memiliki variabilitas yang sangat besar. "
   ]
  },
  {
   "cell_type": "markdown",
   "id": "4bdc2b85",
   "metadata": {},
   "source": [
    "### Probability Distribution"
   ]
  },
  {
   "cell_type": "code",
   "execution_count": 40,
   "id": "b767b7a8",
   "metadata": {},
   "outputs": [
    {
     "data": {
      "text/plain": [
       "0         6625000\n",
       "3         3936272\n",
       "4         8000000\n",
       "6         3192840\n",
       "9        16232000\n",
       "           ...   \n",
       "84543      450000\n",
       "84544      550000\n",
       "84545      460000\n",
       "84546    11693337\n",
       "84547       69300\n",
       "Name: SALE PRICE, Length: 69987, dtype: int64"
      ]
     },
     "execution_count": 40,
     "metadata": {},
     "output_type": "execute_result"
    }
   ],
   "source": [
    "df_sale = df['SALE PRICE'].astype('int64')\n",
    "df_sale"
   ]
  },
  {
   "cell_type": "markdown",
   "id": "c6e604f1",
   "metadata": {},
   "source": [
    "Dibuatkan variabel baru untuk menampung nilai fitur SALE PRICE yang type datanya sudah diganti menjadi Int64 agar dapat dilihat probabilitas distribusinya. "
   ]
  },
  {
   "cell_type": "code",
   "execution_count": 41,
   "id": "6d5e94aa",
   "metadata": {},
   "outputs": [
    {
     "data": {
      "image/png": "[encoded data removed]",
      "text/plain": [
       "<Figure size 432x288 with 1 Axes>"
      ]
     },
     "metadata": {
      "needs_background": "light"
     },
     "output_type": "display_data"
    }
   ],
   "source": [
    "# Kalkulasi skew\n",
    "skew = df_sale.skew()\n",
    "\n",
    "# Bangun histogram\n",
    "plt.hist(df_sale, bins=50)\n",
    "plt.title('Distribution of NYC Property Sales Prices')\n",
    "plt.xlabel('Price')\n",
    "plt.ylabel('Frequency')\n",
    "\n",
    "plt.show()"
   ]
  },
  {
   "cell_type": "markdown",
   "id": "348c1de5",
   "metadata": {},
   "source": [
    "Pada plot diatas ditampilkan histogram untuk distribusi data pada fitur SALE PRICE. Dapat dilihat bahwa persebaran datanya menumpuk pada bagian kiri plot."
   ]
  },
  {
   "cell_type": "code",
   "execution_count": 42,
   "id": "2031ef16",
   "metadata": {},
   "outputs": [
    {
     "name": "stderr",
     "output_type": "stream",
     "text": [
      "C:\\Users\\HP\\anaconda3\\lib\\site-packages\\seaborn\\distributions.py:2619: FutureWarning: `distplot` is a deprecated function and will be removed in a future version. Please adapt your code to use either `displot` (a figure-level function with similar flexibility) or `histplot` (an axes-level function for histograms).\n",
      "  warnings.warn(msg, FutureWarning)\n"
     ]
    },
    {
     "data": {
      "image/png": "[encoded data removed]",
      "text/plain": [
       "<Figure size 432x288 with 1 Axes>"
      ]
     },
     "metadata": {
      "needs_background": "light"
     },
     "output_type": "display_data"
    }
   ],
   "source": [
    "sns.distplot(df_sale)\n",
    "plt.xlabel('SALE PRICE Distribution')\n",
    "plt.ylabel('Frequency')\n",
    "plt.show()"
   ]
  },
  {
   "cell_type": "markdown",
   "id": "2aae622b",
   "metadata": {},
   "source": [
    "Plot yang awalnya hanya dalam bentuk histogram ditampilkan kembali dengan library seaborn. Fungsi distplot pada library seaborn berguna untuk menggambarkan plot variasi dalam distribusi kepadatan data yang digambarkan dengan histogram dan kombinasi garis dengannya. Plot menghasilkan distribusi yang sama dengan plot sebelumnya dan dapat disimpulkan bahwa data pada fitur SALE PRICE terdistribusi secara tidak normal dikarenakan data lebih condong ke kiri dan tidak simetris. "
   ]
  },
  {
   "cell_type": "code",
   "execution_count": 43,
   "id": "5a6662a0",
   "metadata": {},
   "outputs": [
    {
     "data": {
      "text/plain": [
       "0         5\n",
       "3        10\n",
       "4         6\n",
       "6         8\n",
       "9        24\n",
       "         ..\n",
       "84543     2\n",
       "84544     2\n",
       "84545     2\n",
       "84546     7\n",
       "84547     1\n",
       "Name: TOTAL UNITS, Length: 69987, dtype: int64"
      ]
     },
     "execution_count": 43,
     "metadata": {},
     "output_type": "execute_result"
    }
   ],
   "source": [
    "df_total = df['TOTAL UNITS']\n",
    "df_total"
   ]
  },
  {
   "cell_type": "markdown",
   "id": "3d1d7792",
   "metadata": {},
   "source": [
    "Dibuatkan variabel baru yang menampung nilai pada fitur TOTAL UNITS untuk dilihat juga probabilitas distribusinya. "
   ]
  },
  {
   "cell_type": "code",
   "execution_count": 44,
   "id": "c61ad13e",
   "metadata": {},
   "outputs": [
    {
     "name": "stderr",
     "output_type": "stream",
     "text": [
      "C:\\Users\\HP\\anaconda3\\lib\\site-packages\\seaborn\\distributions.py:2619: FutureWarning: `distplot` is a deprecated function and will be removed in a future version. Please adapt your code to use either `displot` (a figure-level function with similar flexibility) or `histplot` (an axes-level function for histograms).\n",
      "  warnings.warn(msg, FutureWarning)\n"
     ]
    },
    {
     "data": {
      "image/png": "[encoded data removed]",
      "text/plain": [
       "<Figure size 432x288 with 1 Axes>"
      ]
     },
     "metadata": {
      "needs_background": "light"
     },
     "output_type": "display_data"
    }
   ],
   "source": [
    "sns.distplot(df_total)\n",
    "plt.xlabel('TOTAL UNITS Distribution')\n",
    "plt.ylabel('Frequency')\n",
    "plt.show()"
   ]
  },
  {
   "cell_type": "markdown",
   "id": "9c47b06b",
   "metadata": {},
   "source": [
    "Plot untuk data TOTAL UNITS ditampilkan dengan library seaborn. Dari plot yang dihasilkan dapat disimpulkan bahwa data pada fitur TOTAL UNITS juga tidak terdistribusi secara normal karena data condong ke kiri dan tidak simetris. "
   ]
  },
  {
   "cell_type": "markdown",
   "id": "bf98cd07",
   "metadata": {},
   "source": [
    "### Confidence Intervals"
   ]
  },
  {
   "cell_type": "code",
   "execution_count": 45,
   "id": "9bac81da",
   "metadata": {},
   "outputs": [
    {
     "data": {
      "text/html": [
       "<div>\n",
       "<style scoped>\n",
       "    .dataframe tbody tr th:only-of-type {\n",
       "        vertical-align: middle;\n",
       "    }\n",
       "\n",
       "    .dataframe tbody tr th {\n",
       "        vertical-align: top;\n",
       "    }\n",
       "\n",
       "    .dataframe thead th {\n",
       "        text-align: right;\n",
       "    }\n",
       "</style>\n",
       "<table border=\"1\" class=\"dataframe\">\n",
       "  <thead>\n",
       "    <tr style=\"text-align: right;\">\n",
       "      <th></th>\n",
       "      <th></th>\n",
       "      <th>YEAR BUILT</th>\n",
       "    </tr>\n",
       "    <tr>\n",
       "      <th>BOROUGH</th>\n",
       "      <th>YEAR BUILT</th>\n",
       "      <th></th>\n",
       "    </tr>\n",
       "  </thead>\n",
       "  <tbody>\n",
       "    <tr>\n",
       "      <th rowspan=\"5\" valign=\"top\">1</th>\n",
       "      <th>0</th>\n",
       "      <td>1594</td>\n",
       "    </tr>\n",
       "    <tr>\n",
       "      <th>1111</th>\n",
       "      <td>1</td>\n",
       "    </tr>\n",
       "    <tr>\n",
       "      <th>1800</th>\n",
       "      <td>1</td>\n",
       "    </tr>\n",
       "    <tr>\n",
       "      <th>1846</th>\n",
       "      <td>1</td>\n",
       "    </tr>\n",
       "    <tr>\n",
       "      <th>1850</th>\n",
       "      <td>5</td>\n",
       "    </tr>\n",
       "    <tr>\n",
       "      <th>...</th>\n",
       "      <th>...</th>\n",
       "      <td>...</td>\n",
       "    </tr>\n",
       "    <tr>\n",
       "      <th rowspan=\"5\" valign=\"top\">5</th>\n",
       "      <th>2012</th>\n",
       "      <td>15</td>\n",
       "    </tr>\n",
       "    <tr>\n",
       "      <th>2013</th>\n",
       "      <td>8</td>\n",
       "    </tr>\n",
       "    <tr>\n",
       "      <th>2014</th>\n",
       "      <td>29</td>\n",
       "    </tr>\n",
       "    <tr>\n",
       "      <th>2015</th>\n",
       "      <td>186</td>\n",
       "    </tr>\n",
       "    <tr>\n",
       "      <th>2016</th>\n",
       "      <td>203</td>\n",
       "    </tr>\n",
       "  </tbody>\n",
       "</table>\n",
       "<p>615 rows × 1 columns</p>\n",
       "</div>"
      ],
      "text/plain": [
       "                    YEAR BUILT\n",
       "BOROUGH YEAR BUILT            \n",
       "1       0                 1594\n",
       "        1111                 1\n",
       "        1800                 1\n",
       "        1846                 1\n",
       "        1850                 5\n",
       "...                        ...\n",
       "5       2012                15\n",
       "        2013                 8\n",
       "        2014                29\n",
       "        2015               186\n",
       "        2016               203\n",
       "\n",
       "[615 rows x 1 columns]"
      ]
     },
     "execution_count": 45,
     "metadata": {},
     "output_type": "execute_result"
    }
   ],
   "source": [
    "df.groupby(['BOROUGH', 'YEAR BUILT'])[['YEAR BUILT']].count()"
   ]
  },
  {
   "cell_type": "markdown",
   "id": "11cc78b7",
   "metadata": {},
   "source": [
    "Pada code diatas dilakukan pengelompokkan perhitungan kolom BOROUGH dengan kolom tahun pembuatan property. Pengelompokkan dilakukan berdasarkan tahun pembuatan propertynya. \n",
    "Kolom BOROUGH memiliki 5 kategori data dengan nilai masing-masingnya yaitu :\n",
    "* 1 = Manhattan\n",
    "* 2 = Bronx\n",
    "* 3 = Brooklyn\n",
    "* 4 = Queens\n",
    "* 5 = Staten Island"
   ]
  },
  {
   "cell_type": "code",
   "execution_count": 47,
   "id": "1b83d85c",
   "metadata": {},
   "outputs": [
    {
     "data": {
      "text/plain": [
       "441"
      ]
     },
     "execution_count": 47,
     "metadata": {},
     "output_type": "execute_result"
    }
   ],
   "source": [
    "n = 15+8+29+186+203\n",
    "n"
   ]
  },
  {
   "cell_type": "markdown",
   "id": "d9c8667e",
   "metadata": {},
   "source": [
    "Data yang diambil adalah data value counts dari tahun 2012-2016 yang menghasilkan n = 441"
   ]
  },
  {
   "cell_type": "code",
   "execution_count": 48,
   "id": "2c90510a",
   "metadata": {},
   "outputs": [
    {
     "name": "stdout",
     "output_type": "stream",
     "text": [
      "441 0.4603174603174603\n"
     ]
    }
   ],
   "source": [
    "pro_fm = 203/n\n",
    "print(n,pro_fm)"
   ]
  },
  {
   "cell_type": "code",
   "execution_count": 49,
   "id": "952c6b18",
   "metadata": {},
   "outputs": [
    {
     "data": {
      "text/plain": [
       "0.023734419452921516"
      ]
     },
     "execution_count": 49,
     "metadata": {},
     "output_type": "execute_result"
    }
   ],
   "source": [
    "stderror_fm = (pro_fm*(1-pro_fm)/n)**(1/2)\n",
    "stderror_fm"
   ]
  },
  {
   "cell_type": "markdown",
   "id": "80c8c2e8",
   "metadata": {},
   "source": [
    "Rumus diatas diguanakan untuk mencari stderror dari data, dan menghasilkan std error 0.0237"
   ]
  },
  {
   "cell_type": "code",
   "execution_count": 50,
   "id": "7165254c",
   "metadata": {},
   "outputs": [
    {
     "name": "stdout",
     "output_type": "stream",
     "text": [
      "lower bound 0.4137979981897341\n",
      "upper bound 0.5068369224451864\n"
     ]
    }
   ],
   "source": [
    "z_score = 1.96\n",
    "low_ci_fm = pro_fm - (z_score*stderror_fm)\n",
    "up_ci_fm = pro_fm + (z_score*stderror_fm)\n",
    "print('lower bound',low_ci_fm)\n",
    "print('upper bound',up_ci_fm)"
   ]
  },
  {
   "cell_type": "markdown",
   "id": "e3ad6cf4",
   "metadata": {},
   "source": [
    "Kemudian code diatas digunakan untuk menentukan z score dan mencari nilai lower dari data dan nilai upper dari data"
   ]
  },
  {
   "cell_type": "code",
   "execution_count": 51,
   "id": "0844a69e",
   "metadata": {},
   "outputs": [
    {
     "name": "stdout",
     "output_type": "stream",
     "text": [
      "Margin Error= 0.04651946212772617\n"
     ]
    }
   ],
   "source": [
    "print('Margin Error=',(z_score*stderror_fm))"
   ]
  },
  {
   "cell_type": "markdown",
   "id": "43f850eb",
   "metadata": {},
   "source": [
    "Margin of error mengidentifikasi seberapa akurat sampel dari populasi tertentu. Margin error yang didapatkan dari data ini adalah 0,0465. Semakin rendah nilai margin error maka semakin besar tingkat kepercayaan dalam hasil yang dihasilkan, dan sebaliknya."
   ]
  },
  {
   "cell_type": "markdown",
   "id": "c4de5b3e",
   "metadata": {},
   "source": [
    "### HYPOTHESIS TESTING"
   ]
  },
  {
   "cell_type": "code",
   "execution_count": 52,
   "id": "cb74542d",
   "metadata": {},
   "outputs": [
    {
     "data": {
      "text/html": [
       "<div>\n",
       "<style scoped>\n",
       "    .dataframe tbody tr th:only-of-type {\n",
       "        vertical-align: middle;\n",
       "    }\n",
       "\n",
       "    .dataframe tbody tr th {\n",
       "        vertical-align: top;\n",
       "    }\n",
       "\n",
       "    .dataframe thead th {\n",
       "        text-align: right;\n",
       "    }\n",
       "</style>\n",
       "<table border=\"1\" class=\"dataframe\">\n",
       "  <thead>\n",
       "    <tr style=\"text-align: right;\">\n",
       "      <th></th>\n",
       "      <th>BOROUGH</th>\n",
       "      <th>TOTAL UNITS</th>\n",
       "      <th>YEAR BUILT</th>\n",
       "      <th>TAX CLASS AT TIME OF SALE</th>\n",
       "      <th>SALE PRICE</th>\n",
       "    </tr>\n",
       "  </thead>\n",
       "  <tbody>\n",
       "    <tr>\n",
       "      <th>0</th>\n",
       "      <td>1</td>\n",
       "      <td>5</td>\n",
       "      <td>1900</td>\n",
       "      <td>2</td>\n",
       "      <td>6625000</td>\n",
       "    </tr>\n",
       "    <tr>\n",
       "      <th>3</th>\n",
       "      <td>1</td>\n",
       "      <td>10</td>\n",
       "      <td>1913</td>\n",
       "      <td>2</td>\n",
       "      <td>3936272</td>\n",
       "    </tr>\n",
       "    <tr>\n",
       "      <th>4</th>\n",
       "      <td>1</td>\n",
       "      <td>6</td>\n",
       "      <td>1900</td>\n",
       "      <td>2</td>\n",
       "      <td>8000000</td>\n",
       "    </tr>\n",
       "    <tr>\n",
       "      <th>6</th>\n",
       "      <td>1</td>\n",
       "      <td>8</td>\n",
       "      <td>1920</td>\n",
       "      <td>2</td>\n",
       "      <td>3192840</td>\n",
       "    </tr>\n",
       "    <tr>\n",
       "      <th>9</th>\n",
       "      <td>1</td>\n",
       "      <td>24</td>\n",
       "      <td>1920</td>\n",
       "      <td>2</td>\n",
       "      <td>16232000</td>\n",
       "    </tr>\n",
       "  </tbody>\n",
       "</table>\n",
       "</div>"
      ],
      "text/plain": [
       "   BOROUGH  TOTAL UNITS  YEAR BUILT  TAX CLASS AT TIME OF SALE SALE PRICE\n",
       "0        1            5        1900                          2    6625000\n",
       "3        1           10        1913                          2    3936272\n",
       "4        1            6        1900                          2    8000000\n",
       "6        1            8        1920                          2    3192840\n",
       "9        1           24        1920                          2   16232000"
      ]
     },
     "execution_count": 52,
     "metadata": {},
     "output_type": "execute_result"
    }
   ],
   "source": [
    "df.head()"
   ]
  },
  {
   "cell_type": "markdown",
   "id": "1be0a349",
   "metadata": {},
   "source": [
    "Dilihat kembali 5 data teratas dari dataframe df untuk melihat kolom dan datanya secara sekilas"
   ]
  },
  {
   "cell_type": "code",
   "execution_count": 53,
   "id": "fc21fd2c",
   "metadata": {},
   "outputs": [
    {
     "data": {
      "text/plain": [
       "array([2, 4, 1, 3], dtype=int64)"
      ]
     },
     "execution_count": 53,
     "metadata": {},
     "output_type": "execute_result"
    }
   ],
   "source": [
    "df['TAX CLASS AT TIME OF SALE'].unique()"
   ]
  },
  {
   "cell_type": "markdown",
   "id": "dd1f686d",
   "metadata": {},
   "source": [
    "Menampilkan keunikan data dalam fitur TAX CLASS AT TIME OF SALE untuk kemudian dilakukan hipotesis. Didapatkan bahwa fitur ini memiliki 4 data unik yaitu :"
   ]
  },
  {
   "cell_type": "markdown",
   "id": "4553a881",
   "metadata": {},
   "source": [
    "1. Tax 1 = 1 unit properti \n",
    "2. Tax 2 = Lebih dari 1 properti\n",
    "3. Tax 3 = Properti dalam bisnis atau perusahaan\n",
    "4. Tax 4 = Properti unik seperti gereja dan rumah sakit"
   ]
  },
  {
   "cell_type": "markdown",
   "id": "e8e71ae5",
   "metadata": {},
   "source": [
    "#### HIPOTESIS"
   ]
  },
  {
   "cell_type": "markdown",
   "id": "37d50291",
   "metadata": {},
   "source": [
    "Uji apakah rata-rata SALE PRICE untuk tingkat pajak properti unik (Tax 4) lebih mahal dari rata-rata SALE PRICE untuk tingkat pajak banyak properti (Tax 2).\n",
    "\n",
    "* h0 = rata-rata SALE PRICE untuk Tax 4 tidak lebih tinggi daripada Tax 2\n",
    "* h1 = rata-rata SALE PRICE untuk Tax 4 lebih tinggi daripada Tax 2\n",
    "\n",
    "testing\n",
    "* h0 : mean_tax4 <= mean_tax2\n",
    "* h1 : mean_tax4 > mean_tax2"
   ]
  },
  {
   "cell_type": "code",
   "execution_count": 54,
   "id": "ab5cad2b",
   "metadata": {},
   "outputs": [],
   "source": [
    "tax4 = df[df['TAX CLASS AT TIME OF SALE']==4]\n",
    "tax2 = df[df['TAX CLASS AT TIME OF SALE']==2]"
   ]
  },
  {
   "cell_type": "code",
   "execution_count": 55,
   "id": "60d678f6",
   "metadata": {},
   "outputs": [
    {
     "name": "stdout",
     "output_type": "stream",
     "text": [
      "4255 5182702.860634548 43551385.08237127\n"
     ]
    }
   ],
   "source": [
    "n_tax4 = len(tax4)\n",
    "mean_tax4 = tax4['SALE PRICE'].astype('float64').mean()\n",
    "std_tax4 = tax4['SALE PRICE'].astype('float64').std()\n",
    "print(n_tax4,mean_tax4,std_tax4)"
   ]
  },
  {
   "cell_type": "code",
   "execution_count": 56,
   "id": "8593f545",
   "metadata": {},
   "outputs": [
    {
     "name": "stdout",
     "output_type": "stream",
     "text": [
      "32161 1474632.8838033644 5365669.501966393\n"
     ]
    }
   ],
   "source": [
    "n_tax2 = len(tax2)\n",
    "mean_tax2 = tax2['SALE PRICE'].astype('float64').mean()\n",
    "std_tax2 = tax2['SALE PRICE'].astype('float64').std()\n",
    "print(n_tax2,mean_tax2,std_tax2)"
   ]
  },
  {
   "cell_type": "code",
   "execution_count": 57,
   "id": "03aa8def",
   "metadata": {},
   "outputs": [],
   "source": [
    "# menggunakan confidence level sebesar 95%\n",
    "alpha = 0.05"
   ]
  },
  {
   "cell_type": "code",
   "execution_count": 58,
   "id": "8b2bca15",
   "metadata": {},
   "outputs": [
    {
     "data": {
      "text/plain": [
       "(14.463073469837951, 1.0366457570300393e-47)"
      ]
     },
     "execution_count": 58,
     "metadata": {},
     "output_type": "execute_result"
    }
   ],
   "source": [
    "hipo_sale = sm.stats.ztest(tax4['SALE PRICE'].astype('float64').dropna(),tax2['SALE PRICE'].astype('float64').dropna(),alternative='larger')\n",
    "hipo_sale"
   ]
  },
  {
   "cell_type": "code",
   "execution_count": 59,
   "id": "4d39b23b",
   "metadata": {},
   "outputs": [
    {
     "name": "stdout",
     "output_type": "stream",
     "text": [
      "Tolak h0 : rata-rata SALE PRICE untuk Tax 4 lebih tinggi daripada Tax 2\n"
     ]
    }
   ],
   "source": [
    "if hipo_sale[1]>alpha:\n",
    "    print('Terima h0 : rata-rata SALE PRICE untuk Tax 4 tidak lebih tinggi daripada Tax 2')\n",
    "else:\n",
    "    print('Tolak h0 : rata-rata SALE PRICE untuk Tax 4 lebih tinggi daripada Tax 2')"
   ]
  },
  {
   "attachments": {},
   "cell_type": "markdown",
   "id": "67f81ece",
   "metadata": {},
   "source": [
    "dari hasil hipotesis tersebut dapat disimpulkan dengan rata-rata harga jual properti untuk tingkat pajak properti unik (Tax 4) lebih tinggi daripada tingkat pajak banyak properti (Tax 2). Kesimpulan lainnya yaitu Tingkat pajak properti yang dikenakan pada saat penjualan (TAX CLASS AT TIME OF SALE) dapat mempengaruhi harga jual properti (SALE PRICE) karena pajak properti lebih tinggi dapat mempengaruhi harga yang diminta oleh penjual."
   ]
  }
 ],
 "metadata": {
  "kernelspec": {
   "display_name": "Python 3 (ipykernel)",
   "language": "python",
   "name": "python3"
  },
  "language_info": {
   "codemirror_mode": {
    "name": "ipython",
    "version": 3
   },
   "file_extension": ".py",
   "mimetype": "text/x-python",
   "name": "python",
   "nbconvert_exporter": "python",
   "pygments_lexer": "ipython3",
   "version": "3.9.12"
  }
 },
 "nbformat": 4,
 "nbformat_minor": 5
}
