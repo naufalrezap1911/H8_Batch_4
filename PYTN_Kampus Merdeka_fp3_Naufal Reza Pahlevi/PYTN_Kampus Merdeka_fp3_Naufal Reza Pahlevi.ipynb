{
 "cells": [
  {
   "cell_type": "markdown",
   "id": "7b8ecc8d",
   "metadata": {},
   "source": [
    "# Perkenalan"
   ]
  },
  {
   "cell_type": "markdown",
   "id": "b940ab08",
   "metadata": {},
   "source": [
    "Kelompok 5 :\n",
    "- Adjie Perdana Kusuma (PYTN-KS12-010)\n",
    "- Yunita Yulianda (PYTN-KS12-001)\n",
    "- Naufal Reza Pahlevi (PYTN-KS12-021)\n",
    "\n",
    "#### Latar Belakang Dataset\n",
    "Penyakit kardiovaskular (CVD) merupakan penyebab kematian nomor 1 di seluruh dunia, dengan perkiraan 17,9 juta jiwa setiap tahun, yang menyumbang 31% dari seluruh kematian di seluruh dunia. Gagal jantung adalah kejadian umum yang disebabkan oleh CVD, dan dataset ini berisi 12 fitur yang dapat digunakan untuk memprediksi kematian akibat gagal jantung.\n",
    "\n",
    "Sebagian besar penyakit kardiovaskular dapat dicegah dengan mengatasi faktor risiko perilaku seperti penggunaan tembakau, pola makan tidak sehat dan obesitas, kurang aktivitas fisik, dan penggunaan alkohol yang berbahaya dengan menggunakan strategi berbasis populasi.\n",
    "\n",
    "Orang yang menderita penyakit kardiovaskular atau berisiko tinggi terkena penyakit kardiovaskular (karena memiliki satu atau lebih faktor risiko seperti hipertensi, diabetes, hiperlipidemia, atau penyakit yang sudah ada) memerlukan deteksi dini dan pengelolaan di mana model pembelajaran mesin dapat sangat membantu.\n",
    "\n",
    "#### Data\n",
    "Dataset ini diambil dari website Kaggle https://www.kaggle.com/datasets/andrewmvd/heart-failure-clinical-data. Dataset ini memiliki 13 atribut/variabel yang didalamnya terdapat satu variabel kelas yaitu DEATH_EVENT yang akan diprediksi. Variabel-variabelnya antara lain :\n",
    "1. age - umur pasien\n",
    "2. anaemia - apakah ada pengurangan haemoglobin\n",
    "    * 0 = Tidak\n",
    "    * 1 = Ya\n",
    "3. creatinine_phosphokinase - level enzim CPK dalam mcg/L\n",
    "4. diabetes - apakah pasien punya riwayat diabetes\n",
    "    * 0 = Tidak\n",
    "    * 1 = Ya\n",
    "5. ejection_fraction - persentase darah yang meninggalkan jantung dalam persentasidi setiap kontraksi jantung\n",
    "6. high_blood_pressure - apakah pasien punya darah tinggi\n",
    "    * 0 = Tidak\n",
    "    * 1 = Ya\n",
    "7. platelets - jumlah platelet di darah dalam kiloplatelets/mL\n",
    "8. serum_creatinine - level serum creatinine di darah dalam mg/dL\n",
    "9. serum_sodium - level serum sodium di darah dalam mEq/L\n",
    "10. sex - apakah pasien pria atau wanita\n",
    "    * 0 = Perempuan\n",
    "    * 1 = Laki-laki\n",
    "11. smoking - apakah pasien merokok\n",
    "    * 0 = Tidak\n",
    "    * 1 = Ya\n",
    "12. time - waktu dalam hari untuk follow-up\n",
    "13. DEATH_EVENT - apakah pasien sudah meninggal saat waktu follow-up (Variabel Target)\n",
    "    * 0 = Tidak\n",
    "    * 1 = Ya\n"
   ]
  },
  {
   "cell_type": "markdown",
   "id": "d51c80b8",
   "metadata": {},
   "source": [
    "#### Capaian\n",
    "Dengan menggunakan model prediksi yang dibangun dari dataset ini, dapat diidentifikasi pasien-pasien yang berisiko tinggi mengalami kematian akibat gagal jantung. Hal ini memungkinkan tenaga medis untuk melakukan intervensi yang lebih dini dan agresif pada pasien-pasien tersebut, seperti pengelolaan yang lebih intensif atau pengawasan yang lebih ketat.\n",
    "Dapat melakukan prediksi dengan baik dan menentukan variabel apa saja yang berpengaruh besar terhadap Gagal Jantung."
   ]
  },
  {
   "cell_type": "markdown",
   "id": "86cb05ed",
   "metadata": {},
   "source": [
    "# Import Library"
   ]
  },
  {
   "cell_type": "code",
   "execution_count": 1,
   "id": "c7e87d63",
   "metadata": {},
   "outputs": [],
   "source": [
    "import pandas as pd\n",
    "import numpy as np\n",
    "\n",
    "# data visualization\n",
    "import matplotlib.pyplot as plt\n",
    "%matplotlib inline\n",
    "import seaborn as sns\n",
    "\n",
    "# data preprocessing\n",
    "from sklearn.model_selection import train_test_split\n",
    "from sklearn.preprocessing import StandardScaler, LabelEncoder\n",
    "from sklearn import preprocessing\n",
    "from imblearn.over_sampling import SMOTE\n",
    "\n",
    "# building model\n",
    "from sklearn.linear_model import LogisticRegression\n",
    "from sklearn.svm import SVC\n",
    "from sklearn.tree import DecisionTreeClassifier\n",
    "from sklearn.ensemble import RandomForestClassifier\n",
    "from sklearn.ensemble import GradientBoostingClassifier\n",
    "from sklearn.ensemble import VotingClassifier, StackingClassifier\n",
    "\n",
    "# model evaluation\n",
    "from sklearn.metrics import classification_report, confusion_matrix\n",
    "from sklearn.metrics import accuracy_score\n",
    "\n",
    "import warnings\n",
    "warnings.filterwarnings('ignore')"
   ]
  },
  {
   "cell_type": "markdown",
   "id": "b0c30429",
   "metadata": {},
   "source": [
    "Dilakukan import library untuk beberapa tahapan yang dilakukan selama proses pengerjaan project"
   ]
  },
  {
   "cell_type": "markdown",
   "id": "1b3ecb77",
   "metadata": {},
   "source": [
    "# Data Loading"
   ]
  },
  {
   "cell_type": "markdown",
   "id": "bcec570c",
   "metadata": {},
   "source": [
    "Menggunakan pustaka pandas yang diimpor sebagai pd untuk membaca file CSV"
   ]
  },
  {
   "cell_type": "code",
   "execution_count": 2,
   "id": "67337c0d",
   "metadata": {},
   "outputs": [],
   "source": [
    "df = pd.read_csv(\"Dataset/heart_failure_clinical_records_dataset.csv\")"
   ]
  },
  {
   "cell_type": "markdown",
   "id": "3c5a6037",
   "metadata": {},
   "source": [
    "Melihat 5 data teratas dari dataset dengan fungsi .head()"
   ]
  },
  {
   "cell_type": "code",
   "execution_count": 3,
   "id": "9b39ca28",
   "metadata": {},
   "outputs": [
    {
     "data": {
      "text/html": [
       "<div>\n",
       "<style scoped>\n",
       "    .dataframe tbody tr th:only-of-type {\n",
       "        vertical-align: middle;\n",
       "    }\n",
       "\n",
       "    .dataframe tbody tr th {\n",
       "        vertical-align: top;\n",
       "    }\n",
       "\n",
       "    .dataframe thead th {\n",
       "        text-align: right;\n",
       "    }\n",
       "</style>\n",
       "<table border=\"1\" class=\"dataframe\">\n",
       "  <thead>\n",
       "    <tr style=\"text-align: right;\">\n",
       "      <th></th>\n",
       "      <th>age</th>\n",
       "      <th>anaemia</th>\n",
       "      <th>creatinine_phosphokinase</th>\n",
       "      <th>diabetes</th>\n",
       "      <th>ejection_fraction</th>\n",
       "      <th>high_blood_pressure</th>\n",
       "      <th>platelets</th>\n",
       "      <th>serum_creatinine</th>\n",
       "      <th>serum_sodium</th>\n",
       "      <th>sex</th>\n",
       "      <th>smoking</th>\n",
       "      <th>time</th>\n",
       "      <th>DEATH_EVENT</th>\n",
       "    </tr>\n",
       "  </thead>\n",
       "  <tbody>\n",
       "    <tr>\n",
       "      <th>0</th>\n",
       "      <td>75.0</td>\n",
       "      <td>0</td>\n",
       "      <td>582</td>\n",
       "      <td>0</td>\n",
       "      <td>20</td>\n",
       "      <td>1</td>\n",
       "      <td>265000.00</td>\n",
       "      <td>1.9</td>\n",
       "      <td>130</td>\n",
       "      <td>1</td>\n",
       "      <td>0</td>\n",
       "      <td>4</td>\n",
       "      <td>1</td>\n",
       "    </tr>\n",
       "    <tr>\n",
       "      <th>1</th>\n",
       "      <td>55.0</td>\n",
       "      <td>0</td>\n",
       "      <td>7861</td>\n",
       "      <td>0</td>\n",
       "      <td>38</td>\n",
       "      <td>0</td>\n",
       "      <td>263358.03</td>\n",
       "      <td>1.1</td>\n",
       "      <td>136</td>\n",
       "      <td>1</td>\n",
       "      <td>0</td>\n",
       "      <td>6</td>\n",
       "      <td>1</td>\n",
       "    </tr>\n",
       "    <tr>\n",
       "      <th>2</th>\n",
       "      <td>65.0</td>\n",
       "      <td>0</td>\n",
       "      <td>146</td>\n",
       "      <td>0</td>\n",
       "      <td>20</td>\n",
       "      <td>0</td>\n",
       "      <td>162000.00</td>\n",
       "      <td>1.3</td>\n",
       "      <td>129</td>\n",
       "      <td>1</td>\n",
       "      <td>1</td>\n",
       "      <td>7</td>\n",
       "      <td>1</td>\n",
       "    </tr>\n",
       "    <tr>\n",
       "      <th>3</th>\n",
       "      <td>50.0</td>\n",
       "      <td>1</td>\n",
       "      <td>111</td>\n",
       "      <td>0</td>\n",
       "      <td>20</td>\n",
       "      <td>0</td>\n",
       "      <td>210000.00</td>\n",
       "      <td>1.9</td>\n",
       "      <td>137</td>\n",
       "      <td>1</td>\n",
       "      <td>0</td>\n",
       "      <td>7</td>\n",
       "      <td>1</td>\n",
       "    </tr>\n",
       "    <tr>\n",
       "      <th>4</th>\n",
       "      <td>65.0</td>\n",
       "      <td>1</td>\n",
       "      <td>160</td>\n",
       "      <td>1</td>\n",
       "      <td>20</td>\n",
       "      <td>0</td>\n",
       "      <td>327000.00</td>\n",
       "      <td>2.7</td>\n",
       "      <td>116</td>\n",
       "      <td>0</td>\n",
       "      <td>0</td>\n",
       "      <td>8</td>\n",
       "      <td>1</td>\n",
       "    </tr>\n",
       "  </tbody>\n",
       "</table>\n",
       "</div>"
      ],
      "text/plain": [
       "    age  anaemia  creatinine_phosphokinase  diabetes  ejection_fraction  \\\n",
       "0  75.0        0                       582         0                 20   \n",
       "1  55.0        0                      7861         0                 38   \n",
       "2  65.0        0                       146         0                 20   \n",
       "3  50.0        1                       111         0                 20   \n",
       "4  65.0        1                       160         1                 20   \n",
       "\n",
       "   high_blood_pressure  platelets  serum_creatinine  serum_sodium  sex  \\\n",
       "0                    1  265000.00               1.9           130    1   \n",
       "1                    0  263358.03               1.1           136    1   \n",
       "2                    0  162000.00               1.3           129    1   \n",
       "3                    0  210000.00               1.9           137    1   \n",
       "4                    0  327000.00               2.7           116    0   \n",
       "\n",
       "   smoking  time  DEATH_EVENT  \n",
       "0        0     4            1  \n",
       "1        0     6            1  \n",
       "2        1     7            1  \n",
       "3        0     7            1  \n",
       "4        0     8            1  "
      ]
     },
     "execution_count": 3,
     "metadata": {},
     "output_type": "execute_result"
    }
   ],
   "source": [
    "#Menampilkan 5 Data Teratas\n",
    "\n",
    "df.head()"
   ]
  },
  {
   "cell_type": "markdown",
   "id": "c69a8a97",
   "metadata": {},
   "source": [
    "Melihat 5 data terbawah dari dataset dengan fungsi .tail()"
   ]
  },
  {
   "cell_type": "code",
   "execution_count": 4,
   "id": "cf25acf3",
   "metadata": {},
   "outputs": [
    {
     "data": {
      "text/html": [
       "<div>\n",
       "<style scoped>\n",
       "    .dataframe tbody tr th:only-of-type {\n",
       "        vertical-align: middle;\n",
       "    }\n",
       "\n",
       "    .dataframe tbody tr th {\n",
       "        vertical-align: top;\n",
       "    }\n",
       "\n",
       "    .dataframe thead th {\n",
       "        text-align: right;\n",
       "    }\n",
       "</style>\n",
       "<table border=\"1\" class=\"dataframe\">\n",
       "  <thead>\n",
       "    <tr style=\"text-align: right;\">\n",
       "      <th></th>\n",
       "      <th>age</th>\n",
       "      <th>anaemia</th>\n",
       "      <th>creatinine_phosphokinase</th>\n",
       "      <th>diabetes</th>\n",
       "      <th>ejection_fraction</th>\n",
       "      <th>high_blood_pressure</th>\n",
       "      <th>platelets</th>\n",
       "      <th>serum_creatinine</th>\n",
       "      <th>serum_sodium</th>\n",
       "      <th>sex</th>\n",
       "      <th>smoking</th>\n",
       "      <th>time</th>\n",
       "      <th>DEATH_EVENT</th>\n",
       "    </tr>\n",
       "  </thead>\n",
       "  <tbody>\n",
       "    <tr>\n",
       "      <th>294</th>\n",
       "      <td>62.0</td>\n",
       "      <td>0</td>\n",
       "      <td>61</td>\n",
       "      <td>1</td>\n",
       "      <td>38</td>\n",
       "      <td>1</td>\n",
       "      <td>155000.0</td>\n",
       "      <td>1.1</td>\n",
       "      <td>143</td>\n",
       "      <td>1</td>\n",
       "      <td>1</td>\n",
       "      <td>270</td>\n",
       "      <td>0</td>\n",
       "    </tr>\n",
       "    <tr>\n",
       "      <th>295</th>\n",
       "      <td>55.0</td>\n",
       "      <td>0</td>\n",
       "      <td>1820</td>\n",
       "      <td>0</td>\n",
       "      <td>38</td>\n",
       "      <td>0</td>\n",
       "      <td>270000.0</td>\n",
       "      <td>1.2</td>\n",
       "      <td>139</td>\n",
       "      <td>0</td>\n",
       "      <td>0</td>\n",
       "      <td>271</td>\n",
       "      <td>0</td>\n",
       "    </tr>\n",
       "    <tr>\n",
       "      <th>296</th>\n",
       "      <td>45.0</td>\n",
       "      <td>0</td>\n",
       "      <td>2060</td>\n",
       "      <td>1</td>\n",
       "      <td>60</td>\n",
       "      <td>0</td>\n",
       "      <td>742000.0</td>\n",
       "      <td>0.8</td>\n",
       "      <td>138</td>\n",
       "      <td>0</td>\n",
       "      <td>0</td>\n",
       "      <td>278</td>\n",
       "      <td>0</td>\n",
       "    </tr>\n",
       "    <tr>\n",
       "      <th>297</th>\n",
       "      <td>45.0</td>\n",
       "      <td>0</td>\n",
       "      <td>2413</td>\n",
       "      <td>0</td>\n",
       "      <td>38</td>\n",
       "      <td>0</td>\n",
       "      <td>140000.0</td>\n",
       "      <td>1.4</td>\n",
       "      <td>140</td>\n",
       "      <td>1</td>\n",
       "      <td>1</td>\n",
       "      <td>280</td>\n",
       "      <td>0</td>\n",
       "    </tr>\n",
       "    <tr>\n",
       "      <th>298</th>\n",
       "      <td>50.0</td>\n",
       "      <td>0</td>\n",
       "      <td>196</td>\n",
       "      <td>0</td>\n",
       "      <td>45</td>\n",
       "      <td>0</td>\n",
       "      <td>395000.0</td>\n",
       "      <td>1.6</td>\n",
       "      <td>136</td>\n",
       "      <td>1</td>\n",
       "      <td>1</td>\n",
       "      <td>285</td>\n",
       "      <td>0</td>\n",
       "    </tr>\n",
       "  </tbody>\n",
       "</table>\n",
       "</div>"
      ],
      "text/plain": [
       "      age  anaemia  creatinine_phosphokinase  diabetes  ejection_fraction  \\\n",
       "294  62.0        0                        61         1                 38   \n",
       "295  55.0        0                      1820         0                 38   \n",
       "296  45.0        0                      2060         1                 60   \n",
       "297  45.0        0                      2413         0                 38   \n",
       "298  50.0        0                       196         0                 45   \n",
       "\n",
       "     high_blood_pressure  platelets  serum_creatinine  serum_sodium  sex  \\\n",
       "294                    1   155000.0               1.1           143    1   \n",
       "295                    0   270000.0               1.2           139    0   \n",
       "296                    0   742000.0               0.8           138    0   \n",
       "297                    0   140000.0               1.4           140    1   \n",
       "298                    0   395000.0               1.6           136    1   \n",
       "\n",
       "     smoking  time  DEATH_EVENT  \n",
       "294        1   270            0  \n",
       "295        0   271            0  \n",
       "296        0   278            0  \n",
       "297        1   280            0  \n",
       "298        1   285            0  "
      ]
     },
     "execution_count": 4,
     "metadata": {},
     "output_type": "execute_result"
    }
   ],
   "source": [
    "#Menampilkan 5 data terbawah\n",
    "\n",
    "df.tail()"
   ]
  },
  {
   "cell_type": "code",
   "execution_count": 5,
   "id": "e45efd89",
   "metadata": {},
   "outputs": [
    {
     "name": "stdout",
     "output_type": "stream",
     "text": [
      "['age' 'anaemia' 'creatinine_phosphokinase' 'diabetes' 'ejection_fraction'\n",
      " 'high_blood_pressure' 'platelets' 'serum_creatinine' 'serum_sodium' 'sex'\n",
      " 'smoking' 'time' 'DEATH_EVENT']\n"
     ]
    }
   ],
   "source": [
    "# Melihat semua feature dalam dataset\n",
    "\n",
    "print(df.columns.values)"
   ]
  },
  {
   "cell_type": "markdown",
   "id": "75e3c8df",
   "metadata": {},
   "source": [
    "Berdasarkan output diatas dapat dilihat bahwa dataset ini memiliki 13 variabel/kolom"
   ]
  },
  {
   "cell_type": "code",
   "execution_count": 6,
   "id": "a1a9119f",
   "metadata": {},
   "outputs": [
    {
     "name": "stdout",
     "output_type": "stream",
     "text": [
      "<class 'pandas.core.frame.DataFrame'>\n",
      "RangeIndex: 299 entries, 0 to 298\n",
      "Data columns (total 13 columns):\n",
      " #   Column                    Non-Null Count  Dtype  \n",
      "---  ------                    --------------  -----  \n",
      " 0   age                       299 non-null    float64\n",
      " 1   anaemia                   299 non-null    int64  \n",
      " 2   creatinine_phosphokinase  299 non-null    int64  \n",
      " 3   diabetes                  299 non-null    int64  \n",
      " 4   ejection_fraction         299 non-null    int64  \n",
      " 5   high_blood_pressure       299 non-null    int64  \n",
      " 6   platelets                 299 non-null    float64\n",
      " 7   serum_creatinine          299 non-null    float64\n",
      " 8   serum_sodium              299 non-null    int64  \n",
      " 9   sex                       299 non-null    int64  \n",
      " 10  smoking                   299 non-null    int64  \n",
      " 11  time                      299 non-null    int64  \n",
      " 12  DEATH_EVENT               299 non-null    int64  \n",
      "dtypes: float64(3), int64(10)\n",
      "memory usage: 30.5 KB\n"
     ]
    }
   ],
   "source": [
    "#Menampilkan informasi data\n",
    "\n",
    "df.info()"
   ]
  },
  {
   "cell_type": "markdown",
   "id": "a50d273d",
   "metadata": {},
   "source": [
    "Berdasarkan output diatas dapat diketahui type data float64 dimiliki oleh variabel age, platelets, dan serum_creatinine. Sedangkan yang lainnya bertype data int64. Selain itu, pada output diatas juga dapat dilihat penggunaan memory dari dataset ini sebesar 30.5 KB."
   ]
  },
  {
   "cell_type": "code",
   "execution_count": 7,
   "id": "3e1841b1",
   "metadata": {},
   "outputs": [
    {
     "data": {
      "text/plain": [
       "(299, 13)"
      ]
     },
     "execution_count": 7,
     "metadata": {},
     "output_type": "execute_result"
    }
   ],
   "source": [
    "#Menampilkan dimensi data\n",
    "\n",
    "df.shape"
   ]
  },
  {
   "cell_type": "markdown",
   "id": "adde582a",
   "metadata": {},
   "source": [
    "Code diatas menampilkan dimensi data dengan fungsi .shape. Berdasarkan output, dapat diketahui bahwa dataset ini memiliki 299 baris dan 13 kolom "
   ]
  },
  {
   "cell_type": "code",
   "execution_count": 8,
   "id": "110aedec",
   "metadata": {},
   "outputs": [
    {
     "data": {
      "text/plain": [
       "0    203\n",
       "1     96\n",
       "Name: DEATH_EVENT, dtype: int64"
      ]
     },
     "execution_count": 8,
     "metadata": {},
     "output_type": "execute_result"
    }
   ],
   "source": [
    "df.DEATH_EVENT.value_counts()"
   ]
  },
  {
   "cell_type": "markdown",
   "id": "6b1f5fd4",
   "metadata": {},
   "source": [
    "Code diatas menampilkan distribusi pada kolom DEATH_EVENT dengan fungsi value_counts(). Dapat dilihat bahwa kolom kelas/target DEATH_EVENT memiliki persebaran data yang tidak balanced karena memiliki perbedaan yang cukup jauh.\n",
    "* 0 = tidak (203 baris)\n",
    "* 1 = Ya (96 baris)"
   ]
  },
  {
   "cell_type": "markdown",
   "id": "01226d99",
   "metadata": {},
   "source": [
    "# Data Cleaning"
   ]
  },
  {
   "cell_type": "code",
   "execution_count": 9,
   "id": "cba551b8",
   "metadata": {},
   "outputs": [
    {
     "data": {
      "text/plain": [
       "age                         0\n",
       "anaemia                     0\n",
       "creatinine_phosphokinase    0\n",
       "diabetes                    0\n",
       "ejection_fraction           0\n",
       "high_blood_pressure         0\n",
       "platelets                   0\n",
       "serum_creatinine            0\n",
       "serum_sodium                0\n",
       "sex                         0\n",
       "smoking                     0\n",
       "time                        0\n",
       "DEATH_EVENT                 0\n",
       "dtype: int64"
      ]
     },
     "execution_count": 9,
     "metadata": {},
     "output_type": "execute_result"
    }
   ],
   "source": [
    "#Menampilkan jumlah nilai null dalam data\n",
    "\n",
    "df.isnull().sum()"
   ]
  },
  {
   "cell_type": "markdown",
   "id": "6a46014f",
   "metadata": {},
   "source": [
    "Berdasarkan output diatas dapat dilihat bahwa dataset ini tidak memiliki missing value yang artinya dataset ini bersih dari kekosongan nilai setiap barisnya. "
   ]
  },
  {
   "cell_type": "code",
   "execution_count": 10,
   "id": "8412e176",
   "metadata": {},
   "outputs": [
    {
     "data": {
      "text/plain": [
       "0"
      ]
     },
     "execution_count": 10,
     "metadata": {},
     "output_type": "execute_result"
    }
   ],
   "source": [
    "#Menampilkan jumlah duplikat pada data\n",
    "\n",
    "df.duplicated().sum()"
   ]
  },
  {
   "cell_type": "markdown",
   "id": "3649d8c9",
   "metadata": {},
   "source": [
    "Berdasarkan output diatas dapat dipastikan bahwa dataset ini tidak memiliki data yang duplikat."
   ]
  },
  {
   "cell_type": "code",
   "execution_count": 11,
   "id": "c38065d0",
   "metadata": {},
   "outputs": [],
   "source": [
    "# Rename nama kolom\n",
    "\n",
    "df.rename(columns={'anaemia':'anemia', 'creatinine_phosphokinase':'CPK', 'high_blood_pressure':'high_blood', 'serum_creatinine':'creatinine','serum_sodium':'sodium','DEATH_EVENT':'DEATH'}, inplace=True)"
   ]
  },
  {
   "cell_type": "markdown",
   "id": "706a6be7",
   "metadata": {},
   "source": [
    "Dilakukan pengubahan nama kolom dengan fungsi .rename guna mempermudah pemahaman terhadap kolom-kolom data. \n",
    "* anaemia di-rename dengan anemia\n",
    "* creatinine_phosphokinase di-rename dengan CPK\n",
    "* high_blood_pressure di-rename dengan higb blood\n",
    "* serum_creatinine di-rename dengan creatinine\n",
    "* serum_sodium di-rename dengan sodium\n",
    "* DEATH_EVENT di-rename dengan DEATH\n",
    "\n",
    "Ditampilkan kembali 5 data teratas untuk melihat perubahan"
   ]
  },
  {
   "cell_type": "code",
   "execution_count": 12,
   "id": "e2a4e180",
   "metadata": {},
   "outputs": [
    {
     "data": {
      "text/html": [
       "<div>\n",
       "<style scoped>\n",
       "    .dataframe tbody tr th:only-of-type {\n",
       "        vertical-align: middle;\n",
       "    }\n",
       "\n",
       "    .dataframe tbody tr th {\n",
       "        vertical-align: top;\n",
       "    }\n",
       "\n",
       "    .dataframe thead th {\n",
       "        text-align: right;\n",
       "    }\n",
       "</style>\n",
       "<table border=\"1\" class=\"dataframe\">\n",
       "  <thead>\n",
       "    <tr style=\"text-align: right;\">\n",
       "      <th></th>\n",
       "      <th>age</th>\n",
       "      <th>anemia</th>\n",
       "      <th>CPK</th>\n",
       "      <th>diabetes</th>\n",
       "      <th>ejection_fraction</th>\n",
       "      <th>high_blood</th>\n",
       "      <th>platelets</th>\n",
       "      <th>creatinine</th>\n",
       "      <th>sodium</th>\n",
       "      <th>sex</th>\n",
       "      <th>smoking</th>\n",
       "      <th>time</th>\n",
       "      <th>DEATH</th>\n",
       "    </tr>\n",
       "  </thead>\n",
       "  <tbody>\n",
       "    <tr>\n",
       "      <th>0</th>\n",
       "      <td>75.0</td>\n",
       "      <td>0</td>\n",
       "      <td>582</td>\n",
       "      <td>0</td>\n",
       "      <td>20</td>\n",
       "      <td>1</td>\n",
       "      <td>265000.00</td>\n",
       "      <td>1.9</td>\n",
       "      <td>130</td>\n",
       "      <td>1</td>\n",
       "      <td>0</td>\n",
       "      <td>4</td>\n",
       "      <td>1</td>\n",
       "    </tr>\n",
       "    <tr>\n",
       "      <th>1</th>\n",
       "      <td>55.0</td>\n",
       "      <td>0</td>\n",
       "      <td>7861</td>\n",
       "      <td>0</td>\n",
       "      <td>38</td>\n",
       "      <td>0</td>\n",
       "      <td>263358.03</td>\n",
       "      <td>1.1</td>\n",
       "      <td>136</td>\n",
       "      <td>1</td>\n",
       "      <td>0</td>\n",
       "      <td>6</td>\n",
       "      <td>1</td>\n",
       "    </tr>\n",
       "    <tr>\n",
       "      <th>2</th>\n",
       "      <td>65.0</td>\n",
       "      <td>0</td>\n",
       "      <td>146</td>\n",
       "      <td>0</td>\n",
       "      <td>20</td>\n",
       "      <td>0</td>\n",
       "      <td>162000.00</td>\n",
       "      <td>1.3</td>\n",
       "      <td>129</td>\n",
       "      <td>1</td>\n",
       "      <td>1</td>\n",
       "      <td>7</td>\n",
       "      <td>1</td>\n",
       "    </tr>\n",
       "    <tr>\n",
       "      <th>3</th>\n",
       "      <td>50.0</td>\n",
       "      <td>1</td>\n",
       "      <td>111</td>\n",
       "      <td>0</td>\n",
       "      <td>20</td>\n",
       "      <td>0</td>\n",
       "      <td>210000.00</td>\n",
       "      <td>1.9</td>\n",
       "      <td>137</td>\n",
       "      <td>1</td>\n",
       "      <td>0</td>\n",
       "      <td>7</td>\n",
       "      <td>1</td>\n",
       "    </tr>\n",
       "    <tr>\n",
       "      <th>4</th>\n",
       "      <td>65.0</td>\n",
       "      <td>1</td>\n",
       "      <td>160</td>\n",
       "      <td>1</td>\n",
       "      <td>20</td>\n",
       "      <td>0</td>\n",
       "      <td>327000.00</td>\n",
       "      <td>2.7</td>\n",
       "      <td>116</td>\n",
       "      <td>0</td>\n",
       "      <td>0</td>\n",
       "      <td>8</td>\n",
       "      <td>1</td>\n",
       "    </tr>\n",
       "  </tbody>\n",
       "</table>\n",
       "</div>"
      ],
      "text/plain": [
       "    age  anemia   CPK  diabetes  ejection_fraction  high_blood  platelets  \\\n",
       "0  75.0       0   582         0                 20           1  265000.00   \n",
       "1  55.0       0  7861         0                 38           0  263358.03   \n",
       "2  65.0       0   146         0                 20           0  162000.00   \n",
       "3  50.0       1   111         0                 20           0  210000.00   \n",
       "4  65.0       1   160         1                 20           0  327000.00   \n",
       "\n",
       "   creatinine  sodium  sex  smoking  time  DEATH  \n",
       "0         1.9     130    1        0     4      1  \n",
       "1         1.1     136    1        0     6      1  \n",
       "2         1.3     129    1        1     7      1  \n",
       "3         1.9     137    1        0     7      1  \n",
       "4         2.7     116    0        0     8      1  "
      ]
     },
     "execution_count": 12,
     "metadata": {},
     "output_type": "execute_result"
    }
   ],
   "source": [
    "df.head()"
   ]
  },
  {
   "cell_type": "markdown",
   "id": "a4138fa7",
   "metadata": {},
   "source": [
    "# Explorasi Data"
   ]
  },
  {
   "cell_type": "code",
   "execution_count": 13,
   "id": "d2267376",
   "metadata": {},
   "outputs": [],
   "source": [
    "# Mengumpulkan kolom kategorikal untuk divisualisasi\n",
    "\n",
    "categorical = [\"anemia\", \"diabetes\", \"high_blood\", \"sex\", \"smoking\"] "
   ]
  },
  {
   "cell_type": "markdown",
   "id": "0ca62744",
   "metadata": {},
   "source": [
    "Kolom anemia, diabetes, high_blood, sex dan smoking merupakan kolom kategorikal dengan kategori 0 dan 1"
   ]
  },
  {
   "cell_type": "code",
   "execution_count": 14,
   "id": "f7da1f57",
   "metadata": {},
   "outputs": [
    {
     "data": {
      "image/png": "[encoded data removed]",
      "text/plain": [
       "<Figure size 1080x720 with 5 Axes>"
      ]
     },
     "metadata": {
      "needs_background": "light"
     },
     "output_type": "display_data"
    }
   ],
   "source": [
    "plt.figure(figsize=(15, 10))\n",
    "\n",
    "for i, col in enumerate(categorical):\n",
    "    plt.subplot(2, 3, i+1)\n",
    "    plt.title(col)\n",
    "    plt.subplots_adjust(hspace =.5, wspace=.3)\n",
    "    sns.countplot(data=df, x=col, hue=\"DEATH\", palette = [\"pink\", \"brown\"], alpha=0.8, edgecolor=\"k\", linewidth=1)"
   ]
  },
  {
   "cell_type": "markdown",
   "id": "87984e0d",
   "metadata": {},
   "source": [
    "Visualisasi diatas digunakan untuk melihat peresebaran data dalam kolom kategorikal. Dapat dilihat bahwa semua kolom kategorikal memiliki persebaran data yang tidak seimbang (memiliki selisih yang jauh) berdasarkan kematian (kolom DEATH). "
   ]
  },
  {
   "cell_type": "code",
   "execution_count": 15,
   "id": "ec90a04c",
   "metadata": {},
   "outputs": [],
   "source": [
    "# Mengumpulkan kolom numerical ke dalam atribut 'numerical'\n",
    "\n",
    "numerical= ['age', 'CPK', 'platelets', 'ejection_fraction', 'creatinine', 'sodium', 'time'] #numerical_features"
   ]
  },
  {
   "cell_type": "code",
   "execution_count": 16,
   "id": "7d859151",
   "metadata": {},
   "outputs": [
    {
     "data": {
      "image/png": "[encoded data removed]",
      "text/plain": [
       "<Figure size 1080x216 with 2 Axes>"
      ]
     },
     "metadata": {
      "needs_background": "light"
     },
     "output_type": "display_data"
    },
    {
     "data": {
      "image/png": "[encoded data removed]",
      "text/plain": [
       "<Figure size 1080x216 with 2 Axes>"
      ]
     },
     "metadata": {
      "needs_background": "light"
     },
     "output_type": "display_data"
    },
    {
     "data": {
      "image/png": "[encoded data removed]",
      "text/plain": [
       "<Figure size 1080x216 with 2 Axes>"
      ]
     },
     "metadata": {
      "needs_background": "light"
     },
     "output_type": "display_data"
    },
    {
     "data": {
      "image/png": "[encoded data removed]",
      "text/plain": [
       "<Figure size 1080x216 with 2 Axes>"
      ]
     },
     "metadata": {
      "needs_background": "light"
     },
     "output_type": "display_data"
    },
    {
     "data": {
      "image/png": "[encoded data removed]",
      "text/plain": [
       "<Figure size 1080x216 with 2 Axes>"
      ]
     },
     "metadata": {
      "needs_background": "light"
     },
     "output_type": "display_data"
    },
    {
     "data": {
      "image/png": "[encoded data removed]",
      "text/plain": [
       "<Figure size 1080x216 with 2 Axes>"
      ]
     },
     "metadata": {
      "needs_background": "light"
     },
     "output_type": "display_data"
    },
    {
     "data": {
      "image/png": "[encoded data removed]",
      "text/plain": [
       "<Figure size 1080x216 with 2 Axes>"
      ]
     },
     "metadata": {
      "needs_background": "light"
     },
     "output_type": "display_data"
    }
   ],
   "source": [
    "for i in numerical:\n",
    "   \n",
    "    fig, axs = plt.subplots(1,2,figsize=(15, 3))\n",
    "\n",
    "    sns.histplot(df[i],bins=20, color='green', kde=True,ax=axs[0]);\n",
    "    sns.boxplot(df[i], ax = axs[1], color='lightgreen', fliersize=1);"
   ]
  },
  {
   "cell_type": "markdown",
   "id": "3191f688",
   "metadata": {},
   "source": [
    "Visualisasi diatas mempresentasikan tentang persebaran data dan boxplot untuk kolom numerical yaitu 'age', 'CPK', 'platelets', 'ejection_fraction', 'creatinine', 'sodium', dan 'time'. Dapat dilihat bahwa ada beberapa kolom yang berdistribusi skew negatif dan positif seperti CPK, creatinine, dan Sodium. Distribusi yang tersebar secara tak normal tersebut dapat saja dipengaruhi oleh adanya outlier dalam kolom seperti yang dapat dilihat pada boxplot, data yang memiliki outlier yaitu sodium, creatinine, ejection_fraction, platelets dan CPK. "
   ]
  },
  {
   "cell_type": "code",
   "execution_count": 17,
   "id": "e5f30441",
   "metadata": {},
   "outputs": [
    {
     "data": {
      "image/png": "[encoded data removed]",
      "text/plain": [
       "<Figure size 432x288 with 1 Axes>"
      ]
     },
     "metadata": {},
     "output_type": "display_data"
    }
   ],
   "source": [
    "# distribution of target variable\n",
    "\n",
    "plt.pie(df['DEATH'].value_counts(), colors=['lightblue','pink'], autopct='%1.1f%%', shadow=True, explode=[0.1,0.0], labels=[0,1])\n",
    "plt.title( 'DEATH distribution')\n",
    "plt.show()"
   ]
  },
  {
   "cell_type": "markdown",
   "id": "9fe5c020",
   "metadata": {},
   "source": [
    "Visualisasi diatas digunakan untuk melihat perbedaan frekuensi kategori 0 dan 1 pada kolom target yaitu kolom DEATH. Dapat dilihat bahwa adanya perbedaan frekuensi yang cukup signifikan. Kategori 0 sebesar 67.9%, sedangkan kategori 1 sebesar 32.1%. Artinya, orang yang tidak meninggal lebih besar frekuensinya dari yang meninggal."
   ]
  },
  {
   "cell_type": "code",
   "execution_count": 18,
   "id": "8cef29de",
   "metadata": {},
   "outputs": [
    {
     "data": {
      "image/png": "[encoded data removed]",
      "text/plain": [
       "<Figure size 1080x504 with 2 Axes>"
      ]
     },
     "metadata": {
      "needs_background": "light"
     },
     "output_type": "display_data"
    }
   ],
   "source": [
    "f, ax = plt.subplots(figsize=(15, 7))\n",
    "sns.heatmap(df.corr(), annot=True, fmt='.2f', linewidth=0.3, cmap='YlGnBu', ax=ax)\n",
    "plt.show()"
   ]
  },
  {
   "cell_type": "markdown",
   "id": "855c0725",
   "metadata": {},
   "source": [
    "Visualisasi headmap diatas mempresentasikan tentang korelasi antar kolom pada dataset yang digunakan."
   ]
  },
  {
   "cell_type": "markdown",
   "id": "a6e2efac",
   "metadata": {},
   "source": [
    "# Data Preprocessing"
   ]
  },
  {
   "cell_type": "code",
   "execution_count": 19,
   "id": "632add51",
   "metadata": {},
   "outputs": [],
   "source": [
    "data = df.copy()"
   ]
  },
  {
   "cell_type": "markdown",
   "id": "c0b04f32",
   "metadata": {},
   "source": [
    "Kode di atas adalah perintah untuk membuat salinan (copy) dari DataFrame df dan menyimpannya dalam variabel data."
   ]
  },
  {
   "cell_type": "markdown",
   "id": "7971db06",
   "metadata": {},
   "source": [
    "### Feature Selection"
   ]
  },
  {
   "cell_type": "code",
   "execution_count": 20,
   "id": "1a13556d",
   "metadata": {},
   "outputs": [
    {
     "data": {
      "text/html": [
       "<div>\n",
       "<style scoped>\n",
       "    .dataframe tbody tr th:only-of-type {\n",
       "        vertical-align: middle;\n",
       "    }\n",
       "\n",
       "    .dataframe tbody tr th {\n",
       "        vertical-align: top;\n",
       "    }\n",
       "\n",
       "    .dataframe thead th {\n",
       "        text-align: right;\n",
       "    }\n",
       "</style>\n",
       "<table border=\"1\" class=\"dataframe\">\n",
       "  <thead>\n",
       "    <tr style=\"text-align: right;\">\n",
       "      <th></th>\n",
       "      <th>age</th>\n",
       "      <th>anemia</th>\n",
       "      <th>CPK</th>\n",
       "      <th>diabetes</th>\n",
       "      <th>ejection_fraction</th>\n",
       "      <th>high_blood</th>\n",
       "      <th>platelets</th>\n",
       "      <th>creatinine</th>\n",
       "      <th>sodium</th>\n",
       "      <th>sex</th>\n",
       "      <th>smoking</th>\n",
       "      <th>time</th>\n",
       "      <th>DEATH</th>\n",
       "    </tr>\n",
       "  </thead>\n",
       "  <tbody>\n",
       "    <tr>\n",
       "      <th>age</th>\n",
       "      <td>1.000000</td>\n",
       "      <td>0.088006</td>\n",
       "      <td>-0.081584</td>\n",
       "      <td>-0.101012</td>\n",
       "      <td>0.060098</td>\n",
       "      <td>0.093289</td>\n",
       "      <td>-0.052354</td>\n",
       "      <td>0.159187</td>\n",
       "      <td>-0.045966</td>\n",
       "      <td>0.065430</td>\n",
       "      <td>0.018668</td>\n",
       "      <td>-0.224068</td>\n",
       "      <td>0.253729</td>\n",
       "    </tr>\n",
       "    <tr>\n",
       "      <th>anemia</th>\n",
       "      <td>0.088006</td>\n",
       "      <td>1.000000</td>\n",
       "      <td>-0.190741</td>\n",
       "      <td>-0.012729</td>\n",
       "      <td>0.031557</td>\n",
       "      <td>0.038182</td>\n",
       "      <td>-0.043786</td>\n",
       "      <td>0.052174</td>\n",
       "      <td>0.041882</td>\n",
       "      <td>-0.094769</td>\n",
       "      <td>-0.107290</td>\n",
       "      <td>-0.141414</td>\n",
       "      <td>0.066270</td>\n",
       "    </tr>\n",
       "    <tr>\n",
       "      <th>CPK</th>\n",
       "      <td>-0.081584</td>\n",
       "      <td>-0.190741</td>\n",
       "      <td>1.000000</td>\n",
       "      <td>-0.009639</td>\n",
       "      <td>-0.044080</td>\n",
       "      <td>-0.070590</td>\n",
       "      <td>0.024463</td>\n",
       "      <td>-0.016408</td>\n",
       "      <td>0.059550</td>\n",
       "      <td>0.079791</td>\n",
       "      <td>0.002421</td>\n",
       "      <td>-0.009346</td>\n",
       "      <td>0.062728</td>\n",
       "    </tr>\n",
       "    <tr>\n",
       "      <th>diabetes</th>\n",
       "      <td>-0.101012</td>\n",
       "      <td>-0.012729</td>\n",
       "      <td>-0.009639</td>\n",
       "      <td>1.000000</td>\n",
       "      <td>-0.004850</td>\n",
       "      <td>-0.012732</td>\n",
       "      <td>0.092193</td>\n",
       "      <td>-0.046975</td>\n",
       "      <td>-0.089551</td>\n",
       "      <td>-0.157730</td>\n",
       "      <td>-0.147173</td>\n",
       "      <td>0.033726</td>\n",
       "      <td>-0.001943</td>\n",
       "    </tr>\n",
       "    <tr>\n",
       "      <th>ejection_fraction</th>\n",
       "      <td>0.060098</td>\n",
       "      <td>0.031557</td>\n",
       "      <td>-0.044080</td>\n",
       "      <td>-0.004850</td>\n",
       "      <td>1.000000</td>\n",
       "      <td>0.024445</td>\n",
       "      <td>0.072177</td>\n",
       "      <td>-0.011302</td>\n",
       "      <td>0.175902</td>\n",
       "      <td>-0.148386</td>\n",
       "      <td>-0.067315</td>\n",
       "      <td>0.041729</td>\n",
       "      <td>-0.268603</td>\n",
       "    </tr>\n",
       "    <tr>\n",
       "      <th>high_blood</th>\n",
       "      <td>0.093289</td>\n",
       "      <td>0.038182</td>\n",
       "      <td>-0.070590</td>\n",
       "      <td>-0.012732</td>\n",
       "      <td>0.024445</td>\n",
       "      <td>1.000000</td>\n",
       "      <td>0.049963</td>\n",
       "      <td>-0.004935</td>\n",
       "      <td>0.037109</td>\n",
       "      <td>-0.104615</td>\n",
       "      <td>-0.055711</td>\n",
       "      <td>-0.196439</td>\n",
       "      <td>0.079351</td>\n",
       "    </tr>\n",
       "    <tr>\n",
       "      <th>platelets</th>\n",
       "      <td>-0.052354</td>\n",
       "      <td>-0.043786</td>\n",
       "      <td>0.024463</td>\n",
       "      <td>0.092193</td>\n",
       "      <td>0.072177</td>\n",
       "      <td>0.049963</td>\n",
       "      <td>1.000000</td>\n",
       "      <td>-0.041198</td>\n",
       "      <td>0.062125</td>\n",
       "      <td>-0.125120</td>\n",
       "      <td>0.028234</td>\n",
       "      <td>0.010514</td>\n",
       "      <td>-0.049139</td>\n",
       "    </tr>\n",
       "    <tr>\n",
       "      <th>creatinine</th>\n",
       "      <td>0.159187</td>\n",
       "      <td>0.052174</td>\n",
       "      <td>-0.016408</td>\n",
       "      <td>-0.046975</td>\n",
       "      <td>-0.011302</td>\n",
       "      <td>-0.004935</td>\n",
       "      <td>-0.041198</td>\n",
       "      <td>1.000000</td>\n",
       "      <td>-0.189095</td>\n",
       "      <td>0.006970</td>\n",
       "      <td>-0.027414</td>\n",
       "      <td>-0.149315</td>\n",
       "      <td>0.294278</td>\n",
       "    </tr>\n",
       "    <tr>\n",
       "      <th>sodium</th>\n",
       "      <td>-0.045966</td>\n",
       "      <td>0.041882</td>\n",
       "      <td>0.059550</td>\n",
       "      <td>-0.089551</td>\n",
       "      <td>0.175902</td>\n",
       "      <td>0.037109</td>\n",
       "      <td>0.062125</td>\n",
       "      <td>-0.189095</td>\n",
       "      <td>1.000000</td>\n",
       "      <td>-0.027566</td>\n",
       "      <td>0.004813</td>\n",
       "      <td>0.087640</td>\n",
       "      <td>-0.195204</td>\n",
       "    </tr>\n",
       "    <tr>\n",
       "      <th>sex</th>\n",
       "      <td>0.065430</td>\n",
       "      <td>-0.094769</td>\n",
       "      <td>0.079791</td>\n",
       "      <td>-0.157730</td>\n",
       "      <td>-0.148386</td>\n",
       "      <td>-0.104615</td>\n",
       "      <td>-0.125120</td>\n",
       "      <td>0.006970</td>\n",
       "      <td>-0.027566</td>\n",
       "      <td>1.000000</td>\n",
       "      <td>0.445892</td>\n",
       "      <td>-0.015608</td>\n",
       "      <td>-0.004316</td>\n",
       "    </tr>\n",
       "    <tr>\n",
       "      <th>smoking</th>\n",
       "      <td>0.018668</td>\n",
       "      <td>-0.107290</td>\n",
       "      <td>0.002421</td>\n",
       "      <td>-0.147173</td>\n",
       "      <td>-0.067315</td>\n",
       "      <td>-0.055711</td>\n",
       "      <td>0.028234</td>\n",
       "      <td>-0.027414</td>\n",
       "      <td>0.004813</td>\n",
       "      <td>0.445892</td>\n",
       "      <td>1.000000</td>\n",
       "      <td>-0.022839</td>\n",
       "      <td>-0.012623</td>\n",
       "    </tr>\n",
       "    <tr>\n",
       "      <th>time</th>\n",
       "      <td>-0.224068</td>\n",
       "      <td>-0.141414</td>\n",
       "      <td>-0.009346</td>\n",
       "      <td>0.033726</td>\n",
       "      <td>0.041729</td>\n",
       "      <td>-0.196439</td>\n",
       "      <td>0.010514</td>\n",
       "      <td>-0.149315</td>\n",
       "      <td>0.087640</td>\n",
       "      <td>-0.015608</td>\n",
       "      <td>-0.022839</td>\n",
       "      <td>1.000000</td>\n",
       "      <td>-0.526964</td>\n",
       "    </tr>\n",
       "    <tr>\n",
       "      <th>DEATH</th>\n",
       "      <td>0.253729</td>\n",
       "      <td>0.066270</td>\n",
       "      <td>0.062728</td>\n",
       "      <td>-0.001943</td>\n",
       "      <td>-0.268603</td>\n",
       "      <td>0.079351</td>\n",
       "      <td>-0.049139</td>\n",
       "      <td>0.294278</td>\n",
       "      <td>-0.195204</td>\n",
       "      <td>-0.004316</td>\n",
       "      <td>-0.012623</td>\n",
       "      <td>-0.526964</td>\n",
       "      <td>1.000000</td>\n",
       "    </tr>\n",
       "  </tbody>\n",
       "</table>\n",
       "</div>"
      ],
      "text/plain": [
       "                        age    anemia       CPK  diabetes  ejection_fraction  \\\n",
       "age                1.000000  0.088006 -0.081584 -0.101012           0.060098   \n",
       "anemia             0.088006  1.000000 -0.190741 -0.012729           0.031557   \n",
       "CPK               -0.081584 -0.190741  1.000000 -0.009639          -0.044080   \n",
       "diabetes          -0.101012 -0.012729 -0.009639  1.000000          -0.004850   \n",
       "ejection_fraction  0.060098  0.031557 -0.044080 -0.004850           1.000000   \n",
       "high_blood         0.093289  0.038182 -0.070590 -0.012732           0.024445   \n",
       "platelets         -0.052354 -0.043786  0.024463  0.092193           0.072177   \n",
       "creatinine         0.159187  0.052174 -0.016408 -0.046975          -0.011302   \n",
       "sodium            -0.045966  0.041882  0.059550 -0.089551           0.175902   \n",
       "sex                0.065430 -0.094769  0.079791 -0.157730          -0.148386   \n",
       "smoking            0.018668 -0.107290  0.002421 -0.147173          -0.067315   \n",
       "time              -0.224068 -0.141414 -0.009346  0.033726           0.041729   \n",
       "DEATH              0.253729  0.066270  0.062728 -0.001943          -0.268603   \n",
       "\n",
       "                   high_blood  platelets  creatinine    sodium       sex  \\\n",
       "age                  0.093289  -0.052354    0.159187 -0.045966  0.065430   \n",
       "anemia               0.038182  -0.043786    0.052174  0.041882 -0.094769   \n",
       "CPK                 -0.070590   0.024463   -0.016408  0.059550  0.079791   \n",
       "diabetes            -0.012732   0.092193   -0.046975 -0.089551 -0.157730   \n",
       "ejection_fraction    0.024445   0.072177   -0.011302  0.175902 -0.148386   \n",
       "high_blood           1.000000   0.049963   -0.004935  0.037109 -0.104615   \n",
       "platelets            0.049963   1.000000   -0.041198  0.062125 -0.125120   \n",
       "creatinine          -0.004935  -0.041198    1.000000 -0.189095  0.006970   \n",
       "sodium               0.037109   0.062125   -0.189095  1.000000 -0.027566   \n",
       "sex                 -0.104615  -0.125120    0.006970 -0.027566  1.000000   \n",
       "smoking             -0.055711   0.028234   -0.027414  0.004813  0.445892   \n",
       "time                -0.196439   0.010514   -0.149315  0.087640 -0.015608   \n",
       "DEATH                0.079351  -0.049139    0.294278 -0.195204 -0.004316   \n",
       "\n",
       "                    smoking      time     DEATH  \n",
       "age                0.018668 -0.224068  0.253729  \n",
       "anemia            -0.107290 -0.141414  0.066270  \n",
       "CPK                0.002421 -0.009346  0.062728  \n",
       "diabetes          -0.147173  0.033726 -0.001943  \n",
       "ejection_fraction -0.067315  0.041729 -0.268603  \n",
       "high_blood        -0.055711 -0.196439  0.079351  \n",
       "platelets          0.028234  0.010514 -0.049139  \n",
       "creatinine        -0.027414 -0.149315  0.294278  \n",
       "sodium             0.004813  0.087640 -0.195204  \n",
       "sex                0.445892 -0.015608 -0.004316  \n",
       "smoking            1.000000 -0.022839 -0.012623  \n",
       "time              -0.022839  1.000000 -0.526964  \n",
       "DEATH             -0.012623 -0.526964  1.000000  "
      ]
     },
     "execution_count": 20,
     "metadata": {},
     "output_type": "execute_result"
    }
   ],
   "source": [
    "# Menampilkan korelasi antar kolom\n",
    "\n",
    "data.corr()"
   ]
  },
  {
   "cell_type": "code",
   "execution_count": 21,
   "id": "986bcb40",
   "metadata": {},
   "outputs": [
    {
     "data": {
      "text/plain": [
       "DEATH                1.000000\n",
       "creatinine           0.294278\n",
       "age                  0.253729\n",
       "high_blood           0.079351\n",
       "anemia               0.066270\n",
       "CPK                  0.062728\n",
       "diabetes            -0.001943\n",
       "sex                 -0.004316\n",
       "smoking             -0.012623\n",
       "platelets           -0.049139\n",
       "sodium              -0.195204\n",
       "ejection_fraction   -0.268603\n",
       "time                -0.526964\n",
       "Name: DEATH, dtype: float64"
      ]
     },
     "execution_count": 21,
     "metadata": {},
     "output_type": "execute_result"
    }
   ],
   "source": [
    "# Menampilkan korelasi antar fitur dengan kolom DEATH  sebagai kolom target\n",
    "\n",
    "corr_matrix = data.corr()\n",
    "corr_matrix.DEATH.sort_values(ascending= False)"
   ]
  },
  {
   "cell_type": "markdown",
   "id": "d21a8018",
   "metadata": {},
   "source": [
    "Berdasarkan nilai korelasi antar kolom dapat dipilih beberapa kolom yang dapat digunakan untuk membangun model. \n",
    "\n",
    "Kolom-kolom yang digunakan untuk membangun model diantaranya :\n",
    "\n",
    "1. Kolom `time` memiliki korelasi yang tinggi dengan kolom target yaitu `death` sebesar -0.53. Hal ini berarti semakin sering dilakukan follow-up kondisi pasien maka resiko kematian akibat penyakit jantung semakin kecil.\n",
    "2. Kolom `ejection_fraction` memiliki koefisien korelasi negatif sebesar -0.27. Hal ini berarti semakin rendah presentase darah yang keluar dari jantung maka semakin tinggi resiko kematian akibat penyakit jantung.\n",
    "3. Kolom `sodium` memiliki koefisien korelasi negatif sebesar -0.2. Hal ini berarti semakin rendah level serum sodium maka resiko kematian akibat penyakit jantung juga semakin tinggi.\n",
    "4. Kolom `creatinine` memiliki korelasi positif sebesar 0.29. Hal ini berarti semakin tinggi evel serum creatinne dalam tubuh pasien, maka resiko kematian akibat penyakit jantung juga semakin tinggi.\n",
    "5. Kolom `age` memiliki korelasi positif sebesar 0.25. Hal ini berarti semakin tua usia pasien, maka reskio kematian akibat penyakit jantung semakin tinggi.\n",
    "6. Kolom `anemia`, `diabetes`, `high_blood`, `sex`, `smoking` merupakan kolom dengan korelasi yang rendah. Namun, pada beberapa penelitian anemia, diabetes, hipertensi, gender, dan perilaku merokok berpengaruh terhadap resiko kematian akibat penyakit jantung.\n",
    "\n",
    "Kolom yang tidak digunakan :\n",
    "1. Kolom `CPK` yang merupakan level enzim CPK dalam mcg/L, kolom ini berperan dalam pemantauan dan indikator adanya kerusakan/penyakit jantung dan otot. Namun, peningkatan ini tidak secara langsung menyebabkan heart_failure (tidak terlalu dibutuhkan)\n",
    "2. Kolom `platelets` yang merupakan jumlah platelet di darah dalam kiloplatelets/mL, berperan dalam proses pembekuan darah. Sehingga, tidak secara langsung menyebabkan gagal jantung (tidak terlalu dibutuhkan)\n",
    "\n",
    "Maka dapat diambil kesimpulan bahwa feature selection tidak sepenuhnya dilakukan dengan melihat korelasi antar kolom, namun juga melihat kondisi nyata terkait seberapa berpengaruhnya atribut tersebut dalam memprediksi kolom target."
   ]
  },
  {
   "cell_type": "code",
   "execution_count": 22,
   "id": "fe834b3a",
   "metadata": {},
   "outputs": [],
   "source": [
    "# Dilakukan penghapusann kolom yang tidak digunakan\n",
    "\n",
    "data.drop(['CPK','platelets'], axis=1, inplace=True)"
   ]
  },
  {
   "cell_type": "code",
   "execution_count": 23,
   "id": "fd427bff",
   "metadata": {},
   "outputs": [
    {
     "data": {
      "text/html": [
       "<div>\n",
       "<style scoped>\n",
       "    .dataframe tbody tr th:only-of-type {\n",
       "        vertical-align: middle;\n",
       "    }\n",
       "\n",
       "    .dataframe tbody tr th {\n",
       "        vertical-align: top;\n",
       "    }\n",
       "\n",
       "    .dataframe thead th {\n",
       "        text-align: right;\n",
       "    }\n",
       "</style>\n",
       "<table border=\"1\" class=\"dataframe\">\n",
       "  <thead>\n",
       "    <tr style=\"text-align: right;\">\n",
       "      <th></th>\n",
       "      <th>age</th>\n",
       "      <th>anemia</th>\n",
       "      <th>diabetes</th>\n",
       "      <th>ejection_fraction</th>\n",
       "      <th>high_blood</th>\n",
       "      <th>creatinine</th>\n",
       "      <th>sodium</th>\n",
       "      <th>sex</th>\n",
       "      <th>smoking</th>\n",
       "      <th>time</th>\n",
       "      <th>DEATH</th>\n",
       "    </tr>\n",
       "  </thead>\n",
       "  <tbody>\n",
       "    <tr>\n",
       "      <th>0</th>\n",
       "      <td>75.0</td>\n",
       "      <td>0</td>\n",
       "      <td>0</td>\n",
       "      <td>20</td>\n",
       "      <td>1</td>\n",
       "      <td>1.9</td>\n",
       "      <td>130</td>\n",
       "      <td>1</td>\n",
       "      <td>0</td>\n",
       "      <td>4</td>\n",
       "      <td>1</td>\n",
       "    </tr>\n",
       "    <tr>\n",
       "      <th>1</th>\n",
       "      <td>55.0</td>\n",
       "      <td>0</td>\n",
       "      <td>0</td>\n",
       "      <td>38</td>\n",
       "      <td>0</td>\n",
       "      <td>1.1</td>\n",
       "      <td>136</td>\n",
       "      <td>1</td>\n",
       "      <td>0</td>\n",
       "      <td>6</td>\n",
       "      <td>1</td>\n",
       "    </tr>\n",
       "  </tbody>\n",
       "</table>\n",
       "</div>"
      ],
      "text/plain": [
       "    age  anemia  diabetes  ejection_fraction  high_blood  creatinine  sodium  \\\n",
       "0  75.0       0         0                 20           1         1.9     130   \n",
       "1  55.0       0         0                 38           0         1.1     136   \n",
       "\n",
       "   sex  smoking  time  DEATH  \n",
       "0    1        0     4      1  \n",
       "1    1        0     6      1  "
      ]
     },
     "execution_count": 23,
     "metadata": {},
     "output_type": "execute_result"
    }
   ],
   "source": [
    "# Ditampilkan 2 data teratas untuk melihat perubahan\n",
    "\n",
    "data.head(2)"
   ]
  },
  {
   "cell_type": "markdown",
   "id": "f78eb998",
   "metadata": {},
   "source": [
    "### Handling Outliers"
   ]
  },
  {
   "cell_type": "code",
   "execution_count": 24,
   "id": "86d55e28",
   "metadata": {},
   "outputs": [],
   "source": [
    "# Memnghapus outlier dalam kolom yang mengandung outlier\n",
    "\n",
    "features_with_outliers = ['ejection_fraction','creatinine','sodium']\n",
    "\n",
    "for feature in features_with_outliers:\n",
    "    q1 = data[feature].quantile(0.25)\n",
    "    q3 = data[feature].quantile(0.75)\n",
    "    IQR = q3-q1\n",
    "    lower_limit = q1 - (IQR*1.5)\n",
    "    upper_limit = q3 + (IQR*1.5)\n",
    "    data.loc[data[feature]<lower_limit,feature] = lower_limit\n",
    "    data.loc[data[feature]>upper_limit,feature] = upper_limit"
   ]
  },
  {
   "cell_type": "markdown",
   "id": "ad3aaa84",
   "metadata": {},
   "source": [
    "Kode di atas bertujuan untuk mengatasi outlier dalam beberapa fitur (kolom) tertentu dalam DataFrame data. Outlier adalah nilai ekstrem yang jauh dari nilai-nilai lain dalam distribusi data. Dimana, untuk kolom yang memiliki outlier dapat dilihat pada bagian visualisasi data. Kemudian didefinisikan sebuah list bernama features_with_outliers yang berisi nama-nama fitur yang memiliki outlier. Dalam kasus ini, fitur-fitur tersebut adalah 'ejection_fraction', 'creatinine', dan 'sodium'."
   ]
  },
  {
   "cell_type": "code",
   "execution_count": 25,
   "id": "134b4e87",
   "metadata": {},
   "outputs": [
    {
     "data": {
      "text/plain": [
       "(299, 11)"
      ]
     },
     "execution_count": 25,
     "metadata": {},
     "output_type": "execute_result"
    }
   ],
   "source": [
    "data.shape"
   ]
  },
  {
   "cell_type": "markdown",
   "id": "d54bf773",
   "metadata": {},
   "source": [
    "Karena tidak ada pengurangan data, maka penghapusan outlier tidak mengakibatkan kehilangan data."
   ]
  },
  {
   "cell_type": "code",
   "execution_count": 26,
   "id": "5e170e37",
   "metadata": {},
   "outputs": [
    {
     "data": {
      "image/png": "[encoded data removed]",
      "text/plain": [
       "<Figure size 1080x216 with 2 Axes>"
      ]
     },
     "metadata": {
      "needs_background": "light"
     },
     "output_type": "display_data"
    },
    {
     "data": {
      "image/png": "[encoded data removed]",
      "text/plain": [
       "<Figure size 1080x216 with 2 Axes>"
      ]
     },
     "metadata": {
      "needs_background": "light"
     },
     "output_type": "display_data"
    },
    {
     "data": {
      "image/png": "[encoded data removed]",
      "text/plain": [
       "<Figure size 1080x216 with 2 Axes>"
      ]
     },
     "metadata": {
      "needs_background": "light"
     },
     "output_type": "display_data"
    },
    {
     "data": {
      "image/png": "[encoded data removed]",
      "text/plain": [
       "<Figure size 1080x216 with 2 Axes>"
      ]
     },
     "metadata": {
      "needs_background": "light"
     },
     "output_type": "display_data"
    },
    {
     "data": {
      "image/png": "[encoded data removed]",
      "text/plain": [
       "<Figure size 1080x216 with 2 Axes>"
      ]
     },
     "metadata": {
      "needs_background": "light"
     },
     "output_type": "display_data"
    }
   ],
   "source": [
    "# Menampilkan histogram dan boxplot untuk melihat outlier dan distribusi data\n",
    "\n",
    "num_col = [\"age\",\"ejection_fraction\",\"creatinine\",\"sodium\", \"time\"]\n",
    "\n",
    "for i in num_col:\n",
    "   \n",
    "    fig, axs = plt.subplots(1,2,figsize=(15, 3))\n",
    "\n",
    "    sns.histplot(data[i],bins=20, color='green', kde=True,ax=axs[0]);\n",
    "    sns.boxplot(data[i], ax = axs[1], color='lightgreen', fliersize=1);"
   ]
  },
  {
   "cell_type": "markdown",
   "id": "7133eea6",
   "metadata": {},
   "source": [
    "Dara visualisasi diatas dapat dilihat bahwa pada data tidak lagi ditemukan outlier, dan distribusi sudah normal. Maka dapat dipastikan bahwa data berdistribusi tidak normal sebelumnya disebabkan oleh banyaknya outlier dalam data."
   ]
  },
  {
   "cell_type": "markdown",
   "id": "55afa265",
   "metadata": {},
   "source": [
    "### Splitting "
   ]
  },
  {
   "cell_type": "markdown",
   "id": "2c809e68",
   "metadata": {},
   "source": [
    "Splitting data digunakan untuk membagi dataset menjadi subset yang berbeda, seperti pelatihan (training) dan pengujian (testing). Ini adalah langkah penting dalam pengembangan dan evaluasi model machine learning."
   ]
  },
  {
   "cell_type": "code",
   "execution_count": 27,
   "id": "2007e493",
   "metadata": {},
   "outputs": [],
   "source": [
    "X = data.drop(['DEATH'], axis = 1)\n",
    "y = data['DEATH']"
   ]
  },
  {
   "cell_type": "markdown",
   "id": "3f495187",
   "metadata": {},
   "source": [
    "Untuk data heart_failure dilakukan splitting data X dan y, dimana X berisi fitur-fitur yang mempengaruhi kelas target yaitu y. "
   ]
  },
  {
   "cell_type": "code",
   "execution_count": 28,
   "id": "02af7a86",
   "metadata": {},
   "outputs": [
    {
     "data": {
      "text/html": [
       "<div>\n",
       "<style scoped>\n",
       "    .dataframe tbody tr th:only-of-type {\n",
       "        vertical-align: middle;\n",
       "    }\n",
       "\n",
       "    .dataframe tbody tr th {\n",
       "        vertical-align: top;\n",
       "    }\n",
       "\n",
       "    .dataframe thead th {\n",
       "        text-align: right;\n",
       "    }\n",
       "</style>\n",
       "<table border=\"1\" class=\"dataframe\">\n",
       "  <thead>\n",
       "    <tr style=\"text-align: right;\">\n",
       "      <th></th>\n",
       "      <th>age</th>\n",
       "      <th>anemia</th>\n",
       "      <th>diabetes</th>\n",
       "      <th>ejection_fraction</th>\n",
       "      <th>high_blood</th>\n",
       "      <th>creatinine</th>\n",
       "      <th>sodium</th>\n",
       "      <th>sex</th>\n",
       "      <th>smoking</th>\n",
       "      <th>time</th>\n",
       "    </tr>\n",
       "  </thead>\n",
       "  <tbody>\n",
       "    <tr>\n",
       "      <th>0</th>\n",
       "      <td>75.0</td>\n",
       "      <td>0</td>\n",
       "      <td>0</td>\n",
       "      <td>20.0</td>\n",
       "      <td>1</td>\n",
       "      <td>1.90</td>\n",
       "      <td>130</td>\n",
       "      <td>1</td>\n",
       "      <td>0</td>\n",
       "      <td>4</td>\n",
       "    </tr>\n",
       "    <tr>\n",
       "      <th>1</th>\n",
       "      <td>55.0</td>\n",
       "      <td>0</td>\n",
       "      <td>0</td>\n",
       "      <td>38.0</td>\n",
       "      <td>0</td>\n",
       "      <td>1.10</td>\n",
       "      <td>136</td>\n",
       "      <td>1</td>\n",
       "      <td>0</td>\n",
       "      <td>6</td>\n",
       "    </tr>\n",
       "    <tr>\n",
       "      <th>2</th>\n",
       "      <td>65.0</td>\n",
       "      <td>0</td>\n",
       "      <td>0</td>\n",
       "      <td>20.0</td>\n",
       "      <td>0</td>\n",
       "      <td>1.30</td>\n",
       "      <td>129</td>\n",
       "      <td>1</td>\n",
       "      <td>1</td>\n",
       "      <td>7</td>\n",
       "    </tr>\n",
       "    <tr>\n",
       "      <th>3</th>\n",
       "      <td>50.0</td>\n",
       "      <td>1</td>\n",
       "      <td>0</td>\n",
       "      <td>20.0</td>\n",
       "      <td>0</td>\n",
       "      <td>1.90</td>\n",
       "      <td>137</td>\n",
       "      <td>1</td>\n",
       "      <td>0</td>\n",
       "      <td>7</td>\n",
       "    </tr>\n",
       "    <tr>\n",
       "      <th>4</th>\n",
       "      <td>65.0</td>\n",
       "      <td>1</td>\n",
       "      <td>1</td>\n",
       "      <td>20.0</td>\n",
       "      <td>0</td>\n",
       "      <td>2.15</td>\n",
       "      <td>125</td>\n",
       "      <td>0</td>\n",
       "      <td>0</td>\n",
       "      <td>8</td>\n",
       "    </tr>\n",
       "  </tbody>\n",
       "</table>\n",
       "</div>"
      ],
      "text/plain": [
       "    age  anemia  diabetes  ejection_fraction  high_blood  creatinine  sodium  \\\n",
       "0  75.0       0         0               20.0           1        1.90     130   \n",
       "1  55.0       0         0               38.0           0        1.10     136   \n",
       "2  65.0       0         0               20.0           0        1.30     129   \n",
       "3  50.0       1         0               20.0           0        1.90     137   \n",
       "4  65.0       1         1               20.0           0        2.15     125   \n",
       "\n",
       "   sex  smoking  time  \n",
       "0    1        0     4  \n",
       "1    1        0     6  \n",
       "2    1        1     7  \n",
       "3    1        0     7  \n",
       "4    0        0     8  "
      ]
     },
     "execution_count": 28,
     "metadata": {},
     "output_type": "execute_result"
    }
   ],
   "source": [
    "# Menampilkan 5 data dari X\n",
    "\n",
    "X[0:5]"
   ]
  },
  {
   "cell_type": "code",
   "execution_count": 29,
   "id": "a243f5fc",
   "metadata": {},
   "outputs": [
    {
     "data": {
      "text/plain": [
       "0    1\n",
       "1    1\n",
       "2    1\n",
       "3    1\n",
       "4    1\n",
       "Name: DEATH, dtype: int64"
      ]
     },
     "execution_count": 29,
     "metadata": {},
     "output_type": "execute_result"
    }
   ],
   "source": [
    "# Menampilkan 5 data dari y\n",
    "\n",
    "y[0:5]"
   ]
  },
  {
   "cell_type": "markdown",
   "id": "d890fb52",
   "metadata": {},
   "source": [
    "#### Scalling"
   ]
  },
  {
   "cell_type": "code",
   "execution_count": 30,
   "id": "9964d83d",
   "metadata": {},
   "outputs": [],
   "source": [
    "scaler = StandardScaler()\n",
    "X = scaler.fit_transform(X)"
   ]
  },
  {
   "cell_type": "markdown",
   "id": "d8bffa6b",
   "metadata": {},
   "source": [
    "Kode di atas bertujuan untuk melakukan penskalaan (scaling) data menggunakan StandardScaler pada suatu matriks fitur X (data fitur).\n",
    "\n",
    "StandardScaler adalah sebuah objek yang digunakan untuk melakukan penskalaan fitur dengan menghilangkan rata-rata dan mengubah varians fitur menjadi 1. Ini adalah salah satu metode umum yang digunakan dalam preprocessing data untuk memastikan bahwa semua fitur memiliki skala yang serupa."
   ]
  },
  {
   "cell_type": "code",
   "execution_count": 31,
   "id": "24b4462c",
   "metadata": {},
   "outputs": [],
   "source": [
    "X_train, X_test, y_train, y_test = train_test_split(X, y, test_size=0.3, random_state=0)"
   ]
  },
  {
   "cell_type": "markdown",
   "id": "177b37e2",
   "metadata": {},
   "source": [
    "Code diatas akan membagi X dan y menjadi empat subset yang berbeda: \n",
    "- X_train (subset fitur untuk pelatihan)\n",
    "- X_test (subset fitur untuk pengujian)\n",
    "- y_train (subset target untuk pelatihan)\n",
    "- y_test (subset target untuk pengujian)\n",
    "\n",
    "Dimana data akan dibagi untuk training sebesar 60% dan 40% untuk testing dengan fungsi test_size=0.3"
   ]
  },
  {
   "cell_type": "markdown",
   "id": "b0d49731",
   "metadata": {},
   "source": [
    "### Splitting balancing"
   ]
  },
  {
   "cell_type": "markdown",
   "id": "0eaf3f70",
   "metadata": {},
   "source": [
    "Dapat dilihat pada bagian visualisasi data, banyak data yang imbalanced frekuensinya. Maka dari itu, kami juga melakukan percobaan membagi data dengan balancing frekuensinya. "
   ]
  },
  {
   "cell_type": "code",
   "execution_count": 32,
   "id": "ca18648d",
   "metadata": {},
   "outputs": [
    {
     "data": {
      "text/plain": [
       "0    141\n",
       "1     68\n",
       "Name: DEATH, dtype: int64"
      ]
     },
     "execution_count": 32,
     "metadata": {},
     "output_type": "execute_result"
    }
   ],
   "source": [
    "y_train.value_counts()"
   ]
  },
  {
   "cell_type": "markdown",
   "id": "159b8f4b",
   "metadata": {},
   "source": [
    "Pada splitting sebelumnya dapat dilihat frekuensi untuk data label training memiliki frekuensi yang tidak seimbang (memiliki selisih yang jauh)"
   ]
  },
  {
   "cell_type": "code",
   "execution_count": 33,
   "id": "226bc20c",
   "metadata": {},
   "outputs": [
    {
     "data": {
      "text/plain": [
       "0    62\n",
       "1    28\n",
       "Name: DEATH, dtype: int64"
      ]
     },
     "execution_count": 33,
     "metadata": {},
     "output_type": "execute_result"
    }
   ],
   "source": [
    "y_test.value_counts()"
   ]
  },
  {
   "cell_type": "markdown",
   "id": "a81e3be3",
   "metadata": {},
   "source": [
    "Hal yang sama juga terjadi pada data label testing yang memiliki perbedaan frekuensi yang jauh"
   ]
  },
  {
   "cell_type": "code",
   "execution_count": 34,
   "id": "3767f0e5",
   "metadata": {},
   "outputs": [],
   "source": [
    "# dilakukan balancing dengan SMOTE\n",
    "\n",
    "smote = SMOTE()\n",
    "X_test_smo, y_test_smo = smote.fit_resample(X_test,y_test)"
   ]
  },
  {
   "cell_type": "markdown",
   "id": "7671f00a",
   "metadata": {},
   "source": [
    "Balancing dilakukan dengan `SMOTE()` yang dapat meningkatkan jumlah sampel kelas minoritas. Namun, peningkatan sampel kelas minoritas yang dilakukan tetap mempertahankan informasi asli karena SMOTE melakukan interpolasi linier antara sampel kelas minoritas yang ada dan sampel-sampel tetangga untuk menciptakan sampel sintetis baru. Dengan melakukan ini, SMOTE berusaha mempertahankan informasi asli yang terkandung dalam kelas minoritas, menghindari pengubahan yang signifikan pada distribusi data."
   ]
  },
  {
   "cell_type": "code",
   "execution_count": 35,
   "id": "0b1812d1",
   "metadata": {},
   "outputs": [],
   "source": [
    "X_train_smo, y_train_smo = smote.fit_resample(X_train.astype('float'), y_train)"
   ]
  },
  {
   "cell_type": "markdown",
   "id": "01054219",
   "metadata": {},
   "source": [
    "Balancing dengan `SMOTE()` tidak hanya dilakukan pada data testing namun juga pada data training agar traning dan testing sama-sama memiliki data yang seimbang."
   ]
  },
  {
   "cell_type": "code",
   "execution_count": 36,
   "id": "5d740217",
   "metadata": {},
   "outputs": [
    {
     "data": {
      "text/plain": [
       "0    141\n",
       "1    141\n",
       "Name: DEATH, dtype: int64"
      ]
     },
     "execution_count": 36,
     "metadata": {},
     "output_type": "execute_result"
    }
   ],
   "source": [
    "y_train_smo.value_counts()"
   ]
  },
  {
   "cell_type": "code",
   "execution_count": 37,
   "id": "2a0a3520",
   "metadata": {},
   "outputs": [
    {
     "data": {
      "text/plain": [
       "0    62\n",
       "1    62\n",
       "Name: DEATH, dtype: int64"
      ]
     },
     "execution_count": 37,
     "metadata": {},
     "output_type": "execute_result"
    }
   ],
   "source": [
    "y_test_smo.value_counts()"
   ]
  },
  {
   "cell_type": "markdown",
   "id": "e5566b9f",
   "metadata": {},
   "source": [
    "Dari kedua code diatas dapat dilihat bahwa data pada training dan testing sudah memiliki frekuensi yang seimbang. Dibuat nama yang berbeda dengan y_train dan y_test agar dapat dibedakan saat membangun model nantinya. "
   ]
  },
  {
   "cell_type": "code",
   "execution_count": 38,
   "id": "74f6a623",
   "metadata": {},
   "outputs": [
    {
     "name": "stdout",
     "output_type": "stream",
     "text": [
      "Training dataset           : 209\n",
      "Training dataset balancing : 282\n",
      "Testing dataset            : 90\n",
      "Testing dataset balancing  : 124\n"
     ]
    }
   ],
   "source": [
    "print('Training dataset           :', len(X_train))\n",
    "print('Training dataset balancing :', len(X_train_smo))\n",
    "print('Testing dataset            :', len(X_test))\n",
    "print('Testing dataset balancing  :', len(X_test_smo))"
   ]
  },
  {
   "cell_type": "markdown",
   "id": "7f9dc4f1",
   "metadata": {},
   "source": [
    "Code diatas menampilkan jumlah data training dan testing pada splitting yang imbalanced dan balanced. Dapat dilihat bahwa jumlah training dan testing pada data yang balanced mengalami kenaikan karena `SMOTE()` menambah data sintesis baru kedalam data asli. "
   ]
  },
  {
   "cell_type": "markdown",
   "id": "96263a6a",
   "metadata": {},
   "source": [
    "# Pendefinisian Model"
   ]
  },
  {
   "cell_type": "code",
   "execution_count": 39,
   "id": "4bf7fa0f",
   "metadata": {},
   "outputs": [],
   "source": [
    "model_lr = LogisticRegression(solver ='liblinear',multi_class ='ovr',max_iter = 100)\n",
    "model_svm = SVC(kernel='linear', C=100.0, probability=True)\n",
    "model_dtc = DecisionTreeClassifier(criterion = 'entropy', max_depth = None)\n",
    "random_forest = RandomForestClassifier(random_state=42)"
   ]
  },
  {
   "cell_type": "markdown",
   "id": "61133165",
   "metadata": {},
   "source": [
    "Model diatas didefinisikan sebagai estimators yang akan digunakan pada ensemble model. Estimator adalah model individu yang membentuk bagian dari ensemble. Estimator dapat menjadi model yang sama atau berbeda, tetapi mereka digunakan untuk mempelajari pola dan membuat prediksi terhadap data."
   ]
  },
  {
   "cell_type": "markdown",
   "id": "458d7fc5",
   "metadata": {},
   "source": [
    "### Ensemble Voting"
   ]
  },
  {
   "cell_type": "markdown",
   "id": "59231f86",
   "metadata": {},
   "source": [
    "Ensemble voting adalah metode penggabungan prediksi dari beberapa model individu dalam sebuah ensemble model. Pendekatan ini didasarkan pada asumsi bahwa kombinasi prediksi dari beberapa model memiliki potensi untuk menghasilkan prediksi yang lebih akurat daripada model individu tersebut."
   ]
  },
  {
   "cell_type": "markdown",
   "id": "bf24e4cc",
   "metadata": {},
   "source": [
    "#### Hard Voting "
   ]
  },
  {
   "cell_type": "markdown",
   "id": "c3e06845",
   "metadata": {},
   "source": [
    "Dalam hard voting, setiap model memberikan satu suara atau prediksi untuk setiap contoh data. Prediksi akhir ensemble diambil berdasarkan mayoritas suara atau prediksi dari model-model dalam ensemble. Dalam konteks klasifikasi, prediksi dengan mayoritas suara dianggap sebagai prediksi kelas akhir."
   ]
  },
  {
   "cell_type": "code",
   "execution_count": 40,
   "id": "baf1f1ac",
   "metadata": {},
   "outputs": [],
   "source": [
    "# Pendefinisian Model\n",
    "hard_voting = VotingClassifier(estimators = [('lr', model_lr), ('rf', random_forest), ('svm', model_svm), ('dtc', model_dtc)], voting='hard') "
   ]
  },
  {
   "cell_type": "markdown",
   "id": "d780d595",
   "metadata": {},
   "source": [
    "Contohnya, jika terdapat ensemble model dengan 5 model individu, masing-masing model memberikan prediksi sebagai berikut untuk suatu contoh data:\n",
    "\n",
    "- Model 1: Kelas A\n",
    "- Model 2: Kelas A\n",
    "- Model 3: Kelas B\n",
    "- Model 4: Kelas A\n",
    "- Model 5: Kelas B\n",
    "\n",
    "Dalam hard voting, karena mayoritas suara memilih Kelas A (3 suara), maka prediksi akhir ensemble akan menjadi Kelas A."
   ]
  },
  {
   "cell_type": "markdown",
   "id": "ce96e888",
   "metadata": {},
   "source": [
    "#### Soft Voting "
   ]
  },
  {
   "cell_type": "markdown",
   "id": "22f9e4d8",
   "metadata": {},
   "source": [
    "Dalam soft voting, model-model dalam ensemble memberikan estimasi probabilitas untuk setiap kelas atau label. Prediksi ensemble dihasilkan dengan mengambil rata-rata probabilitas dari setiap model, dan kemudian memilih kelas dengan probabilitas tertinggi sebagai prediksi akhir."
   ]
  },
  {
   "cell_type": "code",
   "execution_count": 41,
   "id": "faf96ddf",
   "metadata": {},
   "outputs": [],
   "source": [
    "# Pendefinisian Model\n",
    "soft_voting = VotingClassifier(estimators = [('lr', model_lr), ('rf', random_forest), ('svm', model_svm), ('dtc', model_dtc)], voting ='soft') \n"
   ]
  },
  {
   "cell_type": "markdown",
   "id": "f54e9981",
   "metadata": {},
   "source": [
    "Untuk melakukan soft voting, kita akan mengambil rata-rata probabilitas untuk setiap kelas dari semua model."
   ]
  },
  {
   "cell_type": "markdown",
   "id": "39e090f2",
   "metadata": {},
   "source": [
    "### Ensemble Stacking"
   ]
  },
  {
   "cell_type": "markdown",
   "id": "116e08bf",
   "metadata": {},
   "source": [
    "Ensemble stacking memanfaatkan kemampuan pembelajaran dari model-model individu dalam ensemble untuk menghasilkan prediksi yang lebih kuat melalui meta-learner."
   ]
  },
  {
   "cell_type": "code",
   "execution_count": 42,
   "id": "08915fee",
   "metadata": {},
   "outputs": [],
   "source": [
    "stacking = StackingClassifier(estimators= [('lr', model_lr), ('rf', random_forest), ('svm', model_svm), ('dtc', model_dtc)])"
   ]
  },
  {
   "cell_type": "markdown",
   "id": "7bbf3711",
   "metadata": {},
   "source": [
    "Meta-learner adalah model tingkat kedua dalam ensemble stacking yang digunakan untuk menggabungkan atau mengkombinasikan prediksi-prediksi dari model-model individu dalam ensemble. Meta-learner belajar dari prediksi-prediksi ini untuk menghasilkan prediksi akhir atau output ensemble."
   ]
  },
  {
   "cell_type": "markdown",
   "id": "98dae330",
   "metadata": {},
   "source": [
    "### Ensemble Boosting"
   ]
  },
  {
   "cell_type": "markdown",
   "id": "f9dca92f",
   "metadata": {},
   "source": [
    "Ensemble boosting adalah metode ensemble yang menggabungkan beberapa model lemah atau classifier lemah menjadi sebuah ensemble yang lebih kuat. Tujuan utama dari ensemble boosting adalah untuk meningkatkan performa prediksi dengan memperbaiki kesalahan atau kelemahan dari model-model lemah tersebut."
   ]
  },
  {
   "cell_type": "code",
   "execution_count": 43,
   "id": "ff8b2aa0",
   "metadata": {},
   "outputs": [],
   "source": [
    "# Model 1\n",
    "model1 = GradientBoostingClassifier(n_estimators=50, learning_rate=0.1, max_depth=2, random_state=42)\n",
    "\n",
    "# Model 2\n",
    "model2 = GradientBoostingClassifier(n_estimators=100, learning_rate=0.2, max_depth=3, random_state=42)\n",
    "\n",
    "# Model 3\n",
    "model3 = GradientBoostingClassifier(n_estimators=200, learning_rate=0.5, max_depth=5, random_state=42)"
   ]
  },
  {
   "cell_type": "markdown",
   "id": "5099a203",
   "metadata": {},
   "source": [
    "Pada pendefinisian ensemble Boosting ini digunakan Gradient Boosting Classifier yang merupakan salah satu algoritma Boosting yang populer dalam pembelajaran mesin untuk masalah klasifikasi. Algoritma ini menggabungkan sejumlah model lemah atau classifier lemah, seperti pohon keputusan yang dangkal, menjadi sebuah ensemble yang lebih kuat"
   ]
  },
  {
   "cell_type": "markdown",
   "id": "41d752a5",
   "metadata": {},
   "source": [
    "# Pelatihan Model"
   ]
  },
  {
   "cell_type": "markdown",
   "id": "fe66105f",
   "metadata": {},
   "source": [
    "### Ensemble Hard Voting"
   ]
  },
  {
   "cell_type": "markdown",
   "id": "1d3e2997",
   "metadata": {},
   "source": [
    "##### Imbalanced Data"
   ]
  },
  {
   "cell_type": "code",
   "execution_count": 44,
   "id": "a29b16b7",
   "metadata": {},
   "outputs": [
    {
     "data": {
      "text/plain": [
       "VotingClassifier(estimators=[('lr',\n",
       "                              LogisticRegression(multi_class='ovr',\n",
       "                                                 solver='liblinear')),\n",
       "                             ('rf', RandomForestClassifier(random_state=42)),\n",
       "                             ('svm',\n",
       "                              SVC(C=100.0, kernel='linear', probability=True)),\n",
       "                             ('dtc',\n",
       "                              DecisionTreeClassifier(criterion='entropy'))])"
      ]
     },
     "execution_count": 44,
     "metadata": {},
     "output_type": "execute_result"
    }
   ],
   "source": [
    "# Fitting model\n",
    "hard_voting.fit(X_train, y_train)"
   ]
  },
  {
   "cell_type": "code",
   "execution_count": 45,
   "id": "0f0fc937",
   "metadata": {},
   "outputs": [
    {
     "name": "stdout",
     "output_type": "stream",
     "text": [
      "Training set score :  0.9186602870813397\n",
      "Testing set score  :  0.8222222222222222\n"
     ]
    }
   ],
   "source": [
    "# mengecek overfitting\n",
    "print('Training set score : ', hard_voting.score(X_train, y_train))\n",
    "print('Testing set score  : ', hard_voting.score(X_test, y_test))"
   ]
  },
  {
   "cell_type": "code",
   "execution_count": 46,
   "id": "81c625e3",
   "metadata": {},
   "outputs": [],
   "source": [
    "# Predict data\n",
    "y_pred_train_hard1 = hard_voting.predict(X_train)\n",
    "y_pred_test_hard1 = hard_voting.predict(X_test)"
   ]
  },
  {
   "cell_type": "code",
   "execution_count": 47,
   "id": "c890e172",
   "metadata": {},
   "outputs": [
    {
     "data": {
      "text/html": [
       "<div>\n",
       "<style scoped>\n",
       "    .dataframe tbody tr th:only-of-type {\n",
       "        vertical-align: middle;\n",
       "    }\n",
       "\n",
       "    .dataframe tbody tr th {\n",
       "        vertical-align: top;\n",
       "    }\n",
       "\n",
       "    .dataframe thead th {\n",
       "        text-align: right;\n",
       "    }\n",
       "</style>\n",
       "<table border=\"1\" class=\"dataframe\">\n",
       "  <thead>\n",
       "    <tr style=\"text-align: right;\">\n",
       "      <th></th>\n",
       "      <th>DEATH</th>\n",
       "      <th>Predict_Train</th>\n",
       "    </tr>\n",
       "  </thead>\n",
       "  <tbody>\n",
       "    <tr>\n",
       "      <th>281</th>\n",
       "      <td>0</td>\n",
       "      <td>0</td>\n",
       "    </tr>\n",
       "    <tr>\n",
       "      <th>44</th>\n",
       "      <td>1</td>\n",
       "      <td>0</td>\n",
       "    </tr>\n",
       "    <tr>\n",
       "      <th>241</th>\n",
       "      <td>0</td>\n",
       "      <td>0</td>\n",
       "    </tr>\n",
       "    <tr>\n",
       "      <th>189</th>\n",
       "      <td>0</td>\n",
       "      <td>0</td>\n",
       "    </tr>\n",
       "    <tr>\n",
       "      <th>152</th>\n",
       "      <td>0</td>\n",
       "      <td>0</td>\n",
       "    </tr>\n",
       "    <tr>\n",
       "      <th>...</th>\n",
       "      <td>...</td>\n",
       "      <td>...</td>\n",
       "    </tr>\n",
       "    <tr>\n",
       "      <th>251</th>\n",
       "      <td>0</td>\n",
       "      <td>0</td>\n",
       "    </tr>\n",
       "    <tr>\n",
       "      <th>192</th>\n",
       "      <td>0</td>\n",
       "      <td>0</td>\n",
       "    </tr>\n",
       "    <tr>\n",
       "      <th>117</th>\n",
       "      <td>0</td>\n",
       "      <td>0</td>\n",
       "    </tr>\n",
       "    <tr>\n",
       "      <th>47</th>\n",
       "      <td>1</td>\n",
       "      <td>0</td>\n",
       "    </tr>\n",
       "    <tr>\n",
       "      <th>172</th>\n",
       "      <td>0</td>\n",
       "      <td>0</td>\n",
       "    </tr>\n",
       "  </tbody>\n",
       "</table>\n",
       "<p>209 rows × 2 columns</p>\n",
       "</div>"
      ],
      "text/plain": [
       "     DEATH  Predict_Train\n",
       "281      0              0\n",
       "44       1              0\n",
       "241      0              0\n",
       "189      0              0\n",
       "152      0              0\n",
       "..     ...            ...\n",
       "251      0              0\n",
       "192      0              0\n",
       "117      0              0\n",
       "47       1              0\n",
       "172      0              0\n",
       "\n",
       "[209 rows x 2 columns]"
      ]
     },
     "execution_count": 47,
     "metadata": {},
     "output_type": "execute_result"
    }
   ],
   "source": [
    "train = pd.DataFrame(y_train)\n",
    "train['Predict_Train'] = y_pred_train_hard1\n",
    "train"
   ]
  },
  {
   "cell_type": "code",
   "execution_count": 48,
   "id": "9c66f085",
   "metadata": {},
   "outputs": [
    {
     "data": {
      "text/html": [
       "<div>\n",
       "<style scoped>\n",
       "    .dataframe tbody tr th:only-of-type {\n",
       "        vertical-align: middle;\n",
       "    }\n",
       "\n",
       "    .dataframe tbody tr th {\n",
       "        vertical-align: top;\n",
       "    }\n",
       "\n",
       "    .dataframe thead th {\n",
       "        text-align: right;\n",
       "    }\n",
       "</style>\n",
       "<table border=\"1\" class=\"dataframe\">\n",
       "  <thead>\n",
       "    <tr style=\"text-align: right;\">\n",
       "      <th></th>\n",
       "      <th>DEATH</th>\n",
       "      <th>Predict_Test</th>\n",
       "    </tr>\n",
       "  </thead>\n",
       "  <tbody>\n",
       "    <tr>\n",
       "      <th>206</th>\n",
       "      <td>0</td>\n",
       "      <td>0</td>\n",
       "    </tr>\n",
       "    <tr>\n",
       "      <th>188</th>\n",
       "      <td>0</td>\n",
       "      <td>0</td>\n",
       "    </tr>\n",
       "    <tr>\n",
       "      <th>12</th>\n",
       "      <td>1</td>\n",
       "      <td>1</td>\n",
       "    </tr>\n",
       "    <tr>\n",
       "      <th>219</th>\n",
       "      <td>0</td>\n",
       "      <td>0</td>\n",
       "    </tr>\n",
       "    <tr>\n",
       "      <th>237</th>\n",
       "      <td>0</td>\n",
       "      <td>0</td>\n",
       "    </tr>\n",
       "    <tr>\n",
       "      <th>...</th>\n",
       "      <td>...</td>\n",
       "      <td>...</td>\n",
       "    </tr>\n",
       "    <tr>\n",
       "      <th>76</th>\n",
       "      <td>0</td>\n",
       "      <td>0</td>\n",
       "    </tr>\n",
       "    <tr>\n",
       "      <th>210</th>\n",
       "      <td>0</td>\n",
       "      <td>0</td>\n",
       "    </tr>\n",
       "    <tr>\n",
       "      <th>223</th>\n",
       "      <td>0</td>\n",
       "      <td>0</td>\n",
       "    </tr>\n",
       "    <tr>\n",
       "      <th>253</th>\n",
       "      <td>0</td>\n",
       "      <td>0</td>\n",
       "    </tr>\n",
       "    <tr>\n",
       "      <th>235</th>\n",
       "      <td>0</td>\n",
       "      <td>0</td>\n",
       "    </tr>\n",
       "  </tbody>\n",
       "</table>\n",
       "<p>90 rows × 2 columns</p>\n",
       "</div>"
      ],
      "text/plain": [
       "     DEATH  Predict_Test\n",
       "206      0             0\n",
       "188      0             0\n",
       "12       1             1\n",
       "219      0             0\n",
       "237      0             0\n",
       "..     ...           ...\n",
       "76       0             0\n",
       "210      0             0\n",
       "223      0             0\n",
       "253      0             0\n",
       "235      0             0\n",
       "\n",
       "[90 rows x 2 columns]"
      ]
     },
     "execution_count": 48,
     "metadata": {},
     "output_type": "execute_result"
    }
   ],
   "source": [
    "test = pd.DataFrame(y_test)\n",
    "test['Predict_Test'] = y_pred_test_hard1\n",
    "test"
   ]
  },
  {
   "cell_type": "markdown",
   "id": "ebc7f2cf",
   "metadata": {},
   "source": [
    "##### Balanced data"
   ]
  },
  {
   "cell_type": "code",
   "execution_count": 49,
   "id": "5565c4d0",
   "metadata": {},
   "outputs": [
    {
     "data": {
      "text/plain": [
       "VotingClassifier(estimators=[('lr',\n",
       "                              LogisticRegression(multi_class='ovr',\n",
       "                                                 solver='liblinear')),\n",
       "                             ('rf', RandomForestClassifier(random_state=42)),\n",
       "                             ('svm',\n",
       "                              SVC(C=100.0, kernel='linear', probability=True)),\n",
       "                             ('dtc',\n",
       "                              DecisionTreeClassifier(criterion='entropy'))])"
      ]
     },
     "execution_count": 49,
     "metadata": {},
     "output_type": "execute_result"
    }
   ],
   "source": [
    "# Fitting model\n",
    "hard_voting.fit(X_train_smo, y_train_smo)"
   ]
  },
  {
   "cell_type": "code",
   "execution_count": 50,
   "id": "e48e362f",
   "metadata": {},
   "outputs": [
    {
     "name": "stdout",
     "output_type": "stream",
     "text": [
      "Training balancing set score   :  0.9361702127659575\n",
      "Testing balancing set score    :  0.7741935483870968\n",
      "Testing imbalanced set score   :  0.8444444444444444\n"
     ]
    }
   ],
   "source": [
    "# mengecek overfitting\n",
    "print('Training balancing set score   : ', hard_voting.score(X_train_smo, y_train_smo))\n",
    "print('Testing balancing set score    : ', hard_voting.score(X_test_smo, y_test_smo))\n",
    "print('Testing imbalanced set score   : ', hard_voting.score(X_test, y_test))"
   ]
  },
  {
   "cell_type": "code",
   "execution_count": 51,
   "id": "38ebcb70",
   "metadata": {},
   "outputs": [],
   "source": [
    "# Predict data\n",
    "y_pred_train_hard2 = hard_voting.predict(X_train_smo)\n",
    "y_pred_test_hard2 = hard_voting.predict(X_test_smo)"
   ]
  },
  {
   "cell_type": "code",
   "execution_count": 52,
   "id": "8eb6d139",
   "metadata": {},
   "outputs": [
    {
     "data": {
      "text/html": [
       "<div>\n",
       "<style scoped>\n",
       "    .dataframe tbody tr th:only-of-type {\n",
       "        vertical-align: middle;\n",
       "    }\n",
       "\n",
       "    .dataframe tbody tr th {\n",
       "        vertical-align: top;\n",
       "    }\n",
       "\n",
       "    .dataframe thead th {\n",
       "        text-align: right;\n",
       "    }\n",
       "</style>\n",
       "<table border=\"1\" class=\"dataframe\">\n",
       "  <thead>\n",
       "    <tr style=\"text-align: right;\">\n",
       "      <th></th>\n",
       "      <th>DEATH</th>\n",
       "      <th>Predict_Train</th>\n",
       "    </tr>\n",
       "  </thead>\n",
       "  <tbody>\n",
       "    <tr>\n",
       "      <th>0</th>\n",
       "      <td>0</td>\n",
       "      <td>0</td>\n",
       "    </tr>\n",
       "    <tr>\n",
       "      <th>1</th>\n",
       "      <td>1</td>\n",
       "      <td>0</td>\n",
       "    </tr>\n",
       "    <tr>\n",
       "      <th>2</th>\n",
       "      <td>0</td>\n",
       "      <td>0</td>\n",
       "    </tr>\n",
       "    <tr>\n",
       "      <th>3</th>\n",
       "      <td>0</td>\n",
       "      <td>0</td>\n",
       "    </tr>\n",
       "    <tr>\n",
       "      <th>4</th>\n",
       "      <td>0</td>\n",
       "      <td>0</td>\n",
       "    </tr>\n",
       "    <tr>\n",
       "      <th>...</th>\n",
       "      <td>...</td>\n",
       "      <td>...</td>\n",
       "    </tr>\n",
       "    <tr>\n",
       "      <th>277</th>\n",
       "      <td>1</td>\n",
       "      <td>1</td>\n",
       "    </tr>\n",
       "    <tr>\n",
       "      <th>278</th>\n",
       "      <td>1</td>\n",
       "      <td>1</td>\n",
       "    </tr>\n",
       "    <tr>\n",
       "      <th>279</th>\n",
       "      <td>1</td>\n",
       "      <td>1</td>\n",
       "    </tr>\n",
       "    <tr>\n",
       "      <th>280</th>\n",
       "      <td>1</td>\n",
       "      <td>1</td>\n",
       "    </tr>\n",
       "    <tr>\n",
       "      <th>281</th>\n",
       "      <td>1</td>\n",
       "      <td>1</td>\n",
       "    </tr>\n",
       "  </tbody>\n",
       "</table>\n",
       "<p>282 rows × 2 columns</p>\n",
       "</div>"
      ],
      "text/plain": [
       "     DEATH  Predict_Train\n",
       "0        0              0\n",
       "1        1              0\n",
       "2        0              0\n",
       "3        0              0\n",
       "4        0              0\n",
       "..     ...            ...\n",
       "277      1              1\n",
       "278      1              1\n",
       "279      1              1\n",
       "280      1              1\n",
       "281      1              1\n",
       "\n",
       "[282 rows x 2 columns]"
      ]
     },
     "execution_count": 52,
     "metadata": {},
     "output_type": "execute_result"
    }
   ],
   "source": [
    "train = pd.DataFrame(y_train_smo)\n",
    "train['Predict_Train'] = y_pred_train_hard2\n",
    "train"
   ]
  },
  {
   "cell_type": "code",
   "execution_count": 53,
   "id": "94a3dbd9",
   "metadata": {},
   "outputs": [
    {
     "data": {
      "text/html": [
       "<div>\n",
       "<style scoped>\n",
       "    .dataframe tbody tr th:only-of-type {\n",
       "        vertical-align: middle;\n",
       "    }\n",
       "\n",
       "    .dataframe tbody tr th {\n",
       "        vertical-align: top;\n",
       "    }\n",
       "\n",
       "    .dataframe thead th {\n",
       "        text-align: right;\n",
       "    }\n",
       "</style>\n",
       "<table border=\"1\" class=\"dataframe\">\n",
       "  <thead>\n",
       "    <tr style=\"text-align: right;\">\n",
       "      <th></th>\n",
       "      <th>DEATH</th>\n",
       "      <th>Predict_Test</th>\n",
       "    </tr>\n",
       "  </thead>\n",
       "  <tbody>\n",
       "    <tr>\n",
       "      <th>0</th>\n",
       "      <td>0</td>\n",
       "      <td>0</td>\n",
       "    </tr>\n",
       "    <tr>\n",
       "      <th>1</th>\n",
       "      <td>0</td>\n",
       "      <td>0</td>\n",
       "    </tr>\n",
       "    <tr>\n",
       "      <th>2</th>\n",
       "      <td>1</td>\n",
       "      <td>1</td>\n",
       "    </tr>\n",
       "    <tr>\n",
       "      <th>3</th>\n",
       "      <td>0</td>\n",
       "      <td>0</td>\n",
       "    </tr>\n",
       "    <tr>\n",
       "      <th>4</th>\n",
       "      <td>0</td>\n",
       "      <td>0</td>\n",
       "    </tr>\n",
       "    <tr>\n",
       "      <th>...</th>\n",
       "      <td>...</td>\n",
       "      <td>...</td>\n",
       "    </tr>\n",
       "    <tr>\n",
       "      <th>119</th>\n",
       "      <td>1</td>\n",
       "      <td>0</td>\n",
       "    </tr>\n",
       "    <tr>\n",
       "      <th>120</th>\n",
       "      <td>1</td>\n",
       "      <td>1</td>\n",
       "    </tr>\n",
       "    <tr>\n",
       "      <th>121</th>\n",
       "      <td>1</td>\n",
       "      <td>1</td>\n",
       "    </tr>\n",
       "    <tr>\n",
       "      <th>122</th>\n",
       "      <td>1</td>\n",
       "      <td>1</td>\n",
       "    </tr>\n",
       "    <tr>\n",
       "      <th>123</th>\n",
       "      <td>1</td>\n",
       "      <td>0</td>\n",
       "    </tr>\n",
       "  </tbody>\n",
       "</table>\n",
       "<p>124 rows × 2 columns</p>\n",
       "</div>"
      ],
      "text/plain": [
       "     DEATH  Predict_Test\n",
       "0        0             0\n",
       "1        0             0\n",
       "2        1             1\n",
       "3        0             0\n",
       "4        0             0\n",
       "..     ...           ...\n",
       "119      1             0\n",
       "120      1             1\n",
       "121      1             1\n",
       "122      1             1\n",
       "123      1             0\n",
       "\n",
       "[124 rows x 2 columns]"
      ]
     },
     "execution_count": 53,
     "metadata": {},
     "output_type": "execute_result"
    }
   ],
   "source": [
    "test = pd.DataFrame(y_test_smo)\n",
    "test['Predict_Test'] = y_pred_test_hard2\n",
    "test"
   ]
  },
  {
   "cell_type": "markdown",
   "id": "8f0f47ce",
   "metadata": {},
   "source": [
    "### Ensemble Soft Voting "
   ]
  },
  {
   "cell_type": "markdown",
   "id": "72b70910",
   "metadata": {},
   "source": [
    "##### Imbalanced Data"
   ]
  },
  {
   "cell_type": "code",
   "execution_count": 54,
   "id": "09d9e3d4",
   "metadata": {},
   "outputs": [
    {
     "data": {
      "text/plain": [
       "VotingClassifier(estimators=[('lr',\n",
       "                              LogisticRegression(multi_class='ovr',\n",
       "                                                 solver='liblinear')),\n",
       "                             ('rf', RandomForestClassifier(random_state=42)),\n",
       "                             ('svm',\n",
       "                              SVC(C=100.0, kernel='linear', probability=True)),\n",
       "                             ('dtc',\n",
       "                              DecisionTreeClassifier(criterion='entropy'))],\n",
       "                 voting='soft')"
      ]
     },
     "execution_count": 54,
     "metadata": {},
     "output_type": "execute_result"
    }
   ],
   "source": [
    "# Fitting Model\n",
    "soft_voting.fit(X_train, y_train)"
   ]
  },
  {
   "cell_type": "code",
   "execution_count": 55,
   "id": "0dbac253",
   "metadata": {},
   "outputs": [
    {
     "name": "stdout",
     "output_type": "stream",
     "text": [
      "Training set score :  0.9856459330143541\n",
      "Testing set score  :  0.8333333333333334\n"
     ]
    }
   ],
   "source": [
    "# mengecek overfitting\n",
    "print('Training set score : ', soft_voting.score(X_train, y_train))\n",
    "print('Testing set score  : ', soft_voting.score(X_test, y_test))"
   ]
  },
  {
   "cell_type": "code",
   "execution_count": 56,
   "id": "c45277b1",
   "metadata": {},
   "outputs": [],
   "source": [
    "# Predict data\n",
    "y_pred_train_soft1 = soft_voting.predict(X_train)\n",
    "y_pred_test_soft1 = soft_voting.predict(X_test)"
   ]
  },
  {
   "cell_type": "code",
   "execution_count": 57,
   "id": "98a9a58e",
   "metadata": {},
   "outputs": [
    {
     "data": {
      "text/html": [
       "<div>\n",
       "<style scoped>\n",
       "    .dataframe tbody tr th:only-of-type {\n",
       "        vertical-align: middle;\n",
       "    }\n",
       "\n",
       "    .dataframe tbody tr th {\n",
       "        vertical-align: top;\n",
       "    }\n",
       "\n",
       "    .dataframe thead th {\n",
       "        text-align: right;\n",
       "    }\n",
       "</style>\n",
       "<table border=\"1\" class=\"dataframe\">\n",
       "  <thead>\n",
       "    <tr style=\"text-align: right;\">\n",
       "      <th></th>\n",
       "      <th>DEATH</th>\n",
       "      <th>Predict_Train</th>\n",
       "    </tr>\n",
       "  </thead>\n",
       "  <tbody>\n",
       "    <tr>\n",
       "      <th>281</th>\n",
       "      <td>0</td>\n",
       "      <td>0</td>\n",
       "    </tr>\n",
       "    <tr>\n",
       "      <th>44</th>\n",
       "      <td>1</td>\n",
       "      <td>1</td>\n",
       "    </tr>\n",
       "    <tr>\n",
       "      <th>241</th>\n",
       "      <td>0</td>\n",
       "      <td>0</td>\n",
       "    </tr>\n",
       "    <tr>\n",
       "      <th>189</th>\n",
       "      <td>0</td>\n",
       "      <td>0</td>\n",
       "    </tr>\n",
       "    <tr>\n",
       "      <th>152</th>\n",
       "      <td>0</td>\n",
       "      <td>0</td>\n",
       "    </tr>\n",
       "    <tr>\n",
       "      <th>...</th>\n",
       "      <td>...</td>\n",
       "      <td>...</td>\n",
       "    </tr>\n",
       "    <tr>\n",
       "      <th>251</th>\n",
       "      <td>0</td>\n",
       "      <td>0</td>\n",
       "    </tr>\n",
       "    <tr>\n",
       "      <th>192</th>\n",
       "      <td>0</td>\n",
       "      <td>0</td>\n",
       "    </tr>\n",
       "    <tr>\n",
       "      <th>117</th>\n",
       "      <td>0</td>\n",
       "      <td>0</td>\n",
       "    </tr>\n",
       "    <tr>\n",
       "      <th>47</th>\n",
       "      <td>1</td>\n",
       "      <td>1</td>\n",
       "    </tr>\n",
       "    <tr>\n",
       "      <th>172</th>\n",
       "      <td>0</td>\n",
       "      <td>0</td>\n",
       "    </tr>\n",
       "  </tbody>\n",
       "</table>\n",
       "<p>209 rows × 2 columns</p>\n",
       "</div>"
      ],
      "text/plain": [
       "     DEATH  Predict_Train\n",
       "281      0              0\n",
       "44       1              1\n",
       "241      0              0\n",
       "189      0              0\n",
       "152      0              0\n",
       "..     ...            ...\n",
       "251      0              0\n",
       "192      0              0\n",
       "117      0              0\n",
       "47       1              1\n",
       "172      0              0\n",
       "\n",
       "[209 rows x 2 columns]"
      ]
     },
     "execution_count": 57,
     "metadata": {},
     "output_type": "execute_result"
    }
   ],
   "source": [
    "train = pd.DataFrame(y_train)\n",
    "train['Predict_Train'] = y_pred_train_soft1\n",
    "train"
   ]
  },
  {
   "cell_type": "code",
   "execution_count": 58,
   "id": "c9d724f2",
   "metadata": {},
   "outputs": [
    {
     "data": {
      "text/html": [
       "<div>\n",
       "<style scoped>\n",
       "    .dataframe tbody tr th:only-of-type {\n",
       "        vertical-align: middle;\n",
       "    }\n",
       "\n",
       "    .dataframe tbody tr th {\n",
       "        vertical-align: top;\n",
       "    }\n",
       "\n",
       "    .dataframe thead th {\n",
       "        text-align: right;\n",
       "    }\n",
       "</style>\n",
       "<table border=\"1\" class=\"dataframe\">\n",
       "  <thead>\n",
       "    <tr style=\"text-align: right;\">\n",
       "      <th></th>\n",
       "      <th>DEATH</th>\n",
       "      <th>Predict_Test</th>\n",
       "    </tr>\n",
       "  </thead>\n",
       "  <tbody>\n",
       "    <tr>\n",
       "      <th>206</th>\n",
       "      <td>0</td>\n",
       "      <td>0</td>\n",
       "    </tr>\n",
       "    <tr>\n",
       "      <th>188</th>\n",
       "      <td>0</td>\n",
       "      <td>0</td>\n",
       "    </tr>\n",
       "    <tr>\n",
       "      <th>12</th>\n",
       "      <td>1</td>\n",
       "      <td>0</td>\n",
       "    </tr>\n",
       "    <tr>\n",
       "      <th>219</th>\n",
       "      <td>0</td>\n",
       "      <td>0</td>\n",
       "    </tr>\n",
       "    <tr>\n",
       "      <th>237</th>\n",
       "      <td>0</td>\n",
       "      <td>0</td>\n",
       "    </tr>\n",
       "    <tr>\n",
       "      <th>...</th>\n",
       "      <td>...</td>\n",
       "      <td>...</td>\n",
       "    </tr>\n",
       "    <tr>\n",
       "      <th>76</th>\n",
       "      <td>0</td>\n",
       "      <td>0</td>\n",
       "    </tr>\n",
       "    <tr>\n",
       "      <th>210</th>\n",
       "      <td>0</td>\n",
       "      <td>0</td>\n",
       "    </tr>\n",
       "    <tr>\n",
       "      <th>223</th>\n",
       "      <td>0</td>\n",
       "      <td>0</td>\n",
       "    </tr>\n",
       "    <tr>\n",
       "      <th>253</th>\n",
       "      <td>0</td>\n",
       "      <td>0</td>\n",
       "    </tr>\n",
       "    <tr>\n",
       "      <th>235</th>\n",
       "      <td>0</td>\n",
       "      <td>0</td>\n",
       "    </tr>\n",
       "  </tbody>\n",
       "</table>\n",
       "<p>90 rows × 2 columns</p>\n",
       "</div>"
      ],
      "text/plain": [
       "     DEATH  Predict_Test\n",
       "206      0             0\n",
       "188      0             0\n",
       "12       1             0\n",
       "219      0             0\n",
       "237      0             0\n",
       "..     ...           ...\n",
       "76       0             0\n",
       "210      0             0\n",
       "223      0             0\n",
       "253      0             0\n",
       "235      0             0\n",
       "\n",
       "[90 rows x 2 columns]"
      ]
     },
     "execution_count": 58,
     "metadata": {},
     "output_type": "execute_result"
    }
   ],
   "source": [
    "test = pd.DataFrame(y_test)\n",
    "test['Predict_Test'] = y_pred_test_soft1\n",
    "test"
   ]
  },
  {
   "cell_type": "markdown",
   "id": "e917877b",
   "metadata": {},
   "source": [
    "##### Balanced data"
   ]
  },
  {
   "cell_type": "code",
   "execution_count": 59,
   "id": "0fe77d27",
   "metadata": {},
   "outputs": [
    {
     "data": {
      "text/plain": [
       "VotingClassifier(estimators=[('lr',\n",
       "                              LogisticRegression(multi_class='ovr',\n",
       "                                                 solver='liblinear')),\n",
       "                             ('rf', RandomForestClassifier(random_state=42)),\n",
       "                             ('svm',\n",
       "                              SVC(C=100.0, kernel='linear', probability=True)),\n",
       "                             ('dtc',\n",
       "                              DecisionTreeClassifier(criterion='entropy'))],\n",
       "                 voting='soft')"
      ]
     },
     "execution_count": 59,
     "metadata": {},
     "output_type": "execute_result"
    }
   ],
   "source": [
    "# Fitting Model\n",
    "soft_voting.fit(X_train_smo, y_train_smo)"
   ]
  },
  {
   "cell_type": "code",
   "execution_count": 60,
   "id": "278c898a",
   "metadata": {},
   "outputs": [
    {
     "name": "stdout",
     "output_type": "stream",
     "text": [
      "Training balancing set score :  0.9787234042553191\n",
      "Testing balancing set score  :  0.7741935483870968\n",
      "Testing imbalanced set score :  0.8333333333333334\n"
     ]
    }
   ],
   "source": [
    "# mengecek overfitting\n",
    "print('Training balancing set score : ', soft_voting.score(X_train_smo, y_train_smo))\n",
    "print('Testing balancing set score  : ', hard_voting.score(X_test_smo, y_test_smo))\n",
    "print('Testing imbalanced set score : ', soft_voting.score(X_test, y_test))"
   ]
  },
  {
   "cell_type": "code",
   "execution_count": 61,
   "id": "e09b1599",
   "metadata": {},
   "outputs": [],
   "source": [
    "# Predict data\n",
    "y_pred_train_soft2 = soft_voting.predict(X_train_smo)\n",
    "y_pred_test_soft2 = soft_voting.predict(X_test_smo)"
   ]
  },
  {
   "cell_type": "code",
   "execution_count": 62,
   "id": "fd3e3f12",
   "metadata": {},
   "outputs": [
    {
     "data": {
      "text/html": [
       "<div>\n",
       "<style scoped>\n",
       "    .dataframe tbody tr th:only-of-type {\n",
       "        vertical-align: middle;\n",
       "    }\n",
       "\n",
       "    .dataframe tbody tr th {\n",
       "        vertical-align: top;\n",
       "    }\n",
       "\n",
       "    .dataframe thead th {\n",
       "        text-align: right;\n",
       "    }\n",
       "</style>\n",
       "<table border=\"1\" class=\"dataframe\">\n",
       "  <thead>\n",
       "    <tr style=\"text-align: right;\">\n",
       "      <th></th>\n",
       "      <th>DEATH</th>\n",
       "      <th>Predict_Train</th>\n",
       "    </tr>\n",
       "  </thead>\n",
       "  <tbody>\n",
       "    <tr>\n",
       "      <th>0</th>\n",
       "      <td>0</td>\n",
       "      <td>0</td>\n",
       "    </tr>\n",
       "    <tr>\n",
       "      <th>1</th>\n",
       "      <td>1</td>\n",
       "      <td>1</td>\n",
       "    </tr>\n",
       "    <tr>\n",
       "      <th>2</th>\n",
       "      <td>0</td>\n",
       "      <td>0</td>\n",
       "    </tr>\n",
       "    <tr>\n",
       "      <th>3</th>\n",
       "      <td>0</td>\n",
       "      <td>0</td>\n",
       "    </tr>\n",
       "    <tr>\n",
       "      <th>4</th>\n",
       "      <td>0</td>\n",
       "      <td>0</td>\n",
       "    </tr>\n",
       "    <tr>\n",
       "      <th>...</th>\n",
       "      <td>...</td>\n",
       "      <td>...</td>\n",
       "    </tr>\n",
       "    <tr>\n",
       "      <th>277</th>\n",
       "      <td>1</td>\n",
       "      <td>1</td>\n",
       "    </tr>\n",
       "    <tr>\n",
       "      <th>278</th>\n",
       "      <td>1</td>\n",
       "      <td>1</td>\n",
       "    </tr>\n",
       "    <tr>\n",
       "      <th>279</th>\n",
       "      <td>1</td>\n",
       "      <td>1</td>\n",
       "    </tr>\n",
       "    <tr>\n",
       "      <th>280</th>\n",
       "      <td>1</td>\n",
       "      <td>1</td>\n",
       "    </tr>\n",
       "    <tr>\n",
       "      <th>281</th>\n",
       "      <td>1</td>\n",
       "      <td>1</td>\n",
       "    </tr>\n",
       "  </tbody>\n",
       "</table>\n",
       "<p>282 rows × 2 columns</p>\n",
       "</div>"
      ],
      "text/plain": [
       "     DEATH  Predict_Train\n",
       "0        0              0\n",
       "1        1              1\n",
       "2        0              0\n",
       "3        0              0\n",
       "4        0              0\n",
       "..     ...            ...\n",
       "277      1              1\n",
       "278      1              1\n",
       "279      1              1\n",
       "280      1              1\n",
       "281      1              1\n",
       "\n",
       "[282 rows x 2 columns]"
      ]
     },
     "execution_count": 62,
     "metadata": {},
     "output_type": "execute_result"
    }
   ],
   "source": [
    "train = pd.DataFrame(y_train_smo)\n",
    "train['Predict_Train'] = y_pred_train_soft2\n",
    "train"
   ]
  },
  {
   "cell_type": "code",
   "execution_count": 63,
   "id": "6027a951",
   "metadata": {},
   "outputs": [
    {
     "data": {
      "text/html": [
       "<div>\n",
       "<style scoped>\n",
       "    .dataframe tbody tr th:only-of-type {\n",
       "        vertical-align: middle;\n",
       "    }\n",
       "\n",
       "    .dataframe tbody tr th {\n",
       "        vertical-align: top;\n",
       "    }\n",
       "\n",
       "    .dataframe thead th {\n",
       "        text-align: right;\n",
       "    }\n",
       "</style>\n",
       "<table border=\"1\" class=\"dataframe\">\n",
       "  <thead>\n",
       "    <tr style=\"text-align: right;\">\n",
       "      <th></th>\n",
       "      <th>DEATH</th>\n",
       "      <th>Predict_Test</th>\n",
       "    </tr>\n",
       "  </thead>\n",
       "  <tbody>\n",
       "    <tr>\n",
       "      <th>0</th>\n",
       "      <td>0</td>\n",
       "      <td>0</td>\n",
       "    </tr>\n",
       "    <tr>\n",
       "      <th>1</th>\n",
       "      <td>0</td>\n",
       "      <td>0</td>\n",
       "    </tr>\n",
       "    <tr>\n",
       "      <th>2</th>\n",
       "      <td>1</td>\n",
       "      <td>0</td>\n",
       "    </tr>\n",
       "    <tr>\n",
       "      <th>3</th>\n",
       "      <td>0</td>\n",
       "      <td>0</td>\n",
       "    </tr>\n",
       "    <tr>\n",
       "      <th>4</th>\n",
       "      <td>0</td>\n",
       "      <td>0</td>\n",
       "    </tr>\n",
       "    <tr>\n",
       "      <th>...</th>\n",
       "      <td>...</td>\n",
       "      <td>...</td>\n",
       "    </tr>\n",
       "    <tr>\n",
       "      <th>119</th>\n",
       "      <td>1</td>\n",
       "      <td>0</td>\n",
       "    </tr>\n",
       "    <tr>\n",
       "      <th>120</th>\n",
       "      <td>1</td>\n",
       "      <td>1</td>\n",
       "    </tr>\n",
       "    <tr>\n",
       "      <th>121</th>\n",
       "      <td>1</td>\n",
       "      <td>1</td>\n",
       "    </tr>\n",
       "    <tr>\n",
       "      <th>122</th>\n",
       "      <td>1</td>\n",
       "      <td>1</td>\n",
       "    </tr>\n",
       "    <tr>\n",
       "      <th>123</th>\n",
       "      <td>1</td>\n",
       "      <td>1</td>\n",
       "    </tr>\n",
       "  </tbody>\n",
       "</table>\n",
       "<p>124 rows × 2 columns</p>\n",
       "</div>"
      ],
      "text/plain": [
       "     DEATH  Predict_Test\n",
       "0        0             0\n",
       "1        0             0\n",
       "2        1             0\n",
       "3        0             0\n",
       "4        0             0\n",
       "..     ...           ...\n",
       "119      1             0\n",
       "120      1             1\n",
       "121      1             1\n",
       "122      1             1\n",
       "123      1             1\n",
       "\n",
       "[124 rows x 2 columns]"
      ]
     },
     "execution_count": 63,
     "metadata": {},
     "output_type": "execute_result"
    }
   ],
   "source": [
    "test = pd.DataFrame(y_test_smo)\n",
    "test['Predict_Test'] = y_pred_test_soft2\n",
    "test"
   ]
  },
  {
   "cell_type": "markdown",
   "id": "7ca30c9a",
   "metadata": {},
   "source": [
    "### Ensemble Stacking"
   ]
  },
  {
   "cell_type": "markdown",
   "id": "b7c39ad6",
   "metadata": {},
   "source": [
    "##### Imbalanced Data"
   ]
  },
  {
   "cell_type": "code",
   "execution_count": 64,
   "id": "0a2b4c4c",
   "metadata": {},
   "outputs": [
    {
     "data": {
      "text/plain": [
       "StackingClassifier(estimators=[('lr',\n",
       "                                LogisticRegression(multi_class='ovr',\n",
       "                                                   solver='liblinear')),\n",
       "                               ('rf', RandomForestClassifier(random_state=42)),\n",
       "                               ('svm',\n",
       "                                SVC(C=100.0, kernel='linear',\n",
       "                                    probability=True)),\n",
       "                               ('dtc',\n",
       "                                DecisionTreeClassifier(criterion='entropy'))])"
      ]
     },
     "execution_count": 64,
     "metadata": {},
     "output_type": "execute_result"
    }
   ],
   "source": [
    "# ensemble stacking \n",
    "stacking.fit(X_train, y_train)"
   ]
  },
  {
   "cell_type": "code",
   "execution_count": 65,
   "id": "e5b22ed2",
   "metadata": {},
   "outputs": [
    {
     "name": "stdout",
     "output_type": "stream",
     "text": [
      "Training set score :  0.9521531100478469\n",
      "Testing set score  :  0.8555555555555555\n"
     ]
    }
   ],
   "source": [
    "# mengecek overfitting\n",
    "print('Training set score : ', stacking.score(X_train, y_train))\n",
    "print('Testing set score  : ', stacking.score(X_test, y_test))"
   ]
  },
  {
   "cell_type": "code",
   "execution_count": 66,
   "id": "a3a57ab6",
   "metadata": {},
   "outputs": [],
   "source": [
    "# Predict data\n",
    "y_pred_train_stacking1 = stacking.predict(X_train)\n",
    "y_pred_test_stacking1 = stacking.predict(X_test)"
   ]
  },
  {
   "cell_type": "code",
   "execution_count": 67,
   "id": "21e34a66",
   "metadata": {},
   "outputs": [
    {
     "data": {
      "text/html": [
       "<div>\n",
       "<style scoped>\n",
       "    .dataframe tbody tr th:only-of-type {\n",
       "        vertical-align: middle;\n",
       "    }\n",
       "\n",
       "    .dataframe tbody tr th {\n",
       "        vertical-align: top;\n",
       "    }\n",
       "\n",
       "    .dataframe thead th {\n",
       "        text-align: right;\n",
       "    }\n",
       "</style>\n",
       "<table border=\"1\" class=\"dataframe\">\n",
       "  <thead>\n",
       "    <tr style=\"text-align: right;\">\n",
       "      <th></th>\n",
       "      <th>DEATH</th>\n",
       "      <th>Predict_Train</th>\n",
       "    </tr>\n",
       "  </thead>\n",
       "  <tbody>\n",
       "    <tr>\n",
       "      <th>281</th>\n",
       "      <td>0</td>\n",
       "      <td>0</td>\n",
       "    </tr>\n",
       "    <tr>\n",
       "      <th>44</th>\n",
       "      <td>1</td>\n",
       "      <td>1</td>\n",
       "    </tr>\n",
       "    <tr>\n",
       "      <th>241</th>\n",
       "      <td>0</td>\n",
       "      <td>0</td>\n",
       "    </tr>\n",
       "    <tr>\n",
       "      <th>189</th>\n",
       "      <td>0</td>\n",
       "      <td>0</td>\n",
       "    </tr>\n",
       "    <tr>\n",
       "      <th>152</th>\n",
       "      <td>0</td>\n",
       "      <td>0</td>\n",
       "    </tr>\n",
       "    <tr>\n",
       "      <th>...</th>\n",
       "      <td>...</td>\n",
       "      <td>...</td>\n",
       "    </tr>\n",
       "    <tr>\n",
       "      <th>251</th>\n",
       "      <td>0</td>\n",
       "      <td>0</td>\n",
       "    </tr>\n",
       "    <tr>\n",
       "      <th>192</th>\n",
       "      <td>0</td>\n",
       "      <td>0</td>\n",
       "    </tr>\n",
       "    <tr>\n",
       "      <th>117</th>\n",
       "      <td>0</td>\n",
       "      <td>0</td>\n",
       "    </tr>\n",
       "    <tr>\n",
       "      <th>47</th>\n",
       "      <td>1</td>\n",
       "      <td>1</td>\n",
       "    </tr>\n",
       "    <tr>\n",
       "      <th>172</th>\n",
       "      <td>0</td>\n",
       "      <td>0</td>\n",
       "    </tr>\n",
       "  </tbody>\n",
       "</table>\n",
       "<p>209 rows × 2 columns</p>\n",
       "</div>"
      ],
      "text/plain": [
       "     DEATH  Predict_Train\n",
       "281      0              0\n",
       "44       1              1\n",
       "241      0              0\n",
       "189      0              0\n",
       "152      0              0\n",
       "..     ...            ...\n",
       "251      0              0\n",
       "192      0              0\n",
       "117      0              0\n",
       "47       1              1\n",
       "172      0              0\n",
       "\n",
       "[209 rows x 2 columns]"
      ]
     },
     "execution_count": 67,
     "metadata": {},
     "output_type": "execute_result"
    }
   ],
   "source": [
    "train = pd.DataFrame(y_train)\n",
    "train['Predict_Train'] = y_pred_train_stacking1\n",
    "train"
   ]
  },
  {
   "cell_type": "code",
   "execution_count": 68,
   "id": "2f064238",
   "metadata": {},
   "outputs": [
    {
     "data": {
      "text/html": [
       "<div>\n",
       "<style scoped>\n",
       "    .dataframe tbody tr th:only-of-type {\n",
       "        vertical-align: middle;\n",
       "    }\n",
       "\n",
       "    .dataframe tbody tr th {\n",
       "        vertical-align: top;\n",
       "    }\n",
       "\n",
       "    .dataframe thead th {\n",
       "        text-align: right;\n",
       "    }\n",
       "</style>\n",
       "<table border=\"1\" class=\"dataframe\">\n",
       "  <thead>\n",
       "    <tr style=\"text-align: right;\">\n",
       "      <th></th>\n",
       "      <th>DEATH</th>\n",
       "      <th>Predict_Test</th>\n",
       "    </tr>\n",
       "  </thead>\n",
       "  <tbody>\n",
       "    <tr>\n",
       "      <th>206</th>\n",
       "      <td>0</td>\n",
       "      <td>0</td>\n",
       "    </tr>\n",
       "    <tr>\n",
       "      <th>188</th>\n",
       "      <td>0</td>\n",
       "      <td>0</td>\n",
       "    </tr>\n",
       "    <tr>\n",
       "      <th>12</th>\n",
       "      <td>1</td>\n",
       "      <td>1</td>\n",
       "    </tr>\n",
       "    <tr>\n",
       "      <th>219</th>\n",
       "      <td>0</td>\n",
       "      <td>0</td>\n",
       "    </tr>\n",
       "    <tr>\n",
       "      <th>237</th>\n",
       "      <td>0</td>\n",
       "      <td>0</td>\n",
       "    </tr>\n",
       "    <tr>\n",
       "      <th>...</th>\n",
       "      <td>...</td>\n",
       "      <td>...</td>\n",
       "    </tr>\n",
       "    <tr>\n",
       "      <th>76</th>\n",
       "      <td>0</td>\n",
       "      <td>0</td>\n",
       "    </tr>\n",
       "    <tr>\n",
       "      <th>210</th>\n",
       "      <td>0</td>\n",
       "      <td>0</td>\n",
       "    </tr>\n",
       "    <tr>\n",
       "      <th>223</th>\n",
       "      <td>0</td>\n",
       "      <td>0</td>\n",
       "    </tr>\n",
       "    <tr>\n",
       "      <th>253</th>\n",
       "      <td>0</td>\n",
       "      <td>0</td>\n",
       "    </tr>\n",
       "    <tr>\n",
       "      <th>235</th>\n",
       "      <td>0</td>\n",
       "      <td>0</td>\n",
       "    </tr>\n",
       "  </tbody>\n",
       "</table>\n",
       "<p>90 rows × 2 columns</p>\n",
       "</div>"
      ],
      "text/plain": [
       "     DEATH  Predict_Test\n",
       "206      0             0\n",
       "188      0             0\n",
       "12       1             1\n",
       "219      0             0\n",
       "237      0             0\n",
       "..     ...           ...\n",
       "76       0             0\n",
       "210      0             0\n",
       "223      0             0\n",
       "253      0             0\n",
       "235      0             0\n",
       "\n",
       "[90 rows x 2 columns]"
      ]
     },
     "execution_count": 68,
     "metadata": {},
     "output_type": "execute_result"
    }
   ],
   "source": [
    "test = pd.DataFrame(y_test)\n",
    "test['Predict_Test'] = y_pred_test_stacking1\n",
    "test"
   ]
  },
  {
   "cell_type": "markdown",
   "id": "58d73d29",
   "metadata": {},
   "source": [
    "##### Balanced Data"
   ]
  },
  {
   "cell_type": "code",
   "execution_count": 69,
   "id": "bd207786",
   "metadata": {},
   "outputs": [
    {
     "data": {
      "text/plain": [
       "StackingClassifier(estimators=[('lr',\n",
       "                                LogisticRegression(multi_class='ovr',\n",
       "                                                   solver='liblinear')),\n",
       "                               ('rf', RandomForestClassifier(random_state=42)),\n",
       "                               ('svm',\n",
       "                                SVC(C=100.0, kernel='linear',\n",
       "                                    probability=True)),\n",
       "                               ('dtc',\n",
       "                                DecisionTreeClassifier(criterion='entropy'))])"
      ]
     },
     "execution_count": 69,
     "metadata": {},
     "output_type": "execute_result"
    }
   ],
   "source": [
    "# Voting Classifier with hard voting \n",
    "stacking.fit(X_train_smo, y_train_smo)"
   ]
  },
  {
   "cell_type": "code",
   "execution_count": 70,
   "id": "6e02147d",
   "metadata": {},
   "outputs": [
    {
     "name": "stdout",
     "output_type": "stream",
     "text": [
      "Training balancing set score :  1.0\n",
      "Testing balancing set score  :  0.7741935483870968\n",
      "Testing imbalanced set score :  0.8444444444444444\n"
     ]
    }
   ],
   "source": [
    "# mengecek overfitting\n",
    "print('Training balancing set score : ', stacking.score(X_train_smo, y_train_smo))\n",
    "print('Testing balancing set score  : ', hard_voting.score(X_test_smo, y_test_smo))\n",
    "print('Testing imbalanced set score : ', stacking.score(X_test, y_test))"
   ]
  },
  {
   "cell_type": "code",
   "execution_count": 71,
   "id": "08237410",
   "metadata": {},
   "outputs": [],
   "source": [
    "# Predict data\n",
    "y_pred_train_stacking2 = stacking.predict(X_train_smo)\n",
    "y_pred_test_stacking2 = stacking.predict(X_test_smo)"
   ]
  },
  {
   "cell_type": "code",
   "execution_count": 72,
   "id": "8653a183",
   "metadata": {},
   "outputs": [
    {
     "data": {
      "text/html": [
       "<div>\n",
       "<style scoped>\n",
       "    .dataframe tbody tr th:only-of-type {\n",
       "        vertical-align: middle;\n",
       "    }\n",
       "\n",
       "    .dataframe tbody tr th {\n",
       "        vertical-align: top;\n",
       "    }\n",
       "\n",
       "    .dataframe thead th {\n",
       "        text-align: right;\n",
       "    }\n",
       "</style>\n",
       "<table border=\"1\" class=\"dataframe\">\n",
       "  <thead>\n",
       "    <tr style=\"text-align: right;\">\n",
       "      <th></th>\n",
       "      <th>DEATH</th>\n",
       "      <th>Predict_Train</th>\n",
       "    </tr>\n",
       "  </thead>\n",
       "  <tbody>\n",
       "    <tr>\n",
       "      <th>0</th>\n",
       "      <td>0</td>\n",
       "      <td>0</td>\n",
       "    </tr>\n",
       "    <tr>\n",
       "      <th>1</th>\n",
       "      <td>1</td>\n",
       "      <td>1</td>\n",
       "    </tr>\n",
       "    <tr>\n",
       "      <th>2</th>\n",
       "      <td>0</td>\n",
       "      <td>0</td>\n",
       "    </tr>\n",
       "    <tr>\n",
       "      <th>3</th>\n",
       "      <td>0</td>\n",
       "      <td>0</td>\n",
       "    </tr>\n",
       "    <tr>\n",
       "      <th>4</th>\n",
       "      <td>0</td>\n",
       "      <td>0</td>\n",
       "    </tr>\n",
       "    <tr>\n",
       "      <th>...</th>\n",
       "      <td>...</td>\n",
       "      <td>...</td>\n",
       "    </tr>\n",
       "    <tr>\n",
       "      <th>277</th>\n",
       "      <td>1</td>\n",
       "      <td>1</td>\n",
       "    </tr>\n",
       "    <tr>\n",
       "      <th>278</th>\n",
       "      <td>1</td>\n",
       "      <td>1</td>\n",
       "    </tr>\n",
       "    <tr>\n",
       "      <th>279</th>\n",
       "      <td>1</td>\n",
       "      <td>1</td>\n",
       "    </tr>\n",
       "    <tr>\n",
       "      <th>280</th>\n",
       "      <td>1</td>\n",
       "      <td>1</td>\n",
       "    </tr>\n",
       "    <tr>\n",
       "      <th>281</th>\n",
       "      <td>1</td>\n",
       "      <td>1</td>\n",
       "    </tr>\n",
       "  </tbody>\n",
       "</table>\n",
       "<p>282 rows × 2 columns</p>\n",
       "</div>"
      ],
      "text/plain": [
       "     DEATH  Predict_Train\n",
       "0        0              0\n",
       "1        1              1\n",
       "2        0              0\n",
       "3        0              0\n",
       "4        0              0\n",
       "..     ...            ...\n",
       "277      1              1\n",
       "278      1              1\n",
       "279      1              1\n",
       "280      1              1\n",
       "281      1              1\n",
       "\n",
       "[282 rows x 2 columns]"
      ]
     },
     "execution_count": 72,
     "metadata": {},
     "output_type": "execute_result"
    }
   ],
   "source": [
    "train = pd.DataFrame(y_train_smo)\n",
    "train['Predict_Train'] = y_pred_train_stacking2\n",
    "train"
   ]
  },
  {
   "cell_type": "code",
   "execution_count": 73,
   "id": "091acce8",
   "metadata": {},
   "outputs": [
    {
     "data": {
      "text/html": [
       "<div>\n",
       "<style scoped>\n",
       "    .dataframe tbody tr th:only-of-type {\n",
       "        vertical-align: middle;\n",
       "    }\n",
       "\n",
       "    .dataframe tbody tr th {\n",
       "        vertical-align: top;\n",
       "    }\n",
       "\n",
       "    .dataframe thead th {\n",
       "        text-align: right;\n",
       "    }\n",
       "</style>\n",
       "<table border=\"1\" class=\"dataframe\">\n",
       "  <thead>\n",
       "    <tr style=\"text-align: right;\">\n",
       "      <th></th>\n",
       "      <th>DEATH</th>\n",
       "      <th>Predict_Test</th>\n",
       "    </tr>\n",
       "  </thead>\n",
       "  <tbody>\n",
       "    <tr>\n",
       "      <th>0</th>\n",
       "      <td>0</td>\n",
       "      <td>0</td>\n",
       "    </tr>\n",
       "    <tr>\n",
       "      <th>1</th>\n",
       "      <td>0</td>\n",
       "      <td>0</td>\n",
       "    </tr>\n",
       "    <tr>\n",
       "      <th>2</th>\n",
       "      <td>1</td>\n",
       "      <td>1</td>\n",
       "    </tr>\n",
       "    <tr>\n",
       "      <th>3</th>\n",
       "      <td>0</td>\n",
       "      <td>0</td>\n",
       "    </tr>\n",
       "    <tr>\n",
       "      <th>4</th>\n",
       "      <td>0</td>\n",
       "      <td>0</td>\n",
       "    </tr>\n",
       "    <tr>\n",
       "      <th>...</th>\n",
       "      <td>...</td>\n",
       "      <td>...</td>\n",
       "    </tr>\n",
       "    <tr>\n",
       "      <th>119</th>\n",
       "      <td>1</td>\n",
       "      <td>0</td>\n",
       "    </tr>\n",
       "    <tr>\n",
       "      <th>120</th>\n",
       "      <td>1</td>\n",
       "      <td>1</td>\n",
       "    </tr>\n",
       "    <tr>\n",
       "      <th>121</th>\n",
       "      <td>1</td>\n",
       "      <td>1</td>\n",
       "    </tr>\n",
       "    <tr>\n",
       "      <th>122</th>\n",
       "      <td>1</td>\n",
       "      <td>1</td>\n",
       "    </tr>\n",
       "    <tr>\n",
       "      <th>123</th>\n",
       "      <td>1</td>\n",
       "      <td>1</td>\n",
       "    </tr>\n",
       "  </tbody>\n",
       "</table>\n",
       "<p>124 rows × 2 columns</p>\n",
       "</div>"
      ],
      "text/plain": [
       "     DEATH  Predict_Test\n",
       "0        0             0\n",
       "1        0             0\n",
       "2        1             1\n",
       "3        0             0\n",
       "4        0             0\n",
       "..     ...           ...\n",
       "119      1             0\n",
       "120      1             1\n",
       "121      1             1\n",
       "122      1             1\n",
       "123      1             1\n",
       "\n",
       "[124 rows x 2 columns]"
      ]
     },
     "execution_count": 73,
     "metadata": {},
     "output_type": "execute_result"
    }
   ],
   "source": [
    "test = pd.DataFrame(y_test_smo)\n",
    "test['Predict_Test'] = y_pred_test_stacking2\n",
    "test"
   ]
  },
  {
   "cell_type": "markdown",
   "id": "30052209",
   "metadata": {},
   "source": [
    "### Ensemble Boosting"
   ]
  },
  {
   "cell_type": "code",
   "execution_count": 74,
   "id": "d1bc8e75",
   "metadata": {},
   "outputs": [
    {
     "data": {
      "text/plain": [
       "GradientBoostingClassifier(learning_rate=0.5, max_depth=5, n_estimators=200,\n",
       "                           random_state=42)"
      ]
     },
     "execution_count": 74,
     "metadata": {},
     "output_type": "execute_result"
    }
   ],
   "source": [
    "model1.fit(X_train, y_train)\n",
    "model2.fit(X_train, y_train)\n",
    "model3.fit(X_train, y_train)"
   ]
  },
  {
   "cell_type": "code",
   "execution_count": 75,
   "id": "322ac93f",
   "metadata": {},
   "outputs": [
    {
     "name": "stdout",
     "output_type": "stream",
     "text": [
      "Accuracy Ensemble Boosting : 87.78%\n"
     ]
    }
   ],
   "source": [
    "# Make predictions using individual models\n",
    "y_pred1 = model1.predict(X_test)\n",
    "y_pred2 = model2.predict(X_test)\n",
    "y_pred3 = model3.predict(X_test)\n",
    "\n",
    "# Combine predictions using averaging\n",
    "ensemble_predictions = (y_pred1 + y_pred2 + y_pred3) / 3\n",
    "\n",
    "# Convert probabilities to binary predictions\n",
    "ensemble_predictions = np.round(ensemble_predictions)\n",
    "\n",
    "# Evaluate accuracy of ensemble predictions\n",
    "accuracy = accuracy_score(y_test, ensemble_predictions)\n",
    "print(\"Accuracy Ensemble Boosting : {:.2f}%\".format(accuracy * 100))"
   ]
  },
  {
   "cell_type": "markdown",
   "id": "344a6444",
   "metadata": {},
   "source": [
    "# Evaluasi Model"
   ]
  },
  {
   "cell_type": "markdown",
   "id": "d8e746b4",
   "metadata": {},
   "source": [
    "### Ensemble Hard Voting "
   ]
  },
  {
   "cell_type": "markdown",
   "id": "39ed35f9",
   "metadata": {},
   "source": [
    "##### Imbalanced Data"
   ]
  },
  {
   "cell_type": "code",
   "execution_count": 76,
   "id": "55062255",
   "metadata": {},
   "outputs": [
    {
     "name": "stdout",
     "output_type": "stream",
     "text": [
      "Accuracy score data train model Hard Voting : 0.9186602870813397\n",
      "Accuracy score data test model Hard Voting  : 0.8222222222222222\n"
     ]
    }
   ],
   "source": [
    "print('Accuracy score data train model Hard Voting :',accuracy_score(y_train, y_pred_train_hard1))\n",
    "print('Accuracy score data test model Hard Voting  :',accuracy_score(y_test, y_pred_test_hard1))"
   ]
  },
  {
   "cell_type": "code",
   "execution_count": 77,
   "id": "f79c0afc",
   "metadata": {},
   "outputs": [
    {
     "name": "stdout",
     "output_type": "stream",
     "text": [
      "\n",
      "Hasil Classification Report Hard Voting Imbalanced\n",
      "\n",
      "              precision    recall  f1-score   support\n",
      "\n",
      "           0       0.81      0.97      0.88        62\n",
      "           1       0.88      0.50      0.64        28\n",
      "\n",
      "    accuracy                           0.82        90\n",
      "   macro avg       0.84      0.73      0.76        90\n",
      "weighted avg       0.83      0.82      0.81        90\n",
      "\n"
     ]
    }
   ],
   "source": [
    "print('\\nHasil Classification Report Hard Voting Imbalanced\\n')\n",
    "print(classification_report(y_test,y_pred_test_hard1)) "
   ]
  },
  {
   "cell_type": "code",
   "execution_count": 78,
   "id": "b6de41d3",
   "metadata": {},
   "outputs": [
    {
     "data": {
      "image/png": "[encoded data removed]",
      "text/plain": [
       "<Figure size 432x288 with 2 Axes>"
      ]
     },
     "metadata": {
      "needs_background": "light"
     },
     "output_type": "display_data"
    }
   ],
   "source": [
    "cm_hard = confusion_matrix(y_test,y_pred_test_hard1)\n",
    "ax= plt.subplot()\n",
    "sns.heatmap(cm_hard, annot=True, fmt='g', cmap=\"GnBu\", ax=ax);  #annot=True to annotate cells, ftm='g' to disable scientific notation\n",
    "\n",
    "# labels, title and ticks\n",
    "ax.set_xlabel('Predicted labels');ax.set_ylabel('True labels'); \n",
    "ax.set_title('Confusion Matrix Ensemble Hard Voting\\n', y=1.02, fontsize=13); \n",
    "ax.xaxis.set_ticklabels(['No', 'Yes']); ax.yaxis.set_ticklabels(['No', 'Yes']);"
   ]
  },
  {
   "cell_type": "markdown",
   "id": "f42e8ebb",
   "metadata": {},
   "source": [
    "Dari hasil analisis nilai recall sebesar 0.97 (:0) dan 0.50 (:1) cukup besar selisih dengan nilai precision yaitu 0.81 (:0) dan 0.88 (:1), sehingga model masih kurang cukup baik dalam memprediksi. Untuk membuat model semakin akurat selisih antara nilai recall dan precision harus semakin kecil lagi.\n",
    "\n",
    "Dari Counfusion Matrix diketahuin bahwa True Negatif (TN) sebanyak 14 = false negatif (FN), false positif (FP) sebanyak 2, dan true positif (TP) sebanyak 60."
   ]
  },
  {
   "cell_type": "markdown",
   "id": "2dceb79b",
   "metadata": {},
   "source": [
    "##### Balanced Data"
   ]
  },
  {
   "cell_type": "code",
   "execution_count": 79,
   "id": "0a5c21f1",
   "metadata": {},
   "outputs": [
    {
     "name": "stdout",
     "output_type": "stream",
     "text": [
      "Accuracy score data train balanced model Hard Voting  : 0.9361702127659575\n",
      "Accuracy score data test balanced model Hard Voting   : 0.7741935483870968\n"
     ]
    }
   ],
   "source": [
    "print('Accuracy score data train balanced model Hard Voting  :',accuracy_score(y_train_smo, y_pred_train_hard2))\n",
    "print('Accuracy score data test balanced model Hard Voting   :',accuracy_score(y_test_smo, y_pred_test_hard2))"
   ]
  },
  {
   "cell_type": "code",
   "execution_count": 80,
   "id": "2d350299",
   "metadata": {},
   "outputs": [
    {
     "name": "stdout",
     "output_type": "stream",
     "text": [
      "\n",
      "Hasil Classification Report Hard Voting Balanced\n",
      "\n",
      "              precision    recall  f1-score   support\n",
      "\n",
      "           0       0.71      0.94      0.81        62\n",
      "           1       0.90      0.61      0.73        62\n",
      "\n",
      "    accuracy                           0.77       124\n",
      "   macro avg       0.81      0.77      0.77       124\n",
      "weighted avg       0.81      0.77      0.77       124\n",
      "\n"
     ]
    }
   ],
   "source": [
    "print('\\nHasil Classification Report Hard Voting Balanced\\n')\n",
    "print(classification_report(y_test_smo ,y_pred_test_hard2)) "
   ]
  },
  {
   "cell_type": "code",
   "execution_count": 81,
   "id": "6d6c11f8",
   "metadata": {},
   "outputs": [
    {
     "data": {
      "image/png": "[encoded data removed]",
      "text/plain": [
       "<Figure size 432x288 with 2 Axes>"
      ]
     },
     "metadata": {
      "needs_background": "light"
     },
     "output_type": "display_data"
    }
   ],
   "source": [
    "cm_hard = confusion_matrix(y_test_smo ,y_pred_test_hard2)\n",
    "ax= plt.subplot()\n",
    "sns.heatmap(cm_hard, annot=True, fmt='g', cmap=\"GnBu\", ax=ax);  #annot=True to annotate cells, ftm='g' to disable scientific notation\n",
    "\n",
    "# labels, title and ticks\n",
    "ax.set_xlabel('Predicted labels');ax.set_ylabel('True labels'); \n",
    "ax.set_title('CM Ensemble hard voting Balanced\\n', y=1.02, fontsize=15); \n",
    "ax.xaxis.set_ticklabels(['No', 'Yes']); ax.yaxis.set_ticklabels(['No', 'Yes']);"
   ]
  },
  {
   "cell_type": "markdown",
   "id": "f2a33a4f",
   "metadata": {},
   "source": [
    "Dari hasil analisis nilai recall sebesar 0.94 (:0) dan 0.61 (:1) cukup besar selisih dengan nilai precision yaitu 0.71 (:0) dan 0.90 (:1), sehingga model masih kurang cukup baik dalam memprediksi. Untuk membuat model semakin akurat selisih antara nilai recall dan precision harus semakin kecil lagi.\n",
    "\n",
    "Dari Counfusion Matrix diketahuin bahwa True Negatif (TN) sebanyak 38, false negatif (FN) sebanyak 24, false positif (FP) sebanyak 4, dan true positif (TP) sebanyak 58."
   ]
  },
  {
   "cell_type": "markdown",
   "id": "a5ab7a0b",
   "metadata": {},
   "source": [
    "### Ensemble Soft Voting"
   ]
  },
  {
   "cell_type": "markdown",
   "id": "acf556df",
   "metadata": {},
   "source": [
    "##### Imbalanced Data"
   ]
  },
  {
   "cell_type": "code",
   "execution_count": 82,
   "id": "8a868f7b",
   "metadata": {},
   "outputs": [
    {
     "name": "stdout",
     "output_type": "stream",
     "text": [
      "Accuracy score data train model Soft Voting  : 0.9856459330143541\n",
      "Accuracy score data test model Soft Voting   : 0.8333333333333334\n"
     ]
    }
   ],
   "source": [
    "print('Accuracy score data train model Soft Voting  :',accuracy_score(y_train, y_pred_train_soft1))\n",
    "print('Accuracy score data test model Soft Voting   :',accuracy_score(y_test, y_pred_test_soft1))"
   ]
  },
  {
   "cell_type": "code",
   "execution_count": 83,
   "id": "141da1aa",
   "metadata": {},
   "outputs": [
    {
     "name": "stdout",
     "output_type": "stream",
     "text": [
      "\n",
      "Hasil Classification Report Soft Voting imbalanced\n",
      "\n",
      "              precision    recall  f1-score   support\n",
      "\n",
      "           0       0.84      0.94      0.89        62\n",
      "           1       0.81      0.61      0.69        28\n",
      "\n",
      "    accuracy                           0.83        90\n",
      "   macro avg       0.83      0.77      0.79        90\n",
      "weighted avg       0.83      0.83      0.83        90\n",
      "\n"
     ]
    }
   ],
   "source": [
    "print('\\nHasil Classification Report Soft Voting imbalanced\\n')\n",
    "print(classification_report(y_test,y_pred_test_soft1)) "
   ]
  },
  {
   "cell_type": "code",
   "execution_count": 84,
   "id": "7f26a6da",
   "metadata": {},
   "outputs": [
    {
     "data": {
      "image/png": "[encoded data removed]",
      "text/plain": [
       "<Figure size 432x288 with 2 Axes>"
      ]
     },
     "metadata": {
      "needs_background": "light"
     },
     "output_type": "display_data"
    }
   ],
   "source": [
    "cm_hard = confusion_matrix(y_test ,y_pred_test_soft1)\n",
    "ax= plt.subplot()\n",
    "sns.heatmap(cm_hard, annot=True, fmt='g', cmap=\"GnBu\", ax=ax);  #annot=True to annotate cells, ftm='g' to disable scientific notation\n",
    "\n",
    "# labels, title and ticks\n",
    "ax.set_xlabel('Predicted labels');ax.set_ylabel('True labels'); \n",
    "ax.set_title('Confusion Matrix Soft Voting Imablanced\\n', y=1.02, fontsize=15); \n",
    "ax.xaxis.set_ticklabels(['No', 'Yes']); ax.yaxis.set_ticklabels(['No', 'Yes']);"
   ]
  },
  {
   "cell_type": "markdown",
   "id": "e8c12801",
   "metadata": {},
   "source": [
    "Dari hasil analisis nilai recall sebesar 0.94 (:0) dan 0.61 (:1) cukup besar selisih dengan nilai precision yaitu 0.84 (:0) dan 0.81 (:1), sehingga model masih kurang cukup baik dalam memprediksi. Untuk membuat model semakin akurat selisih antara nilai recall dan precision harus semakin kecil lagi.\n",
    "\n",
    "Dari Counfusion Matrix diketahuin bahwa True Negatif (TN) sebanyak 17, false negatif (FN) sebanyak 11, false positif (FP) sebanyak 4, dan true positif (TP) sebanyak 58."
   ]
  },
  {
   "cell_type": "markdown",
   "id": "3e226bc3",
   "metadata": {},
   "source": [
    "##### Balanced Data"
   ]
  },
  {
   "cell_type": "code",
   "execution_count": 85,
   "id": "e868e904",
   "metadata": {},
   "outputs": [
    {
     "name": "stdout",
     "output_type": "stream",
     "text": [
      "Accuracy score data train balanced model Soft Voting : 0.9787234042553191\n",
      "Accuracy score data test balanced model Soft Voting  : 0.8145161290322581\n"
     ]
    }
   ],
   "source": [
    "print('Accuracy score data train balanced model Soft Voting :',accuracy_score(y_train_smo, y_pred_train_soft2))\n",
    "print('Accuracy score data test balanced model Soft Voting  :',accuracy_score(y_test_smo, y_pred_test_soft2))"
   ]
  },
  {
   "cell_type": "code",
   "execution_count": 86,
   "id": "35bf1782",
   "metadata": {},
   "outputs": [
    {
     "name": "stdout",
     "output_type": "stream",
     "text": [
      "\n",
      "Hasil Classification Report Soft Voting Balanced\n",
      "\n",
      "              precision    recall  f1-score   support\n",
      "\n",
      "           0       0.76      0.92      0.83        62\n",
      "           1       0.90      0.71      0.79        62\n",
      "\n",
      "    accuracy                           0.81       124\n",
      "   macro avg       0.83      0.81      0.81       124\n",
      "weighted avg       0.83      0.81      0.81       124\n",
      "\n"
     ]
    }
   ],
   "source": [
    "print('\\nHasil Classification Report Soft Voting Balanced\\n')\n",
    "print(classification_report(y_test_smo ,y_pred_test_soft2)) "
   ]
  },
  {
   "cell_type": "code",
   "execution_count": 87,
   "id": "3bc503dd",
   "metadata": {},
   "outputs": [
    {
     "data": {
      "image/png": "[encoded data removed]",
      "text/plain": [
       "<Figure size 432x288 with 2 Axes>"
      ]
     },
     "metadata": {
      "needs_background": "light"
     },
     "output_type": "display_data"
    }
   ],
   "source": [
    "cm_hard = confusion_matrix(y_test_smo ,y_pred_test_soft2)\n",
    "ax= plt.subplot()\n",
    "sns.heatmap(cm_hard, annot=True, fmt='g',cmap=\"GnBu\", ax=ax);  #annot=True to annotate cells, ftm='g' to disable scientific notation\n",
    "\n",
    "# labels, title and ticks\n",
    "ax.set_xlabel('Predicted labels');ax.set_ylabel('True labels'); \n",
    "ax.set_title('Confusion Matrix Soft Voting Balanced\\n', y=1.02, fontsize=15); \n",
    "ax.xaxis.set_ticklabels(['No', 'Yes']); ax.yaxis.set_ticklabels(['No', 'Yes']);"
   ]
  },
  {
   "cell_type": "markdown",
   "id": "8dcf6a3f",
   "metadata": {},
   "source": [
    "Dari hasil analisis nilai recall sebesar 0.92 (:0) dan 0.71 (:1) cukup besar selisih dengan nilai precision yaitu 0.76 (:0) dan 0.90 (:1), sehingga model masih kurang cukup baik dalam memprediksi. Untuk membuat model semakin akurat selisih antara nilai recall dan precision harus semakin kecil lagi.\n",
    "\n",
    "Dari Counfusion Matrix diketahuin bahwa True Negatif (TN) sebanyak 44, false negatif (FN) sebanyak 18, false positif (FP) sebanyak 5, dan true positif (TP) sebanyak 57."
   ]
  },
  {
   "cell_type": "markdown",
   "id": "ddf104a6",
   "metadata": {},
   "source": [
    "### Ensemble Stacking"
   ]
  },
  {
   "cell_type": "markdown",
   "id": "8af9b721",
   "metadata": {},
   "source": [
    "##### Imbalanced"
   ]
  },
  {
   "cell_type": "code",
   "execution_count": 88,
   "id": "88c669bb",
   "metadata": {},
   "outputs": [
    {
     "name": "stdout",
     "output_type": "stream",
     "text": [
      "Accuracy score data train balanced model Stacking  : 0.9521531100478469\n",
      "Accuracy score data test balanced model Stacking   : 0.8555555555555555\n"
     ]
    }
   ],
   "source": [
    "print('Accuracy score data train balanced model Stacking  :',accuracy_score(y_train, y_pred_train_stacking1))\n",
    "print('Accuracy score data test balanced model Stacking   :',accuracy_score(y_test, y_pred_test_stacking1))"
   ]
  },
  {
   "cell_type": "code",
   "execution_count": 89,
   "id": "bfe01e18",
   "metadata": {},
   "outputs": [
    {
     "name": "stdout",
     "output_type": "stream",
     "text": [
      "\n",
      "Hasil Classification Report Stacking imbalanced\n",
      "\n",
      "              precision    recall  f1-score   support\n",
      "\n",
      "           0       0.86      0.95      0.90        62\n",
      "           1       0.86      0.64      0.73        28\n",
      "\n",
      "    accuracy                           0.86        90\n",
      "   macro avg       0.86      0.80      0.82        90\n",
      "weighted avg       0.86      0.86      0.85        90\n",
      "\n"
     ]
    }
   ],
   "source": [
    "print('\\nHasil Classification Report Stacking imbalanced\\n')\n",
    "print(classification_report(y_test,y_pred_test_stacking1)) "
   ]
  },
  {
   "cell_type": "code",
   "execution_count": 99,
   "id": "e01e9b56",
   "metadata": {},
   "outputs": [
    {
     "data": {
      "image/png": "[encoded data removed]",
      "text/plain": [
       "<Figure size 432x288 with 2 Axes>"
      ]
     },
     "metadata": {
      "needs_background": "light"
     },
     "output_type": "display_data"
    }
   ],
   "source": [
    "cm_hard = confusion_matrix(y_test ,y_pred_test_stacking1)\n",
    "ax= plt.subplot()\n",
    "sns.heatmap(cm_hard, annot=True, fmt='g',cmap=\"GnBu\", ax=ax);  #annot=True to annotate cells, ftm='g' to disable scientific notation\n",
    "\n",
    "# labels, title and ticks\n",
    "ax.set_xlabel('Predicted labels');ax.set_ylabel('True labels'); \n",
    "ax.set_title('Confusion Matrix Stacking Imbalanced\\n', y=1.02, fontsize=13); \n",
    "ax.xaxis.set_ticklabels(['No', 'Yes']); ax.yaxis.set_ticklabels(['No', 'Yes']);"
   ]
  },
  {
   "cell_type": "markdown",
   "id": "5aa344fa",
   "metadata": {},
   "source": [
    "Dari classsification Report diketahui precision adalah banyaknya sampel yang benar-benar termasuk dalam kelas positif dari semua sampel yang diprediksi menjadi kelas positif oleh model, sedangkan recall adalah banyaknya sampel yang diprediksi dengan benar menjadi kelas positif dari semua sampel yang benar-benar termasuk kelas positif. Dari hasil analisis nilai recall sebesar 0.95 (:0) dan 0.64 (:1) cukup mendekati nilai precision yaitu 0.86 (:0) dan 0.86 (:1), sehingga model sudah cukup baik dalam memprediksi. Namun, untuk membuat model semakin akurat selisih antara nilai recall dan precision harus semakin kecil lagi.\n",
    "\n",
    "Dari Counfusion Matrix diketahuin bahwa True Negatif (TN) sebanyak 18, false negatif (FN) sebanyak 10, false positif (FP) sebanyak 3, dan true positif (TP) sebanyak 59."
   ]
  },
  {
   "cell_type": "markdown",
   "id": "f55f6920",
   "metadata": {},
   "source": [
    "##### Balanced Data"
   ]
  },
  {
   "cell_type": "code",
   "execution_count": 91,
   "id": "4d43a867",
   "metadata": {},
   "outputs": [
    {
     "name": "stdout",
     "output_type": "stream",
     "text": [
      "Accuracy score data train balanced model Stacking : 1.0\n",
      "Accuracy score data test balanced model Stacking  : 0.8225806451612904\n"
     ]
    }
   ],
   "source": [
    "print('Accuracy score data train balanced model Stacking :',accuracy_score(y_train_smo, y_pred_train_stacking2))\n",
    "print('Accuracy score data test balanced model Stacking  :',accuracy_score(y_test_smo, y_pred_test_stacking2))"
   ]
  },
  {
   "cell_type": "code",
   "execution_count": 92,
   "id": "a45ed698",
   "metadata": {},
   "outputs": [
    {
     "name": "stdout",
     "output_type": "stream",
     "text": [
      "\n",
      "Hasil Classification Report Stacking Balanced\n",
      "\n",
      "              precision    recall  f1-score   support\n",
      "\n",
      "           0       0.77      0.92      0.84        62\n",
      "           1       0.90      0.73      0.80        62\n",
      "\n",
      "    accuracy                           0.82       124\n",
      "   macro avg       0.84      0.82      0.82       124\n",
      "weighted avg       0.84      0.82      0.82       124\n",
      "\n"
     ]
    }
   ],
   "source": [
    "print('\\nHasil Classification Report Stacking Balanced\\n')\n",
    "print(classification_report(y_test_smo ,y_pred_test_stacking2)) "
   ]
  },
  {
   "cell_type": "code",
   "execution_count": 93,
   "id": "aaeb7ecb",
   "metadata": {},
   "outputs": [
    {
     "data": {
      "image/png": "[encoded data removed]",
      "text/plain": [
       "<Figure size 432x288 with 2 Axes>"
      ]
     },
     "metadata": {
      "needs_background": "light"
     },
     "output_type": "display_data"
    }
   ],
   "source": [
    "cm_hard = confusion_matrix(y_test_smo ,y_pred_test_stacking2)\n",
    "ax= plt.subplot()\n",
    "sns.heatmap(cm_hard, annot=True, fmt='g',cmap=\"GnBu\", ax=ax);  #annot=True to annotate cells, ftm='g' to disable scientific notation\n",
    "\n",
    "# labels, title and ticks\n",
    "ax.set_xlabel('Predicted labels');ax.set_ylabel('True labels'); \n",
    "ax.set_title('Confusion Matrix Stacking Balanced\\n', y=1.02, fontsize=13); \n",
    "ax.xaxis.set_ticklabels(['No', 'Yes']); ax.yaxis.set_ticklabels(['No', 'Yes']);"
   ]
  },
  {
   "cell_type": "markdown",
   "id": "cd576071",
   "metadata": {},
   "source": [
    "Dari classsification Report diketahui nilai recall sebesar 0.92 (:0) dan 0.73 (:1) sedikit jauh dengan nilai precision yaitu 0.77 (:0) dan 0.90 (:1), sehingga model masih kurang cukup baik dalam memprediksi. Untuk membuat model semakin akurat selisih antara nilai recall dan precision harus semakin kecil lagi.\n",
    "\n",
    "Dari Counfusion Matrix diketahuin bahwa True Negatif (TN) sebanyak 45, false negatif (FN) sebanyak 17, false positif (FP) sebanyak 5, dan true positif (TP) sebanyak 57."
   ]
  },
  {
   "cell_type": "markdown",
   "id": "f15b74c2",
   "metadata": {},
   "source": [
    "### Ensemble Boosting"
   ]
  },
  {
   "cell_type": "code",
   "execution_count": 94,
   "id": "bd4b001a",
   "metadata": {},
   "outputs": [
    {
     "name": "stdout",
     "output_type": "stream",
     "text": [
      "Accuracy score data train model Boosting  : 0.8777777777777778\n"
     ]
    }
   ],
   "source": [
    "print('Accuracy score data train model Boosting  :',accuracy_score(y_test, ensemble_predictions)) "
   ]
  },
  {
   "cell_type": "code",
   "execution_count": 95,
   "id": "3ce172f5",
   "metadata": {},
   "outputs": [
    {
     "name": "stdout",
     "output_type": "stream",
     "text": [
      "\n",
      "Hasil Classification Report Ensemble Boosting\n",
      "\n",
      "              precision    recall  f1-score   support\n",
      "\n",
      "           0       0.89      0.94      0.91        62\n",
      "           1       0.84      0.75      0.79        28\n",
      "\n",
      "    accuracy                           0.88        90\n",
      "   macro avg       0.87      0.84      0.85        90\n",
      "weighted avg       0.88      0.88      0.88        90\n",
      "\n"
     ]
    }
   ],
   "source": [
    "print('\\nHasil Classification Report Ensemble Boosting\\n')\n",
    "print(classification_report(y_test, ensemble_predictions)) "
   ]
  },
  {
   "cell_type": "code",
   "execution_count": 96,
   "id": "2ce950e2",
   "metadata": {},
   "outputs": [
    {
     "data": {
      "image/png": "[encoded data removed]",
      "text/plain": [
       "<Figure size 432x288 with 2 Axes>"
      ]
     },
     "metadata": {
      "needs_background": "light"
     },
     "output_type": "display_data"
    }
   ],
   "source": [
    "cm_hard = confusion_matrix(y_test, ensemble_predictions)\n",
    "ax= plt.subplot()\n",
    "sns.heatmap(cm_hard, annot=True, fmt='g', cmap=\"GnBu\", ax=ax);  #annot=True to annotate cells, ftm='g' to disable scientific notation\n",
    "\n",
    "# labels, title and ticks\n",
    "ax.set_xlabel('Predicted labels');ax.set_ylabel('True labels'); \n",
    "ax.set_title('Confusion Matrix Ensemble Boosting\\n', y=1.02, fontsize=13); \n",
    "ax.xaxis.set_ticklabels(['No', 'Yes']); ax.yaxis.set_ticklabels(['No', 'Yes']);"
   ]
  },
  {
   "cell_type": "markdown",
   "id": "98899a69",
   "metadata": {},
   "source": [
    "Dari classsification Report diketahui precision adalah banyaknya sampel yang benar-benar termasuk dalam kelas positif dari semua sampel yang diprediksi menjadi kelas positif oleh model, sedangkan recall adalah banyaknya sampel yang diprediksi dengan benar menjadi kelas positif dari semua sampel yang benar-benar termasuk kelas positif. Dari hasil analisis nilai recall sebesar 0.94 (:0) dan 0.75 (:1) cukup mendekati nilai precision yaitu 0.89 (:0) dan 0.84 (:1), sehingga model sudah cukup baik dalam memprediksi. Namun, untuk membuat model semakin akurat selisih antara nilai recall dan precision harus semakin kecil lagi.\n",
    "\n",
    "Dari Counfusion Matrix diketahuin bahwa True Negatif (TN) sebanyak 21, false negatif (FN) sebanyak 7, false positif (FP) sebanyak 4, dan true positif (TP) sebanyak 58."
   ]
  },
  {
   "cell_type": "markdown",
   "id": "ca9cb243",
   "metadata": {},
   "source": [
    "# Kesimpulan"
   ]
  },
  {
   "cell_type": "markdown",
   "id": "151d3bb3",
   "metadata": {},
   "source": [
    "##### Imbalanced"
   ]
  },
  {
   "cell_type": "code",
   "execution_count": 97,
   "id": "859d19e6",
   "metadata": {},
   "outputs": [
    {
     "name": "stdout",
     "output_type": "stream",
     "text": [
      "Accuracy score Hard Voting                : 82.22%\n",
      "Accuracy score Soft Voting                : 83.33%\n",
      "Accuracy score Stacking                   : 85.56%\n",
      "Accuracy score data train model Boosting  : 87.78%\n"
     ]
    }
   ],
   "source": [
    "from sklearn.metrics import f1_score\n",
    "print(\"Accuracy score Hard Voting                : {:.2f}%\".format(accuracy_score(y_test, y_pred_test_hard1) * 100))\n",
    "\n",
    "print(\"Accuracy score Soft Voting                : {:.2f}%\".format(accuracy_score(y_test, y_pred_test_soft1) * 100))\n",
    "\n",
    "print(\"Accuracy score Stacking                   : {:.2f}%\".format(accuracy_score(y_test, y_pred_test_stacking1) * 100))\n",
    "\n",
    "print(\"Accuracy score data train model Boosting  : {:.2f}%\".format(accuracy_score(y_test, ensemble_predictions) * 100)) "
   ]
  },
  {
   "cell_type": "markdown",
   "id": "f1db59ae",
   "metadata": {},
   "source": [
    "Berdasarkan nilai accuracy yang dihitung untuk data imbalanced diatas dapat dilihat bahwa accuracy terbesar terletak pada ensemble model Boosting dengan accuracy sebesar 87.78%. Maka dapat dipastikan bahwa metode boosting paling baik digunakan dalam prediksi data yang digunakan. "
   ]
  },
  {
   "cell_type": "markdown",
   "id": "35a24d7f",
   "metadata": {},
   "source": [
    "##### Balanced"
   ]
  },
  {
   "cell_type": "code",
   "execution_count": 98,
   "id": "731bbdb3",
   "metadata": {},
   "outputs": [
    {
     "name": "stdout",
     "output_type": "stream",
     "text": [
      "Accuracy score Hard Voting   : 73.08%\n",
      "Accuracy score Soft Voting   : 79.28%\n",
      "Accuracy score Stacking      : 80.36%\n"
     ]
    }
   ],
   "source": [
    "print(\"Accuracy score Hard Voting   : {:.2f}%\".format(f1_score(y_test_smo, y_pred_test_hard2) * 100))\n",
    "\n",
    "print(\"Accuracy score Soft Voting   : {:.2f}%\".format(f1_score(y_test_smo, y_pred_test_soft2) * 100))\n",
    "\n",
    "print(\"Accuracy score Stacking      : {:.2f}%\".format(f1_score(y_test_smo, y_pred_test_stacking2) * 100))"
   ]
  },
  {
   "cell_type": "markdown",
   "id": "b790eca7",
   "metadata": {},
   "source": [
    "Sedangkan pada data balanced, performa dihitung menggunakan f1_score yang dihitung dengan menggabungkan perhitungan presisi (precision) dan recall untuk memberikan gambaran keseluruhan tentang performa model dalam memprediksi kelas positif. Dapat dilihat pada hasil diatas Stacking adalah metode yang memiliki f1 score terbesar dengan 80.36%."
   ]
  },
  {
   "cell_type": "markdown",
   "id": "78c592d2",
   "metadata": {},
   "source": [
    "Berdasarkan analisis yang telah dilakukan terdapat beberapa fitur yang tidak digunakan karena kurang digunakan dalam hal prediksi kematian untuk heart-failure. Kolom yang dihapus adalah CPK dan Platelets. Penghapusan kolom tidak hanya karena beralasan pemikiran medis, namun kedua kolom tersebut juga memiliki korelasi yang cukup rendah terhadap platelets. "
   ]
  },
  {
   "cell_type": "markdown",
   "id": "a87f834c",
   "metadata": {},
   "source": [
    "Dari hasil analisis feature selection age, anemia, diabetes, ejection_fraction, high_blood_pressure,creatinine, sodium, sex, smoking, time, death, kita gunakan dalam membangun model kita dapatkan bahwa berdasarkan data tersebut kita dapat memperkirakan resiko orang menderita gagal ginjal dengan akurasi prediksi sebesar 80-88%. Dengan metode yang paling baik dalam memprediksi adalah metode ensemble boosting."
   ]
  }
 ],
 "metadata": {
  "kernelspec": {
   "display_name": "Python 3 (ipykernel)",
   "language": "python",
   "name": "python3"
  },
  "language_info": {
   "codemirror_mode": {
    "name": "ipython",
    "version": 3
   },
   "file_extension": ".py",
   "mimetype": "text/x-python",
   "name": "python",
   "nbconvert_exporter": "python",
   "pygments_lexer": "ipython3",
   "version": "3.9.12"
  }
 },
 "nbformat": 4,
 "nbformat_minor": 5
}
